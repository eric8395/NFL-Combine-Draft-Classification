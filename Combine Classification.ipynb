{
 "cells": [
  {
   "cell_type": "markdown",
   "metadata": {},
   "source": [
    "# NFL Combine Draft Classification  \n",
    "## A Logistic Regression Analysis\n",
    "\n",
    "### Eric Au\n",
    "\n",
    "<img src=\"https://library.sportingnews.com/styles/twitter_card_120x120/s3/2022-03/Antoine-Winfield-030222-GETTY-FTR.jpg?itok=nG3hUgf_\" width=\"500\" length = \"200\"/>\n",
    "\n",
    "Source: <a href=\"https://www.sportingnews.com/us/nfl/news/nfl-combine-drills-explained-40-yard-dash/lds11epxn7znufqyjkaphguq\">Getty Images</a>"
   ]
  },
  {
   "cell_type": "markdown",
   "metadata": {},
   "source": [
    "### Business and Data Understanding\n",
    "\n",
    "Every year, the National Football League (NFL) holds a week long showcase where college football players, otherwise known as prospects, perform physical drills and tests in front of team coaches, scouts, and general managers. These drills are intended to measure a player's physical ability such as speed, quickness, strength, and overall athleticism. \n",
    "\n",
    "But what can NFL teams learn from these workouts? What exactly do the non-football athletic testing measurements contribute to prospect evaluation? These are a questions that many fans ask to this day and NFL teams try to interpret to make the best decision possible when drafting their players. \n",
    "\n",
    "For this analysis, we will be using player combine data scraped from <a href = \"https://www.pro-football-reference.com/\">Pro-Football Reference</a> over the last 22 years (2000-2022). \n",
    "\n",
    "Each record represents an individual player who was eligible to be drafted with information related to their combine measurements. Additionally, each record indicates whether that player was `Drafted` with 1 for \"Yes\" and 0 for \"No\". This will be further clarified in the preliminary cleaning of the data set. \n",
    "\n",
    "**The task is to predict whether a player was `Drafted` based on the available data and information provided in the NFL Combine.** \n",
    "\n",
    "**Stakeholders:** The New York Giants front office (General Manager, President, Scouting Department). \n"
   ]
  },
  {
   "cell_type": "code",
   "execution_count": 1,
   "metadata": {},
   "outputs": [],
   "source": [
    "# import libraries \n",
    "import pandas as pd\n",
    "import numpy as np\n",
    "import math\n",
    "\n",
    "import matplotlib.pyplot as plt\n",
    "import seaborn as sns\n",
    "%matplotlib inline\n",
    "\n",
    "from sklearn.preprocessing import OneHotEncoder, StandardScaler\n",
    "from sklearn.impute import SimpleImputer\n",
    "\n",
    "from sklearn.linear_model import LogisticRegression\n",
    "from sklearn.model_selection import train_test_split, cross_val_score\n",
    "from sklearn.model_selection import StratifiedKFold\n",
    "from sklearn.feature_selection import SelectFromModel\n",
    "\n",
    "from sklearn.metrics import log_loss\n",
    "from sklearn.metrics import plot_confusion_matrix\n",
    "from sklearn.metrics import confusion_matrix\n",
    "from sklearn.metrics import plot_roc_curve\n",
    "from sklearn.metrics import make_scorer\n",
    "\n",
    "from sklearn.base import clone\n",
    "\n",
    "# ignore warnings\n",
    "import warnings\n",
    "warnings.simplefilter(action='ignore', category=FutureWarning)\n",
    "pd.options.mode.chained_assignment = None "
   ]
  },
  {
   "cell_type": "code",
   "execution_count": 2,
   "metadata": {},
   "outputs": [
    {
     "data": {
      "text/html": [
       "<div>\n",
       "<style scoped>\n",
       "    .dataframe tbody tr th:only-of-type {\n",
       "        vertical-align: middle;\n",
       "    }\n",
       "\n",
       "    .dataframe tbody tr th {\n",
       "        vertical-align: top;\n",
       "    }\n",
       "\n",
       "    .dataframe thead th {\n",
       "        text-align: right;\n",
       "    }\n",
       "</style>\n",
       "<table border=\"1\" class=\"dataframe\">\n",
       "  <thead>\n",
       "    <tr style=\"text-align: right;\">\n",
       "      <th></th>\n",
       "      <th>Player</th>\n",
       "      <th>Pos</th>\n",
       "      <th>School</th>\n",
       "      <th>College</th>\n",
       "      <th>Ht</th>\n",
       "      <th>Wt</th>\n",
       "      <th>40yd</th>\n",
       "      <th>Vertical</th>\n",
       "      <th>Bench</th>\n",
       "      <th>Broad Jump</th>\n",
       "      <th>3Cone</th>\n",
       "      <th>Shuttle</th>\n",
       "      <th>Drafted (tm/rnd/yr)</th>\n",
       "      <th>Year</th>\n",
       "    </tr>\n",
       "  </thead>\n",
       "  <tbody>\n",
       "    <tr>\n",
       "      <th>0</th>\n",
       "      <td>John Abraham</td>\n",
       "      <td>OLB</td>\n",
       "      <td>South Carolina</td>\n",
       "      <td>NaN</td>\n",
       "      <td>6-4</td>\n",
       "      <td>252.0</td>\n",
       "      <td>4.55</td>\n",
       "      <td>NaN</td>\n",
       "      <td>NaN</td>\n",
       "      <td>NaN</td>\n",
       "      <td>NaN</td>\n",
       "      <td>NaN</td>\n",
       "      <td>New York Jets / 1st / 13th pick / 2000</td>\n",
       "      <td>2000</td>\n",
       "    </tr>\n",
       "    <tr>\n",
       "      <th>1</th>\n",
       "      <td>Shaun Alexander</td>\n",
       "      <td>RB</td>\n",
       "      <td>Alabama</td>\n",
       "      <td>College Stats</td>\n",
       "      <td>6-0</td>\n",
       "      <td>218.0</td>\n",
       "      <td>4.58</td>\n",
       "      <td>NaN</td>\n",
       "      <td>NaN</td>\n",
       "      <td>NaN</td>\n",
       "      <td>NaN</td>\n",
       "      <td>NaN</td>\n",
       "      <td>Seattle Seahawks / 1st / 19th pick / 2000</td>\n",
       "      <td>2000</td>\n",
       "    </tr>\n",
       "    <tr>\n",
       "      <th>2</th>\n",
       "      <td>Darnell Alford</td>\n",
       "      <td>OT</td>\n",
       "      <td>Boston Col.</td>\n",
       "      <td>NaN</td>\n",
       "      <td>6-4</td>\n",
       "      <td>334.0</td>\n",
       "      <td>5.56</td>\n",
       "      <td>25.0</td>\n",
       "      <td>23.0</td>\n",
       "      <td>94.0</td>\n",
       "      <td>8.48</td>\n",
       "      <td>4.98</td>\n",
       "      <td>Kansas City Chiefs / 6th / 188th pick / 2000</td>\n",
       "      <td>2000</td>\n",
       "    </tr>\n",
       "    <tr>\n",
       "      <th>3</th>\n",
       "      <td>Kyle Allamon</td>\n",
       "      <td>TE</td>\n",
       "      <td>Texas Tech</td>\n",
       "      <td>NaN</td>\n",
       "      <td>6-2</td>\n",
       "      <td>253.0</td>\n",
       "      <td>4.97</td>\n",
       "      <td>29.0</td>\n",
       "      <td>NaN</td>\n",
       "      <td>104.0</td>\n",
       "      <td>7.29</td>\n",
       "      <td>4.49</td>\n",
       "      <td>NaN</td>\n",
       "      <td>2000</td>\n",
       "    </tr>\n",
       "    <tr>\n",
       "      <th>4</th>\n",
       "      <td>Rashard Anderson</td>\n",
       "      <td>CB</td>\n",
       "      <td>Jackson State</td>\n",
       "      <td>NaN</td>\n",
       "      <td>6-2</td>\n",
       "      <td>206.0</td>\n",
       "      <td>4.55</td>\n",
       "      <td>34.0</td>\n",
       "      <td>NaN</td>\n",
       "      <td>123.0</td>\n",
       "      <td>7.18</td>\n",
       "      <td>4.15</td>\n",
       "      <td>Carolina Panthers / 1st / 23rd pick / 2000</td>\n",
       "      <td>2000</td>\n",
       "    </tr>\n",
       "  </tbody>\n",
       "</table>\n",
       "</div>"
      ],
      "text/plain": [
       "             Player  Pos          School        College   Ht     Wt  40yd  \\\n",
       "0      John Abraham  OLB  South Carolina            NaN  6-4  252.0  4.55   \n",
       "1   Shaun Alexander   RB         Alabama  College Stats  6-0  218.0  4.58   \n",
       "2    Darnell Alford   OT     Boston Col.            NaN  6-4  334.0  5.56   \n",
       "3      Kyle Allamon   TE      Texas Tech            NaN  6-2  253.0  4.97   \n",
       "4  Rashard Anderson   CB   Jackson State            NaN  6-2  206.0  4.55   \n",
       "\n",
       "   Vertical  Bench  Broad Jump  3Cone  Shuttle  \\\n",
       "0       NaN    NaN         NaN    NaN      NaN   \n",
       "1       NaN    NaN         NaN    NaN      NaN   \n",
       "2      25.0   23.0        94.0   8.48     4.98   \n",
       "3      29.0    NaN       104.0   7.29     4.49   \n",
       "4      34.0    NaN       123.0   7.18     4.15   \n",
       "\n",
       "                            Drafted (tm/rnd/yr)  Year  \n",
       "0        New York Jets / 1st / 13th pick / 2000  2000  \n",
       "1     Seattle Seahawks / 1st / 19th pick / 2000  2000  \n",
       "2  Kansas City Chiefs / 6th / 188th pick / 2000  2000  \n",
       "3                                           NaN  2000  \n",
       "4    Carolina Panthers / 1st / 23rd pick / 2000  2000  "
      ]
     },
     "execution_count": 2,
     "metadata": {},
     "output_type": "execute_result"
    }
   ],
   "source": [
    "# load in data\n",
    "df = pd.read_csv('Data/combine_2000_2022.csv', index_col = 0)\n",
    "df.head()"
   ]
  },
  {
   "cell_type": "code",
   "execution_count": 3,
   "metadata": {},
   "outputs": [
    {
     "name": "stdout",
     "output_type": "stream",
     "text": [
      "<class 'pandas.core.frame.DataFrame'>\n",
      "Int64Index: 7680 entries, 0 to 7820\n",
      "Data columns (total 14 columns):\n",
      " #   Column               Non-Null Count  Dtype  \n",
      "---  ------               --------------  -----  \n",
      " 0   Player               7680 non-null   object \n",
      " 1   Pos                  7680 non-null   object \n",
      " 2   School               7680 non-null   object \n",
      " 3   College              6240 non-null   object \n",
      " 4   Ht                   7651 non-null   object \n",
      " 5   Wt                   7656 non-null   float64\n",
      " 6   40yd                 7206 non-null   float64\n",
      " 7   Vertical             5932 non-null   float64\n",
      " 8   Bench                5096 non-null   float64\n",
      " 9   Broad Jump           5859 non-null   float64\n",
      " 10  3Cone                4792 non-null   float64\n",
      " 11  Shuttle              4895 non-null   float64\n",
      " 12  Drafted (tm/rnd/yr)  4937 non-null   object \n",
      " 13  Year                 7680 non-null   int64  \n",
      "dtypes: float64(7), int64(1), object(6)\n",
      "memory usage: 900.0+ KB\n"
     ]
    }
   ],
   "source": [
    "df.info()"
   ]
  },
  {
   "cell_type": "markdown",
   "metadata": {},
   "source": [
    "## Initial Data Preparation\n",
    "### Convert to float types in appropriate columns; "
   ]
  },
  {
   "cell_type": "code",
   "execution_count": 4,
   "metadata": {},
   "outputs": [],
   "source": [
    "# create a list of columns that need to be floats\n",
    "col_floats = ['Wt', '40yd', 'Vertical', 'Bench', 'Broad Jump', '3Cone', 'Shuttle']"
   ]
  },
  {
   "cell_type": "code",
   "execution_count": 5,
   "metadata": {},
   "outputs": [
    {
     "data": {
      "text/html": [
       "<div>\n",
       "<style scoped>\n",
       "    .dataframe tbody tr th:only-of-type {\n",
       "        vertical-align: middle;\n",
       "    }\n",
       "\n",
       "    .dataframe tbody tr th {\n",
       "        vertical-align: top;\n",
       "    }\n",
       "\n",
       "    .dataframe thead th {\n",
       "        text-align: right;\n",
       "    }\n",
       "</style>\n",
       "<table border=\"1\" class=\"dataframe\">\n",
       "  <thead>\n",
       "    <tr style=\"text-align: right;\">\n",
       "      <th></th>\n",
       "      <th>Wt</th>\n",
       "      <th>40yd</th>\n",
       "      <th>Vertical</th>\n",
       "      <th>Bench</th>\n",
       "      <th>Broad Jump</th>\n",
       "      <th>3Cone</th>\n",
       "      <th>Shuttle</th>\n",
       "    </tr>\n",
       "  </thead>\n",
       "  <tbody>\n",
       "    <tr>\n",
       "      <th>0</th>\n",
       "      <td>252.0</td>\n",
       "      <td>4.55</td>\n",
       "      <td>NaN</td>\n",
       "      <td>NaN</td>\n",
       "      <td>NaN</td>\n",
       "      <td>NaN</td>\n",
       "      <td>NaN</td>\n",
       "    </tr>\n",
       "    <tr>\n",
       "      <th>1</th>\n",
       "      <td>218.0</td>\n",
       "      <td>4.58</td>\n",
       "      <td>NaN</td>\n",
       "      <td>NaN</td>\n",
       "      <td>NaN</td>\n",
       "      <td>NaN</td>\n",
       "      <td>NaN</td>\n",
       "    </tr>\n",
       "    <tr>\n",
       "      <th>2</th>\n",
       "      <td>334.0</td>\n",
       "      <td>5.56</td>\n",
       "      <td>25.0</td>\n",
       "      <td>23.0</td>\n",
       "      <td>94.0</td>\n",
       "      <td>8.48</td>\n",
       "      <td>4.98</td>\n",
       "    </tr>\n",
       "    <tr>\n",
       "      <th>3</th>\n",
       "      <td>253.0</td>\n",
       "      <td>4.97</td>\n",
       "      <td>29.0</td>\n",
       "      <td>NaN</td>\n",
       "      <td>104.0</td>\n",
       "      <td>7.29</td>\n",
       "      <td>4.49</td>\n",
       "    </tr>\n",
       "    <tr>\n",
       "      <th>4</th>\n",
       "      <td>206.0</td>\n",
       "      <td>4.55</td>\n",
       "      <td>34.0</td>\n",
       "      <td>NaN</td>\n",
       "      <td>123.0</td>\n",
       "      <td>7.18</td>\n",
       "      <td>4.15</td>\n",
       "    </tr>\n",
       "    <tr>\n",
       "      <th>...</th>\n",
       "      <td>...</td>\n",
       "      <td>...</td>\n",
       "      <td>...</td>\n",
       "      <td>...</td>\n",
       "      <td>...</td>\n",
       "      <td>...</td>\n",
       "      <td>...</td>\n",
       "    </tr>\n",
       "    <tr>\n",
       "      <th>7816</th>\n",
       "      <td>304.0</td>\n",
       "      <td>4.77</td>\n",
       "      <td>29.0</td>\n",
       "      <td>NaN</td>\n",
       "      <td>111.0</td>\n",
       "      <td>NaN</td>\n",
       "      <td>NaN</td>\n",
       "    </tr>\n",
       "    <tr>\n",
       "      <th>7817</th>\n",
       "      <td>255.0</td>\n",
       "      <td>NaN</td>\n",
       "      <td>NaN</td>\n",
       "      <td>NaN</td>\n",
       "      <td>NaN</td>\n",
       "      <td>NaN</td>\n",
       "      <td>NaN</td>\n",
       "    </tr>\n",
       "    <tr>\n",
       "      <th>7818</th>\n",
       "      <td>206.0</td>\n",
       "      <td>NaN</td>\n",
       "      <td>NaN</td>\n",
       "      <td>12.0</td>\n",
       "      <td>NaN</td>\n",
       "      <td>NaN</td>\n",
       "      <td>NaN</td>\n",
       "    </tr>\n",
       "    <tr>\n",
       "      <th>7819</th>\n",
       "      <td>316.0</td>\n",
       "      <td>5.13</td>\n",
       "      <td>28.5</td>\n",
       "      <td>27.0</td>\n",
       "      <td>110.0</td>\n",
       "      <td>7.75</td>\n",
       "      <td>4.71</td>\n",
       "    </tr>\n",
       "    <tr>\n",
       "      <th>7820</th>\n",
       "      <td>215.0</td>\n",
       "      <td>4.88</td>\n",
       "      <td>30.0</td>\n",
       "      <td>NaN</td>\n",
       "      <td>109.0</td>\n",
       "      <td>7.19</td>\n",
       "      <td>4.40</td>\n",
       "    </tr>\n",
       "  </tbody>\n",
       "</table>\n",
       "<p>7680 rows × 7 columns</p>\n",
       "</div>"
      ],
      "text/plain": [
       "         Wt  40yd  Vertical  Bench  Broad Jump  3Cone  Shuttle\n",
       "0     252.0  4.55       NaN    NaN         NaN    NaN      NaN\n",
       "1     218.0  4.58       NaN    NaN         NaN    NaN      NaN\n",
       "2     334.0  5.56      25.0   23.0        94.0   8.48     4.98\n",
       "3     253.0  4.97      29.0    NaN       104.0   7.29     4.49\n",
       "4     206.0  4.55      34.0    NaN       123.0   7.18     4.15\n",
       "...     ...   ...       ...    ...         ...    ...      ...\n",
       "7816  304.0  4.77      29.0    NaN       111.0    NaN      NaN\n",
       "7817  255.0   NaN       NaN    NaN         NaN    NaN      NaN\n",
       "7818  206.0   NaN       NaN   12.0         NaN    NaN      NaN\n",
       "7819  316.0  5.13      28.5   27.0       110.0   7.75     4.71\n",
       "7820  215.0  4.88      30.0    NaN       109.0   7.19     4.40\n",
       "\n",
       "[7680 rows x 7 columns]"
      ]
     },
     "execution_count": 5,
     "metadata": {},
     "output_type": "execute_result"
    }
   ],
   "source": [
    "# convert to type float for col_floats columns\n",
    "df[col_floats].astype(float)"
   ]
  },
  {
   "cell_type": "markdown",
   "metadata": {},
   "source": [
    "### Remove missing data"
   ]
  },
  {
   "cell_type": "code",
   "execution_count": 6,
   "metadata": {},
   "outputs": [
    {
     "data": {
      "text/plain": [
       "29"
      ]
     },
     "execution_count": 6,
     "metadata": {},
     "output_type": "execute_result"
    }
   ],
   "source": [
    "# there are 29 missing heights in the dataframe\n",
    "missing_heights = df[df['Ht'].isna()].index\n",
    "len(missing_heights)"
   ]
  },
  {
   "cell_type": "code",
   "execution_count": 7,
   "metadata": {},
   "outputs": [],
   "source": [
    "# remove these rows from the df\n",
    "df = df.drop(missing_heights)"
   ]
  },
  {
   "cell_type": "code",
   "execution_count": 8,
   "metadata": {},
   "outputs": [
    {
     "data": {
      "text/plain": [
       "(7651, 14)"
      ]
     },
     "execution_count": 8,
     "metadata": {},
     "output_type": "execute_result"
    }
   ],
   "source": [
    "# check shape (7680 - 29) = 7651\n",
    "df.shape"
   ]
  },
  {
   "cell_type": "markdown",
   "metadata": {},
   "source": [
    "### Convert `Height` to appropriate float value"
   ]
  },
  {
   "cell_type": "code",
   "execution_count": 9,
   "metadata": {},
   "outputs": [],
   "source": [
    "# create feet and inches columns to seperate the 'Ht'\n",
    "df['feet'] = df['Ht'].str.split(\"-\").str[0].astype(int)\n",
    "df['inches'] = df['Ht'].str.split(\"-\").str[1].astype(int)\n",
    "\n",
    "# add new Height column that calculates height as a float\n",
    "df['Height'] = df['feet'] + round((df['inches']/12),2)"
   ]
  },
  {
   "cell_type": "code",
   "execution_count": 10,
   "metadata": {},
   "outputs": [],
   "source": [
    "# remove unneeded columns and extra columns created\n",
    "df = df.drop(columns = ['Player', 'Ht', 'College','feet', 'inches'])"
   ]
  },
  {
   "cell_type": "code",
   "execution_count": 11,
   "metadata": {},
   "outputs": [],
   "source": [
    "# rename the columns\n",
    "df = df[['Pos', 'School', 'Height', 'Wt', '40yd', 'Vertical', 'Bench',\n",
    "       'Broad Jump', '3Cone', 'Shuttle', 'Drafted (tm/rnd/yr)', 'Year']]"
   ]
  },
  {
   "cell_type": "markdown",
   "metadata": {},
   "source": [
    "### Create binary `Drafted ` Column of 1 - Yes, 0 - No if player was drafted"
   ]
  },
  {
   "cell_type": "code",
   "execution_count": 12,
   "metadata": {},
   "outputs": [],
   "source": [
    "# fill missing in drafted column with 0\n",
    "df['Drafted (tm/rnd/yr)'] = df['Drafted (tm/rnd/yr)'].fillna(0)"
   ]
  },
  {
   "cell_type": "code",
   "execution_count": 13,
   "metadata": {},
   "outputs": [],
   "source": [
    "# create new column Drafted that designates whether drafted (1) or not (0)\n",
    "df['Drafted'] = np.where(df['Drafted (tm/rnd/yr)'] == 0, 0, 1)\n",
    "\n",
    "# drop extra drafted column now\n",
    "df.drop(columns = 'Drafted (tm/rnd/yr)', inplace = True)"
   ]
  },
  {
   "cell_type": "code",
   "execution_count": 14,
   "metadata": {},
   "outputs": [
    {
     "data": {
      "text/html": [
       "<div>\n",
       "<style scoped>\n",
       "    .dataframe tbody tr th:only-of-type {\n",
       "        vertical-align: middle;\n",
       "    }\n",
       "\n",
       "    .dataframe tbody tr th {\n",
       "        vertical-align: top;\n",
       "    }\n",
       "\n",
       "    .dataframe thead th {\n",
       "        text-align: right;\n",
       "    }\n",
       "</style>\n",
       "<table border=\"1\" class=\"dataframe\">\n",
       "  <thead>\n",
       "    <tr style=\"text-align: right;\">\n",
       "      <th></th>\n",
       "      <th>Pos</th>\n",
       "      <th>School</th>\n",
       "      <th>Height</th>\n",
       "      <th>Wt</th>\n",
       "      <th>40yd</th>\n",
       "      <th>Vertical</th>\n",
       "      <th>Bench</th>\n",
       "      <th>Broad Jump</th>\n",
       "      <th>3Cone</th>\n",
       "      <th>Shuttle</th>\n",
       "      <th>Year</th>\n",
       "      <th>Drafted</th>\n",
       "    </tr>\n",
       "  </thead>\n",
       "  <tbody>\n",
       "    <tr>\n",
       "      <th>0</th>\n",
       "      <td>OLB</td>\n",
       "      <td>South Carolina</td>\n",
       "      <td>6.33</td>\n",
       "      <td>252.0</td>\n",
       "      <td>4.55</td>\n",
       "      <td>NaN</td>\n",
       "      <td>NaN</td>\n",
       "      <td>NaN</td>\n",
       "      <td>NaN</td>\n",
       "      <td>NaN</td>\n",
       "      <td>2000</td>\n",
       "      <td>1</td>\n",
       "    </tr>\n",
       "    <tr>\n",
       "      <th>1</th>\n",
       "      <td>RB</td>\n",
       "      <td>Alabama</td>\n",
       "      <td>6.00</td>\n",
       "      <td>218.0</td>\n",
       "      <td>4.58</td>\n",
       "      <td>NaN</td>\n",
       "      <td>NaN</td>\n",
       "      <td>NaN</td>\n",
       "      <td>NaN</td>\n",
       "      <td>NaN</td>\n",
       "      <td>2000</td>\n",
       "      <td>1</td>\n",
       "    </tr>\n",
       "    <tr>\n",
       "      <th>2</th>\n",
       "      <td>OT</td>\n",
       "      <td>Boston Col.</td>\n",
       "      <td>6.33</td>\n",
       "      <td>334.0</td>\n",
       "      <td>5.56</td>\n",
       "      <td>25.0</td>\n",
       "      <td>23.0</td>\n",
       "      <td>94.0</td>\n",
       "      <td>8.48</td>\n",
       "      <td>4.98</td>\n",
       "      <td>2000</td>\n",
       "      <td>1</td>\n",
       "    </tr>\n",
       "    <tr>\n",
       "      <th>3</th>\n",
       "      <td>TE</td>\n",
       "      <td>Texas Tech</td>\n",
       "      <td>6.17</td>\n",
       "      <td>253.0</td>\n",
       "      <td>4.97</td>\n",
       "      <td>29.0</td>\n",
       "      <td>NaN</td>\n",
       "      <td>104.0</td>\n",
       "      <td>7.29</td>\n",
       "      <td>4.49</td>\n",
       "      <td>2000</td>\n",
       "      <td>0</td>\n",
       "    </tr>\n",
       "    <tr>\n",
       "      <th>4</th>\n",
       "      <td>CB</td>\n",
       "      <td>Jackson State</td>\n",
       "      <td>6.17</td>\n",
       "      <td>206.0</td>\n",
       "      <td>4.55</td>\n",
       "      <td>34.0</td>\n",
       "      <td>NaN</td>\n",
       "      <td>123.0</td>\n",
       "      <td>7.18</td>\n",
       "      <td>4.15</td>\n",
       "      <td>2000</td>\n",
       "      <td>1</td>\n",
       "    </tr>\n",
       "  </tbody>\n",
       "</table>\n",
       "</div>"
      ],
      "text/plain": [
       "   Pos          School  Height     Wt  40yd  Vertical  Bench  Broad Jump  \\\n",
       "0  OLB  South Carolina    6.33  252.0  4.55       NaN    NaN         NaN   \n",
       "1   RB         Alabama    6.00  218.0  4.58       NaN    NaN         NaN   \n",
       "2   OT     Boston Col.    6.33  334.0  5.56      25.0   23.0        94.0   \n",
       "3   TE      Texas Tech    6.17  253.0  4.97      29.0    NaN       104.0   \n",
       "4   CB   Jackson State    6.17  206.0  4.55      34.0    NaN       123.0   \n",
       "\n",
       "   3Cone  Shuttle  Year  Drafted  \n",
       "0    NaN      NaN  2000        1  \n",
       "1    NaN      NaN  2000        1  \n",
       "2   8.48     4.98  2000        1  \n",
       "3   7.29     4.49  2000        0  \n",
       "4   7.18     4.15  2000        1  "
      ]
     },
     "execution_count": 14,
     "metadata": {},
     "output_type": "execute_result"
    }
   ],
   "source": [
    "df.head(5)"
   ]
  },
  {
   "cell_type": "code",
   "execution_count": 15,
   "metadata": {},
   "outputs": [
    {
     "name": "stdout",
     "output_type": "stream",
     "text": [
      "<class 'pandas.core.frame.DataFrame'>\n",
      "Int64Index: 7651 entries, 0 to 7820\n",
      "Data columns (total 12 columns):\n",
      " #   Column      Non-Null Count  Dtype  \n",
      "---  ------      --------------  -----  \n",
      " 0   Pos         7651 non-null   object \n",
      " 1   School      7651 non-null   object \n",
      " 2   Height      7651 non-null   float64\n",
      " 3   Wt          7651 non-null   float64\n",
      " 4   40yd        7191 non-null   float64\n",
      " 5   Vertical    5919 non-null   float64\n",
      " 6   Bench       5082 non-null   float64\n",
      " 7   Broad Jump  5850 non-null   float64\n",
      " 8   3Cone       4784 non-null   float64\n",
      " 9   Shuttle     4888 non-null   float64\n",
      " 10  Year        7651 non-null   int64  \n",
      " 11  Drafted     7651 non-null   int64  \n",
      "dtypes: float64(8), int64(2), object(2)\n",
      "memory usage: 777.1+ KB\n"
     ]
    }
   ],
   "source": [
    "df.info()"
   ]
  },
  {
   "cell_type": "code",
   "execution_count": 16,
   "metadata": {},
   "outputs": [
    {
     "data": {
      "text/html": [
       "<div>\n",
       "<style scoped>\n",
       "    .dataframe tbody tr th:only-of-type {\n",
       "        vertical-align: middle;\n",
       "    }\n",
       "\n",
       "    .dataframe tbody tr th {\n",
       "        vertical-align: top;\n",
       "    }\n",
       "\n",
       "    .dataframe thead th {\n",
       "        text-align: right;\n",
       "    }\n",
       "</style>\n",
       "<table border=\"1\" class=\"dataframe\">\n",
       "  <thead>\n",
       "    <tr style=\"text-align: right;\">\n",
       "      <th></th>\n",
       "      <th>Pos</th>\n",
       "      <th>School</th>\n",
       "      <th>Height</th>\n",
       "      <th>Wt</th>\n",
       "      <th>40yd</th>\n",
       "      <th>Vertical</th>\n",
       "      <th>Bench</th>\n",
       "      <th>Broad Jump</th>\n",
       "      <th>3Cone</th>\n",
       "      <th>Shuttle</th>\n",
       "      <th>Year</th>\n",
       "      <th>Drafted</th>\n",
       "    </tr>\n",
       "  </thead>\n",
       "  <tbody>\n",
       "    <tr>\n",
       "      <th>0</th>\n",
       "      <td>OLB</td>\n",
       "      <td>South Carolina</td>\n",
       "      <td>6.33</td>\n",
       "      <td>252.0</td>\n",
       "      <td>4.55</td>\n",
       "      <td>NaN</td>\n",
       "      <td>NaN</td>\n",
       "      <td>NaN</td>\n",
       "      <td>NaN</td>\n",
       "      <td>NaN</td>\n",
       "      <td>2000</td>\n",
       "      <td>1</td>\n",
       "    </tr>\n",
       "    <tr>\n",
       "      <th>1</th>\n",
       "      <td>RB</td>\n",
       "      <td>Alabama</td>\n",
       "      <td>6.00</td>\n",
       "      <td>218.0</td>\n",
       "      <td>4.58</td>\n",
       "      <td>NaN</td>\n",
       "      <td>NaN</td>\n",
       "      <td>NaN</td>\n",
       "      <td>NaN</td>\n",
       "      <td>NaN</td>\n",
       "      <td>2000</td>\n",
       "      <td>1</td>\n",
       "    </tr>\n",
       "    <tr>\n",
       "      <th>2</th>\n",
       "      <td>OT</td>\n",
       "      <td>Boston Col.</td>\n",
       "      <td>6.33</td>\n",
       "      <td>334.0</td>\n",
       "      <td>5.56</td>\n",
       "      <td>25.0</td>\n",
       "      <td>23.0</td>\n",
       "      <td>94.0</td>\n",
       "      <td>8.48</td>\n",
       "      <td>4.98</td>\n",
       "      <td>2000</td>\n",
       "      <td>1</td>\n",
       "    </tr>\n",
       "    <tr>\n",
       "      <th>3</th>\n",
       "      <td>TE</td>\n",
       "      <td>Texas Tech</td>\n",
       "      <td>6.17</td>\n",
       "      <td>253.0</td>\n",
       "      <td>4.97</td>\n",
       "      <td>29.0</td>\n",
       "      <td>NaN</td>\n",
       "      <td>104.0</td>\n",
       "      <td>7.29</td>\n",
       "      <td>4.49</td>\n",
       "      <td>2000</td>\n",
       "      <td>0</td>\n",
       "    </tr>\n",
       "    <tr>\n",
       "      <th>4</th>\n",
       "      <td>CB</td>\n",
       "      <td>Jackson State</td>\n",
       "      <td>6.17</td>\n",
       "      <td>206.0</td>\n",
       "      <td>4.55</td>\n",
       "      <td>34.0</td>\n",
       "      <td>NaN</td>\n",
       "      <td>123.0</td>\n",
       "      <td>7.18</td>\n",
       "      <td>4.15</td>\n",
       "      <td>2000</td>\n",
       "      <td>1</td>\n",
       "    </tr>\n",
       "  </tbody>\n",
       "</table>\n",
       "</div>"
      ],
      "text/plain": [
       "   Pos          School  Height     Wt  40yd  Vertical  Bench  Broad Jump  \\\n",
       "0  OLB  South Carolina    6.33  252.0  4.55       NaN    NaN         NaN   \n",
       "1   RB         Alabama    6.00  218.0  4.58       NaN    NaN         NaN   \n",
       "2   OT     Boston Col.    6.33  334.0  5.56      25.0   23.0        94.0   \n",
       "3   TE      Texas Tech    6.17  253.0  4.97      29.0    NaN       104.0   \n",
       "4   CB   Jackson State    6.17  206.0  4.55      34.0    NaN       123.0   \n",
       "\n",
       "   3Cone  Shuttle  Year  Drafted  \n",
       "0    NaN      NaN  2000        1  \n",
       "1    NaN      NaN  2000        1  \n",
       "2   8.48     4.98  2000        1  \n",
       "3   7.29     4.49  2000        0  \n",
       "4   7.18     4.15  2000        1  "
      ]
     },
     "execution_count": 16,
     "metadata": {},
     "output_type": "execute_result"
    }
   ],
   "source": [
    "df.head()"
   ]
  },
  {
   "cell_type": "code",
   "execution_count": 17,
   "metadata": {},
   "outputs": [
    {
     "data": {
      "text/html": [
       "<div>\n",
       "<style scoped>\n",
       "    .dataframe tbody tr th:only-of-type {\n",
       "        vertical-align: middle;\n",
       "    }\n",
       "\n",
       "    .dataframe tbody tr th {\n",
       "        vertical-align: top;\n",
       "    }\n",
       "\n",
       "    .dataframe thead th {\n",
       "        text-align: right;\n",
       "    }\n",
       "</style>\n",
       "<table border=\"1\" class=\"dataframe\">\n",
       "  <thead>\n",
       "    <tr style=\"text-align: right;\">\n",
       "      <th></th>\n",
       "      <th>Height</th>\n",
       "      <th>Wt</th>\n",
       "      <th>40yd</th>\n",
       "      <th>Vertical</th>\n",
       "      <th>Bench</th>\n",
       "      <th>Broad Jump</th>\n",
       "      <th>3Cone</th>\n",
       "      <th>Shuttle</th>\n",
       "      <th>Year</th>\n",
       "      <th>Drafted</th>\n",
       "    </tr>\n",
       "  </thead>\n",
       "  <tbody>\n",
       "    <tr>\n",
       "      <th>count</th>\n",
       "      <td>7651.000000</td>\n",
       "      <td>7651.000000</td>\n",
       "      <td>7191.000000</td>\n",
       "      <td>5919.000000</td>\n",
       "      <td>5082.000000</td>\n",
       "      <td>5850.000000</td>\n",
       "      <td>4784.000000</td>\n",
       "      <td>4888.000000</td>\n",
       "      <td>7651.000000</td>\n",
       "      <td>7651.000000</td>\n",
       "    </tr>\n",
       "    <tr>\n",
       "      <th>mean</th>\n",
       "      <td>6.149007</td>\n",
       "      <td>242.735852</td>\n",
       "      <td>4.776540</td>\n",
       "      <td>32.892854</td>\n",
       "      <td>20.744392</td>\n",
       "      <td>114.590769</td>\n",
       "      <td>7.284933</td>\n",
       "      <td>4.399677</td>\n",
       "      <td>2011.191609</td>\n",
       "      <td>0.643315</td>\n",
       "    </tr>\n",
       "    <tr>\n",
       "      <th>std</th>\n",
       "      <td>0.220414</td>\n",
       "      <td>45.236972</td>\n",
       "      <td>0.304748</td>\n",
       "      <td>4.217085</td>\n",
       "      <td>6.378024</td>\n",
       "      <td>9.351811</td>\n",
       "      <td>0.417687</td>\n",
       "      <td>0.267133</td>\n",
       "      <td>6.678314</td>\n",
       "      <td>0.479052</td>\n",
       "    </tr>\n",
       "    <tr>\n",
       "      <th>min</th>\n",
       "      <td>5.330000</td>\n",
       "      <td>144.000000</td>\n",
       "      <td>4.220000</td>\n",
       "      <td>17.500000</td>\n",
       "      <td>2.000000</td>\n",
       "      <td>74.000000</td>\n",
       "      <td>6.280000</td>\n",
       "      <td>3.730000</td>\n",
       "      <td>2000.000000</td>\n",
       "      <td>0.000000</td>\n",
       "    </tr>\n",
       "    <tr>\n",
       "      <th>25%</th>\n",
       "      <td>6.000000</td>\n",
       "      <td>205.000000</td>\n",
       "      <td>4.540000</td>\n",
       "      <td>30.000000</td>\n",
       "      <td>16.000000</td>\n",
       "      <td>109.000000</td>\n",
       "      <td>6.980000</td>\n",
       "      <td>4.200000</td>\n",
       "      <td>2005.000000</td>\n",
       "      <td>0.000000</td>\n",
       "    </tr>\n",
       "    <tr>\n",
       "      <th>50%</th>\n",
       "      <td>6.170000</td>\n",
       "      <td>232.000000</td>\n",
       "      <td>4.690000</td>\n",
       "      <td>33.000000</td>\n",
       "      <td>21.000000</td>\n",
       "      <td>116.000000</td>\n",
       "      <td>7.190000</td>\n",
       "      <td>4.360000</td>\n",
       "      <td>2011.000000</td>\n",
       "      <td>1.000000</td>\n",
       "    </tr>\n",
       "    <tr>\n",
       "      <th>75%</th>\n",
       "      <td>6.330000</td>\n",
       "      <td>280.000000</td>\n",
       "      <td>4.980000</td>\n",
       "      <td>36.000000</td>\n",
       "      <td>25.000000</td>\n",
       "      <td>121.000000</td>\n",
       "      <td>7.530000</td>\n",
       "      <td>4.560000</td>\n",
       "      <td>2017.000000</td>\n",
       "      <td>1.000000</td>\n",
       "    </tr>\n",
       "    <tr>\n",
       "      <th>max</th>\n",
       "      <td>6.830000</td>\n",
       "      <td>384.000000</td>\n",
       "      <td>6.050000</td>\n",
       "      <td>46.500000</td>\n",
       "      <td>49.000000</td>\n",
       "      <td>147.000000</td>\n",
       "      <td>9.120000</td>\n",
       "      <td>5.560000</td>\n",
       "      <td>2022.000000</td>\n",
       "      <td>1.000000</td>\n",
       "    </tr>\n",
       "  </tbody>\n",
       "</table>\n",
       "</div>"
      ],
      "text/plain": [
       "            Height           Wt         40yd     Vertical        Bench  \\\n",
       "count  7651.000000  7651.000000  7191.000000  5919.000000  5082.000000   \n",
       "mean      6.149007   242.735852     4.776540    32.892854    20.744392   \n",
       "std       0.220414    45.236972     0.304748     4.217085     6.378024   \n",
       "min       5.330000   144.000000     4.220000    17.500000     2.000000   \n",
       "25%       6.000000   205.000000     4.540000    30.000000    16.000000   \n",
       "50%       6.170000   232.000000     4.690000    33.000000    21.000000   \n",
       "75%       6.330000   280.000000     4.980000    36.000000    25.000000   \n",
       "max       6.830000   384.000000     6.050000    46.500000    49.000000   \n",
       "\n",
       "        Broad Jump        3Cone      Shuttle         Year      Drafted  \n",
       "count  5850.000000  4784.000000  4888.000000  7651.000000  7651.000000  \n",
       "mean    114.590769     7.284933     4.399677  2011.191609     0.643315  \n",
       "std       9.351811     0.417687     0.267133     6.678314     0.479052  \n",
       "min      74.000000     6.280000     3.730000  2000.000000     0.000000  \n",
       "25%     109.000000     6.980000     4.200000  2005.000000     0.000000  \n",
       "50%     116.000000     7.190000     4.360000  2011.000000     1.000000  \n",
       "75%     121.000000     7.530000     4.560000  2017.000000     1.000000  \n",
       "max     147.000000     9.120000     5.560000  2022.000000     1.000000  "
      ]
     },
     "execution_count": 17,
     "metadata": {},
     "output_type": "execute_result"
    }
   ],
   "source": [
    "df.describe()"
   ]
  },
  {
   "cell_type": "markdown",
   "metadata": {},
   "source": [
    "### Position Breakdown\n",
    "\n",
    "- possibly come back here to see how final model performs based on splitting up by offensive and defensive positions"
   ]
  },
  {
   "cell_type": "code",
   "execution_count": 18,
   "metadata": {},
   "outputs": [
    {
     "data": {
      "text/plain": [
       "WR      1058\n",
       "CB       761\n",
       "RB       671\n",
       "S        559\n",
       "OT       524\n",
       "DE       519\n",
       "DT       497\n",
       "OLB      430\n",
       "TE       425\n",
       "QB       416\n",
       "OG       403\n",
       "ILB      276\n",
       "C        184\n",
       "LB       154\n",
       "P        142\n",
       "OL       139\n",
       "FB       120\n",
       "DL       116\n",
       "K        103\n",
       "EDGE      65\n",
       "DB        59\n",
       "LS        30\n",
       "Name: Pos, dtype: int64"
      ]
     },
     "execution_count": 18,
     "metadata": {},
     "output_type": "execute_result"
    }
   ],
   "source": [
    "# check positions available\n",
    "df['Pos'].value_counts()"
   ]
  },
  {
   "cell_type": "code",
   "execution_count": 19,
   "metadata": {},
   "outputs": [],
   "source": [
    "# list of offensive positions\n",
    "offense_list = ['WR', 'RB', 'OT', 'TE', 'QB', 'OG', 'C', 'OL', 'FB']\n",
    "\n",
    "# list of defensive positions\n",
    "defense_list = ['CB', 'S', 'DE', 'DT', 'OLB', 'ILB', 'LB', 'DL', 'EDGE', 'DB']\n",
    "\n",
    "# list of special team positions\n",
    "special_teams_list = ['LS', 'K', 'P']"
   ]
  },
  {
   "cell_type": "code",
   "execution_count": 20,
   "metadata": {},
   "outputs": [],
   "source": [
    "# split into offensive positions\n",
    "offense = df.loc[df['Pos'].isin(offense_list)]\n",
    "\n",
    "# split into defensive positions\n",
    "defense = df.loc[df['Pos'].isin(defense_list)]\n",
    "\n",
    "# split into special teams positions\n",
    "special_teams = df.loc[df['Pos'].isin(special_teams_list)]"
   ]
  },
  {
   "cell_type": "code",
   "execution_count": 21,
   "metadata": {},
   "outputs": [
    {
     "name": "stdout",
     "output_type": "stream",
     "text": [
      "Offense\n",
      "Total Players:      3940\n",
      "Total Drafted:      2447\n",
      "Total Undrafted:    1493\n",
      "Percent Drafted:    0.62\n",
      "Percent Undrafted:  0.38\n",
      "-------------------------\n",
      "Defense\n",
      "Total Players:      3436\n",
      "Total Drafted:      2397\n",
      "Total Undrafted:    1039\n",
      "Percent Drafted:    0.7\n",
      "Percent Undrafted:  0.3\n",
      "-------------------------\n",
      "Special Teams\n",
      "Total Players:      275\n",
      "Total Drafted:      78\n",
      "Total Undrafted:    197\n",
      "Percent Drafted:    0.28\n",
      "Percent Undrafted:  0.72\n"
     ]
    }
   ],
   "source": [
    "# percent and count breakdowns\n",
    "# Offense\n",
    "total_offense = len(offense)\n",
    "total_offense_drafted = offense['Drafted'].value_counts()[1]\n",
    "total_offense_undrafted = offense['Drafted'].value_counts()[0]\n",
    "percent_off_drafted = round(offense['Drafted'].value_counts(normalize = True)[1], 2)\n",
    "percent_off_undrafted = round(offense['Drafted'].value_counts(normalize = True)[0], 2)\n",
    "\n",
    "print(\"Offense\")\n",
    "print(f\"Total Players:      {total_offense}\")\n",
    "print(f\"Total Drafted:      {total_offense_drafted}\")\n",
    "print(f\"Total Undrafted:    {total_offense_undrafted}\")\n",
    "print(f\"Percent Drafted:    {percent_off_drafted}\")\n",
    "print(f\"Percent Undrafted:  {percent_off_undrafted}\")\n",
    "print(\"-\"*25)\n",
    "\n",
    "# Defense\n",
    "total_defense = len(defense)\n",
    "total_defense_drafted = defense['Drafted'].value_counts()[1]\n",
    "total_defense_undrafted = defense['Drafted'].value_counts()[0]\n",
    "percent_def_drafted = round(defense['Drafted'].value_counts(normalize = True)[1], 2)\n",
    "percent_def_undrafted = round(defense['Drafted'].value_counts(normalize = True)[0], 2)\n",
    "\n",
    "print(\"Defense\")\n",
    "print(f\"Total Players:      {total_defense}\")\n",
    "print(f\"Total Drafted:      {total_defense_drafted}\")\n",
    "print(f\"Total Undrafted:    {total_defense_undrafted}\")\n",
    "print(f\"Percent Drafted:    {percent_def_drafted}\")\n",
    "print(f\"Percent Undrafted:  {percent_def_undrafted}\")\n",
    "print(\"-\"*25)\n",
    "\n",
    "# Special teams\n",
    "total_st = len(special_teams)\n",
    "total_st_drafted = special_teams['Drafted'].value_counts()[1]\n",
    "total_st_undrafted = special_teams['Drafted'].value_counts()[0]\n",
    "percent_st_drafted = round(special_teams['Drafted'].value_counts(normalize = True)[1], 2)\n",
    "percent_st_undrafted = round(special_teams['Drafted'].value_counts(normalize = True)[0], 2)\n",
    "\n",
    "print(\"Special Teams\")\n",
    "print(f\"Total Players:      {total_st}\")\n",
    "print(f\"Total Drafted:      {total_st_drafted}\")\n",
    "print(f\"Total Undrafted:    {total_st_undrafted}\")\n",
    "print(f\"Percent Drafted:    {percent_st_drafted}\")\n",
    "print(f\"Percent Undrafted:  {percent_st_undrafted}\")"
   ]
  },
  {
   "cell_type": "markdown",
   "metadata": {},
   "source": [
    "## Exploratory Data Analysis"
   ]
  },
  {
   "cell_type": "code",
   "execution_count": 22,
   "metadata": {},
   "outputs": [
    {
     "data": {
      "image/png": "[encoded data removed]",
      "text/plain": [
       "<Figure size 720x360 with 1 Axes>"
      ]
     },
     "metadata": {},
     "output_type": "display_data"
    }
   ],
   "source": [
    "# plot visual breakdown of drafted by team category \n",
    "position_category = ['Offense', 'Defense', 'Special Teams']\n",
    "\n",
    "data = {'Drafted': [total_offense_drafted, total_defense_drafted, total_st_drafted],\n",
    "        'Undrafted': [total_offense_undrafted, total_defense_undrafted, total_st_undrafted]\n",
    "       }\n",
    "\n",
    "# create dataframe of positions & number of drafted\n",
    "drafted = pd.DataFrame(data,\n",
    "                       columns=['Undrafted', 'Drafted'], \n",
    "                       index = position_category)\n",
    "\n",
    "plt.style.use('seaborn-dark')\n",
    "\n",
    "\n",
    "fig, ax = plt.subplots(figsize=(10, 5))\n",
    "\n",
    "drafted.plot(kind = 'barh',\n",
    "             edgecolor = \"black\",\n",
    "             linewidth = 1,\n",
    "             ax = ax, stacked = False,\n",
    "             xlim = (0, 3200))\n",
    "\n",
    "# create a list to collect the plt.patches data\n",
    "totals = []\n",
    "\n",
    "# find the values and append to list\n",
    "for i in ax.patches:\n",
    "    totals.append(i.get_width())\n",
    "\n",
    "# set individual bar lables using above list\n",
    "total = sum(totals)\n",
    "\n",
    "# set individual bar lables using above list\n",
    "for i in ax.patches:\n",
    "    # get_width pulls left or right; get_y pushes up or down\n",
    "    ax.text(i.get_width()+ 30, i.get_y() + 0.17, \\\n",
    "            str(round((i.get_width()/total)*100, 2))+'%', fontsize=10,\n",
    "color='black')\n",
    "\n",
    "# invert for largest on top \n",
    "ax.invert_yaxis()\n",
    "\n",
    "plt.title('Players Drafted by Team Category (2000-2022)', weight = \"bold\")\n",
    "plt.ylabel('Team Category')\n",
    "plt.xlabel('Count')\n",
    "\n",
    "plt.tight_layout()\n",
    "plt.show()"
   ]
  },
  {
   "cell_type": "code",
   "execution_count": 23,
   "metadata": {},
   "outputs": [
    {
     "data": {
      "image/png": "[encoded data removed]",
      "text/plain": [
       "<Figure size 720x288 with 1 Axes>"
      ]
     },
     "metadata": {},
     "output_type": "display_data"
    }
   ],
   "source": [
    "# create dict of drafted/undrafted with sums of each category\n",
    "total = ['']\n",
    "\n",
    "data = {'Undrafted': [drafted['Undrafted'].sum()],\n",
    "        'Drafted': [drafted['Drafted'].sum()]\n",
    "        }\n",
    "\n",
    "# new drafted_total df\n",
    "drafted_total = pd.DataFrame(data,\n",
    "                       columns=['Undrafted', 'Drafted'],\n",
    "                       index = total)\n",
    "\n",
    "plt.style.use('seaborn-dark')\n",
    "\n",
    "fig, ax = plt.subplots(figsize=(10, 4))\n",
    "\n",
    "drafted_total.plot(kind = 'barh',\n",
    "             edgecolor = \"black\",\n",
    "             linewidth = 1,\n",
    "             ax = ax, stacked = True)\n",
    "\n",
    "# create a list to collect the plt.patches data\n",
    "totals = []\n",
    "\n",
    "# find the values and append to list\n",
    "for i in ax.patches:\n",
    "    totals.append(i.get_width())\n",
    "\n",
    "# set individual bar lables using above list\n",
    "total = sum(totals)\n",
    "\n",
    "# set individual bar lables using above list\n",
    "for i in ax.patches:\n",
    "    # get_width pulls left or right; get_y pushes up or down\n",
    "    ax.text(i.get_width()-900, i.get_y()+.21, \\\n",
    "            str(round((i.get_width()/total)*100, 2))+'%', \n",
    "            fontsize=15,\n",
    "            color='black')\n",
    "\n",
    "ax.set_xlabel('Count')\n",
    "\n",
    "ax.set(ylabel=None)\n",
    "ax.set_title('Drafted VS. Undrafted Players (2000-2022)', weight = \"bold\")\n",
    "ax.legend()\n",
    "\n",
    "plt.show()"
   ]
  },
  {
   "cell_type": "markdown",
   "metadata": {},
   "source": [
    "## Train-Test Split\n",
    "\n",
    "Based on the early exploratory data analysis on the drafted vs. undrafted players, this dataset is relatively imbalanced at a 2:1 ratio. Below we will perform a Train-Test Split and specify a `stratify=y` to ensure an even balance of drafted and undrafted player in the split. "
   ]
  },
  {
   "cell_type": "code",
   "execution_count": 24,
   "metadata": {},
   "outputs": [],
   "source": [
    "# feature selection, target variable = 'Drafted'\n",
    "X = df.drop(['Drafted'], axis = 1)\n",
    "y = df['Drafted']\n",
    "X_train, X_test, y_train, y_test = train_test_split(X, y, stratify = y, random_state= 42)"
   ]
  },
  {
   "cell_type": "code",
   "execution_count": 25,
   "metadata": {},
   "outputs": [
    {
     "name": "stdout",
     "output_type": "stream",
     "text": [
      "Train percent Drafted: 0.6432554897176717\n",
      "Test percent Drafted:  0.643491897543126\n"
     ]
    }
   ],
   "source": [
    "# check that percent in y_train and y_test for drafted is balanced\n",
    "print(\"Train percent Drafted:\", y_train.value_counts(normalize=True)[1])\n",
    "print(\"Test percent Drafted: \", y_test.value_counts(normalize=True)[1])"
   ]
  },
  {
   "cell_type": "markdown",
   "metadata": {},
   "source": [
    "### Handling Missing Values"
   ]
  },
  {
   "cell_type": "code",
   "execution_count": 26,
   "metadata": {},
   "outputs": [
    {
     "data": {
      "text/plain": [
       "Pos              0\n",
       "School           0\n",
       "Height           0\n",
       "Wt               0\n",
       "40yd           344\n",
       "Vertical      1330\n",
       "Bench         1943\n",
       "Broad Jump    1378\n",
       "3Cone         2173\n",
       "Shuttle       2097\n",
       "Year             0\n",
       "dtype: int64"
      ]
     },
     "execution_count": 26,
     "metadata": {},
     "output_type": "execute_result"
    }
   ],
   "source": [
    "X_train.isna().sum()"
   ]
  },
  {
   "cell_type": "code",
   "execution_count": 27,
   "metadata": {},
   "outputs": [
    {
     "name": "stdout",
     "output_type": "stream",
     "text": [
      "6.0% of 40yd is missing.\n",
      "23.0% of Vertical is missing.\n",
      "34.0% of Bench is missing.\n",
      "24.0% of Broad Jump is missing.\n",
      "38.0% of 3Cone is missing.\n",
      "37.0% of Shuttle is missing.\n"
     ]
    }
   ],
   "source": [
    "f = (X_train['40yd'].isna().sum()/X_train.shape[0]).round(2) * 100\n",
    "v = (X_train['Vertical'].isna().sum()/X_train.shape[0]).round(2) * 100\n",
    "b = (X_train['Bench'].isna().sum()/X_train.shape[0]).round(2) * 100\n",
    "bj = (X_train['Broad Jump'].isna().sum()/X_train.shape[0]).round(2) * 100\n",
    "c = (X_train['3Cone'].isna().sum()/X_train.shape[0]).round(2) * 100\n",
    "s = (X_train['Shuttle'].isna().sum()/X_train.shape[0]).round(2) * 100\n",
    "\n",
    "print(f'{f}% of 40yd is missing.')\n",
    "print(f'{v}% of Vertical is missing.')\n",
    "print(f'{b}% of Bench is missing.')\n",
    "print(f'{bj}% of Broad Jump is missing.')\n",
    "print(f'{c}% of 3Cone is missing.')\n",
    "print(f'{s}% of Shuttle is missing.')"
   ]
  },
  {
   "cell_type": "markdown",
   "metadata": {},
   "source": [
    "A large majority of values are missing in this data set as evidenced from the above. I can fill in the NaNs with the average (mean) grouped by position. It would make sense to group by position since some players may be faster than others simply by the nature of their position and their overall build. "
   ]
  },
  {
   "cell_type": "code",
   "execution_count": 28,
   "metadata": {},
   "outputs": [
    {
     "data": {
      "text/html": [
       "<div>\n",
       "<style scoped>\n",
       "    .dataframe tbody tr th:only-of-type {\n",
       "        vertical-align: middle;\n",
       "    }\n",
       "\n",
       "    .dataframe tbody tr th {\n",
       "        vertical-align: top;\n",
       "    }\n",
       "\n",
       "    .dataframe thead th {\n",
       "        text-align: right;\n",
       "    }\n",
       "</style>\n",
       "<table border=\"1\" class=\"dataframe\">\n",
       "  <thead>\n",
       "    <tr style=\"text-align: right;\">\n",
       "      <th></th>\n",
       "      <th>Pos</th>\n",
       "      <th>School</th>\n",
       "      <th>Height</th>\n",
       "      <th>Wt</th>\n",
       "      <th>40yd</th>\n",
       "      <th>Vertical</th>\n",
       "      <th>Bench</th>\n",
       "      <th>Broad Jump</th>\n",
       "      <th>3Cone</th>\n",
       "      <th>Shuttle</th>\n",
       "      <th>Year</th>\n",
       "    </tr>\n",
       "  </thead>\n",
       "  <tbody>\n",
       "    <tr>\n",
       "      <th>6651</th>\n",
       "      <td>S</td>\n",
       "      <td>Kentucky</td>\n",
       "      <td>5.92</td>\n",
       "      <td>208.0</td>\n",
       "      <td>4.39</td>\n",
       "      <td>33.5</td>\n",
       "      <td>19.0</td>\n",
       "      <td>113.0</td>\n",
       "      <td>NaN</td>\n",
       "      <td>NaN</td>\n",
       "      <td>2019</td>\n",
       "    </tr>\n",
       "    <tr>\n",
       "      <th>6261</th>\n",
       "      <td>DT</td>\n",
       "      <td>Fort Hays State</td>\n",
       "      <td>6.42</td>\n",
       "      <td>315.0</td>\n",
       "      <td>5.09</td>\n",
       "      <td>31.0</td>\n",
       "      <td>NaN</td>\n",
       "      <td>112.0</td>\n",
       "      <td>7.5</td>\n",
       "      <td>4.53</td>\n",
       "      <td>2018</td>\n",
       "    </tr>\n",
       "    <tr>\n",
       "      <th>6174</th>\n",
       "      <td>QB</td>\n",
       "      <td>Nebraska</td>\n",
       "      <td>6.33</td>\n",
       "      <td>218.0</td>\n",
       "      <td>4.98</td>\n",
       "      <td>32.0</td>\n",
       "      <td>NaN</td>\n",
       "      <td>115.0</td>\n",
       "      <td>7.0</td>\n",
       "      <td>4.41</td>\n",
       "      <td>2018</td>\n",
       "    </tr>\n",
       "    <tr>\n",
       "      <th>7742</th>\n",
       "      <td>EDGE</td>\n",
       "      <td>Cincinnati</td>\n",
       "      <td>6.42</td>\n",
       "      <td>228.0</td>\n",
       "      <td>4.67</td>\n",
       "      <td>33.0</td>\n",
       "      <td>NaN</td>\n",
       "      <td>120.0</td>\n",
       "      <td>NaN</td>\n",
       "      <td>4.37</td>\n",
       "      <td>2022</td>\n",
       "    </tr>\n",
       "    <tr>\n",
       "      <th>7016</th>\n",
       "      <td>DL</td>\n",
       "      <td>Ohio State</td>\n",
       "      <td>6.42</td>\n",
       "      <td>264.0</td>\n",
       "      <td>NaN</td>\n",
       "      <td>NaN</td>\n",
       "      <td>NaN</td>\n",
       "      <td>NaN</td>\n",
       "      <td>NaN</td>\n",
       "      <td>NaN</td>\n",
       "      <td>2020</td>\n",
       "    </tr>\n",
       "  </tbody>\n",
       "</table>\n",
       "</div>"
      ],
      "text/plain": [
       "       Pos           School  Height     Wt  40yd  Vertical  Bench  Broad Jump  \\\n",
       "6651     S         Kentucky    5.92  208.0  4.39      33.5   19.0       113.0   \n",
       "6261    DT  Fort Hays State    6.42  315.0  5.09      31.0    NaN       112.0   \n",
       "6174    QB         Nebraska    6.33  218.0  4.98      32.0    NaN       115.0   \n",
       "7742  EDGE       Cincinnati    6.42  228.0  4.67      33.0    NaN       120.0   \n",
       "7016    DL       Ohio State    6.42  264.0   NaN       NaN    NaN         NaN   \n",
       "\n",
       "      3Cone  Shuttle  Year  \n",
       "6651    NaN      NaN  2019  \n",
       "6261    7.5     4.53  2018  \n",
       "6174    7.0     4.41  2018  \n",
       "7742    NaN     4.37  2022  \n",
       "7016    NaN      NaN  2020  "
      ]
     },
     "execution_count": 28,
     "metadata": {},
     "output_type": "execute_result"
    }
   ],
   "source": [
    "X_train.head()"
   ]
  },
  {
   "cell_type": "code",
   "execution_count": 29,
   "metadata": {},
   "outputs": [],
   "source": [
    "# for each missing value in the columns, replace with the mean of that position \n",
    "X_train['40yd'] = X_train.groupby('Pos').transform(lambda x: x.fillna(x.mean()))\n",
    "X_train['Vertical'] = X_train.groupby('Pos').transform(lambda x: x.fillna(x.mean()))\n",
    "X_train['Bench'] = X_train.groupby('Pos').transform(lambda x: x.fillna(x.mean()))\n",
    "X_train['Broad Jump'] = X_train.groupby('Pos').transform(lambda x: x.fillna(x.mean()))\n",
    "X_train['3Cone'] = X_train.groupby('Pos').transform(lambda x: x.fillna(x.mean()))\n",
    "X_train['Shuttle'] = X_train.groupby('Pos').transform(lambda x: x.fillna(x.mean()))"
   ]
  },
  {
   "cell_type": "code",
   "execution_count": 30,
   "metadata": {},
   "outputs": [],
   "source": [
    "# create a function for the above for future use\n",
    "def fill_missing(df):\n",
    "    \"\"\" \n",
    "    Helper function that takes in columns from a dataframe and fills in the NaNs \n",
    "    with the means grouped by Position. Can be used for the training and test sets. \n",
    "    \"\"\"\n",
    "    missing_cols = ['40yd', 'Vertical', 'Bench', 'Broad Jump', '3Cone', 'Shuttle']\n",
    "    \n",
    "    for col in missing_cols:\n",
    "        df[col] = df.groupby('Pos').transform(lambda x: x.fillna(x.mean()))\n",
    "    \n",
    "    return df\n",
    "    "
   ]
  },
  {
   "cell_type": "code",
   "execution_count": 31,
   "metadata": {},
   "outputs": [
    {
     "data": {
      "text/html": [
       "<div>\n",
       "<style scoped>\n",
       "    .dataframe tbody tr th:only-of-type {\n",
       "        vertical-align: middle;\n",
       "    }\n",
       "\n",
       "    .dataframe tbody tr th {\n",
       "        vertical-align: top;\n",
       "    }\n",
       "\n",
       "    .dataframe thead th {\n",
       "        text-align: right;\n",
       "    }\n",
       "</style>\n",
       "<table border=\"1\" class=\"dataframe\">\n",
       "  <thead>\n",
       "    <tr style=\"text-align: right;\">\n",
       "      <th></th>\n",
       "      <th>Pos</th>\n",
       "      <th>School</th>\n",
       "      <th>Height</th>\n",
       "      <th>Wt</th>\n",
       "      <th>40yd</th>\n",
       "      <th>Vertical</th>\n",
       "      <th>Bench</th>\n",
       "      <th>Broad Jump</th>\n",
       "      <th>3Cone</th>\n",
       "      <th>Shuttle</th>\n",
       "      <th>Year</th>\n",
       "    </tr>\n",
       "  </thead>\n",
       "  <tbody>\n",
       "    <tr>\n",
       "      <th>6651</th>\n",
       "      <td>S</td>\n",
       "      <td>Kentucky</td>\n",
       "      <td>5.92</td>\n",
       "      <td>208.0</td>\n",
       "      <td>5.92</td>\n",
       "      <td>5.92</td>\n",
       "      <td>5.92</td>\n",
       "      <td>5.92</td>\n",
       "      <td>5.92</td>\n",
       "      <td>5.92</td>\n",
       "      <td>2019</td>\n",
       "    </tr>\n",
       "    <tr>\n",
       "      <th>6261</th>\n",
       "      <td>DT</td>\n",
       "      <td>Fort Hays State</td>\n",
       "      <td>6.42</td>\n",
       "      <td>315.0</td>\n",
       "      <td>6.42</td>\n",
       "      <td>6.42</td>\n",
       "      <td>6.42</td>\n",
       "      <td>6.42</td>\n",
       "      <td>6.42</td>\n",
       "      <td>6.42</td>\n",
       "      <td>2018</td>\n",
       "    </tr>\n",
       "    <tr>\n",
       "      <th>6174</th>\n",
       "      <td>QB</td>\n",
       "      <td>Nebraska</td>\n",
       "      <td>6.33</td>\n",
       "      <td>218.0</td>\n",
       "      <td>6.33</td>\n",
       "      <td>6.33</td>\n",
       "      <td>6.33</td>\n",
       "      <td>6.33</td>\n",
       "      <td>6.33</td>\n",
       "      <td>6.33</td>\n",
       "      <td>2018</td>\n",
       "    </tr>\n",
       "    <tr>\n",
       "      <th>7742</th>\n",
       "      <td>EDGE</td>\n",
       "      <td>Cincinnati</td>\n",
       "      <td>6.42</td>\n",
       "      <td>228.0</td>\n",
       "      <td>6.42</td>\n",
       "      <td>6.42</td>\n",
       "      <td>6.42</td>\n",
       "      <td>6.42</td>\n",
       "      <td>6.42</td>\n",
       "      <td>6.42</td>\n",
       "      <td>2022</td>\n",
       "    </tr>\n",
       "    <tr>\n",
       "      <th>7016</th>\n",
       "      <td>DL</td>\n",
       "      <td>Ohio State</td>\n",
       "      <td>6.42</td>\n",
       "      <td>264.0</td>\n",
       "      <td>6.42</td>\n",
       "      <td>6.42</td>\n",
       "      <td>6.42</td>\n",
       "      <td>6.42</td>\n",
       "      <td>6.42</td>\n",
       "      <td>6.42</td>\n",
       "      <td>2020</td>\n",
       "    </tr>\n",
       "    <tr>\n",
       "      <th>...</th>\n",
       "      <td>...</td>\n",
       "      <td>...</td>\n",
       "      <td>...</td>\n",
       "      <td>...</td>\n",
       "      <td>...</td>\n",
       "      <td>...</td>\n",
       "      <td>...</td>\n",
       "      <td>...</td>\n",
       "      <td>...</td>\n",
       "      <td>...</td>\n",
       "      <td>...</td>\n",
       "    </tr>\n",
       "    <tr>\n",
       "      <th>1599</th>\n",
       "      <td>RB</td>\n",
       "      <td>Northern Illinois</td>\n",
       "      <td>5.83</td>\n",
       "      <td>237.0</td>\n",
       "      <td>5.83</td>\n",
       "      <td>5.83</td>\n",
       "      <td>5.83</td>\n",
       "      <td>5.83</td>\n",
       "      <td>5.83</td>\n",
       "      <td>5.83</td>\n",
       "      <td>2004</td>\n",
       "    </tr>\n",
       "    <tr>\n",
       "      <th>3257</th>\n",
       "      <td>DE</td>\n",
       "      <td>Wisconsin</td>\n",
       "      <td>6.42</td>\n",
       "      <td>266.0</td>\n",
       "      <td>6.42</td>\n",
       "      <td>6.42</td>\n",
       "      <td>6.42</td>\n",
       "      <td>6.42</td>\n",
       "      <td>6.42</td>\n",
       "      <td>6.42</td>\n",
       "      <td>2009</td>\n",
       "    </tr>\n",
       "    <tr>\n",
       "      <th>4638</th>\n",
       "      <td>WR</td>\n",
       "      <td>Baylor</td>\n",
       "      <td>6.17</td>\n",
       "      <td>208.0</td>\n",
       "      <td>6.17</td>\n",
       "      <td>6.17</td>\n",
       "      <td>6.17</td>\n",
       "      <td>6.17</td>\n",
       "      <td>6.17</td>\n",
       "      <td>6.17</td>\n",
       "      <td>2013</td>\n",
       "    </tr>\n",
       "    <tr>\n",
       "      <th>3229</th>\n",
       "      <td>TE</td>\n",
       "      <td>Fresno State</td>\n",
       "      <td>6.42</td>\n",
       "      <td>251.0</td>\n",
       "      <td>6.42</td>\n",
       "      <td>6.42</td>\n",
       "      <td>6.42</td>\n",
       "      <td>6.42</td>\n",
       "      <td>6.42</td>\n",
       "      <td>6.42</td>\n",
       "      <td>2009</td>\n",
       "    </tr>\n",
       "    <tr>\n",
       "      <th>3207</th>\n",
       "      <td>CB</td>\n",
       "      <td>Hawaii</td>\n",
       "      <td>5.75</td>\n",
       "      <td>187.0</td>\n",
       "      <td>5.75</td>\n",
       "      <td>5.75</td>\n",
       "      <td>5.75</td>\n",
       "      <td>5.75</td>\n",
       "      <td>5.75</td>\n",
       "      <td>5.75</td>\n",
       "      <td>2009</td>\n",
       "    </tr>\n",
       "  </tbody>\n",
       "</table>\n",
       "<p>5738 rows × 11 columns</p>\n",
       "</div>"
      ],
      "text/plain": [
       "       Pos             School  Height     Wt  40yd  Vertical  Bench  \\\n",
       "6651     S           Kentucky    5.92  208.0  5.92      5.92   5.92   \n",
       "6261    DT    Fort Hays State    6.42  315.0  6.42      6.42   6.42   \n",
       "6174    QB           Nebraska    6.33  218.0  6.33      6.33   6.33   \n",
       "7742  EDGE         Cincinnati    6.42  228.0  6.42      6.42   6.42   \n",
       "7016    DL         Ohio State    6.42  264.0  6.42      6.42   6.42   \n",
       "...    ...                ...     ...    ...   ...       ...    ...   \n",
       "1599    RB  Northern Illinois    5.83  237.0  5.83      5.83   5.83   \n",
       "3257    DE          Wisconsin    6.42  266.0  6.42      6.42   6.42   \n",
       "4638    WR             Baylor    6.17  208.0  6.17      6.17   6.17   \n",
       "3229    TE       Fresno State    6.42  251.0  6.42      6.42   6.42   \n",
       "3207    CB             Hawaii    5.75  187.0  5.75      5.75   5.75   \n",
       "\n",
       "      Broad Jump  3Cone  Shuttle  Year  \n",
       "6651        5.92   5.92     5.92  2019  \n",
       "6261        6.42   6.42     6.42  2018  \n",
       "6174        6.33   6.33     6.33  2018  \n",
       "7742        6.42   6.42     6.42  2022  \n",
       "7016        6.42   6.42     6.42  2020  \n",
       "...          ...    ...      ...   ...  \n",
       "1599        5.83   5.83     5.83  2004  \n",
       "3257        6.42   6.42     6.42  2009  \n",
       "4638        6.17   6.17     6.17  2013  \n",
       "3229        6.42   6.42     6.42  2009  \n",
       "3207        5.75   5.75     5.75  2009  \n",
       "\n",
       "[5738 rows x 11 columns]"
      ]
     },
     "execution_count": 31,
     "metadata": {},
     "output_type": "execute_result"
    }
   ],
   "source": [
    "fill_missing(X_train)"
   ]
  },
  {
   "cell_type": "code",
   "execution_count": 32,
   "metadata": {},
   "outputs": [
    {
     "data": {
      "text/plain": [
       "Pos           0\n",
       "School        0\n",
       "Height        0\n",
       "Wt            0\n",
       "40yd          0\n",
       "Vertical      0\n",
       "Bench         0\n",
       "Broad Jump    0\n",
       "3Cone         0\n",
       "Shuttle       0\n",
       "Year          0\n",
       "dtype: int64"
      ]
     },
     "execution_count": 32,
     "metadata": {},
     "output_type": "execute_result"
    }
   ],
   "source": [
    "X_train.isna().sum()"
   ]
  },
  {
   "cell_type": "code",
   "execution_count": 33,
   "metadata": {},
   "outputs": [
    {
     "data": {
      "text/html": [
       "<div>\n",
       "<style scoped>\n",
       "    .dataframe tbody tr th:only-of-type {\n",
       "        vertical-align: middle;\n",
       "    }\n",
       "\n",
       "    .dataframe tbody tr th {\n",
       "        vertical-align: top;\n",
       "    }\n",
       "\n",
       "    .dataframe thead th {\n",
       "        text-align: right;\n",
       "    }\n",
       "</style>\n",
       "<table border=\"1\" class=\"dataframe\">\n",
       "  <thead>\n",
       "    <tr style=\"text-align: right;\">\n",
       "      <th></th>\n",
       "      <th>Pos</th>\n",
       "      <th>School</th>\n",
       "      <th>Height</th>\n",
       "      <th>Wt</th>\n",
       "      <th>40yd</th>\n",
       "      <th>Vertical</th>\n",
       "      <th>Bench</th>\n",
       "      <th>Broad Jump</th>\n",
       "      <th>3Cone</th>\n",
       "      <th>Shuttle</th>\n",
       "      <th>Year</th>\n",
       "    </tr>\n",
       "  </thead>\n",
       "  <tbody>\n",
       "    <tr>\n",
       "      <th>6651</th>\n",
       "      <td>S</td>\n",
       "      <td>Kentucky</td>\n",
       "      <td>5.92</td>\n",
       "      <td>208.0</td>\n",
       "      <td>5.92</td>\n",
       "      <td>5.92</td>\n",
       "      <td>5.92</td>\n",
       "      <td>5.92</td>\n",
       "      <td>5.92</td>\n",
       "      <td>5.92</td>\n",
       "      <td>2019</td>\n",
       "    </tr>\n",
       "    <tr>\n",
       "      <th>6261</th>\n",
       "      <td>DT</td>\n",
       "      <td>Fort Hays State</td>\n",
       "      <td>6.42</td>\n",
       "      <td>315.0</td>\n",
       "      <td>6.42</td>\n",
       "      <td>6.42</td>\n",
       "      <td>6.42</td>\n",
       "      <td>6.42</td>\n",
       "      <td>6.42</td>\n",
       "      <td>6.42</td>\n",
       "      <td>2018</td>\n",
       "    </tr>\n",
       "    <tr>\n",
       "      <th>6174</th>\n",
       "      <td>QB</td>\n",
       "      <td>Nebraska</td>\n",
       "      <td>6.33</td>\n",
       "      <td>218.0</td>\n",
       "      <td>6.33</td>\n",
       "      <td>6.33</td>\n",
       "      <td>6.33</td>\n",
       "      <td>6.33</td>\n",
       "      <td>6.33</td>\n",
       "      <td>6.33</td>\n",
       "      <td>2018</td>\n",
       "    </tr>\n",
       "    <tr>\n",
       "      <th>7742</th>\n",
       "      <td>EDGE</td>\n",
       "      <td>Cincinnati</td>\n",
       "      <td>6.42</td>\n",
       "      <td>228.0</td>\n",
       "      <td>6.42</td>\n",
       "      <td>6.42</td>\n",
       "      <td>6.42</td>\n",
       "      <td>6.42</td>\n",
       "      <td>6.42</td>\n",
       "      <td>6.42</td>\n",
       "      <td>2022</td>\n",
       "    </tr>\n",
       "    <tr>\n",
       "      <th>7016</th>\n",
       "      <td>DL</td>\n",
       "      <td>Ohio State</td>\n",
       "      <td>6.42</td>\n",
       "      <td>264.0</td>\n",
       "      <td>6.42</td>\n",
       "      <td>6.42</td>\n",
       "      <td>6.42</td>\n",
       "      <td>6.42</td>\n",
       "      <td>6.42</td>\n",
       "      <td>6.42</td>\n",
       "      <td>2020</td>\n",
       "    </tr>\n",
       "  </tbody>\n",
       "</table>\n",
       "</div>"
      ],
      "text/plain": [
       "       Pos           School  Height     Wt  40yd  Vertical  Bench  Broad Jump  \\\n",
       "6651     S         Kentucky    5.92  208.0  5.92      5.92   5.92        5.92   \n",
       "6261    DT  Fort Hays State    6.42  315.0  6.42      6.42   6.42        6.42   \n",
       "6174    QB         Nebraska    6.33  218.0  6.33      6.33   6.33        6.33   \n",
       "7742  EDGE       Cincinnati    6.42  228.0  6.42      6.42   6.42        6.42   \n",
       "7016    DL       Ohio State    6.42  264.0  6.42      6.42   6.42        6.42   \n",
       "\n",
       "      3Cone  Shuttle  Year  \n",
       "6651   5.92     5.92  2019  \n",
       "6261   6.42     6.42  2018  \n",
       "6174   6.33     6.33  2018  \n",
       "7742   6.42     6.42  2022  \n",
       "7016   6.42     6.42  2020  "
      ]
     },
     "execution_count": 33,
     "metadata": {},
     "output_type": "execute_result"
    }
   ],
   "source": [
    "X_train.head()"
   ]
  },
  {
   "cell_type": "markdown",
   "metadata": {},
   "source": [
    "## OHE\n",
    "\n",
    "Now that we have all the missing values filled, we'll need to convert all the categorical features into numbers. In this case, we have three (3) categorical features that need to be converted: \n",
    "\n",
    "- `Pos`\n",
    "- `School`\n",
    "- `Year`\n",
    "    \n",
    "While `Year` is actually a numerical value, it would be more appropriate to consider year as a categorical variable in this instance. "
   ]
  },
  {
   "cell_type": "code",
   "execution_count": 34,
   "metadata": {},
   "outputs": [],
   "source": [
    "def encode_feature_train(X_train, feature_name):\n",
    "    \"\"\"\n",
    "    Helper function for transforming training data.  It takes in the full X dataframe and\n",
    "    feature name, makes a one-hot encoder, and returns the encoder as well as the dataframe\n",
    "    with that feature transformed into multiple columns of 1s and 0s\n",
    "    \"\"\"\n",
    "    # make a get dummies and concat to X_train\n",
    "    ohe = OneHotEncoder(categories=\"auto\", handle_unknown=\"ignore\")\n",
    "    single_feature_df = X_train[[feature_name]]\n",
    "    ohe.fit(single_feature_df)\n",
    "    \n",
    "    # call helper function that actually encodes the feature and concats it\n",
    "    X_train = encode_and_concat_feature(X_train, feature_name, ohe)\n",
    "    \n",
    "    return ohe, X_train"
   ]
  },
  {
   "cell_type": "code",
   "execution_count": 35,
   "metadata": {},
   "outputs": [],
   "source": [
    "def encode_and_concat_feature(X, feature_name, ohe):\n",
    "    \"\"\"\n",
    "    Helper function for transforming a feature into multiple columns of 1s and 0s. Used\n",
    "    in both training and testing steps.  Takes in the full X dataframe, feature name, \n",
    "    and encoder, and returns the dataframe with that feature transformed into multiple\n",
    "    columns of 1s and 0s\n",
    "    \"\"\"\n",
    "    # create new one-hot encoded df based on the feature\n",
    "    single_feature_df = X[[feature_name]]\n",
    "    feature_array = ohe.transform(single_feature_df).toarray()\n",
    "    ohe_df = pd.DataFrame(feature_array, columns=ohe.categories_[0], index=X.index)\n",
    "    \n",
    "    # drop the old feature from X and concat the new one-hot encoded df\n",
    "    X = X.drop(feature_name, axis=1)\n",
    "    X = pd.concat([X, ohe_df], axis=1)\n",
    "    \n",
    "    return X"
   ]
  },
  {
   "cell_type": "code",
   "execution_count": 36,
   "metadata": {},
   "outputs": [],
   "source": [
    "# establish categorical feature names\n",
    "categorical_feature_names = ['Pos', 'School', 'Year']\n",
    "\n",
    "# instantiates a ohe on the feature names\n",
    "encoders = {}\n",
    "\n",
    "for categorical_feature in categorical_feature_names:\n",
    "    ohe,X_train = encode_feature_train(X_train, categorical_feature)\n",
    "    encoders[categorical_feature] = ohe"
   ]
  },
  {
   "cell_type": "code",
   "execution_count": 37,
   "metadata": {},
   "outputs": [
    {
     "data": {
      "text/plain": [
       "{'Pos': OneHotEncoder(handle_unknown='ignore'),\n",
       " 'School': OneHotEncoder(handle_unknown='ignore'),\n",
       " 'Year': OneHotEncoder(handle_unknown='ignore')}"
      ]
     },
     "execution_count": 37,
     "metadata": {},
     "output_type": "execute_result"
    }
   ],
   "source": [
    "encoders"
   ]
  },
  {
   "cell_type": "code",
   "execution_count": 38,
   "metadata": {},
   "outputs": [
    {
     "data": {
      "text/html": [
       "<div>\n",
       "<style scoped>\n",
       "    .dataframe tbody tr th:only-of-type {\n",
       "        vertical-align: middle;\n",
       "    }\n",
       "\n",
       "    .dataframe tbody tr th {\n",
       "        vertical-align: top;\n",
       "    }\n",
       "\n",
       "    .dataframe thead th {\n",
       "        text-align: right;\n",
       "    }\n",
       "</style>\n",
       "<table border=\"1\" class=\"dataframe\">\n",
       "  <thead>\n",
       "    <tr style=\"text-align: right;\">\n",
       "      <th></th>\n",
       "      <th>Height</th>\n",
       "      <th>Wt</th>\n",
       "      <th>40yd</th>\n",
       "      <th>Vertical</th>\n",
       "      <th>Bench</th>\n",
       "      <th>Broad Jump</th>\n",
       "      <th>3Cone</th>\n",
       "      <th>Shuttle</th>\n",
       "      <th>C</th>\n",
       "      <th>CB</th>\n",
       "      <th>...</th>\n",
       "      <th>2013</th>\n",
       "      <th>2014</th>\n",
       "      <th>2015</th>\n",
       "      <th>2016</th>\n",
       "      <th>2017</th>\n",
       "      <th>2018</th>\n",
       "      <th>2019</th>\n",
       "      <th>2020</th>\n",
       "      <th>2021</th>\n",
       "      <th>2022</th>\n",
       "    </tr>\n",
       "  </thead>\n",
       "  <tbody>\n",
       "    <tr>\n",
       "      <th>6651</th>\n",
       "      <td>5.92</td>\n",
       "      <td>208.0</td>\n",
       "      <td>5.92</td>\n",
       "      <td>5.92</td>\n",
       "      <td>5.92</td>\n",
       "      <td>5.92</td>\n",
       "      <td>5.92</td>\n",
       "      <td>5.92</td>\n",
       "      <td>0.0</td>\n",
       "      <td>0.0</td>\n",
       "      <td>...</td>\n",
       "      <td>0.0</td>\n",
       "      <td>0.0</td>\n",
       "      <td>0.0</td>\n",
       "      <td>0.0</td>\n",
       "      <td>0.0</td>\n",
       "      <td>0.0</td>\n",
       "      <td>1.0</td>\n",
       "      <td>0.0</td>\n",
       "      <td>0.0</td>\n",
       "      <td>0.0</td>\n",
       "    </tr>\n",
       "    <tr>\n",
       "      <th>6261</th>\n",
       "      <td>6.42</td>\n",
       "      <td>315.0</td>\n",
       "      <td>6.42</td>\n",
       "      <td>6.42</td>\n",
       "      <td>6.42</td>\n",
       "      <td>6.42</td>\n",
       "      <td>6.42</td>\n",
       "      <td>6.42</td>\n",
       "      <td>0.0</td>\n",
       "      <td>0.0</td>\n",
       "      <td>...</td>\n",
       "      <td>0.0</td>\n",
       "      <td>0.0</td>\n",
       "      <td>0.0</td>\n",
       "      <td>0.0</td>\n",
       "      <td>0.0</td>\n",
       "      <td>1.0</td>\n",
       "      <td>0.0</td>\n",
       "      <td>0.0</td>\n",
       "      <td>0.0</td>\n",
       "      <td>0.0</td>\n",
       "    </tr>\n",
       "    <tr>\n",
       "      <th>6174</th>\n",
       "      <td>6.33</td>\n",
       "      <td>218.0</td>\n",
       "      <td>6.33</td>\n",
       "      <td>6.33</td>\n",
       "      <td>6.33</td>\n",
       "      <td>6.33</td>\n",
       "      <td>6.33</td>\n",
       "      <td>6.33</td>\n",
       "      <td>0.0</td>\n",
       "      <td>0.0</td>\n",
       "      <td>...</td>\n",
       "      <td>0.0</td>\n",
       "      <td>0.0</td>\n",
       "      <td>0.0</td>\n",
       "      <td>0.0</td>\n",
       "      <td>0.0</td>\n",
       "      <td>1.0</td>\n",
       "      <td>0.0</td>\n",
       "      <td>0.0</td>\n",
       "      <td>0.0</td>\n",
       "      <td>0.0</td>\n",
       "    </tr>\n",
       "    <tr>\n",
       "      <th>7742</th>\n",
       "      <td>6.42</td>\n",
       "      <td>228.0</td>\n",
       "      <td>6.42</td>\n",
       "      <td>6.42</td>\n",
       "      <td>6.42</td>\n",
       "      <td>6.42</td>\n",
       "      <td>6.42</td>\n",
       "      <td>6.42</td>\n",
       "      <td>0.0</td>\n",
       "      <td>0.0</td>\n",
       "      <td>...</td>\n",
       "      <td>0.0</td>\n",
       "      <td>0.0</td>\n",
       "      <td>0.0</td>\n",
       "      <td>0.0</td>\n",
       "      <td>0.0</td>\n",
       "      <td>0.0</td>\n",
       "      <td>0.0</td>\n",
       "      <td>0.0</td>\n",
       "      <td>0.0</td>\n",
       "      <td>1.0</td>\n",
       "    </tr>\n",
       "    <tr>\n",
       "      <th>7016</th>\n",
       "      <td>6.42</td>\n",
       "      <td>264.0</td>\n",
       "      <td>6.42</td>\n",
       "      <td>6.42</td>\n",
       "      <td>6.42</td>\n",
       "      <td>6.42</td>\n",
       "      <td>6.42</td>\n",
       "      <td>6.42</td>\n",
       "      <td>0.0</td>\n",
       "      <td>0.0</td>\n",
       "      <td>...</td>\n",
       "      <td>0.0</td>\n",
       "      <td>0.0</td>\n",
       "      <td>0.0</td>\n",
       "      <td>0.0</td>\n",
       "      <td>0.0</td>\n",
       "      <td>0.0</td>\n",
       "      <td>0.0</td>\n",
       "      <td>1.0</td>\n",
       "      <td>0.0</td>\n",
       "      <td>0.0</td>\n",
       "    </tr>\n",
       "    <tr>\n",
       "      <th>...</th>\n",
       "      <td>...</td>\n",
       "      <td>...</td>\n",
       "      <td>...</td>\n",
       "      <td>...</td>\n",
       "      <td>...</td>\n",
       "      <td>...</td>\n",
       "      <td>...</td>\n",
       "      <td>...</td>\n",
       "      <td>...</td>\n",
       "      <td>...</td>\n",
       "      <td>...</td>\n",
       "      <td>...</td>\n",
       "      <td>...</td>\n",
       "      <td>...</td>\n",
       "      <td>...</td>\n",
       "      <td>...</td>\n",
       "      <td>...</td>\n",
       "      <td>...</td>\n",
       "      <td>...</td>\n",
       "      <td>...</td>\n",
       "      <td>...</td>\n",
       "    </tr>\n",
       "    <tr>\n",
       "      <th>1599</th>\n",
       "      <td>5.83</td>\n",
       "      <td>237.0</td>\n",
       "      <td>5.83</td>\n",
       "      <td>5.83</td>\n",
       "      <td>5.83</td>\n",
       "      <td>5.83</td>\n",
       "      <td>5.83</td>\n",
       "      <td>5.83</td>\n",
       "      <td>0.0</td>\n",
       "      <td>0.0</td>\n",
       "      <td>...</td>\n",
       "      <td>0.0</td>\n",
       "      <td>0.0</td>\n",
       "      <td>0.0</td>\n",
       "      <td>0.0</td>\n",
       "      <td>0.0</td>\n",
       "      <td>0.0</td>\n",
       "      <td>0.0</td>\n",
       "      <td>0.0</td>\n",
       "      <td>0.0</td>\n",
       "      <td>0.0</td>\n",
       "    </tr>\n",
       "    <tr>\n",
       "      <th>3257</th>\n",
       "      <td>6.42</td>\n",
       "      <td>266.0</td>\n",
       "      <td>6.42</td>\n",
       "      <td>6.42</td>\n",
       "      <td>6.42</td>\n",
       "      <td>6.42</td>\n",
       "      <td>6.42</td>\n",
       "      <td>6.42</td>\n",
       "      <td>0.0</td>\n",
       "      <td>0.0</td>\n",
       "      <td>...</td>\n",
       "      <td>0.0</td>\n",
       "      <td>0.0</td>\n",
       "      <td>0.0</td>\n",
       "      <td>0.0</td>\n",
       "      <td>0.0</td>\n",
       "      <td>0.0</td>\n",
       "      <td>0.0</td>\n",
       "      <td>0.0</td>\n",
       "      <td>0.0</td>\n",
       "      <td>0.0</td>\n",
       "    </tr>\n",
       "    <tr>\n",
       "      <th>4638</th>\n",
       "      <td>6.17</td>\n",
       "      <td>208.0</td>\n",
       "      <td>6.17</td>\n",
       "      <td>6.17</td>\n",
       "      <td>6.17</td>\n",
       "      <td>6.17</td>\n",
       "      <td>6.17</td>\n",
       "      <td>6.17</td>\n",
       "      <td>0.0</td>\n",
       "      <td>0.0</td>\n",
       "      <td>...</td>\n",
       "      <td>1.0</td>\n",
       "      <td>0.0</td>\n",
       "      <td>0.0</td>\n",
       "      <td>0.0</td>\n",
       "      <td>0.0</td>\n",
       "      <td>0.0</td>\n",
       "      <td>0.0</td>\n",
       "      <td>0.0</td>\n",
       "      <td>0.0</td>\n",
       "      <td>0.0</td>\n",
       "    </tr>\n",
       "    <tr>\n",
       "      <th>3229</th>\n",
       "      <td>6.42</td>\n",
       "      <td>251.0</td>\n",
       "      <td>6.42</td>\n",
       "      <td>6.42</td>\n",
       "      <td>6.42</td>\n",
       "      <td>6.42</td>\n",
       "      <td>6.42</td>\n",
       "      <td>6.42</td>\n",
       "      <td>0.0</td>\n",
       "      <td>0.0</td>\n",
       "      <td>...</td>\n",
       "      <td>0.0</td>\n",
       "      <td>0.0</td>\n",
       "      <td>0.0</td>\n",
       "      <td>0.0</td>\n",
       "      <td>0.0</td>\n",
       "      <td>0.0</td>\n",
       "      <td>0.0</td>\n",
       "      <td>0.0</td>\n",
       "      <td>0.0</td>\n",
       "      <td>0.0</td>\n",
       "    </tr>\n",
       "    <tr>\n",
       "      <th>3207</th>\n",
       "      <td>5.75</td>\n",
       "      <td>187.0</td>\n",
       "      <td>5.75</td>\n",
       "      <td>5.75</td>\n",
       "      <td>5.75</td>\n",
       "      <td>5.75</td>\n",
       "      <td>5.75</td>\n",
       "      <td>5.75</td>\n",
       "      <td>0.0</td>\n",
       "      <td>1.0</td>\n",
       "      <td>...</td>\n",
       "      <td>0.0</td>\n",
       "      <td>0.0</td>\n",
       "      <td>0.0</td>\n",
       "      <td>0.0</td>\n",
       "      <td>0.0</td>\n",
       "      <td>0.0</td>\n",
       "      <td>0.0</td>\n",
       "      <td>0.0</td>\n",
       "      <td>0.0</td>\n",
       "      <td>0.0</td>\n",
       "    </tr>\n",
       "  </tbody>\n",
       "</table>\n",
       "<p>5738 rows × 373 columns</p>\n",
       "</div>"
      ],
      "text/plain": [
       "      Height     Wt  40yd  Vertical  Bench  Broad Jump  3Cone  Shuttle    C  \\\n",
       "6651    5.92  208.0  5.92      5.92   5.92        5.92   5.92     5.92  0.0   \n",
       "6261    6.42  315.0  6.42      6.42   6.42        6.42   6.42     6.42  0.0   \n",
       "6174    6.33  218.0  6.33      6.33   6.33        6.33   6.33     6.33  0.0   \n",
       "7742    6.42  228.0  6.42      6.42   6.42        6.42   6.42     6.42  0.0   \n",
       "7016    6.42  264.0  6.42      6.42   6.42        6.42   6.42     6.42  0.0   \n",
       "...      ...    ...   ...       ...    ...         ...    ...      ...  ...   \n",
       "1599    5.83  237.0  5.83      5.83   5.83        5.83   5.83     5.83  0.0   \n",
       "3257    6.42  266.0  6.42      6.42   6.42        6.42   6.42     6.42  0.0   \n",
       "4638    6.17  208.0  6.17      6.17   6.17        6.17   6.17     6.17  0.0   \n",
       "3229    6.42  251.0  6.42      6.42   6.42        6.42   6.42     6.42  0.0   \n",
       "3207    5.75  187.0  5.75      5.75   5.75        5.75   5.75     5.75  0.0   \n",
       "\n",
       "       CB  ...  2013  2014  2015  2016  2017  2018  2019  2020  2021  2022  \n",
       "6651  0.0  ...   0.0   0.0   0.0   0.0   0.0   0.0   1.0   0.0   0.0   0.0  \n",
       "6261  0.0  ...   0.0   0.0   0.0   0.0   0.0   1.0   0.0   0.0   0.0   0.0  \n",
       "6174  0.0  ...   0.0   0.0   0.0   0.0   0.0   1.0   0.0   0.0   0.0   0.0  \n",
       "7742  0.0  ...   0.0   0.0   0.0   0.0   0.0   0.0   0.0   0.0   0.0   1.0  \n",
       "7016  0.0  ...   0.0   0.0   0.0   0.0   0.0   0.0   0.0   1.0   0.0   0.0  \n",
       "...   ...  ...   ...   ...   ...   ...   ...   ...   ...   ...   ...   ...  \n",
       "1599  0.0  ...   0.0   0.0   0.0   0.0   0.0   0.0   0.0   0.0   0.0   0.0  \n",
       "3257  0.0  ...   0.0   0.0   0.0   0.0   0.0   0.0   0.0   0.0   0.0   0.0  \n",
       "4638  0.0  ...   1.0   0.0   0.0   0.0   0.0   0.0   0.0   0.0   0.0   0.0  \n",
       "3229  0.0  ...   0.0   0.0   0.0   0.0   0.0   0.0   0.0   0.0   0.0   0.0  \n",
       "3207  1.0  ...   0.0   0.0   0.0   0.0   0.0   0.0   0.0   0.0   0.0   0.0  \n",
       "\n",
       "[5738 rows x 373 columns]"
      ]
     },
     "execution_count": 38,
     "metadata": {},
     "output_type": "execute_result"
    }
   ],
   "source": [
    "X_train"
   ]
  },
  {
   "cell_type": "markdown",
   "metadata": {},
   "source": [
    "## 1st Model - Baseline"
   ]
  },
  {
   "cell_type": "code",
   "execution_count": 39,
   "metadata": {},
   "outputs": [
    {
     "name": "stderr",
     "output_type": "stream",
     "text": [
      "/Users/eric/opt/anaconda3/envs/learn-env/lib/python3.8/site-packages/sklearn/linear_model/_logistic.py:762: ConvergenceWarning: lbfgs failed to converge (status=1):\n",
      "STOP: TOTAL NO. of ITERATIONS REACHED LIMIT.\n",
      "\n",
      "Increase the number of iterations (max_iter) or scale the data as shown in:\n",
      "    https://scikit-learn.org/stable/modules/preprocessing.html\n",
      "Please also refer to the documentation for alternative solver options:\n",
      "    https://scikit-learn.org/stable/modules/linear_model.html#logistic-regression\n",
      "  n_iter_i = _check_optimize_result(\n",
      "/Users/eric/opt/anaconda3/envs/learn-env/lib/python3.8/site-packages/sklearn/linear_model/_logistic.py:762: ConvergenceWarning: lbfgs failed to converge (status=1):\n",
      "STOP: TOTAL NO. of ITERATIONS REACHED LIMIT.\n",
      "\n",
      "Increase the number of iterations (max_iter) or scale the data as shown in:\n",
      "    https://scikit-learn.org/stable/modules/preprocessing.html\n",
      "Please also refer to the documentation for alternative solver options:\n",
      "    https://scikit-learn.org/stable/modules/linear_model.html#logistic-regression\n",
      "  n_iter_i = _check_optimize_result(\n",
      "/Users/eric/opt/anaconda3/envs/learn-env/lib/python3.8/site-packages/sklearn/linear_model/_logistic.py:762: ConvergenceWarning: lbfgs failed to converge (status=1):\n",
      "STOP: TOTAL NO. of ITERATIONS REACHED LIMIT.\n",
      "\n",
      "Increase the number of iterations (max_iter) or scale the data as shown in:\n",
      "    https://scikit-learn.org/stable/modules/preprocessing.html\n",
      "Please also refer to the documentation for alternative solver options:\n",
      "    https://scikit-learn.org/stable/modules/linear_model.html#logistic-regression\n",
      "  n_iter_i = _check_optimize_result(\n",
      "/Users/eric/opt/anaconda3/envs/learn-env/lib/python3.8/site-packages/sklearn/linear_model/_logistic.py:762: ConvergenceWarning: lbfgs failed to converge (status=1):\n",
      "STOP: TOTAL NO. of ITERATIONS REACHED LIMIT.\n",
      "\n",
      "Increase the number of iterations (max_iter) or scale the data as shown in:\n",
      "    https://scikit-learn.org/stable/modules/preprocessing.html\n",
      "Please also refer to the documentation for alternative solver options:\n",
      "    https://scikit-learn.org/stable/modules/linear_model.html#logistic-regression\n",
      "  n_iter_i = _check_optimize_result(\n",
      "/Users/eric/opt/anaconda3/envs/learn-env/lib/python3.8/site-packages/sklearn/linear_model/_logistic.py:762: ConvergenceWarning: lbfgs failed to converge (status=1):\n",
      "STOP: TOTAL NO. of ITERATIONS REACHED LIMIT.\n",
      "\n",
      "Increase the number of iterations (max_iter) or scale the data as shown in:\n",
      "    https://scikit-learn.org/stable/modules/preprocessing.html\n",
      "Please also refer to the documentation for alternative solver options:\n",
      "    https://scikit-learn.org/stable/modules/linear_model.html#logistic-regression\n",
      "  n_iter_i = _check_optimize_result(\n"
     ]
    },
    {
     "data": {
      "text/plain": [
       "0.630863515397326"
      ]
     },
     "execution_count": 39,
     "metadata": {},
     "output_type": "execute_result"
    }
   ],
   "source": [
    "# Instantiate a LogisticRegression\n",
    "baseline_model = LogisticRegression(random_state = 42)\n",
    "\n",
    "# Use cross_val_score with scoring=\"neg_log_loss\" to evaluate the model\n",
    "# on X_train and y_train\n",
    "baseline_neg_log_loss_cv = cross_val_score(baseline_model, X_train, y_train, scoring = \"neg_log_loss\")\n",
    "\n",
    "baseline_log_loss = -(baseline_neg_log_loss_cv.mean())\n",
    "baseline_log_loss"
   ]
  },
  {
   "cell_type": "code",
   "execution_count": 40,
   "metadata": {},
   "outputs": [
    {
     "data": {
      "text/plain": [
       "22.217257524157432"
      ]
     },
     "execution_count": 40,
     "metadata": {},
     "output_type": "execute_result"
    }
   ],
   "source": [
    "# calculate log loss \n",
    "log_loss(y_train, np.zeros(len(y_train)))"
   ]
  },
  {
   "cell_type": "code",
   "execution_count": 41,
   "metadata": {},
   "outputs": [
    {
     "name": "stderr",
     "output_type": "stream",
     "text": [
      "/Users/eric/opt/anaconda3/envs/learn-env/lib/python3.8/site-packages/sklearn/linear_model/_logistic.py:762: ConvergenceWarning: lbfgs failed to converge (status=1):\n",
      "STOP: TOTAL NO. of ITERATIONS REACHED LIMIT.\n",
      "\n",
      "Increase the number of iterations (max_iter) or scale the data as shown in:\n",
      "    https://scikit-learn.org/stable/modules/preprocessing.html\n",
      "Please also refer to the documentation for alternative solver options:\n",
      "    https://scikit-learn.org/stable/modules/linear_model.html#logistic-regression\n",
      "  n_iter_i = _check_optimize_result(\n"
     ]
    },
    {
     "data": {
      "text/plain": [
       "LogisticRegression(random_state=42)"
      ]
     },
     "execution_count": 41,
     "metadata": {},
     "output_type": "execute_result"
    }
   ],
   "source": [
    "# fit the baseline model\n",
    "baseline_model.fit(X_train, y_train)"
   ]
  },
  {
   "cell_type": "code",
   "execution_count": 42,
   "metadata": {},
   "outputs": [
    {
     "data": {
      "text/plain": [
       "<sklearn.metrics._plot.confusion_matrix.ConfusionMatrixDisplay at 0x7f92c095e5e0>"
      ]
     },
     "execution_count": 42,
     "metadata": {},
     "output_type": "execute_result"
    },
    {
     "data": {
      "image/png": "[encoded data removed]",
      "text/plain": [
       "<Figure size 1080x432 with 2 Axes>"
      ]
     },
     "metadata": {},
     "output_type": "display_data"
    }
   ],
   "source": [
    "fix, axes = plt.subplots(figsize=(15, 6))\n",
    "\n",
    "axes.set_title(\"Baseline Model\", weight = 'bold')\n",
    "\n",
    "plot_confusion_matrix(baseline_model, X_train, y_train,\n",
    "                      ax=axes, cmap=\"plasma\")"
   ]
  },
  {
   "cell_type": "markdown",
   "metadata": {},
   "source": [
    "## Cross Validation Checks\n",
    "\n",
    "### Using `StratifiedKFold`"
   ]
  },
  {
   "cell_type": "code",
   "execution_count": 43,
   "metadata": {},
   "outputs": [
    {
     "name": "stderr",
     "output_type": "stream",
     "text": [
      "/Users/eric/opt/anaconda3/envs/learn-env/lib/python3.8/site-packages/sklearn/linear_model/_logistic.py:762: ConvergenceWarning: lbfgs failed to converge (status=1):\n",
      "STOP: TOTAL NO. of ITERATIONS REACHED LIMIT.\n",
      "\n",
      "Increase the number of iterations (max_iter) or scale the data as shown in:\n",
      "    https://scikit-learn.org/stable/modules/preprocessing.html\n",
      "Please also refer to the documentation for alternative solver options:\n",
      "    https://scikit-learn.org/stable/modules/linear_model.html#logistic-regression\n",
      "  n_iter_i = _check_optimize_result(\n",
      "/Users/eric/opt/anaconda3/envs/learn-env/lib/python3.8/site-packages/sklearn/linear_model/_logistic.py:762: ConvergenceWarning: lbfgs failed to converge (status=1):\n",
      "STOP: TOTAL NO. of ITERATIONS REACHED LIMIT.\n",
      "\n",
      "Increase the number of iterations (max_iter) or scale the data as shown in:\n",
      "    https://scikit-learn.org/stable/modules/preprocessing.html\n",
      "Please also refer to the documentation for alternative solver options:\n",
      "    https://scikit-learn.org/stable/modules/linear_model.html#logistic-regression\n",
      "  n_iter_i = _check_optimize_result(\n",
      "/Users/eric/opt/anaconda3/envs/learn-env/lib/python3.8/site-packages/sklearn/linear_model/_logistic.py:762: ConvergenceWarning: lbfgs failed to converge (status=1):\n",
      "STOP: TOTAL NO. of ITERATIONS REACHED LIMIT.\n",
      "\n",
      "Increase the number of iterations (max_iter) or scale the data as shown in:\n",
      "    https://scikit-learn.org/stable/modules/preprocessing.html\n",
      "Please also refer to the documentation for alternative solver options:\n",
      "    https://scikit-learn.org/stable/modules/linear_model.html#logistic-regression\n",
      "  n_iter_i = _check_optimize_result(\n",
      "/Users/eric/opt/anaconda3/envs/learn-env/lib/python3.8/site-packages/sklearn/linear_model/_logistic.py:762: ConvergenceWarning: lbfgs failed to converge (status=1):\n",
      "STOP: TOTAL NO. of ITERATIONS REACHED LIMIT.\n",
      "\n",
      "Increase the number of iterations (max_iter) or scale the data as shown in:\n",
      "    https://scikit-learn.org/stable/modules/preprocessing.html\n",
      "Please also refer to the documentation for alternative solver options:\n",
      "    https://scikit-learn.org/stable/modules/linear_model.html#logistic-regression\n",
      "  n_iter_i = _check_optimize_result(\n",
      "/Users/eric/opt/anaconda3/envs/learn-env/lib/python3.8/site-packages/sklearn/linear_model/_logistic.py:762: ConvergenceWarning: lbfgs failed to converge (status=1):\n",
      "STOP: TOTAL NO. of ITERATIONS REACHED LIMIT.\n",
      "\n",
      "Increase the number of iterations (max_iter) or scale the data as shown in:\n",
      "    https://scikit-learn.org/stable/modules/preprocessing.html\n",
      "Please also refer to the documentation for alternative solver options:\n",
      "    https://scikit-learn.org/stable/modules/linear_model.html#logistic-regression\n",
      "  n_iter_i = _check_optimize_result(\n"
     ]
    },
    {
     "data": {
      "text/plain": [
       "0.630863515397326"
      ]
     },
     "execution_count": 43,
     "metadata": {},
     "output_type": "execute_result"
    }
   ],
   "source": [
    "# Create a Negative log loss using make_scorer from import \n",
    "neg_log_loss = make_scorer(log_loss, greater_is_better=False, needs_proba=True)\n",
    "\n",
    "# Instantiate the model (same as previous example)\n",
    "baseline_model = LogisticRegression(random_state=42)\n",
    "\n",
    "# Create a list to hold the score from each fold\n",
    "kfold_scores = np.ndarray(5)\n",
    "\n",
    "# Instantiate a splitter object and loop over its result\n",
    "kfold = StratifiedKFold()\n",
    "for fold, (train_index, val_index) in enumerate(kfold.split(X_train, y_train)):\n",
    "    # Extract train and validation subsets using the provided indices\n",
    "    X_t, X_val = X_train.iloc[train_index], X_train.iloc[val_index]\n",
    "    y_t, y_val = y_train.iloc[train_index], y_train.iloc[val_index]\n",
    "    \n",
    "    # Clone the provided model and fit it on the train subset\n",
    "    temp_model = clone(baseline_model)\n",
    "    temp_model.fit(X_t, y_t)\n",
    "    \n",
    "    # Evaluate the provided model on the validation subset\n",
    "    neg_log_loss_score = neg_log_loss(temp_model, X_val, y_val)\n",
    "    kfold_scores[fold] = neg_log_loss_score\n",
    "    \n",
    "-(kfold_scores.mean())"
   ]
  },
  {
   "cell_type": "code",
   "execution_count": 44,
   "metadata": {},
   "outputs": [
    {
     "name": "stdout",
     "output_type": "stream",
     "text": [
      "[-0.63005753 -0.64001952 -0.63133726 -0.62507209 -0.62783118]\n",
      "[-0.63005753 -0.64001952 -0.63133726 -0.62507209 -0.62783118]\n"
     ]
    }
   ],
   "source": [
    "print(baseline_neg_log_loss_cv)\n",
    "print(kfold_scores)"
   ]
  },
  {
   "cell_type": "markdown",
   "metadata": {},
   "source": [
    "## Custom Cross Validation Function with `StratifiedKFold`"
   ]
  },
  {
   "cell_type": "markdown",
   "metadata": {},
   "source": [
    "- note: below if you remove SMOTE, log loss decreases to 0.715, might not need to balance\n",
    "- standard scaler increases log loss by about 0.08"
   ]
  },
  {
   "cell_type": "code",
   "execution_count": 45,
   "metadata": {},
   "outputs": [
    {
     "data": {
      "text/plain": [
       "0.7146613579551598"
      ]
     },
     "execution_count": 45,
     "metadata": {},
     "output_type": "execute_result"
    }
   ],
   "source": [
    "# Import relevant sklearn and imblearn classes\n",
    "from sklearn.preprocessing import StandardScaler\n",
    "from imblearn.over_sampling import SMOTE\n",
    "\n",
    "def custom_cross_val_score(estimator, X, y):\n",
    "    # Create a list to hold the scores from each fold\n",
    "    kfold_train_scores = np.ndarray(5)\n",
    "    kfold_val_scores = np.ndarray(5)\n",
    "\n",
    "    # Instantiate a splitter object and loop over its result\n",
    "    kfold = StratifiedKFold(n_splits=5)\n",
    "    for fold, (train_index, val_index) in enumerate(kfold.split(X, y)):\n",
    "        # Extract train and validation subsets using the provided indices\n",
    "        X_t, X_val = X.iloc[train_index], X.iloc[val_index]\n",
    "        y_t, y_val = y.iloc[train_index], y.iloc[val_index]\n",
    "        \n",
    "        # Instantiate StandardScaler\n",
    "        scaler = StandardScaler()\n",
    "        # Fit and transform X_t\n",
    "        X_t_scaled = scaler.fit_transform(X_t)\n",
    "        # Transform X_val\n",
    "        X_val_scaled = scaler.transform(X_val)\n",
    "        \n",
    "#         # Instantiate SMOTE with random_state=42 and sampling_strategy=0.6\n",
    "#         sm = SMOTE(random_state = 42, sampling_strategy = 0.60)\n",
    "#         # Fit and transform X_t_scaled and y_t using sm\n",
    "#         X_t_oversampled, y_t_oversampled = sm.fit_resample(X_t_scaled, y_t)\n",
    "        \n",
    "        # Clone the provided model and fit it on the train subset\n",
    "        temp_model = clone(estimator)\n",
    "        temp_model.fit(X_t_scaled, y_t)\n",
    "        \n",
    "        # Evaluate the provided model on the train and validation subsets\n",
    "        neg_log_loss_score_train = neg_log_loss(temp_model, X_t_scaled, y_t)\n",
    "        neg_log_loss_score_val = neg_log_loss(temp_model, X_val_scaled, y_val)\n",
    "        kfold_train_scores[fold] = neg_log_loss_score_train\n",
    "        kfold_val_scores[fold] = neg_log_loss_score_val\n",
    "        \n",
    "    return kfold_train_scores, kfold_val_scores\n",
    "        \n",
    "model_with_preprocessing = LogisticRegression(random_state=42)\n",
    "preprocessed_train_scores, preprocessed_neg_log_loss_cv = custom_cross_val_score(model_with_preprocessing, X_train, y_train)\n",
    "- (preprocessed_neg_log_loss_cv.mean())"
   ]
  },
  {
   "cell_type": "code",
   "execution_count": 46,
   "metadata": {},
   "outputs": [
    {
     "name": "stdout",
     "output_type": "stream",
     "text": [
      "0.630863515397326\n",
      "0.7146613579551598\n"
     ]
    }
   ],
   "source": [
    "# compare to the baseline log loss\n",
    "print(-baseline_neg_log_loss_cv.mean())\n",
    "print(-preprocessed_neg_log_loss_cv.mean())"
   ]
  },
  {
   "cell_type": "code",
   "execution_count": 47,
   "metadata": {},
   "outputs": [
    {
     "name": "stderr",
     "output_type": "stream",
     "text": [
      "/Users/eric/opt/anaconda3/envs/learn-env/lib/python3.8/site-packages/sklearn/linear_model/_logistic.py:762: ConvergenceWarning: lbfgs failed to converge (status=1):\n",
      "STOP: TOTAL NO. of ITERATIONS REACHED LIMIT.\n",
      "\n",
      "Increase the number of iterations (max_iter) or scale the data as shown in:\n",
      "    https://scikit-learn.org/stable/modules/preprocessing.html\n",
      "Please also refer to the documentation for alternative solver options:\n",
      "    https://scikit-learn.org/stable/modules/linear_model.html#logistic-regression\n",
      "  n_iter_i = _check_optimize_result(\n"
     ]
    },
    {
     "data": {
      "text/plain": [
       "LogisticRegression(random_state=42)"
      ]
     },
     "execution_count": 47,
     "metadata": {},
     "output_type": "execute_result"
    }
   ],
   "source": [
    "# fit the preprocessed model\n",
    "model_with_preprocessing.fit(X_train, y_train)"
   ]
  },
  {
   "cell_type": "code",
   "execution_count": 48,
   "metadata": {},
   "outputs": [
    {
     "data": {
      "text/plain": [
       "<sklearn.metrics._plot.confusion_matrix.ConfusionMatrixDisplay at 0x7f92c0952100>"
      ]
     },
     "execution_count": 48,
     "metadata": {},
     "output_type": "execute_result"
    },
    {
     "data": {
      "image/png": "[encoded data removed]",
      "text/plain": [
       "<Figure size 1080x432 with 2 Axes>"
      ]
     },
     "metadata": {},
     "output_type": "display_data"
    }
   ],
   "source": [
    "fix, axes = plt.subplots(figsize=(15, 6))\n",
    "\n",
    "axes.set_title(\"Preprocessed\", weight = 'bold')\n",
    "\n",
    "plot_confusion_matrix(model_with_preprocessing, X_train, y_train,\n",
    "                      ax=axes, cmap=\"plasma\")"
   ]
  },
  {
   "cell_type": "markdown",
   "metadata": {},
   "source": [
    "Might be overfitting a bit, Train scores are slightly better than the validation scores. "
   ]
  },
  {
   "cell_type": "markdown",
   "metadata": {},
   "source": [
    "### Reducing Regularization\n",
    "\n",
    "Check with less regularation. "
   ]
  },
  {
   "cell_type": "code",
   "execution_count": 49,
   "metadata": {},
   "outputs": [],
   "source": [
    "model_less_regularization = LogisticRegression(random_state = 42,\n",
    "                                               C = 1e10)"
   ]
  },
  {
   "cell_type": "code",
   "execution_count": 50,
   "metadata": {},
   "outputs": [
    {
     "name": "stdout",
     "output_type": "stream",
     "text": [
      "Previous Model (Standard Scaler)\n",
      "Train average:      0.5718076025577037\n",
      "Validation average: 0.7146613579551598\n",
      "\n",
      "Current Model (Reduced Regularization)\n",
      "Train average:      0.5717547873081398\n",
      "Validation average: 0.8674682280037042\n"
     ]
    }
   ],
   "source": [
    "less_regularization_train_scores, less_regularization_val_scores = custom_cross_val_score(model_less_regularization, X_train, y_train)\n",
    "\n",
    "print(\"Previous Model (Standard Scaler)\")\n",
    "print(\"Train average:     \", -preprocessed_train_scores.mean())\n",
    "print(\"Validation average:\", -preprocessed_neg_log_loss_cv.mean())\n",
    "print()\n",
    "print(\"Current Model (Reduced Regularization)\")\n",
    "print(\"Train average:     \", -less_regularization_train_scores.mean())\n",
    "print(\"Validation average:\", -less_regularization_val_scores.mean())"
   ]
  },
  {
   "cell_type": "markdown",
   "metadata": {},
   "source": [
    "Less regularization (ie. higher C value) creates a worse model as the Validation Average increases as C increases. "
   ]
  },
  {
   "cell_type": "code",
   "execution_count": 51,
   "metadata": {},
   "outputs": [
    {
     "name": "stderr",
     "output_type": "stream",
     "text": [
      "/Users/eric/opt/anaconda3/envs/learn-env/lib/python3.8/site-packages/sklearn/linear_model/_logistic.py:762: ConvergenceWarning: lbfgs failed to converge (status=1):\n",
      "STOP: TOTAL NO. of ITERATIONS REACHED LIMIT.\n",
      "\n",
      "Increase the number of iterations (max_iter) or scale the data as shown in:\n",
      "    https://scikit-learn.org/stable/modules/preprocessing.html\n",
      "Please also refer to the documentation for alternative solver options:\n",
      "    https://scikit-learn.org/stable/modules/linear_model.html#logistic-regression\n",
      "  n_iter_i = _check_optimize_result(\n"
     ]
    },
    {
     "data": {
      "text/plain": [
       "LogisticRegression(C=10000000000.0, random_state=42)"
      ]
     },
     "execution_count": 51,
     "metadata": {},
     "output_type": "execute_result"
    }
   ],
   "source": [
    "# fit the less regularization model\n",
    "model_less_regularization.fit(X_train, y_train)"
   ]
  },
  {
   "cell_type": "code",
   "execution_count": 52,
   "metadata": {},
   "outputs": [
    {
     "data": {
      "text/plain": [
       "<sklearn.metrics._plot.confusion_matrix.ConfusionMatrixDisplay at 0x7f92c091de50>"
      ]
     },
     "execution_count": 52,
     "metadata": {},
     "output_type": "execute_result"
    },
    {
     "data": {
      "image/png": "[encoded data removed]",
      "text/plain": [
       "<Figure size 1080x432 with 2 Axes>"
      ]
     },
     "metadata": {},
     "output_type": "display_data"
    }
   ],
   "source": [
    "fix, axes = plt.subplots(figsize=(15, 6))\n",
    "\n",
    "axes.set_title(\"Reduced Regularization\", weight = 'bold')\n",
    "\n",
    "plot_confusion_matrix(model_less_regularization, X_train, y_train,\n",
    "                      ax=axes, cmap=\"plasma\")"
   ]
  },
  {
   "cell_type": "markdown",
   "metadata": {},
   "source": [
    "### Try Different Solvers"
   ]
  },
  {
   "cell_type": "code",
   "execution_count": 53,
   "metadata": {},
   "outputs": [
    {
     "name": "stdout",
     "output_type": "stream",
     "text": [
      "solver: lbfgs\n",
      "penalty: l2\n"
     ]
    }
   ],
   "source": [
    "print(\"solver:\", model_less_regularization.get_params()[\"solver\"])\n",
    "print(\"penalty:\", model_less_regularization.get_params()[\"penalty\"])"
   ]
  },
  {
   "cell_type": "code",
   "execution_count": 54,
   "metadata": {},
   "outputs": [
    {
     "name": "stdout",
     "output_type": "stream",
     "text": [
      "Previous Model (Less Regularization)\n",
      "Train average:      0.5717547873081398\n",
      "Validation average: 0.8674682280037042\n",
      "\n",
      "Current Model (Liblinear Solver)\n",
      "Train average:      0.5797873301407366\n",
      "Validation average: 0.6440451581551634\n"
     ]
    }
   ],
   "source": [
    "# try liblinear as solver\n",
    "model_liblinear_solver = LogisticRegression(\n",
    "                            random_state = 42,\n",
    "                            C = 1,\n",
    "                            solver = \"liblinear\",\n",
    "                            penalty = \"l2\",\n",
    "                            max_iter = 1e3, # fixes ConvergenceWarning\n",
    "                            tol=1) # best scores is when tol = 1\n",
    "\n",
    "alternative_solver_train_scores, alternative_solver_val_scores = custom_cross_val_score(\n",
    "    model_liblinear_solver,\n",
    "    X_train,\n",
    "    y_train\n",
    ")\n",
    "\n",
    "print(\"Previous Model (Less Regularization)\")\n",
    "print(\"Train average:     \", -less_regularization_train_scores.mean())\n",
    "print(\"Validation average:\", -less_regularization_val_scores.mean())\n",
    "print()\n",
    "print(\"Current Model (Liblinear Solver)\")\n",
    "print(\"Train average:     \", -alternative_solver_train_scores.mean())\n",
    "print(\"Validation average:\", -alternative_solver_val_scores.mean())"
   ]
  },
  {
   "cell_type": "code",
   "execution_count": 55,
   "metadata": {},
   "outputs": [
    {
     "data": {
      "text/plain": [
       "LogisticRegression(C=1, max_iter=1000.0, random_state=42, solver='liblinear',\n",
       "                   tol=1)"
      ]
     },
     "execution_count": 55,
     "metadata": {},
     "output_type": "execute_result"
    }
   ],
   "source": [
    "# fit liblinear solver\n",
    "model_liblinear_solver.fit(X_train, y_train)"
   ]
  },
  {
   "cell_type": "code",
   "execution_count": 56,
   "metadata": {},
   "outputs": [
    {
     "data": {
      "text/plain": [
       "<sklearn.metrics._plot.confusion_matrix.ConfusionMatrixDisplay at 0x7f92a01951c0>"
      ]
     },
     "execution_count": 56,
     "metadata": {},
     "output_type": "execute_result"
    },
    {
     "data": {
      "image/png": "[encoded data removed]",
      "text/plain": [
       "<Figure size 1080x432 with 2 Axes>"
      ]
     },
     "metadata": {},
     "output_type": "display_data"
    }
   ],
   "source": [
    "fix, axes = plt.subplots(figsize=(15, 6))\n",
    "\n",
    "axes.set_title(\"Liblinear Solver\", weight = 'bold')\n",
    "\n",
    "plot_confusion_matrix(model_less_regularization, X_train, y_train,\n",
    "                      ax=axes, cmap=\"plasma\")"
   ]
  },
  {
   "cell_type": "code",
   "execution_count": 57,
   "metadata": {},
   "outputs": [
    {
     "name": "stdout",
     "output_type": "stream",
     "text": [
      "Current Model (Saga Solver)\n",
      "Train average:      0.6115946242449569\n",
      "Validation average: 0.6477711371940028\n"
     ]
    }
   ],
   "source": [
    "# try saga as solver\n",
    "model_saga_solver = LogisticRegression(\n",
    "                            random_state = 42,\n",
    "                            C = 1,\n",
    "                            solver = \"saga\",\n",
    "                            penalty = \"elasticnet\",\n",
    "                            l1_ratio = 0.9,\n",
    "                            max_iter = 1e5, # fixes ConvergenceWarning\n",
    "                            tol=1) # best scores is when tol = 1\n",
    "\n",
    "alternative_solver_train_scores, alternative_solver_val_scores = custom_cross_val_score(\n",
    "    model_saga_solver, # change as needed\n",
    "    X_train,\n",
    "    y_train\n",
    ")\n",
    "\n",
    "print(\"Current Model (Saga Solver)\")\n",
    "print(\"Train average:     \", -alternative_solver_train_scores.mean())\n",
    "print(\"Validation average:\", -alternative_solver_val_scores.mean())"
   ]
  },
  {
   "cell_type": "markdown",
   "metadata": {},
   "source": [
    "## Use `SelectFromModel`"
   ]
  },
  {
   "cell_type": "code",
   "execution_count": 59,
   "metadata": {},
   "outputs": [
    {
     "name": "stderr",
     "output_type": "stream",
     "text": [
      "/Users/eric/opt/anaconda3/envs/learn-env/lib/python3.8/site-packages/sklearn/linear_model/_logistic.py:762: ConvergenceWarning: lbfgs failed to converge (status=1):\n",
      "STOP: TOTAL NO. of ITERATIONS REACHED LIMIT.\n",
      "\n",
      "Increase the number of iterations (max_iter) or scale the data as shown in:\n",
      "    https://scikit-learn.org/stable/modules/preprocessing.html\n",
      "Please also refer to the documentation for alternative solver options:\n",
      "    https://scikit-learn.org/stable/modules/linear_model.html#logistic-regression\n",
      "  n_iter_i = _check_optimize_result(\n"
     ]
    },
    {
     "data": {
      "text/plain": [
       "SelectFromModel(estimator=LogisticRegression(random_state=42))"
      ]
     },
     "execution_count": 59,
     "metadata": {},
     "output_type": "execute_result"
    }
   ],
   "source": [
    "selector = SelectFromModel(baseline_model)\n",
    "\n",
    "selector.fit(X_train, y_train)"
   ]
  },
  {
   "cell_type": "code",
   "execution_count": 60,
   "metadata": {},
   "outputs": [
    {
     "data": {
      "text/plain": [
       "0.17966998719975327"
      ]
     },
     "execution_count": 60,
     "metadata": {},
     "output_type": "execute_result"
    }
   ],
   "source": [
    "thresh = selector.threshold_\n",
    "thresh"
   ]
  },
  {
   "cell_type": "code",
   "execution_count": 61,
   "metadata": {},
   "outputs": [
    {
     "name": "stdout",
     "output_type": "stream",
     "text": [
      "[[  0 253]\n",
      " [  1 120]]\n"
     ]
    }
   ],
   "source": [
    "# counts of true and false\n",
    "sup = selector.get_support()\n",
    "unique, counts = np.unique(sup, return_counts=True)\n",
    "print(np.asarray((unique, counts)).T)"
   ]
  },
  {
   "cell_type": "code",
   "execution_count": 62,
   "metadata": {},
   "outputs": [],
   "source": [
    "def select_important_features(X, selector):\n",
    "    \"\"\"\n",
    "    Given a DataFrame and a selector, use the selector to choose\n",
    "    the most important columns\n",
    "    \"\"\"\n",
    "    imps = dict(zip(X.columns, selector.get_support()))\n",
    "    selected_array = selector.transform(X)\n",
    "    selected_df = pd.DataFrame(selected_array,\n",
    "                               columns=[col for col in X.columns if imps[col]],\n",
    "                               index=X.index)\n",
    "    return selected_df"
   ]
  },
  {
   "cell_type": "code",
   "execution_count": 63,
   "metadata": {},
   "outputs": [],
   "source": [
    "X_train_selected = select_important_features(X=X_train, selector=selector)"
   ]
  },
  {
   "cell_type": "code",
   "execution_count": 64,
   "metadata": {},
   "outputs": [
    {
     "name": "stderr",
     "output_type": "stream",
     "text": [
      "/Users/eric/opt/anaconda3/envs/learn-env/lib/python3.8/site-packages/sklearn/linear_model/_logistic.py:762: ConvergenceWarning: lbfgs failed to converge (status=1):\n",
      "STOP: TOTAL NO. of ITERATIONS REACHED LIMIT.\n",
      "\n",
      "Increase the number of iterations (max_iter) or scale the data as shown in:\n",
      "    https://scikit-learn.org/stable/modules/preprocessing.html\n",
      "Please also refer to the documentation for alternative solver options:\n",
      "    https://scikit-learn.org/stable/modules/linear_model.html#logistic-regression\n",
      "  n_iter_i = _check_optimize_result(\n"
     ]
    },
    {
     "data": {
      "text/plain": [
       "LogisticRegression(C=1, random_state=2022)"
      ]
     },
     "execution_count": 64,
     "metadata": {},
     "output_type": "execute_result"
    }
   ],
   "source": [
    "logreg_sel = LogisticRegression(random_state=2022,C =1)\n",
    "\n",
    "logreg_sel.fit(X_train, y_train)"
   ]
  },
  {
   "cell_type": "code",
   "execution_count": 65,
   "metadata": {},
   "outputs": [
    {
     "name": "stdout",
     "output_type": "stream",
     "text": [
      "Current Model (Select From Model)\n",
      "Train average:      0.5718076025577037\n",
      "Validation average: 0.7146613579551598\n"
     ]
    }
   ],
   "source": [
    "alternative_solver_train_scores, alternative_solver_val_scores = custom_cross_val_score(\n",
    "    logreg_sel, # change as needed\n",
    "    X_train,\n",
    "    y_train\n",
    ")\n",
    "\n",
    "print(\"Current Model (Select From Model)\")\n",
    "print(\"Train average:     \", -alternative_solver_train_scores.mean())\n",
    "print(\"Validation average:\", -alternative_solver_val_scores.mean())"
   ]
  },
  {
   "cell_type": "code",
   "execution_count": 66,
   "metadata": {},
   "outputs": [
    {
     "data": {
      "text/plain": [
       "<sklearn.metrics._plot.roc_curve.RocCurveDisplay at 0x7f92d3bc1460>"
      ]
     },
     "execution_count": 66,
     "metadata": {},
     "output_type": "execute_result"
    },
    {
     "data": {
      "image/png": "[encoded data removed]",
      "text/plain": [
       "<Figure size 432x288 with 1 Axes>"
      ]
     },
     "metadata": {},
     "output_type": "display_data"
    }
   ],
   "source": [
    "fig, ax = plt.subplots()\n",
    "\n",
    "plot_roc_curve(logreg_sel, X_train, y_train, \n",
    "               name='model_liblinear_solver', ax=ax)"
   ]
  },
  {
   "cell_type": "code",
   "execution_count": null,
   "metadata": {},
   "outputs": [],
   "source": []
  },
  {
   "cell_type": "code",
   "execution_count": null,
   "metadata": {},
   "outputs": [],
   "source": []
  },
  {
   "cell_type": "code",
   "execution_count": null,
   "metadata": {},
   "outputs": [],
   "source": []
  },
  {
   "cell_type": "code",
   "execution_count": null,
   "metadata": {},
   "outputs": [],
   "source": []
  },
  {
   "cell_type": "code",
   "execution_count": null,
   "metadata": {},
   "outputs": [],
   "source": []
  },
  {
   "cell_type": "code",
   "execution_count": null,
   "metadata": {},
   "outputs": [],
   "source": []
  },
  {
   "cell_type": "markdown",
   "metadata": {},
   "source": [
    "best so far was liblinear model, plot ROC AUC"
   ]
  },
  {
   "cell_type": "code",
   "execution_count": 67,
   "metadata": {},
   "outputs": [
    {
     "data": {
      "text/plain": [
       "<sklearn.metrics._plot.roc_curve.RocCurveDisplay at 0x7f92a040fc40>"
      ]
     },
     "execution_count": 67,
     "metadata": {},
     "output_type": "execute_result"
    },
    {
     "data": {
      "image/png": "[encoded data removed]",
      "text/plain": [
       "<Figure size 432x288 with 1 Axes>"
      ]
     },
     "metadata": {},
     "output_type": "display_data"
    }
   ],
   "source": [
    "fig, ax = plt.subplots()\n",
    "\n",
    "plot_roc_curve(model_liblinear_solver, X_train, y_train, \n",
    "               name='model_liblinear_solver', ax=ax)"
   ]
  },
  {
   "cell_type": "markdown",
   "metadata": {},
   "source": [
    "ITS HORRIBLE. CHECK AGAIN"
   ]
  },
  {
   "cell_type": "code",
   "execution_count": null,
   "metadata": {},
   "outputs": [],
   "source": []
  },
  {
   "cell_type": "code",
   "execution_count": null,
   "metadata": {},
   "outputs": [],
   "source": []
  },
  {
   "cell_type": "code",
   "execution_count": null,
   "metadata": {},
   "outputs": [],
   "source": []
  },
  {
   "cell_type": "code",
   "execution_count": null,
   "metadata": {},
   "outputs": [],
   "source": []
  },
  {
   "cell_type": "code",
   "execution_count": null,
   "metadata": {},
   "outputs": [],
   "source": []
  },
  {
   "cell_type": "code",
   "execution_count": null,
   "metadata": {},
   "outputs": [],
   "source": []
  },
  {
   "cell_type": "code",
   "execution_count": null,
   "metadata": {},
   "outputs": [],
   "source": []
  },
  {
   "cell_type": "code",
   "execution_count": null,
   "metadata": {},
   "outputs": [],
   "source": []
  },
  {
   "cell_type": "code",
   "execution_count": null,
   "metadata": {},
   "outputs": [],
   "source": []
  },
  {
   "cell_type": "code",
   "execution_count": null,
   "metadata": {},
   "outputs": [],
   "source": []
  },
  {
   "cell_type": "code",
   "execution_count": null,
   "metadata": {},
   "outputs": [],
   "source": []
  },
  {
   "cell_type": "code",
   "execution_count": null,
   "metadata": {},
   "outputs": [],
   "source": []
  },
  {
   "cell_type": "code",
   "execution_count": null,
   "metadata": {},
   "outputs": [],
   "source": []
  },
  {
   "cell_type": "code",
   "execution_count": null,
   "metadata": {},
   "outputs": [],
   "source": [
    "logreg_model_more_iterations = LogisticRegression(random_state= 42, \n",
    "                                  penalty = 'none',\n",
    "                                  max_iter = 4000)\n",
    "logreg_model_more_iterations.fit(X_train, y_train)"
   ]
  },
  {
   "cell_type": "code",
   "execution_count": null,
   "metadata": {},
   "outputs": [],
   "source": [
    "logreg_model_higher_tolerance = LogisticRegression(\n",
    "                                                random_state=2022, \n",
    "                                                penalty='none', \n",
    "                                                max_iter = 5000,\n",
    "                                                tol=60\n",
    ")\n",
    "\n",
    "logreg_model_higher_tolerance.fit(X_train, y_train)"
   ]
  },
  {
   "cell_type": "code",
   "execution_count": null,
   "metadata": {},
   "outputs": [],
   "source": [
    "fix, axes = plt.subplots(nrows=1, ncols=2, figsize=(15, 6))\n",
    "\n",
    "axes[0].set_title(\"More Iterations\")\n",
    "axes[1].set_title(\"Higher Tolerance\")\n",
    "\n",
    "plot_confusion_matrix(logreg_model_more_iterations, X_train, y_train,\n",
    "                      ax=axes[0], cmap=\"plasma\")\n",
    "plot_confusion_matrix(logreg_model_higher_tolerance, X_train, y_train,\n",
    "                      ax=axes[1], cmap=\"plasma\");"
   ]
  },
  {
   "cell_type": "code",
   "execution_count": null,
   "metadata": {},
   "outputs": [],
   "source": [
    "class ModelWithCV():\n",
    "    '''Structure to save the model and more easily see its crossvalidation'''\n",
    "    \n",
    "    def __init__(self, model, model_name, X, y, cv_now=True):\n",
    "        self.model = model\n",
    "        self.name = model_name\n",
    "        self.X = X\n",
    "        self.y = y\n",
    "        # For CV results\n",
    "        self.cv_results = None\n",
    "        self.cv_mean = None\n",
    "        self.cv_median = None\n",
    "        self.cv_std = None\n",
    "        #\n",
    "        if cv_now:\n",
    "            self.cross_validate()\n",
    "        \n",
    "    def cross_validate(self, X=None, y=None, kfolds=10):\n",
    "        '''\n",
    "        Perform cross-validation and return results.\n",
    "        \n",
    "        Args: \n",
    "          X:\n",
    "            Optional; Training data to perform CV on. Otherwise use X from object\n",
    "          y:\n",
    "            Optional; Training data to perform CV on. Otherwise use y from object\n",
    "          kfolds:\n",
    "            Optional; Number of folds for CV (default is 10)  \n",
    "        '''\n",
    "        \n",
    "        cv_X = X if X else self.X\n",
    "        cv_y = y if y else self.y\n",
    "\n",
    "        self.cv_results = cross_val_score(self.model, cv_X, cv_y, cv=kfolds)\n",
    "        self.cv_mean = np.mean(self.cv_results)\n",
    "        self.cv_median = np.median(self.cv_results)\n",
    "        self.cv_std = np.std(self.cv_results)\n",
    "\n",
    "        \n",
    "    def print_cv_summary(self):\n",
    "        cv_summary = (\n",
    "        f'''CV Results for `{self.name}` model:\n",
    "            {self.cv_mean:.5f} ± {self.cv_std:.5f} accuracy\n",
    "        ''')\n",
    "        print(cv_summary)\n",
    "\n",
    "        \n",
    "    def plot_cv(self, ax):\n",
    "        '''\n",
    "        Plot the cross-validation values using the array of results and given \n",
    "        Axis for plotting.\n",
    "        '''\n",
    "        ax.set_title(f'CV Results for `{self.name}` Model')\n",
    "        # Thinner violinplot with higher bw\n",
    "        sns.violinplot(y=self.cv_results, ax=ax, bw=.4)\n",
    "        sns.swarmplot(\n",
    "                y=self.cv_results,\n",
    "                color='orange',\n",
    "                size=10,\n",
    "                alpha= 0.8,\n",
    "                ax=ax\n",
    "        )\n",
    "\n",
    "        return ax"
   ]
  },
  {
   "cell_type": "code",
   "execution_count": null,
   "metadata": {},
   "outputs": [],
   "source": [
    "logreg_model_more_iterations_results = ModelWithCV(\n",
    "                                        logreg_model_more_iterations,\n",
    "                                        'more_iterations',\n",
    "                                        X_train,\n",
    "                                        y_train\n",
    ")\n",
    "    \n",
    "logreg_model_higher_tolerance_results = ModelWithCV(\n",
    "                                        logreg_model_higher_tolerance,\n",
    "                                        'higher_tolerance',\n",
    "                                        X_train,\n",
    "                                        y_train\n",
    ")\n",
    "\n",
    "model_results = [\n",
    "    logreg_model_more_iterations_results,\n",
    "    logreg_model_higher_tolerance_results\n",
    "]\n"
   ]
  },
  {
   "cell_type": "code",
   "execution_count": null,
   "metadata": {
    "scrolled": false
   },
   "outputs": [],
   "source": [
    "f,axes = plt.subplots(ncols=2, sharey=True, figsize=(12, 6))\n",
    "\n",
    "for ax, result in zip(axes, model_results):\n",
    "    ax = result.plot_cv(ax)\n",
    "    result.print_cv_summary()\n",
    "plt.tight_layout();"
   ]
  },
  {
   "cell_type": "code",
   "execution_count": null,
   "metadata": {},
   "outputs": [],
   "source": [
    "fig, ax = plt.subplots()\n",
    "\n",
    "plot_roc_curve(logreg_model_more_iterations, X_train, y_train, \n",
    "               name='logreg_model_more_iterations', ax=ax)\n",
    "plot_roc_curve(logreg_model_higher_tolerance, X_train, y_train, \n",
    "               name='logreg_model_higher_tolerance', ax=ax);"
   ]
  },
  {
   "cell_type": "markdown",
   "metadata": {},
   "source": [
    "## Data Prep - Scaling"
   ]
  },
  {
   "cell_type": "code",
   "execution_count": null,
   "metadata": {},
   "outputs": [],
   "source": [
    "#We need to perform Feature Scaling when we are dealing with Gradient Descent Based algorithms (Linear and Logistic Regression, Neural Network) \n",
    "\n",
    "scaler = StandardScaler()\n",
    "\n",
    "scaler.fit(X_train)"
   ]
  },
  {
   "cell_type": "code",
   "execution_count": null,
   "metadata": {},
   "outputs": [],
   "source": [
    "def scale_values(X, scaler):\n",
    "    \"\"\"\n",
    "    Given a DataFrame and a fitted scaler, use the scaler to scale all of the features\n",
    "    \"\"\"\n",
    "    scaled_array = scaler.transform(X)\n",
    "    scaled_df = pd.DataFrame(scaled_array, columns=X.columns, index=X.index)\n",
    "    return scaled_df"
   ]
  },
  {
   "cell_type": "code",
   "execution_count": null,
   "metadata": {},
   "outputs": [],
   "source": [
    "X_train_scaled = scale_values(X_train, scaler)"
   ]
  },
  {
   "cell_type": "code",
   "execution_count": null,
   "metadata": {},
   "outputs": [],
   "source": [
    "X_train_scaled.head()"
   ]
  },
  {
   "cell_type": "markdown",
   "metadata": {},
   "source": [
    "## 3rd Model - After Scaling"
   ]
  },
  {
   "cell_type": "code",
   "execution_count": null,
   "metadata": {},
   "outputs": [],
   "source": [
    "logreg_model = LogisticRegression(random_state=42)\n",
    "logreg_model.fit(X_train_scaled, y_train)"
   ]
  },
  {
   "cell_type": "code",
   "execution_count": null,
   "metadata": {},
   "outputs": [],
   "source": [
    "fig, ax = plt.subplots()\n",
    "\n",
    "fig.suptitle(\"Logistic Regression with Features Scaled\")\n",
    "\n",
    "plot_confusion_matrix(logreg_model, X_train_scaled, y_train, ax=ax, cmap=\"plasma\");"
   ]
  },
  {
   "cell_type": "code",
   "execution_count": null,
   "metadata": {},
   "outputs": [],
   "source": [
    "X_train.shape"
   ]
  },
  {
   "cell_type": "code",
   "execution_count": null,
   "metadata": {},
   "outputs": [],
   "source": [
    "scaled_features_results = ModelWithCV(\n",
    "                            logreg_model,\n",
    "                            'scaled_features',\n",
    "                            X_train_scaled,\n",
    "                            y_train\n",
    ")"
   ]
  },
  {
   "cell_type": "code",
   "execution_count": null,
   "metadata": {},
   "outputs": [],
   "source": [
    "# Saving variable for convenience\n",
    "model_results = scaled_features_results\n",
    "\n",
    "# Plot CV results\n",
    "fig, ax = plt.subplots()\n",
    "ax = model_results.plot_cv(ax)\n",
    "plt.tight_layout();\n",
    "# Print CV results\n",
    "model_results.print_cv_summary()"
   ]
  },
  {
   "cell_type": "code",
   "execution_count": null,
   "metadata": {},
   "outputs": [],
   "source": [
    "plot_roc_curve(logreg_model, X_train_scaled, y_train)"
   ]
  },
  {
   "cell_type": "code",
   "execution_count": null,
   "metadata": {},
   "outputs": [],
   "source": []
  },
  {
   "cell_type": "code",
   "execution_count": null,
   "metadata": {},
   "outputs": [],
   "source": []
  },
  {
   "cell_type": "code",
   "execution_count": null,
   "metadata": {},
   "outputs": [],
   "source": []
  },
  {
   "cell_type": "code",
   "execution_count": null,
   "metadata": {},
   "outputs": [],
   "source": []
  },
  {
   "cell_type": "code",
   "execution_count": null,
   "metadata": {},
   "outputs": [],
   "source": []
  },
  {
   "cell_type": "code",
   "execution_count": null,
   "metadata": {},
   "outputs": [],
   "source": []
  },
  {
   "cell_type": "code",
   "execution_count": null,
   "metadata": {},
   "outputs": [],
   "source": []
  },
  {
   "cell_type": "code",
   "execution_count": null,
   "metadata": {},
   "outputs": [],
   "source": []
  },
  {
   "cell_type": "code",
   "execution_count": null,
   "metadata": {},
   "outputs": [],
   "source": []
  },
  {
   "cell_type": "code",
   "execution_count": null,
   "metadata": {},
   "outputs": [],
   "source": []
  },
  {
   "cell_type": "code",
   "execution_count": null,
   "metadata": {},
   "outputs": [],
   "source": []
  },
  {
   "cell_type": "code",
   "execution_count": null,
   "metadata": {},
   "outputs": [],
   "source": []
  },
  {
   "cell_type": "code",
   "execution_count": null,
   "metadata": {},
   "outputs": [],
   "source": []
  },
  {
   "cell_type": "code",
   "execution_count": null,
   "metadata": {},
   "outputs": [],
   "source": []
  },
  {
   "cell_type": "code",
   "execution_count": null,
   "metadata": {},
   "outputs": [],
   "source": []
  },
  {
   "cell_type": "code",
   "execution_count": null,
   "metadata": {},
   "outputs": [],
   "source": []
  },
  {
   "cell_type": "code",
   "execution_count": null,
   "metadata": {},
   "outputs": [],
   "source": []
  },
  {
   "cell_type": "code",
   "execution_count": null,
   "metadata": {},
   "outputs": [],
   "source": []
  }
 ],
 "metadata": {
  "kernelspec": {
   "display_name": "Python 3",
   "language": "python",
   "name": "python3"
  },
  "language_info": {
   "codemirror_mode": {
    "name": "ipython",
    "version": 3
   },
   "file_extension": ".py",
   "mimetype": "text/x-python",
   "name": "python",
   "nbconvert_exporter": "python",
   "pygments_lexer": "ipython3",
   "version": "3.8.5"
  }
 },
 "nbformat": 4,
 "nbformat_minor": 4
}
