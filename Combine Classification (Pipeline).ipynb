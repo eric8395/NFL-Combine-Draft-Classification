{
 "cells": [
  {
   "cell_type": "markdown",
   "metadata": {},
   "source": [
    "# NFL Combine Draft Classification  \n",
    "## A Logistic Regression Analysis\n",
    "\n",
    "### Eric Au\n",
    "\n",
    "<img src=\"https://library.sportingnews.com/styles/twitter_card_120x120/s3/2022-03/Antoine-Winfield-030222-GETTY-FTR.jpg?itok=nG3hUgf_\" width=\"500\" length = \"200\"/>\n",
    "\n",
    "Source: <a href=\"https://www.sportingnews.com/us/nfl/news/nfl-combine-drills-explained-40-yard-dash/lds11epxn7znufqyjkaphguq\">Getty Images</a>"
   ]
  },
  {
   "cell_type": "markdown",
   "metadata": {},
   "source": [
    "### Business and Data Understanding\n",
    "\n",
    "Every year, the National Football League (NFL) holds a week long showcase where college football players, otherwise known as prospects, perform physical drills and tests in front of team coaches, scouts, and general managers. These drills are intended to measure a player's physical ability such as speed, quickness, strength, and overall athleticism. \n",
    "\n",
    "But what can NFL teams learn from these workouts? What exactly do the non-football athletic testing measurements contribute to prospect evaluation? These are a questions that many fans ask to this day and NFL teams try to interpret to make the best decision possible when drafting their players. \n",
    "\n",
    "For this analysis, we will be using player combine data scraped from <a href = \"https://www.pro-football-reference.com/\">Pro-Football Reference</a> over the last 22 years (2000-2022). \n",
    "\n",
    "Each record represents an individual player who was eligible to be drafted with information related to their combine measurements. Additionally, each record indicates whether that player was `Drafted` with 1 for \"Yes\" and 0 for \"No\". This will be further clarified in the preliminary cleaning of the data set. \n",
    "\n",
    "**Create a model that determines whether a player was `Drafted` based on the available data and information provided in the NFL Combine.** \n",
    "\n",
    "We will attempt to find any significance between the combine and draft status as well as explore the following: \n",
    "- How significant are measurables in determining draft status? \n",
    "- What do the metrics distributions look like for the skill positions?\n",
    "\n",
    "**Stakeholders:** The New York Giants front office (General Manager, President, Scouting Department). \n"
   ]
  },
  {
   "cell_type": "code",
   "execution_count": 1,
   "metadata": {},
   "outputs": [],
   "source": [
    "# import libraries \n",
    "import pandas as pd\n",
    "import numpy as np\n",
    "import math\n",
    "import xgboost as xgb\n",
    "\n",
    "import matplotlib.pyplot as plt\n",
    "import seaborn as sns\n",
    "%matplotlib inline\n",
    "\n",
    "from sklearn.preprocessing import OneHotEncoder, StandardScaler, MaxAbsScaler\n",
    "from sklearn.impute import SimpleImputer\n",
    "\n",
    "from sklearn.linear_model import LogisticRegression\n",
    "from sklearn.tree import DecisionTreeClassifier\n",
    "from sklearn.model_selection import train_test_split, GridSearchCV, cross_val_score, \\\n",
    "RandomizedSearchCV, StratifiedKFold, KFold\n",
    "from sklearn.feature_selection import SelectFromModel\n",
    "\n",
    "from sklearn.compose import ColumnTransformer\n",
    "\n",
    "from sklearn.neighbors import KNeighborsClassifier\n",
    "\n",
    "from sklearn.metrics import precision_score, recall_score, f1_score, accuracy_score, classification_report\n",
    "from sklearn.metrics import log_loss\n",
    "from sklearn.metrics import plot_confusion_matrix\n",
    "from sklearn.metrics import confusion_matrix\n",
    "from sklearn.metrics import plot_roc_curve\n",
    "from sklearn.metrics import make_scorer\n",
    "\n",
    "from sklearn.base import clone\n",
    "\n",
    "# ignore warnings\n",
    "import warnings\n",
    "warnings.simplefilter(action='ignore', category=FutureWarning)\n",
    "pd.options.mode.chained_assignment = None "
   ]
  },
  {
   "cell_type": "code",
   "execution_count": 2,
   "metadata": {},
   "outputs": [
    {
     "data": {
      "text/html": [
       "<div>\n",
       "<style scoped>\n",
       "    .dataframe tbody tr th:only-of-type {\n",
       "        vertical-align: middle;\n",
       "    }\n",
       "\n",
       "    .dataframe tbody tr th {\n",
       "        vertical-align: top;\n",
       "    }\n",
       "\n",
       "    .dataframe thead th {\n",
       "        text-align: right;\n",
       "    }\n",
       "</style>\n",
       "<table border=\"1\" class=\"dataframe\">\n",
       "  <thead>\n",
       "    <tr style=\"text-align: right;\">\n",
       "      <th></th>\n",
       "      <th>Player</th>\n",
       "      <th>Pos</th>\n",
       "      <th>School</th>\n",
       "      <th>College</th>\n",
       "      <th>Ht</th>\n",
       "      <th>Wt</th>\n",
       "      <th>40yd</th>\n",
       "      <th>Vertical</th>\n",
       "      <th>Bench</th>\n",
       "      <th>Broad Jump</th>\n",
       "      <th>3Cone</th>\n",
       "      <th>Shuttle</th>\n",
       "      <th>Drafted (tm/rnd/yr)</th>\n",
       "      <th>Year</th>\n",
       "    </tr>\n",
       "  </thead>\n",
       "  <tbody>\n",
       "    <tr>\n",
       "      <th>0</th>\n",
       "      <td>John Abraham</td>\n",
       "      <td>OLB</td>\n",
       "      <td>South Carolina</td>\n",
       "      <td>NaN</td>\n",
       "      <td>6-4</td>\n",
       "      <td>252.0</td>\n",
       "      <td>4.55</td>\n",
       "      <td>NaN</td>\n",
       "      <td>NaN</td>\n",
       "      <td>NaN</td>\n",
       "      <td>NaN</td>\n",
       "      <td>NaN</td>\n",
       "      <td>New York Jets / 1st / 13th pick / 2000</td>\n",
       "      <td>2000</td>\n",
       "    </tr>\n",
       "    <tr>\n",
       "      <th>1</th>\n",
       "      <td>Shaun Alexander</td>\n",
       "      <td>RB</td>\n",
       "      <td>Alabama</td>\n",
       "      <td>College Stats</td>\n",
       "      <td>6-0</td>\n",
       "      <td>218.0</td>\n",
       "      <td>4.58</td>\n",
       "      <td>NaN</td>\n",
       "      <td>NaN</td>\n",
       "      <td>NaN</td>\n",
       "      <td>NaN</td>\n",
       "      <td>NaN</td>\n",
       "      <td>Seattle Seahawks / 1st / 19th pick / 2000</td>\n",
       "      <td>2000</td>\n",
       "    </tr>\n",
       "    <tr>\n",
       "      <th>2</th>\n",
       "      <td>Darnell Alford</td>\n",
       "      <td>OT</td>\n",
       "      <td>Boston Col.</td>\n",
       "      <td>NaN</td>\n",
       "      <td>6-4</td>\n",
       "      <td>334.0</td>\n",
       "      <td>5.56</td>\n",
       "      <td>25.0</td>\n",
       "      <td>23.0</td>\n",
       "      <td>94.0</td>\n",
       "      <td>8.48</td>\n",
       "      <td>4.98</td>\n",
       "      <td>Kansas City Chiefs / 6th / 188th pick / 2000</td>\n",
       "      <td>2000</td>\n",
       "    </tr>\n",
       "    <tr>\n",
       "      <th>3</th>\n",
       "      <td>Kyle Allamon</td>\n",
       "      <td>TE</td>\n",
       "      <td>Texas Tech</td>\n",
       "      <td>NaN</td>\n",
       "      <td>6-2</td>\n",
       "      <td>253.0</td>\n",
       "      <td>4.97</td>\n",
       "      <td>29.0</td>\n",
       "      <td>NaN</td>\n",
       "      <td>104.0</td>\n",
       "      <td>7.29</td>\n",
       "      <td>4.49</td>\n",
       "      <td>NaN</td>\n",
       "      <td>2000</td>\n",
       "    </tr>\n",
       "    <tr>\n",
       "      <th>4</th>\n",
       "      <td>Rashard Anderson</td>\n",
       "      <td>CB</td>\n",
       "      <td>Jackson State</td>\n",
       "      <td>NaN</td>\n",
       "      <td>6-2</td>\n",
       "      <td>206.0</td>\n",
       "      <td>4.55</td>\n",
       "      <td>34.0</td>\n",
       "      <td>NaN</td>\n",
       "      <td>123.0</td>\n",
       "      <td>7.18</td>\n",
       "      <td>4.15</td>\n",
       "      <td>Carolina Panthers / 1st / 23rd pick / 2000</td>\n",
       "      <td>2000</td>\n",
       "    </tr>\n",
       "  </tbody>\n",
       "</table>\n",
       "</div>"
      ],
      "text/plain": [
       "             Player  Pos          School        College   Ht     Wt  40yd  \\\n",
       "0      John Abraham  OLB  South Carolina            NaN  6-4  252.0  4.55   \n",
       "1   Shaun Alexander   RB         Alabama  College Stats  6-0  218.0  4.58   \n",
       "2    Darnell Alford   OT     Boston Col.            NaN  6-4  334.0  5.56   \n",
       "3      Kyle Allamon   TE      Texas Tech            NaN  6-2  253.0  4.97   \n",
       "4  Rashard Anderson   CB   Jackson State            NaN  6-2  206.0  4.55   \n",
       "\n",
       "   Vertical  Bench  Broad Jump  3Cone  Shuttle  \\\n",
       "0       NaN    NaN         NaN    NaN      NaN   \n",
       "1       NaN    NaN         NaN    NaN      NaN   \n",
       "2      25.0   23.0        94.0   8.48     4.98   \n",
       "3      29.0    NaN       104.0   7.29     4.49   \n",
       "4      34.0    NaN       123.0   7.18     4.15   \n",
       "\n",
       "                            Drafted (tm/rnd/yr)  Year  \n",
       "0        New York Jets / 1st / 13th pick / 2000  2000  \n",
       "1     Seattle Seahawks / 1st / 19th pick / 2000  2000  \n",
       "2  Kansas City Chiefs / 6th / 188th pick / 2000  2000  \n",
       "3                                           NaN  2000  \n",
       "4    Carolina Panthers / 1st / 23rd pick / 2000  2000  "
      ]
     },
     "execution_count": 2,
     "metadata": {},
     "output_type": "execute_result"
    }
   ],
   "source": [
    "# load in data\n",
    "df = pd.read_csv('Data/combine_2000_2022.csv', index_col = 0)\n",
    "df.head()"
   ]
  },
  {
   "cell_type": "code",
   "execution_count": 3,
   "metadata": {},
   "outputs": [
    {
     "name": "stdout",
     "output_type": "stream",
     "text": [
      "<class 'pandas.core.frame.DataFrame'>\n",
      "Int64Index: 7680 entries, 0 to 7820\n",
      "Data columns (total 14 columns):\n",
      " #   Column               Non-Null Count  Dtype  \n",
      "---  ------               --------------  -----  \n",
      " 0   Player               7680 non-null   object \n",
      " 1   Pos                  7680 non-null   object \n",
      " 2   School               7680 non-null   object \n",
      " 3   College              6240 non-null   object \n",
      " 4   Ht                   7651 non-null   object \n",
      " 5   Wt                   7656 non-null   float64\n",
      " 6   40yd                 7206 non-null   float64\n",
      " 7   Vertical             5932 non-null   float64\n",
      " 8   Bench                5096 non-null   float64\n",
      " 9   Broad Jump           5859 non-null   float64\n",
      " 10  3Cone                4792 non-null   float64\n",
      " 11  Shuttle              4895 non-null   float64\n",
      " 12  Drafted (tm/rnd/yr)  4937 non-null   object \n",
      " 13  Year                 7680 non-null   int64  \n",
      "dtypes: float64(7), int64(1), object(6)\n",
      "memory usage: 900.0+ KB\n"
     ]
    }
   ],
   "source": [
    "df.info()"
   ]
  },
  {
   "cell_type": "markdown",
   "metadata": {},
   "source": [
    "## Initial Data Preparation\n",
    "The following steps below are preliminary data cleaning just to get the dataframe in a working set condition for the `train_test_split`. Handling of missing values will be performed following the split. \n",
    "\n",
    "### Convert to float types in appropriate columns; "
   ]
  },
  {
   "cell_type": "code",
   "execution_count": 4,
   "metadata": {},
   "outputs": [],
   "source": [
    "# create a list of columns that need to be floats\n",
    "col_floats = ['Wt', '40yd', 'Vertical', 'Bench', 'Broad Jump', '3Cone', 'Shuttle']"
   ]
  },
  {
   "cell_type": "code",
   "execution_count": 5,
   "metadata": {},
   "outputs": [
    {
     "data": {
      "text/html": [
       "<div>\n",
       "<style scoped>\n",
       "    .dataframe tbody tr th:only-of-type {\n",
       "        vertical-align: middle;\n",
       "    }\n",
       "\n",
       "    .dataframe tbody tr th {\n",
       "        vertical-align: top;\n",
       "    }\n",
       "\n",
       "    .dataframe thead th {\n",
       "        text-align: right;\n",
       "    }\n",
       "</style>\n",
       "<table border=\"1\" class=\"dataframe\">\n",
       "  <thead>\n",
       "    <tr style=\"text-align: right;\">\n",
       "      <th></th>\n",
       "      <th>Wt</th>\n",
       "      <th>40yd</th>\n",
       "      <th>Vertical</th>\n",
       "      <th>Bench</th>\n",
       "      <th>Broad Jump</th>\n",
       "      <th>3Cone</th>\n",
       "      <th>Shuttle</th>\n",
       "    </tr>\n",
       "  </thead>\n",
       "  <tbody>\n",
       "    <tr>\n",
       "      <th>0</th>\n",
       "      <td>252.0</td>\n",
       "      <td>4.55</td>\n",
       "      <td>NaN</td>\n",
       "      <td>NaN</td>\n",
       "      <td>NaN</td>\n",
       "      <td>NaN</td>\n",
       "      <td>NaN</td>\n",
       "    </tr>\n",
       "    <tr>\n",
       "      <th>1</th>\n",
       "      <td>218.0</td>\n",
       "      <td>4.58</td>\n",
       "      <td>NaN</td>\n",
       "      <td>NaN</td>\n",
       "      <td>NaN</td>\n",
       "      <td>NaN</td>\n",
       "      <td>NaN</td>\n",
       "    </tr>\n",
       "    <tr>\n",
       "      <th>2</th>\n",
       "      <td>334.0</td>\n",
       "      <td>5.56</td>\n",
       "      <td>25.0</td>\n",
       "      <td>23.0</td>\n",
       "      <td>94.0</td>\n",
       "      <td>8.48</td>\n",
       "      <td>4.98</td>\n",
       "    </tr>\n",
       "    <tr>\n",
       "      <th>3</th>\n",
       "      <td>253.0</td>\n",
       "      <td>4.97</td>\n",
       "      <td>29.0</td>\n",
       "      <td>NaN</td>\n",
       "      <td>104.0</td>\n",
       "      <td>7.29</td>\n",
       "      <td>4.49</td>\n",
       "    </tr>\n",
       "    <tr>\n",
       "      <th>4</th>\n",
       "      <td>206.0</td>\n",
       "      <td>4.55</td>\n",
       "      <td>34.0</td>\n",
       "      <td>NaN</td>\n",
       "      <td>123.0</td>\n",
       "      <td>7.18</td>\n",
       "      <td>4.15</td>\n",
       "    </tr>\n",
       "    <tr>\n",
       "      <th>...</th>\n",
       "      <td>...</td>\n",
       "      <td>...</td>\n",
       "      <td>...</td>\n",
       "      <td>...</td>\n",
       "      <td>...</td>\n",
       "      <td>...</td>\n",
       "      <td>...</td>\n",
       "    </tr>\n",
       "    <tr>\n",
       "      <th>7816</th>\n",
       "      <td>304.0</td>\n",
       "      <td>4.77</td>\n",
       "      <td>29.0</td>\n",
       "      <td>NaN</td>\n",
       "      <td>111.0</td>\n",
       "      <td>NaN</td>\n",
       "      <td>NaN</td>\n",
       "    </tr>\n",
       "    <tr>\n",
       "      <th>7817</th>\n",
       "      <td>255.0</td>\n",
       "      <td>NaN</td>\n",
       "      <td>NaN</td>\n",
       "      <td>NaN</td>\n",
       "      <td>NaN</td>\n",
       "      <td>NaN</td>\n",
       "      <td>NaN</td>\n",
       "    </tr>\n",
       "    <tr>\n",
       "      <th>7818</th>\n",
       "      <td>206.0</td>\n",
       "      <td>NaN</td>\n",
       "      <td>NaN</td>\n",
       "      <td>12.0</td>\n",
       "      <td>NaN</td>\n",
       "      <td>NaN</td>\n",
       "      <td>NaN</td>\n",
       "    </tr>\n",
       "    <tr>\n",
       "      <th>7819</th>\n",
       "      <td>316.0</td>\n",
       "      <td>5.13</td>\n",
       "      <td>28.5</td>\n",
       "      <td>27.0</td>\n",
       "      <td>110.0</td>\n",
       "      <td>7.75</td>\n",
       "      <td>4.71</td>\n",
       "    </tr>\n",
       "    <tr>\n",
       "      <th>7820</th>\n",
       "      <td>215.0</td>\n",
       "      <td>4.88</td>\n",
       "      <td>30.0</td>\n",
       "      <td>NaN</td>\n",
       "      <td>109.0</td>\n",
       "      <td>7.19</td>\n",
       "      <td>4.40</td>\n",
       "    </tr>\n",
       "  </tbody>\n",
       "</table>\n",
       "<p>7680 rows × 7 columns</p>\n",
       "</div>"
      ],
      "text/plain": [
       "         Wt  40yd  Vertical  Bench  Broad Jump  3Cone  Shuttle\n",
       "0     252.0  4.55       NaN    NaN         NaN    NaN      NaN\n",
       "1     218.0  4.58       NaN    NaN         NaN    NaN      NaN\n",
       "2     334.0  5.56      25.0   23.0        94.0   8.48     4.98\n",
       "3     253.0  4.97      29.0    NaN       104.0   7.29     4.49\n",
       "4     206.0  4.55      34.0    NaN       123.0   7.18     4.15\n",
       "...     ...   ...       ...    ...         ...    ...      ...\n",
       "7816  304.0  4.77      29.0    NaN       111.0    NaN      NaN\n",
       "7817  255.0   NaN       NaN    NaN         NaN    NaN      NaN\n",
       "7818  206.0   NaN       NaN   12.0         NaN    NaN      NaN\n",
       "7819  316.0  5.13      28.5   27.0       110.0   7.75     4.71\n",
       "7820  215.0  4.88      30.0    NaN       109.0   7.19     4.40\n",
       "\n",
       "[7680 rows x 7 columns]"
      ]
     },
     "execution_count": 5,
     "metadata": {},
     "output_type": "execute_result"
    }
   ],
   "source": [
    "# convert to type float for col_floats columns\n",
    "df[col_floats].astype(float)"
   ]
  },
  {
   "cell_type": "markdown",
   "metadata": {},
   "source": [
    "### Remove missing data"
   ]
  },
  {
   "cell_type": "code",
   "execution_count": 6,
   "metadata": {},
   "outputs": [
    {
     "data": {
      "text/plain": [
       "29"
      ]
     },
     "execution_count": 6,
     "metadata": {},
     "output_type": "execute_result"
    }
   ],
   "source": [
    "# there are 29 missing heights in the dataframe\n",
    "missing_heights = df[df['Ht'].isna()].index\n",
    "len(missing_heights)"
   ]
  },
  {
   "cell_type": "code",
   "execution_count": 7,
   "metadata": {},
   "outputs": [],
   "source": [
    "# remove these rows from the df\n",
    "df = df.drop(missing_heights)"
   ]
  },
  {
   "cell_type": "code",
   "execution_count": 8,
   "metadata": {},
   "outputs": [
    {
     "data": {
      "text/plain": [
       "(7651, 14)"
      ]
     },
     "execution_count": 8,
     "metadata": {},
     "output_type": "execute_result"
    }
   ],
   "source": [
    "# check shape (7680 - 29) = 7651\n",
    "df.shape"
   ]
  },
  {
   "cell_type": "markdown",
   "metadata": {},
   "source": [
    "### Convert `Height` to appropriate float value"
   ]
  },
  {
   "cell_type": "code",
   "execution_count": 9,
   "metadata": {},
   "outputs": [],
   "source": [
    "# create feet and inches columns to seperate the 'Ht'\n",
    "df['feet'] = df['Ht'].str.split(\"-\").str[0].astype(int)\n",
    "df['inches'] = df['Ht'].str.split(\"-\").str[1].astype(int)\n",
    "\n",
    "# add new Height column that calculates height as a float\n",
    "df['Height'] = df['feet'] + round((df['inches']/12),2)"
   ]
  },
  {
   "cell_type": "code",
   "execution_count": 10,
   "metadata": {},
   "outputs": [],
   "source": [
    "# remove unneeded columns and extra columns created\n",
    "df = df.drop(columns = ['Player', 'Ht', 'College','feet', 'inches', 'Year'])"
   ]
  },
  {
   "cell_type": "code",
   "execution_count": 11,
   "metadata": {},
   "outputs": [],
   "source": [
    "# rename the columns\n",
    "df = df[['Pos', 'School', 'Wt', '40yd', 'Vertical', 'Bench',\n",
    "       'Broad Jump', '3Cone', 'Shuttle', 'Drafted (tm/rnd/yr)', 'Height']]"
   ]
  },
  {
   "cell_type": "markdown",
   "metadata": {},
   "source": [
    "### Create binary `Drafted ` Column of 1 - Yes, 0 - No if player was drafted"
   ]
  },
  {
   "cell_type": "code",
   "execution_count": 12,
   "metadata": {},
   "outputs": [],
   "source": [
    "# fill missing in drafted column with 0\n",
    "df['Drafted (tm/rnd/yr)'] = df['Drafted (tm/rnd/yr)'].fillna(0)"
   ]
  },
  {
   "cell_type": "code",
   "execution_count": 13,
   "metadata": {},
   "outputs": [],
   "source": [
    "# create new column Drafted that designates whether drafted (1) or not (0)\n",
    "df['Drafted'] = np.where(df['Drafted (tm/rnd/yr)'] == 0, 0, 1)\n",
    "\n",
    "# drop extra drafted column now\n",
    "df.drop(columns = 'Drafted (tm/rnd/yr)', inplace = True)"
   ]
  },
  {
   "cell_type": "code",
   "execution_count": 14,
   "metadata": {},
   "outputs": [
    {
     "data": {
      "text/html": [
       "<div>\n",
       "<style scoped>\n",
       "    .dataframe tbody tr th:only-of-type {\n",
       "        vertical-align: middle;\n",
       "    }\n",
       "\n",
       "    .dataframe tbody tr th {\n",
       "        vertical-align: top;\n",
       "    }\n",
       "\n",
       "    .dataframe thead th {\n",
       "        text-align: right;\n",
       "    }\n",
       "</style>\n",
       "<table border=\"1\" class=\"dataframe\">\n",
       "  <thead>\n",
       "    <tr style=\"text-align: right;\">\n",
       "      <th></th>\n",
       "      <th>Pos</th>\n",
       "      <th>School</th>\n",
       "      <th>Wt</th>\n",
       "      <th>40yd</th>\n",
       "      <th>Vertical</th>\n",
       "      <th>Bench</th>\n",
       "      <th>Broad Jump</th>\n",
       "      <th>3Cone</th>\n",
       "      <th>Shuttle</th>\n",
       "      <th>Height</th>\n",
       "      <th>Drafted</th>\n",
       "    </tr>\n",
       "  </thead>\n",
       "  <tbody>\n",
       "    <tr>\n",
       "      <th>0</th>\n",
       "      <td>OLB</td>\n",
       "      <td>South Carolina</td>\n",
       "      <td>252.0</td>\n",
       "      <td>4.55</td>\n",
       "      <td>NaN</td>\n",
       "      <td>NaN</td>\n",
       "      <td>NaN</td>\n",
       "      <td>NaN</td>\n",
       "      <td>NaN</td>\n",
       "      <td>6.33</td>\n",
       "      <td>1</td>\n",
       "    </tr>\n",
       "    <tr>\n",
       "      <th>1</th>\n",
       "      <td>RB</td>\n",
       "      <td>Alabama</td>\n",
       "      <td>218.0</td>\n",
       "      <td>4.58</td>\n",
       "      <td>NaN</td>\n",
       "      <td>NaN</td>\n",
       "      <td>NaN</td>\n",
       "      <td>NaN</td>\n",
       "      <td>NaN</td>\n",
       "      <td>6.00</td>\n",
       "      <td>1</td>\n",
       "    </tr>\n",
       "    <tr>\n",
       "      <th>2</th>\n",
       "      <td>OT</td>\n",
       "      <td>Boston Col.</td>\n",
       "      <td>334.0</td>\n",
       "      <td>5.56</td>\n",
       "      <td>25.0</td>\n",
       "      <td>23.0</td>\n",
       "      <td>94.0</td>\n",
       "      <td>8.48</td>\n",
       "      <td>4.98</td>\n",
       "      <td>6.33</td>\n",
       "      <td>1</td>\n",
       "    </tr>\n",
       "    <tr>\n",
       "      <th>3</th>\n",
       "      <td>TE</td>\n",
       "      <td>Texas Tech</td>\n",
       "      <td>253.0</td>\n",
       "      <td>4.97</td>\n",
       "      <td>29.0</td>\n",
       "      <td>NaN</td>\n",
       "      <td>104.0</td>\n",
       "      <td>7.29</td>\n",
       "      <td>4.49</td>\n",
       "      <td>6.17</td>\n",
       "      <td>0</td>\n",
       "    </tr>\n",
       "    <tr>\n",
       "      <th>4</th>\n",
       "      <td>CB</td>\n",
       "      <td>Jackson State</td>\n",
       "      <td>206.0</td>\n",
       "      <td>4.55</td>\n",
       "      <td>34.0</td>\n",
       "      <td>NaN</td>\n",
       "      <td>123.0</td>\n",
       "      <td>7.18</td>\n",
       "      <td>4.15</td>\n",
       "      <td>6.17</td>\n",
       "      <td>1</td>\n",
       "    </tr>\n",
       "  </tbody>\n",
       "</table>\n",
       "</div>"
      ],
      "text/plain": [
       "   Pos          School     Wt  40yd  Vertical  Bench  Broad Jump  3Cone  \\\n",
       "0  OLB  South Carolina  252.0  4.55       NaN    NaN         NaN    NaN   \n",
       "1   RB         Alabama  218.0  4.58       NaN    NaN         NaN    NaN   \n",
       "2   OT     Boston Col.  334.0  5.56      25.0   23.0        94.0   8.48   \n",
       "3   TE      Texas Tech  253.0  4.97      29.0    NaN       104.0   7.29   \n",
       "4   CB   Jackson State  206.0  4.55      34.0    NaN       123.0   7.18   \n",
       "\n",
       "   Shuttle  Height  Drafted  \n",
       "0      NaN    6.33        1  \n",
       "1      NaN    6.00        1  \n",
       "2     4.98    6.33        1  \n",
       "3     4.49    6.17        0  \n",
       "4     4.15    6.17        1  "
      ]
     },
     "execution_count": 14,
     "metadata": {},
     "output_type": "execute_result"
    }
   ],
   "source": [
    "df.head(5)"
   ]
  },
  {
   "cell_type": "code",
   "execution_count": 15,
   "metadata": {},
   "outputs": [
    {
     "name": "stdout",
     "output_type": "stream",
     "text": [
      "<class 'pandas.core.frame.DataFrame'>\n",
      "Int64Index: 7651 entries, 0 to 7820\n",
      "Data columns (total 11 columns):\n",
      " #   Column      Non-Null Count  Dtype  \n",
      "---  ------      --------------  -----  \n",
      " 0   Pos         7651 non-null   object \n",
      " 1   School      7651 non-null   object \n",
      " 2   Wt          7651 non-null   float64\n",
      " 3   40yd        7191 non-null   float64\n",
      " 4   Vertical    5919 non-null   float64\n",
      " 5   Bench       5082 non-null   float64\n",
      " 6   Broad Jump  5850 non-null   float64\n",
      " 7   3Cone       4784 non-null   float64\n",
      " 8   Shuttle     4888 non-null   float64\n",
      " 9   Height      7651 non-null   float64\n",
      " 10  Drafted     7651 non-null   int64  \n",
      "dtypes: float64(8), int64(1), object(2)\n",
      "memory usage: 717.3+ KB\n"
     ]
    }
   ],
   "source": [
    "df.info()"
   ]
  },
  {
   "cell_type": "code",
   "execution_count": 16,
   "metadata": {},
   "outputs": [
    {
     "data": {
      "text/html": [
       "<div>\n",
       "<style scoped>\n",
       "    .dataframe tbody tr th:only-of-type {\n",
       "        vertical-align: middle;\n",
       "    }\n",
       "\n",
       "    .dataframe tbody tr th {\n",
       "        vertical-align: top;\n",
       "    }\n",
       "\n",
       "    .dataframe thead th {\n",
       "        text-align: right;\n",
       "    }\n",
       "</style>\n",
       "<table border=\"1\" class=\"dataframe\">\n",
       "  <thead>\n",
       "    <tr style=\"text-align: right;\">\n",
       "      <th></th>\n",
       "      <th>Pos</th>\n",
       "      <th>School</th>\n",
       "      <th>Wt</th>\n",
       "      <th>40yd</th>\n",
       "      <th>Vertical</th>\n",
       "      <th>Bench</th>\n",
       "      <th>Broad Jump</th>\n",
       "      <th>3Cone</th>\n",
       "      <th>Shuttle</th>\n",
       "      <th>Height</th>\n",
       "      <th>Drafted</th>\n",
       "    </tr>\n",
       "  </thead>\n",
       "  <tbody>\n",
       "    <tr>\n",
       "      <th>0</th>\n",
       "      <td>OLB</td>\n",
       "      <td>South Carolina</td>\n",
       "      <td>252.0</td>\n",
       "      <td>4.55</td>\n",
       "      <td>NaN</td>\n",
       "      <td>NaN</td>\n",
       "      <td>NaN</td>\n",
       "      <td>NaN</td>\n",
       "      <td>NaN</td>\n",
       "      <td>6.33</td>\n",
       "      <td>1</td>\n",
       "    </tr>\n",
       "    <tr>\n",
       "      <th>1</th>\n",
       "      <td>RB</td>\n",
       "      <td>Alabama</td>\n",
       "      <td>218.0</td>\n",
       "      <td>4.58</td>\n",
       "      <td>NaN</td>\n",
       "      <td>NaN</td>\n",
       "      <td>NaN</td>\n",
       "      <td>NaN</td>\n",
       "      <td>NaN</td>\n",
       "      <td>6.00</td>\n",
       "      <td>1</td>\n",
       "    </tr>\n",
       "    <tr>\n",
       "      <th>2</th>\n",
       "      <td>OT</td>\n",
       "      <td>Boston Col.</td>\n",
       "      <td>334.0</td>\n",
       "      <td>5.56</td>\n",
       "      <td>25.0</td>\n",
       "      <td>23.0</td>\n",
       "      <td>94.0</td>\n",
       "      <td>8.48</td>\n",
       "      <td>4.98</td>\n",
       "      <td>6.33</td>\n",
       "      <td>1</td>\n",
       "    </tr>\n",
       "    <tr>\n",
       "      <th>3</th>\n",
       "      <td>TE</td>\n",
       "      <td>Texas Tech</td>\n",
       "      <td>253.0</td>\n",
       "      <td>4.97</td>\n",
       "      <td>29.0</td>\n",
       "      <td>NaN</td>\n",
       "      <td>104.0</td>\n",
       "      <td>7.29</td>\n",
       "      <td>4.49</td>\n",
       "      <td>6.17</td>\n",
       "      <td>0</td>\n",
       "    </tr>\n",
       "    <tr>\n",
       "      <th>4</th>\n",
       "      <td>CB</td>\n",
       "      <td>Jackson State</td>\n",
       "      <td>206.0</td>\n",
       "      <td>4.55</td>\n",
       "      <td>34.0</td>\n",
       "      <td>NaN</td>\n",
       "      <td>123.0</td>\n",
       "      <td>7.18</td>\n",
       "      <td>4.15</td>\n",
       "      <td>6.17</td>\n",
       "      <td>1</td>\n",
       "    </tr>\n",
       "  </tbody>\n",
       "</table>\n",
       "</div>"
      ],
      "text/plain": [
       "   Pos          School     Wt  40yd  Vertical  Bench  Broad Jump  3Cone  \\\n",
       "0  OLB  South Carolina  252.0  4.55       NaN    NaN         NaN    NaN   \n",
       "1   RB         Alabama  218.0  4.58       NaN    NaN         NaN    NaN   \n",
       "2   OT     Boston Col.  334.0  5.56      25.0   23.0        94.0   8.48   \n",
       "3   TE      Texas Tech  253.0  4.97      29.0    NaN       104.0   7.29   \n",
       "4   CB   Jackson State  206.0  4.55      34.0    NaN       123.0   7.18   \n",
       "\n",
       "   Shuttle  Height  Drafted  \n",
       "0      NaN    6.33        1  \n",
       "1      NaN    6.00        1  \n",
       "2     4.98    6.33        1  \n",
       "3     4.49    6.17        0  \n",
       "4     4.15    6.17        1  "
      ]
     },
     "execution_count": 16,
     "metadata": {},
     "output_type": "execute_result"
    }
   ],
   "source": [
    "df.head()"
   ]
  },
  {
   "cell_type": "code",
   "execution_count": 17,
   "metadata": {},
   "outputs": [
    {
     "data": {
      "text/html": [
       "<div>\n",
       "<style scoped>\n",
       "    .dataframe tbody tr th:only-of-type {\n",
       "        vertical-align: middle;\n",
       "    }\n",
       "\n",
       "    .dataframe tbody tr th {\n",
       "        vertical-align: top;\n",
       "    }\n",
       "\n",
       "    .dataframe thead th {\n",
       "        text-align: right;\n",
       "    }\n",
       "</style>\n",
       "<table border=\"1\" class=\"dataframe\">\n",
       "  <thead>\n",
       "    <tr style=\"text-align: right;\">\n",
       "      <th></th>\n",
       "      <th>Wt</th>\n",
       "      <th>40yd</th>\n",
       "      <th>Vertical</th>\n",
       "      <th>Bench</th>\n",
       "      <th>Broad Jump</th>\n",
       "      <th>3Cone</th>\n",
       "      <th>Shuttle</th>\n",
       "      <th>Height</th>\n",
       "      <th>Drafted</th>\n",
       "    </tr>\n",
       "  </thead>\n",
       "  <tbody>\n",
       "    <tr>\n",
       "      <th>count</th>\n",
       "      <td>7651.000000</td>\n",
       "      <td>7191.000000</td>\n",
       "      <td>5919.000000</td>\n",
       "      <td>5082.000000</td>\n",
       "      <td>5850.000000</td>\n",
       "      <td>4784.000000</td>\n",
       "      <td>4888.000000</td>\n",
       "      <td>7651.000000</td>\n",
       "      <td>7651.000000</td>\n",
       "    </tr>\n",
       "    <tr>\n",
       "      <th>mean</th>\n",
       "      <td>242.735852</td>\n",
       "      <td>4.776540</td>\n",
       "      <td>32.892854</td>\n",
       "      <td>20.744392</td>\n",
       "      <td>114.590769</td>\n",
       "      <td>7.284933</td>\n",
       "      <td>4.399677</td>\n",
       "      <td>6.149007</td>\n",
       "      <td>0.643315</td>\n",
       "    </tr>\n",
       "    <tr>\n",
       "      <th>std</th>\n",
       "      <td>45.236972</td>\n",
       "      <td>0.304748</td>\n",
       "      <td>4.217085</td>\n",
       "      <td>6.378024</td>\n",
       "      <td>9.351811</td>\n",
       "      <td>0.417687</td>\n",
       "      <td>0.267133</td>\n",
       "      <td>0.220414</td>\n",
       "      <td>0.479052</td>\n",
       "    </tr>\n",
       "    <tr>\n",
       "      <th>min</th>\n",
       "      <td>144.000000</td>\n",
       "      <td>4.220000</td>\n",
       "      <td>17.500000</td>\n",
       "      <td>2.000000</td>\n",
       "      <td>74.000000</td>\n",
       "      <td>6.280000</td>\n",
       "      <td>3.730000</td>\n",
       "      <td>5.330000</td>\n",
       "      <td>0.000000</td>\n",
       "    </tr>\n",
       "    <tr>\n",
       "      <th>25%</th>\n",
       "      <td>205.000000</td>\n",
       "      <td>4.540000</td>\n",
       "      <td>30.000000</td>\n",
       "      <td>16.000000</td>\n",
       "      <td>109.000000</td>\n",
       "      <td>6.980000</td>\n",
       "      <td>4.200000</td>\n",
       "      <td>6.000000</td>\n",
       "      <td>0.000000</td>\n",
       "    </tr>\n",
       "    <tr>\n",
       "      <th>50%</th>\n",
       "      <td>232.000000</td>\n",
       "      <td>4.690000</td>\n",
       "      <td>33.000000</td>\n",
       "      <td>21.000000</td>\n",
       "      <td>116.000000</td>\n",
       "      <td>7.190000</td>\n",
       "      <td>4.360000</td>\n",
       "      <td>6.170000</td>\n",
       "      <td>1.000000</td>\n",
       "    </tr>\n",
       "    <tr>\n",
       "      <th>75%</th>\n",
       "      <td>280.000000</td>\n",
       "      <td>4.980000</td>\n",
       "      <td>36.000000</td>\n",
       "      <td>25.000000</td>\n",
       "      <td>121.000000</td>\n",
       "      <td>7.530000</td>\n",
       "      <td>4.560000</td>\n",
       "      <td>6.330000</td>\n",
       "      <td>1.000000</td>\n",
       "    </tr>\n",
       "    <tr>\n",
       "      <th>max</th>\n",
       "      <td>384.000000</td>\n",
       "      <td>6.050000</td>\n",
       "      <td>46.500000</td>\n",
       "      <td>49.000000</td>\n",
       "      <td>147.000000</td>\n",
       "      <td>9.120000</td>\n",
       "      <td>5.560000</td>\n",
       "      <td>6.830000</td>\n",
       "      <td>1.000000</td>\n",
       "    </tr>\n",
       "  </tbody>\n",
       "</table>\n",
       "</div>"
      ],
      "text/plain": [
       "                Wt         40yd     Vertical        Bench   Broad Jump  \\\n",
       "count  7651.000000  7191.000000  5919.000000  5082.000000  5850.000000   \n",
       "mean    242.735852     4.776540    32.892854    20.744392   114.590769   \n",
       "std      45.236972     0.304748     4.217085     6.378024     9.351811   \n",
       "min     144.000000     4.220000    17.500000     2.000000    74.000000   \n",
       "25%     205.000000     4.540000    30.000000    16.000000   109.000000   \n",
       "50%     232.000000     4.690000    33.000000    21.000000   116.000000   \n",
       "75%     280.000000     4.980000    36.000000    25.000000   121.000000   \n",
       "max     384.000000     6.050000    46.500000    49.000000   147.000000   \n",
       "\n",
       "             3Cone      Shuttle       Height      Drafted  \n",
       "count  4784.000000  4888.000000  7651.000000  7651.000000  \n",
       "mean      7.284933     4.399677     6.149007     0.643315  \n",
       "std       0.417687     0.267133     0.220414     0.479052  \n",
       "min       6.280000     3.730000     5.330000     0.000000  \n",
       "25%       6.980000     4.200000     6.000000     0.000000  \n",
       "50%       7.190000     4.360000     6.170000     1.000000  \n",
       "75%       7.530000     4.560000     6.330000     1.000000  \n",
       "max       9.120000     5.560000     6.830000     1.000000  "
      ]
     },
     "execution_count": 17,
     "metadata": {},
     "output_type": "execute_result"
    }
   ],
   "source": [
    "df.describe()"
   ]
  },
  {
   "cell_type": "markdown",
   "metadata": {},
   "source": [
    "## Exploratory Data Analysis"
   ]
  },
  {
   "cell_type": "markdown",
   "metadata": {},
   "source": [
    "### Position Breakdown\n",
    "\n",
    "- possibly come back here to see how final model performs based on splitting up by offensive and defensive positions"
   ]
  },
  {
   "cell_type": "code",
   "execution_count": 18,
   "metadata": {},
   "outputs": [
    {
     "data": {
      "text/plain": [
       "WR      1058\n",
       "CB       761\n",
       "RB       671\n",
       "S        559\n",
       "OT       524\n",
       "DE       519\n",
       "DT       497\n",
       "OLB      430\n",
       "TE       425\n",
       "QB       416\n",
       "OG       403\n",
       "ILB      276\n",
       "C        184\n",
       "LB       154\n",
       "P        142\n",
       "OL       139\n",
       "FB       120\n",
       "DL       116\n",
       "K        103\n",
       "EDGE      65\n",
       "DB        59\n",
       "LS        30\n",
       "Name: Pos, dtype: int64"
      ]
     },
     "execution_count": 18,
     "metadata": {},
     "output_type": "execute_result"
    }
   ],
   "source": [
    "# check positions available\n",
    "df['Pos'].value_counts()"
   ]
  },
  {
   "cell_type": "code",
   "execution_count": 19,
   "metadata": {},
   "outputs": [
    {
     "data": {
      "text/plain": [
       "WR      1058\n",
       "CB       761\n",
       "RB       671\n",
       "S        559\n",
       "OT       524\n",
       "DE       519\n",
       "DT       497\n",
       "OLB      430\n",
       "TE       425\n",
       "QB       416\n",
       "OG       403\n",
       "ILB      276\n",
       "C        184\n",
       "LB       154\n",
       "P        142\n",
       "OL       139\n",
       "FB       120\n",
       "DL       116\n",
       "K        103\n",
       "EDGE      65\n",
       "DB        59\n",
       "LS        30\n",
       "Name: Pos, dtype: int64"
      ]
     },
     "execution_count": 19,
     "metadata": {},
     "output_type": "execute_result"
    }
   ],
   "source": [
    "sorted_positions = df['Pos'].value_counts()\n",
    "sorted_positions"
   ]
  },
  {
   "cell_type": "code",
   "execution_count": 20,
   "metadata": {},
   "outputs": [
    {
     "data": {
      "text/plain": [
       "<AxesSubplot:title={'center':'Most Frequent Positions in the NFL Combine (2000 - 2022)'}>"
      ]
     },
     "execution_count": 20,
     "metadata": {},
     "output_type": "execute_result"
    },
    {
     "data": {
      "image/png": "[encoded data removed]",
      "text/plain": [
       "<Figure size 432x288 with 1 Axes>"
      ]
     },
     "metadata": {
      "needs_background": "light"
     },
     "output_type": "display_data"
    }
   ],
   "source": [
    "sorted_positions.plot(x = sorted_positions.index,\n",
    "                      y = sorted_positions.values,\n",
    "                      kind = 'barh', \n",
    "                      title = 'Most Frequent Positions in the NFL Combine (2000 - 2022)')"
   ]
  },
  {
   "cell_type": "code",
   "execution_count": 21,
   "metadata": {},
   "outputs": [],
   "source": [
    "# create positions_df that orders positions by most frequent to least\n",
    "positions = ['WR', 'CB', 'RB', 'S', 'OT', 'DE', 'DT', 'OLB', 'TE', 'QB', 'OG', 'ILB',\n",
    "       'C', 'LB', 'P', 'OL', 'FB', 'DL', 'K', 'EDGE', 'DB', 'LS']\n",
    "\n",
    "values = [1058,  761,  671,  559,  524,  519,  497,  430,  425,  416,  403,\n",
    "        276,  184,  154,  142,  139,  120,  116,  103,   65,   59,   30]\n",
    "\n",
    "data = {'Position': positions,\n",
    "        'Count': values}\n",
    "\n",
    "positions_df = pd.DataFrame(data,\n",
    "                       columns=['Count'], \n",
    "                       index = positions)"
   ]
  },
  {
   "cell_type": "code",
   "execution_count": 22,
   "metadata": {},
   "outputs": [
    {
     "data": {
      "image/png": "[encoded data removed]",
      "text/plain": [
       "<Figure size 864x432 with 1 Axes>"
      ]
     },
     "metadata": {
      "needs_background": "light"
     },
     "output_type": "display_data"
    }
   ],
   "source": [
    "# plot a lollipop plot of most frequent positions in the combine\n",
    "fig, ax = plt.subplots(figsize=(12, 6))\n",
    "plt.style.use('bmh')\n",
    "\n",
    "# create dataframe of positions & number of drafted\n",
    "ordered_df = positions_df.sort_values(by = 'Count')\n",
    "\n",
    "# plots the lines\n",
    "plt.hlines(y = ordered_df.index,  # positions\n",
    "           xmin = 0,\n",
    "           xmax = ordered_df['Count'],  # Count values\n",
    "           color = '#013369', linewidth = 3)\n",
    "\n",
    "plt.scatter(ordered_df['Count'], # Count values\n",
    "            ordered_df.index,  # positions\n",
    "            color='#d50a0a', \n",
    "            alpha=1, s = 50)\n",
    "\n",
    "plt.title('Most Frequent Positions in the NFL Combine (2000 - 2022)', weight = \"bold\", fontsize = 15)\n",
    "plt.ylabel('Position', weight = \"bold\", fontsize = 12)\n",
    "\n",
    "plt.tight_layout()\n",
    "plt.show()"
   ]
  },
  {
   "cell_type": "code",
   "execution_count": 23,
   "metadata": {},
   "outputs": [],
   "source": [
    "# list of offensive positions\n",
    "offense_list = ['WR', 'RB', 'OT', 'TE', 'QB', 'OG', 'C', 'OL', 'FB']\n",
    "\n",
    "# list of defensive positions\n",
    "defense_list = ['CB', 'S', 'DE', 'DT', 'OLB', 'ILB', 'LB', 'DL', 'EDGE', 'DB']\n",
    "\n",
    "# list of special team positions\n",
    "special_teams_list = ['LS', 'K', 'P']"
   ]
  },
  {
   "cell_type": "code",
   "execution_count": 24,
   "metadata": {},
   "outputs": [],
   "source": [
    "# split into offensive positions\n",
    "offense = df.loc[df['Pos'].isin(offense_list)]\n",
    "\n",
    "# split into defensive positions\n",
    "defense = df.loc[df['Pos'].isin(defense_list)]\n",
    "\n",
    "# split into special teams positions\n",
    "special_teams = df.loc[df['Pos'].isin(special_teams_list)]"
   ]
  },
  {
   "cell_type": "code",
   "execution_count": 25,
   "metadata": {},
   "outputs": [
    {
     "name": "stdout",
     "output_type": "stream",
     "text": [
      "Offense\n",
      "Total Players:      3940\n",
      "Total Drafted:      2447\n",
      "Total Undrafted:    1493\n",
      "Percent Drafted:    0.62\n",
      "Percent Undrafted:  0.38\n",
      "-------------------------\n",
      "Defense\n",
      "Total Players:      3436\n",
      "Total Drafted:      2397\n",
      "Total Undrafted:    1039\n",
      "Percent Drafted:    0.7\n",
      "Percent Undrafted:  0.3\n",
      "-------------------------\n",
      "Special Teams\n",
      "Total Players:      275\n",
      "Total Drafted:      78\n",
      "Total Undrafted:    197\n",
      "Percent Drafted:    0.28\n",
      "Percent Undrafted:  0.72\n"
     ]
    }
   ],
   "source": [
    "# percent and count breakdowns\n",
    "# Offense\n",
    "total_offense = len(offense)\n",
    "total_offense_drafted = offense['Drafted'].value_counts()[1]\n",
    "total_offense_undrafted = offense['Drafted'].value_counts()[0]\n",
    "percent_off_drafted = round(offense['Drafted'].value_counts(normalize = True)[1], 2)\n",
    "percent_off_undrafted = round(offense['Drafted'].value_counts(normalize = True)[0], 2)\n",
    "\n",
    "print(\"Offense\")\n",
    "print(f\"Total Players:      {total_offense}\")\n",
    "print(f\"Total Drafted:      {total_offense_drafted}\")\n",
    "print(f\"Total Undrafted:    {total_offense_undrafted}\")\n",
    "print(f\"Percent Drafted:    {percent_off_drafted}\")\n",
    "print(f\"Percent Undrafted:  {percent_off_undrafted}\")\n",
    "print(\"-\"*25)\n",
    "\n",
    "# Defense\n",
    "total_defense = len(defense)\n",
    "total_defense_drafted = defense['Drafted'].value_counts()[1]\n",
    "total_defense_undrafted = defense['Drafted'].value_counts()[0]\n",
    "percent_def_drafted = round(defense['Drafted'].value_counts(normalize = True)[1], 2)\n",
    "percent_def_undrafted = round(defense['Drafted'].value_counts(normalize = True)[0], 2)\n",
    "\n",
    "print(\"Defense\")\n",
    "print(f\"Total Players:      {total_defense}\")\n",
    "print(f\"Total Drafted:      {total_defense_drafted}\")\n",
    "print(f\"Total Undrafted:    {total_defense_undrafted}\")\n",
    "print(f\"Percent Drafted:    {percent_def_drafted}\")\n",
    "print(f\"Percent Undrafted:  {percent_def_undrafted}\")\n",
    "print(\"-\"*25)\n",
    "\n",
    "# Special teams\n",
    "total_st = len(special_teams)\n",
    "total_st_drafted = special_teams['Drafted'].value_counts()[1]\n",
    "total_st_undrafted = special_teams['Drafted'].value_counts()[0]\n",
    "percent_st_drafted = round(special_teams['Drafted'].value_counts(normalize = True)[1], 2)\n",
    "percent_st_undrafted = round(special_teams['Drafted'].value_counts(normalize = True)[0], 2)\n",
    "\n",
    "print(\"Special Teams\")\n",
    "print(f\"Total Players:      {total_st}\")\n",
    "print(f\"Total Drafted:      {total_st_drafted}\")\n",
    "print(f\"Total Undrafted:    {total_st_undrafted}\")\n",
    "print(f\"Percent Drafted:    {percent_st_drafted}\")\n",
    "print(f\"Percent Undrafted:  {percent_st_undrafted}\")"
   ]
  },
  {
   "cell_type": "code",
   "execution_count": 26,
   "metadata": {},
   "outputs": [
    {
     "data": {
      "image/png": "[encoded data removed]",
      "text/plain": [
       "<Figure size 720x360 with 1 Axes>"
      ]
     },
     "metadata": {},
     "output_type": "display_data"
    }
   ],
   "source": [
    "# plot visual breakdown of drafted by team category \n",
    "position_category = ['Offense', 'Defense', 'Special Teams']\n",
    "\n",
    "data = {'Drafted': [total_offense_drafted, total_defense_drafted, total_st_drafted],\n",
    "        'Undrafted': [total_offense_undrafted, total_defense_undrafted, total_st_undrafted]\n",
    "       }\n",
    "\n",
    "# create dataframe of positions & number of drafted\n",
    "drafted = pd.DataFrame(data,\n",
    "                       columns=['Undrafted', 'Drafted'], \n",
    "                       index = position_category)\n",
    "\n",
    "plt.style.use('seaborn-dark')\n",
    "\n",
    "fig, ax = plt.subplots(figsize=(10, 5))\n",
    "\n",
    "drafted.plot(kind = 'barh',\n",
    "             edgecolor = \"black\",\n",
    "             linewidth = 1,\n",
    "             ax = ax, stacked = False,\n",
    "             xlim = (0, 3200))\n",
    "\n",
    "# create a list to collect the plt.patches data\n",
    "totals = []\n",
    "\n",
    "# find the values and append to list\n",
    "for i in ax.patches:\n",
    "    totals.append(i.get_width())\n",
    "\n",
    "# set individual bar lables using above list\n",
    "total = sum(totals)\n",
    "\n",
    "# set individual bar lables using above list\n",
    "for i in ax.patches:\n",
    "    # get_width pulls left or right; get_y pushes up or down\n",
    "    ax.text(i.get_width()+ 30, i.get_y() + 0.17, \\\n",
    "            str(round((i.get_width()/total)*100, 2))+'%', fontsize=10,\n",
    "color='black')\n",
    "\n",
    "# invert for largest on top \n",
    "ax.invert_yaxis()\n",
    "\n",
    "plt.title('Players Drafted by Team Category (2000-2022)', weight = \"bold\")\n",
    "plt.ylabel('Team Category')\n",
    "plt.xlabel('Count')\n",
    "\n",
    "plt.tight_layout()\n",
    "plt.show()"
   ]
  },
  {
   "cell_type": "code",
   "execution_count": 27,
   "metadata": {},
   "outputs": [
    {
     "data": {
      "image/png": "[encoded data removed]",
      "text/plain": [
       "<Figure size 720x288 with 1 Axes>"
      ]
     },
     "metadata": {},
     "output_type": "display_data"
    }
   ],
   "source": [
    "# create dict of drafted/undrafted with sums of each category\n",
    "total = ['']\n",
    "\n",
    "data = {'Undrafted': [drafted['Undrafted'].sum()],\n",
    "        'Drafted': [drafted['Drafted'].sum()]\n",
    "        }\n",
    "\n",
    "# new drafted_total df\n",
    "drafted_total = pd.DataFrame(data,\n",
    "                       columns=['Undrafted', 'Drafted'],\n",
    "                       index = total)\n",
    "\n",
    "plt.style.use('seaborn-dark')\n",
    "\n",
    "fig, ax = plt.subplots(figsize=(10, 4))\n",
    "\n",
    "drafted_total.plot(kind = 'barh',\n",
    "             edgecolor = \"black\",\n",
    "             linewidth = 1,\n",
    "             ax = ax, stacked = True)\n",
    "\n",
    "# create a list to collect the plt.patches data\n",
    "totals = []\n",
    "\n",
    "# find the values and append to list\n",
    "for i in ax.patches:\n",
    "    totals.append(i.get_width())\n",
    "\n",
    "# set individual bar lables using above list\n",
    "total = sum(totals)\n",
    "\n",
    "# set individual bar lables using above list\n",
    "for i in ax.patches:\n",
    "    # get_width pulls left or right; get_y pushes up or down\n",
    "    ax.text(i.get_width()-900, i.get_y()+.21, \\\n",
    "            str(round((i.get_width()/total)*100, 2))+'%', \n",
    "            fontsize=15,\n",
    "            color='black')\n",
    "\n",
    "ax.set_xlabel('Count')\n",
    "\n",
    "ax.set(ylabel=None)\n",
    "ax.set_title('Drafted VS. Undrafted Players (2000-2022)', weight = \"bold\")\n",
    "ax.legend()\n",
    "\n",
    "plt.show()"
   ]
  },
  {
   "cell_type": "code",
   "execution_count": 28,
   "metadata": {},
   "outputs": [
    {
     "data": {
      "text/html": [
       "<div>\n",
       "<style scoped>\n",
       "    .dataframe tbody tr th:only-of-type {\n",
       "        vertical-align: middle;\n",
       "    }\n",
       "\n",
       "    .dataframe tbody tr th {\n",
       "        vertical-align: top;\n",
       "    }\n",
       "\n",
       "    .dataframe thead tr th {\n",
       "        text-align: left;\n",
       "    }\n",
       "\n",
       "    .dataframe thead tr:last-of-type th {\n",
       "        text-align: right;\n",
       "    }\n",
       "</style>\n",
       "<table border=\"1\" class=\"dataframe\">\n",
       "  <thead>\n",
       "    <tr>\n",
       "      <th></th>\n",
       "      <th colspan=\"2\" halign=\"left\">Wt</th>\n",
       "      <th colspan=\"2\" halign=\"left\">40yd</th>\n",
       "      <th colspan=\"2\" halign=\"left\">Vertical</th>\n",
       "      <th colspan=\"2\" halign=\"left\">Bench</th>\n",
       "      <th colspan=\"2\" halign=\"left\">Broad Jump</th>\n",
       "      <th colspan=\"2\" halign=\"left\">3Cone</th>\n",
       "      <th colspan=\"2\" halign=\"left\">Shuttle</th>\n",
       "      <th colspan=\"2\" halign=\"left\">Height</th>\n",
       "    </tr>\n",
       "    <tr>\n",
       "      <th></th>\n",
       "      <th>mean</th>\n",
       "      <th>std</th>\n",
       "      <th>mean</th>\n",
       "      <th>std</th>\n",
       "      <th>mean</th>\n",
       "      <th>std</th>\n",
       "      <th>mean</th>\n",
       "      <th>std</th>\n",
       "      <th>mean</th>\n",
       "      <th>std</th>\n",
       "      <th>mean</th>\n",
       "      <th>std</th>\n",
       "      <th>mean</th>\n",
       "      <th>std</th>\n",
       "      <th>mean</th>\n",
       "      <th>std</th>\n",
       "    </tr>\n",
       "    <tr>\n",
       "      <th>Drafted</th>\n",
       "      <th></th>\n",
       "      <th></th>\n",
       "      <th></th>\n",
       "      <th></th>\n",
       "      <th></th>\n",
       "      <th></th>\n",
       "      <th></th>\n",
       "      <th></th>\n",
       "      <th></th>\n",
       "      <th></th>\n",
       "      <th></th>\n",
       "      <th></th>\n",
       "      <th></th>\n",
       "      <th></th>\n",
       "      <th></th>\n",
       "      <th></th>\n",
       "    </tr>\n",
       "  </thead>\n",
       "  <tbody>\n",
       "    <tr>\n",
       "      <th>0</th>\n",
       "      <td>238.130451</td>\n",
       "      <td>44.166829</td>\n",
       "      <td>4.827518</td>\n",
       "      <td>0.304425</td>\n",
       "      <td>32.126826</td>\n",
       "      <td>4.183633</td>\n",
       "      <td>19.449483</td>\n",
       "      <td>6.088900</td>\n",
       "      <td>113.015686</td>\n",
       "      <td>9.188386</td>\n",
       "      <td>7.338688</td>\n",
       "      <td>0.437711</td>\n",
       "      <td>4.438029</td>\n",
       "      <td>0.274793</td>\n",
       "      <td>6.126918</td>\n",
       "      <td>0.222148</td>\n",
       "    </tr>\n",
       "    <tr>\n",
       "      <th>1</th>\n",
       "      <td>245.289313</td>\n",
       "      <td>45.624052</td>\n",
       "      <td>4.748869</td>\n",
       "      <td>0.301366</td>\n",
       "      <td>33.299948</td>\n",
       "      <td>4.178520</td>\n",
       "      <td>21.419760</td>\n",
       "      <td>6.421818</td>\n",
       "      <td>115.434121</td>\n",
       "      <td>9.330657</td>\n",
       "      <td>7.256132</td>\n",
       "      <td>0.403689</td>\n",
       "      <td>4.379040</td>\n",
       "      <td>0.260637</td>\n",
       "      <td>6.161254</td>\n",
       "      <td>0.218508</td>\n",
       "    </tr>\n",
       "  </tbody>\n",
       "</table>\n",
       "</div>"
      ],
      "text/plain": [
       "                 Wt                 40yd             Vertical            \\\n",
       "               mean        std      mean       std       mean       std   \n",
       "Drafted                                                                   \n",
       "0        238.130451  44.166829  4.827518  0.304425  32.126826  4.183633   \n",
       "1        245.289313  45.624052  4.748869  0.301366  33.299948  4.178520   \n",
       "\n",
       "             Bench            Broad Jump               3Cone            \\\n",
       "              mean       std        mean       std      mean       std   \n",
       "Drafted                                                                  \n",
       "0        19.449483  6.088900  113.015686  9.188386  7.338688  0.437711   \n",
       "1        21.419760  6.421818  115.434121  9.330657  7.256132  0.403689   \n",
       "\n",
       "          Shuttle              Height            \n",
       "             mean       std      mean       std  \n",
       "Drafted                                          \n",
       "0        4.438029  0.274793  6.126918  0.222148  \n",
       "1        4.379040  0.260637  6.161254  0.218508  "
      ]
     },
     "execution_count": 28,
     "metadata": {},
     "output_type": "execute_result"
    }
   ],
   "source": [
    "# get a sense of average metrics of drafted vs undrafted players\n",
    "aggs = df.groupby('Drafted').agg(['mean', 'std'])\n",
    "aggs"
   ]
  },
  {
   "cell_type": "markdown",
   "metadata": {},
   "source": [
    "## Below is just a check to see clustering of predictors"
   ]
  },
  {
   "cell_type": "code",
   "execution_count": 29,
   "metadata": {},
   "outputs": [],
   "source": [
    "# a prelim check to see classification of drafted vs undrafted for each predictor\n",
    "# sns.pairplot(hue = 'Drafted', data = df, height = 1.75)\n"
   ]
  },
  {
   "cell_type": "code",
   "execution_count": null,
   "metadata": {},
   "outputs": [],
   "source": []
  },
  {
   "cell_type": "markdown",
   "metadata": {},
   "source": [
    "## Train-Test Split\n",
    "\n",
    "Based on the early exploratory data analysis on the drafted vs. undrafted players, this dataset is relatively imbalanced at a 2:1 ratio. Below we will perform a Train-Test Split and specify a `stratify=y` to ensure an even balance of drafted and undrafted player in the split. "
   ]
  },
  {
   "cell_type": "code",
   "execution_count": 30,
   "metadata": {},
   "outputs": [],
   "source": [
    "# feature selection, target variable = 'Drafted'\n",
    "X = df.drop(['Drafted'], axis = 1)\n",
    "y = df['Drafted']\n",
    "X_train, X_test, y_train, y_test = train_test_split(X, y, stratify = y, random_state= 42)"
   ]
  },
  {
   "cell_type": "code",
   "execution_count": 31,
   "metadata": {},
   "outputs": [],
   "source": [
    "# feature selection, target variable = 'Drafted'\n",
    "X_drop_school = df.drop(['Drafted', 'School'], axis = 1)\n",
    "y_drop_school = df['Drafted']\n",
    "X_train_drop_school, X_test_drop_school, y_train_drop_school, y_test_drop_school = train_test_split(X_drop_school, y_drop_school, stratify = y, random_state= 42)"
   ]
  },
  {
   "cell_type": "code",
   "execution_count": 32,
   "metadata": {},
   "outputs": [
    {
     "name": "stdout",
     "output_type": "stream",
     "text": [
      "(5738, 10)\n",
      "(1913, 10)\n",
      "(5738,)\n",
      "(1913,)\n"
     ]
    }
   ],
   "source": [
    "print(X_train.shape)\n",
    "print(X_test.shape)\n",
    "print(y_train.shape)\n",
    "print(y_test.shape)"
   ]
  },
  {
   "cell_type": "code",
   "execution_count": 33,
   "metadata": {},
   "outputs": [
    {
     "name": "stdout",
     "output_type": "stream",
     "text": [
      "Train percent Drafted: 0.6432554897176717\n",
      "Test percent Drafted:  0.643491897543126\n"
     ]
    }
   ],
   "source": [
    "# check that percent in y_train and y_test for drafted is balanced\n",
    "print(\"Train percent Drafted:\", y_train.value_counts(normalize=True)[1])\n",
    "print(\"Test percent Drafted: \", y_test.value_counts(normalize=True)[1])"
   ]
  },
  {
   "cell_type": "markdown",
   "metadata": {},
   "source": [
    "### Handling Missing Values"
   ]
  },
  {
   "cell_type": "code",
   "execution_count": 34,
   "metadata": {},
   "outputs": [
    {
     "data": {
      "text/plain": [
       "Pos              0\n",
       "School           0\n",
       "Wt               0\n",
       "40yd           344\n",
       "Vertical      1330\n",
       "Bench         1943\n",
       "Broad Jump    1378\n",
       "3Cone         2173\n",
       "Shuttle       2097\n",
       "Height           0\n",
       "dtype: int64"
      ]
     },
     "execution_count": 34,
     "metadata": {},
     "output_type": "execute_result"
    }
   ],
   "source": [
    "X_train.isna().sum()"
   ]
  },
  {
   "cell_type": "code",
   "execution_count": 35,
   "metadata": {},
   "outputs": [
    {
     "name": "stdout",
     "output_type": "stream",
     "text": [
      "6.0% of 40yd is missing.\n",
      "23.0% of Vertical is missing.\n",
      "34.0% of Bench is missing.\n",
      "24.0% of Broad Jump is missing.\n",
      "38.0% of 3Cone is missing.\n",
      "37.0% of Shuttle is missing.\n"
     ]
    }
   ],
   "source": [
    "f = (X_train['40yd'].isna().sum()/X_train.shape[0]).round(2) * 100\n",
    "v = (X_train['Vertical'].isna().sum()/X_train.shape[0]).round(2) * 100\n",
    "b = (X_train['Bench'].isna().sum()/X_train.shape[0]).round(2) * 100\n",
    "bj = (X_train['Broad Jump'].isna().sum()/X_train.shape[0]).round(2) * 100\n",
    "c = (X_train['3Cone'].isna().sum()/X_train.shape[0]).round(2) * 100\n",
    "s = (X_train['Shuttle'].isna().sum()/X_train.shape[0]).round(2) * 100\n",
    "\n",
    "print(f'{f}% of 40yd is missing.')\n",
    "print(f'{v}% of Vertical is missing.')\n",
    "print(f'{b}% of Bench is missing.')\n",
    "print(f'{bj}% of Broad Jump is missing.')\n",
    "print(f'{c}% of 3Cone is missing.')\n",
    "print(f'{s}% of Shuttle is missing.')"
   ]
  },
  {
   "cell_type": "markdown",
   "metadata": {},
   "source": [
    "A large majority of values are missing in this data set as evidenced from the above. I can fill in the NaNs with the average (mean) grouped by position. It would make sense to group by position since some players may be faster than others simply by the nature of their position and their overall build. "
   ]
  },
  {
   "cell_type": "code",
   "execution_count": 36,
   "metadata": {},
   "outputs": [
    {
     "data": {
      "text/html": [
       "<div>\n",
       "<style scoped>\n",
       "    .dataframe tbody tr th:only-of-type {\n",
       "        vertical-align: middle;\n",
       "    }\n",
       "\n",
       "    .dataframe tbody tr th {\n",
       "        vertical-align: top;\n",
       "    }\n",
       "\n",
       "    .dataframe thead th {\n",
       "        text-align: right;\n",
       "    }\n",
       "</style>\n",
       "<table border=\"1\" class=\"dataframe\">\n",
       "  <thead>\n",
       "    <tr style=\"text-align: right;\">\n",
       "      <th></th>\n",
       "      <th>Pos</th>\n",
       "      <th>School</th>\n",
       "      <th>Wt</th>\n",
       "      <th>40yd</th>\n",
       "      <th>Vertical</th>\n",
       "      <th>Bench</th>\n",
       "      <th>Broad Jump</th>\n",
       "      <th>3Cone</th>\n",
       "      <th>Shuttle</th>\n",
       "      <th>Height</th>\n",
       "    </tr>\n",
       "  </thead>\n",
       "  <tbody>\n",
       "    <tr>\n",
       "      <th>6651</th>\n",
       "      <td>S</td>\n",
       "      <td>Kentucky</td>\n",
       "      <td>208.0</td>\n",
       "      <td>4.39</td>\n",
       "      <td>33.5</td>\n",
       "      <td>19.0</td>\n",
       "      <td>113.0</td>\n",
       "      <td>NaN</td>\n",
       "      <td>NaN</td>\n",
       "      <td>5.92</td>\n",
       "    </tr>\n",
       "    <tr>\n",
       "      <th>6261</th>\n",
       "      <td>DT</td>\n",
       "      <td>Fort Hays State</td>\n",
       "      <td>315.0</td>\n",
       "      <td>5.09</td>\n",
       "      <td>31.0</td>\n",
       "      <td>NaN</td>\n",
       "      <td>112.0</td>\n",
       "      <td>7.5</td>\n",
       "      <td>4.53</td>\n",
       "      <td>6.42</td>\n",
       "    </tr>\n",
       "    <tr>\n",
       "      <th>6174</th>\n",
       "      <td>QB</td>\n",
       "      <td>Nebraska</td>\n",
       "      <td>218.0</td>\n",
       "      <td>4.98</td>\n",
       "      <td>32.0</td>\n",
       "      <td>NaN</td>\n",
       "      <td>115.0</td>\n",
       "      <td>7.0</td>\n",
       "      <td>4.41</td>\n",
       "      <td>6.33</td>\n",
       "    </tr>\n",
       "    <tr>\n",
       "      <th>7742</th>\n",
       "      <td>EDGE</td>\n",
       "      <td>Cincinnati</td>\n",
       "      <td>228.0</td>\n",
       "      <td>4.67</td>\n",
       "      <td>33.0</td>\n",
       "      <td>NaN</td>\n",
       "      <td>120.0</td>\n",
       "      <td>NaN</td>\n",
       "      <td>4.37</td>\n",
       "      <td>6.42</td>\n",
       "    </tr>\n",
       "    <tr>\n",
       "      <th>7016</th>\n",
       "      <td>DL</td>\n",
       "      <td>Ohio State</td>\n",
       "      <td>264.0</td>\n",
       "      <td>NaN</td>\n",
       "      <td>NaN</td>\n",
       "      <td>NaN</td>\n",
       "      <td>NaN</td>\n",
       "      <td>NaN</td>\n",
       "      <td>NaN</td>\n",
       "      <td>6.42</td>\n",
       "    </tr>\n",
       "  </tbody>\n",
       "</table>\n",
       "</div>"
      ],
      "text/plain": [
       "       Pos           School     Wt  40yd  Vertical  Bench  Broad Jump  3Cone  \\\n",
       "6651     S         Kentucky  208.0  4.39      33.5   19.0       113.0    NaN   \n",
       "6261    DT  Fort Hays State  315.0  5.09      31.0    NaN       112.0    7.5   \n",
       "6174    QB         Nebraska  218.0  4.98      32.0    NaN       115.0    7.0   \n",
       "7742  EDGE       Cincinnati  228.0  4.67      33.0    NaN       120.0    NaN   \n",
       "7016    DL       Ohio State  264.0   NaN       NaN    NaN         NaN    NaN   \n",
       "\n",
       "      Shuttle  Height  \n",
       "6651      NaN    5.92  \n",
       "6261     4.53    6.42  \n",
       "6174     4.41    6.33  \n",
       "7742     4.37    6.42  \n",
       "7016      NaN    6.42  "
      ]
     },
     "execution_count": 36,
     "metadata": {},
     "output_type": "execute_result"
    }
   ],
   "source": [
    "X_train.head()"
   ]
  },
  {
   "cell_type": "code",
   "execution_count": 37,
   "metadata": {},
   "outputs": [],
   "source": [
    "# for each missing value in the columns, replace with the mean of that position \n",
    "X_train['40yd'] = X_train['40yd'].fillna(df.groupby('Pos')['40yd'].transform('mean'))\n",
    "X_train['Vertical'] = X_train['Vertical'].fillna(df.groupby('Pos')['Vertical'].transform('mean'))\n",
    "X_train['Bench'] = X_train['Bench'].fillna(df.groupby('Pos')['Bench'].transform('mean'))\n",
    "X_train['Broad Jump'] = X_train['Broad Jump'].fillna(df.groupby('Pos')['Broad Jump'].transform('mean'))\n",
    "X_train['3Cone'] = X_train['3Cone'].fillna(df.groupby('Pos')['3Cone'].transform('mean'))\n",
    "X_train['Shuttle'] = X_train['Shuttle'].fillna(df.groupby('Pos')['Shuttle'].transform('mean'))"
   ]
  },
  {
   "cell_type": "code",
   "execution_count": 38,
   "metadata": {},
   "outputs": [],
   "source": [
    "# create a helper function for the above for future use\n",
    "def fill_missing(df):\n",
    "    \"\"\" \n",
    "    Helper function that takes in columns from a dataframe and fills in the NaNs \n",
    "    with the means grouped by Position. Can be used for the training and test sets. \n",
    "    \"\"\"\n",
    "    missing_cols = ['40yd', 'Vertical', 'Bench', 'Broad Jump', '3Cone', 'Shuttle']\n",
    "    \n",
    "    for col in missing_cols:\n",
    "        df[col] = df[col].fillna(df.groupby('Pos')[col].transform('mean'))\n",
    "    \n",
    "    return df\n",
    "    "
   ]
  },
  {
   "cell_type": "code",
   "execution_count": 39,
   "metadata": {},
   "outputs": [
    {
     "data": {
      "text/html": [
       "<div>\n",
       "<style scoped>\n",
       "    .dataframe tbody tr th:only-of-type {\n",
       "        vertical-align: middle;\n",
       "    }\n",
       "\n",
       "    .dataframe tbody tr th {\n",
       "        vertical-align: top;\n",
       "    }\n",
       "\n",
       "    .dataframe thead th {\n",
       "        text-align: right;\n",
       "    }\n",
       "</style>\n",
       "<table border=\"1\" class=\"dataframe\">\n",
       "  <thead>\n",
       "    <tr style=\"text-align: right;\">\n",
       "      <th></th>\n",
       "      <th>Pos</th>\n",
       "      <th>School</th>\n",
       "      <th>Wt</th>\n",
       "      <th>40yd</th>\n",
       "      <th>Vertical</th>\n",
       "      <th>Bench</th>\n",
       "      <th>Broad Jump</th>\n",
       "      <th>3Cone</th>\n",
       "      <th>Shuttle</th>\n",
       "      <th>Height</th>\n",
       "    </tr>\n",
       "  </thead>\n",
       "  <tbody>\n",
       "    <tr>\n",
       "      <th>6651</th>\n",
       "      <td>S</td>\n",
       "      <td>Kentucky</td>\n",
       "      <td>208.0</td>\n",
       "      <td>4.390000</td>\n",
       "      <td>33.500000</td>\n",
       "      <td>19.000000</td>\n",
       "      <td>113.000000</td>\n",
       "      <td>7.002910</td>\n",
       "      <td>4.204769</td>\n",
       "      <td>5.92</td>\n",
       "    </tr>\n",
       "    <tr>\n",
       "      <th>6261</th>\n",
       "      <td>DT</td>\n",
       "      <td>Fort Hays State</td>\n",
       "      <td>315.0</td>\n",
       "      <td>5.090000</td>\n",
       "      <td>31.000000</td>\n",
       "      <td>27.552561</td>\n",
       "      <td>112.000000</td>\n",
       "      <td>7.500000</td>\n",
       "      <td>4.530000</td>\n",
       "      <td>6.42</td>\n",
       "    </tr>\n",
       "    <tr>\n",
       "      <th>6174</th>\n",
       "      <td>QB</td>\n",
       "      <td>Nebraska</td>\n",
       "      <td>218.0</td>\n",
       "      <td>4.980000</td>\n",
       "      <td>32.000000</td>\n",
       "      <td>19.300000</td>\n",
       "      <td>115.000000</td>\n",
       "      <td>7.000000</td>\n",
       "      <td>4.410000</td>\n",
       "      <td>6.33</td>\n",
       "    </tr>\n",
       "    <tr>\n",
       "      <th>7742</th>\n",
       "      <td>EDGE</td>\n",
       "      <td>Cincinnati</td>\n",
       "      <td>228.0</td>\n",
       "      <td>4.670000</td>\n",
       "      <td>33.000000</td>\n",
       "      <td>22.902439</td>\n",
       "      <td>120.000000</td>\n",
       "      <td>7.146000</td>\n",
       "      <td>4.370000</td>\n",
       "      <td>6.42</td>\n",
       "    </tr>\n",
       "    <tr>\n",
       "      <th>7016</th>\n",
       "      <td>DL</td>\n",
       "      <td>Ohio State</td>\n",
       "      <td>264.0</td>\n",
       "      <td>4.975784</td>\n",
       "      <td>30.680645</td>\n",
       "      <td>25.903226</td>\n",
       "      <td>111.595506</td>\n",
       "      <td>7.576301</td>\n",
       "      <td>4.614865</td>\n",
       "      <td>6.42</td>\n",
       "    </tr>\n",
       "    <tr>\n",
       "      <th>...</th>\n",
       "      <td>...</td>\n",
       "      <td>...</td>\n",
       "      <td>...</td>\n",
       "      <td>...</td>\n",
       "      <td>...</td>\n",
       "      <td>...</td>\n",
       "      <td>...</td>\n",
       "      <td>...</td>\n",
       "      <td>...</td>\n",
       "      <td>...</td>\n",
       "    </tr>\n",
       "    <tr>\n",
       "      <th>1599</th>\n",
       "      <td>RB</td>\n",
       "      <td>Northern Illinois</td>\n",
       "      <td>237.0</td>\n",
       "      <td>4.490000</td>\n",
       "      <td>31.000000</td>\n",
       "      <td>22.000000</td>\n",
       "      <td>114.000000</td>\n",
       "      <td>7.500000</td>\n",
       "      <td>4.150000</td>\n",
       "      <td>5.83</td>\n",
       "    </tr>\n",
       "    <tr>\n",
       "      <th>3257</th>\n",
       "      <td>DE</td>\n",
       "      <td>Wisconsin</td>\n",
       "      <td>266.0</td>\n",
       "      <td>4.860000</td>\n",
       "      <td>30.500000</td>\n",
       "      <td>24.000000</td>\n",
       "      <td>112.000000</td>\n",
       "      <td>7.680000</td>\n",
       "      <td>4.880000</td>\n",
       "      <td>6.42</td>\n",
       "    </tr>\n",
       "    <tr>\n",
       "      <th>4638</th>\n",
       "      <td>WR</td>\n",
       "      <td>Baylor</td>\n",
       "      <td>208.0</td>\n",
       "      <td>4.520000</td>\n",
       "      <td>32.500000</td>\n",
       "      <td>11.000000</td>\n",
       "      <td>119.000000</td>\n",
       "      <td>7.010000</td>\n",
       "      <td>4.320000</td>\n",
       "      <td>6.17</td>\n",
       "    </tr>\n",
       "    <tr>\n",
       "      <th>3229</th>\n",
       "      <td>TE</td>\n",
       "      <td>Fresno State</td>\n",
       "      <td>251.0</td>\n",
       "      <td>4.890000</td>\n",
       "      <td>26.500000</td>\n",
       "      <td>20.157576</td>\n",
       "      <td>107.000000</td>\n",
       "      <td>7.650000</td>\n",
       "      <td>4.550000</td>\n",
       "      <td>6.42</td>\n",
       "    </tr>\n",
       "    <tr>\n",
       "      <th>3207</th>\n",
       "      <td>CB</td>\n",
       "      <td>Hawaii</td>\n",
       "      <td>187.0</td>\n",
       "      <td>4.470000</td>\n",
       "      <td>39.500000</td>\n",
       "      <td>18.000000</td>\n",
       "      <td>129.000000</td>\n",
       "      <td>6.944462</td>\n",
       "      <td>4.163174</td>\n",
       "      <td>5.75</td>\n",
       "    </tr>\n",
       "  </tbody>\n",
       "</table>\n",
       "<p>5738 rows × 10 columns</p>\n",
       "</div>"
      ],
      "text/plain": [
       "       Pos             School     Wt      40yd   Vertical      Bench  \\\n",
       "6651     S           Kentucky  208.0  4.390000  33.500000  19.000000   \n",
       "6261    DT    Fort Hays State  315.0  5.090000  31.000000  27.552561   \n",
       "6174    QB           Nebraska  218.0  4.980000  32.000000  19.300000   \n",
       "7742  EDGE         Cincinnati  228.0  4.670000  33.000000  22.902439   \n",
       "7016    DL         Ohio State  264.0  4.975784  30.680645  25.903226   \n",
       "...    ...                ...    ...       ...        ...        ...   \n",
       "1599    RB  Northern Illinois  237.0  4.490000  31.000000  22.000000   \n",
       "3257    DE          Wisconsin  266.0  4.860000  30.500000  24.000000   \n",
       "4638    WR             Baylor  208.0  4.520000  32.500000  11.000000   \n",
       "3229    TE       Fresno State  251.0  4.890000  26.500000  20.157576   \n",
       "3207    CB             Hawaii  187.0  4.470000  39.500000  18.000000   \n",
       "\n",
       "      Broad Jump     3Cone   Shuttle  Height  \n",
       "6651  113.000000  7.002910  4.204769    5.92  \n",
       "6261  112.000000  7.500000  4.530000    6.42  \n",
       "6174  115.000000  7.000000  4.410000    6.33  \n",
       "7742  120.000000  7.146000  4.370000    6.42  \n",
       "7016  111.595506  7.576301  4.614865    6.42  \n",
       "...          ...       ...       ...     ...  \n",
       "1599  114.000000  7.500000  4.150000    5.83  \n",
       "3257  112.000000  7.680000  4.880000    6.42  \n",
       "4638  119.000000  7.010000  4.320000    6.17  \n",
       "3229  107.000000  7.650000  4.550000    6.42  \n",
       "3207  129.000000  6.944462  4.163174    5.75  \n",
       "\n",
       "[5738 rows x 10 columns]"
      ]
     },
     "execution_count": 39,
     "metadata": {},
     "output_type": "execute_result"
    }
   ],
   "source": [
    "# fill missing in X_train\n",
    "fill_missing(X_train)"
   ]
  },
  {
   "cell_type": "code",
   "execution_count": 40,
   "metadata": {},
   "outputs": [
    {
     "data": {
      "text/plain": [
       "Pos            0\n",
       "School         0\n",
       "Wt             0\n",
       "40yd           0\n",
       "Vertical       0\n",
       "Bench          0\n",
       "Broad Jump     0\n",
       "3Cone         76\n",
       "Shuttle       76\n",
       "Height         0\n",
       "dtype: int64"
      ]
     },
     "execution_count": 40,
     "metadata": {},
     "output_type": "execute_result"
    }
   ],
   "source": [
    "X_train.isna().sum()"
   ]
  },
  {
   "cell_type": "markdown",
   "metadata": {},
   "source": [
    "After filling in the missing values with the means, we still have missing values for 3Cone and Shuttle drills. \n",
    "\n",
    "Upon closer inspection, Kickers do not perform in the 3Cone and Shuttle drills. This makes sense because there really is no need for them to perform these drills for their particular skillsets. "
   ]
  },
  {
   "cell_type": "code",
   "execution_count": 41,
   "metadata": {},
   "outputs": [
    {
     "data": {
      "text/html": [
       "<div>\n",
       "<style scoped>\n",
       "    .dataframe tbody tr th:only-of-type {\n",
       "        vertical-align: middle;\n",
       "    }\n",
       "\n",
       "    .dataframe tbody tr th {\n",
       "        vertical-align: top;\n",
       "    }\n",
       "\n",
       "    .dataframe thead th {\n",
       "        text-align: right;\n",
       "    }\n",
       "</style>\n",
       "<table border=\"1\" class=\"dataframe\">\n",
       "  <thead>\n",
       "    <tr style=\"text-align: right;\">\n",
       "      <th></th>\n",
       "      <th>Pos</th>\n",
       "      <th>School</th>\n",
       "      <th>Wt</th>\n",
       "      <th>40yd</th>\n",
       "      <th>Vertical</th>\n",
       "      <th>Bench</th>\n",
       "      <th>Broad Jump</th>\n",
       "      <th>3Cone</th>\n",
       "      <th>Shuttle</th>\n",
       "      <th>Height</th>\n",
       "    </tr>\n",
       "  </thead>\n",
       "  <tbody>\n",
       "    <tr>\n",
       "      <th>3021</th>\n",
       "      <td>K</td>\n",
       "      <td>USC</td>\n",
       "      <td>227.0</td>\n",
       "      <td>4.570000</td>\n",
       "      <td>33.5</td>\n",
       "      <td>25.0</td>\n",
       "      <td>113.5</td>\n",
       "      <td>NaN</td>\n",
       "      <td>NaN</td>\n",
       "      <td>6.17</td>\n",
       "    </tr>\n",
       "    <tr>\n",
       "      <th>884</th>\n",
       "      <td>K</td>\n",
       "      <td>North Dakota</td>\n",
       "      <td>190.0</td>\n",
       "      <td>4.910984</td>\n",
       "      <td>33.5</td>\n",
       "      <td>15.2</td>\n",
       "      <td>113.5</td>\n",
       "      <td>NaN</td>\n",
       "      <td>NaN</td>\n",
       "      <td>6.25</td>\n",
       "    </tr>\n",
       "    <tr>\n",
       "      <th>7431</th>\n",
       "      <td>K</td>\n",
       "      <td>Stanford</td>\n",
       "      <td>204.0</td>\n",
       "      <td>4.910984</td>\n",
       "      <td>33.5</td>\n",
       "      <td>15.2</td>\n",
       "      <td>113.5</td>\n",
       "      <td>NaN</td>\n",
       "      <td>NaN</td>\n",
       "      <td>6.17</td>\n",
       "    </tr>\n",
       "    <tr>\n",
       "      <th>6639</th>\n",
       "      <td>K</td>\n",
       "      <td>LSU</td>\n",
       "      <td>184.0</td>\n",
       "      <td>4.910984</td>\n",
       "      <td>33.5</td>\n",
       "      <td>15.2</td>\n",
       "      <td>113.5</td>\n",
       "      <td>NaN</td>\n",
       "      <td>NaN</td>\n",
       "      <td>5.83</td>\n",
       "    </tr>\n",
       "    <tr>\n",
       "      <th>6605</th>\n",
       "      <td>K</td>\n",
       "      <td>Oklahoma</td>\n",
       "      <td>213.0</td>\n",
       "      <td>4.910984</td>\n",
       "      <td>33.5</td>\n",
       "      <td>15.2</td>\n",
       "      <td>113.5</td>\n",
       "      <td>NaN</td>\n",
       "      <td>NaN</td>\n",
       "      <td>5.75</td>\n",
       "    </tr>\n",
       "  </tbody>\n",
       "</table>\n",
       "</div>"
      ],
      "text/plain": [
       "     Pos        School     Wt      40yd  Vertical  Bench  Broad Jump  3Cone  \\\n",
       "3021   K           USC  227.0  4.570000      33.5   25.0       113.5    NaN   \n",
       "884    K  North Dakota  190.0  4.910984      33.5   15.2       113.5    NaN   \n",
       "7431   K      Stanford  204.0  4.910984      33.5   15.2       113.5    NaN   \n",
       "6639   K           LSU  184.0  4.910984      33.5   15.2       113.5    NaN   \n",
       "6605   K      Oklahoma  213.0  4.910984      33.5   15.2       113.5    NaN   \n",
       "\n",
       "      Shuttle  Height  \n",
       "3021      NaN    6.17  \n",
       "884       NaN    6.25  \n",
       "7431      NaN    6.17  \n",
       "6639      NaN    5.83  \n",
       "6605      NaN    5.75  "
      ]
     },
     "metadata": {},
     "output_type": "display_data"
    },
    {
     "name": "stdout",
     "output_type": "stream",
     "text": [
      "3Cone Mean for Kickers: nan , Count of NaN: 76\n",
      "Shuttle Mean for Kickers: nan , Count of NaN: 76\n"
     ]
    }
   ],
   "source": [
    "# confirm that kickers do not perform 3Cone and Shuttle Drills\n",
    "# isolate for dataframe with just Kickers\n",
    "kickers = X_train[X_train['Pos'] == 'K']\n",
    "display(kickers.head())\n",
    "print(\"3Cone Mean for Kickers:\", kickers['3Cone'].mean(), \", Count of NaN:\", kickers['3Cone'].isna().sum())\n",
    "print(\"Shuttle Mean for Kickers:\", kickers['Shuttle'].mean(), \", Count of NaN:\", kickers['Shuttle'].isna().sum())"
   ]
  },
  {
   "cell_type": "markdown",
   "metadata": {},
   "source": [
    "There are a few options here; do we fill in the NaNs with 0? This would have a minor impact on the averages for 3Cone and Shuttle, and pull the mean closer to 0. Likely filling these values with 0s will not impact the decision whether a team would draft a kicker since they did not participate in these drills. \n",
    "\n",
    "Another option is to drop kickers from the original `df` and just analyze all other positions. Using domain knowledge and a brief analysis on the percentage that kickers make up the dataset (as part of the Special Teams category), dropping these values will not likely impact whether a player is drafted or not. Generally speaking, very few kickers are ever drafted and are not a critical position of need in football. However, dropping kickers from the `X_train` will cause data leakage as rows will be removed from the X_train set. \n",
    "\n",
    "We can always reanalyze the kickers and special teams category/sub-group and drop 3Cone and Shuttle columns later. To avoid data leakage, we will fill NaNs with 0s. "
   ]
  },
  {
   "cell_type": "code",
   "execution_count": 42,
   "metadata": {},
   "outputs": [],
   "source": [
    "# fill NaNs with 0\n",
    "X_train = X_train.fillna(0)"
   ]
  },
  {
   "cell_type": "code",
   "execution_count": 43,
   "metadata": {},
   "outputs": [
    {
     "data": {
      "text/plain": [
       "Pos           0\n",
       "School        0\n",
       "Wt            0\n",
       "40yd          0\n",
       "Vertical      0\n",
       "Bench         0\n",
       "Broad Jump    0\n",
       "3Cone         0\n",
       "Shuttle       0\n",
       "Height        0\n",
       "dtype: int64"
      ]
     },
     "execution_count": 43,
     "metadata": {},
     "output_type": "execute_result"
    }
   ],
   "source": [
    "# check \n",
    "X_train.isna().sum()"
   ]
  },
  {
   "cell_type": "code",
   "execution_count": 44,
   "metadata": {},
   "outputs": [
    {
     "data": {
      "text/plain": [
       "(5738,)"
      ]
     },
     "execution_count": 44,
     "metadata": {},
     "output_type": "execute_result"
    }
   ],
   "source": [
    "y_train.shape"
   ]
  },
  {
   "cell_type": "code",
   "execution_count": 45,
   "metadata": {},
   "outputs": [
    {
     "data": {
      "text/plain": [
       "(5738, 10)"
      ]
     },
     "execution_count": 45,
     "metadata": {},
     "output_type": "execute_result"
    }
   ],
   "source": [
    "X_train.shape"
   ]
  },
  {
   "cell_type": "markdown",
   "metadata": {},
   "source": [
    "### Need to apply the above cleaning steps to the X_test when ready. See below"
   ]
  },
  {
   "cell_type": "code",
   "execution_count": 46,
   "metadata": {},
   "outputs": [
    {
     "data": {
      "text/html": [
       "<div>\n",
       "<style scoped>\n",
       "    .dataframe tbody tr th:only-of-type {\n",
       "        vertical-align: middle;\n",
       "    }\n",
       "\n",
       "    .dataframe tbody tr th {\n",
       "        vertical-align: top;\n",
       "    }\n",
       "\n",
       "    .dataframe thead th {\n",
       "        text-align: right;\n",
       "    }\n",
       "</style>\n",
       "<table border=\"1\" class=\"dataframe\">\n",
       "  <thead>\n",
       "    <tr style=\"text-align: right;\">\n",
       "      <th></th>\n",
       "      <th>Pos</th>\n",
       "      <th>School</th>\n",
       "      <th>Wt</th>\n",
       "      <th>40yd</th>\n",
       "      <th>Vertical</th>\n",
       "      <th>Bench</th>\n",
       "      <th>Broad Jump</th>\n",
       "      <th>3Cone</th>\n",
       "      <th>Shuttle</th>\n",
       "      <th>Height</th>\n",
       "    </tr>\n",
       "  </thead>\n",
       "  <tbody>\n",
       "    <tr>\n",
       "      <th>1856</th>\n",
       "      <td>OT</td>\n",
       "      <td>North Carolina</td>\n",
       "      <td>291.0</td>\n",
       "      <td>5.30</td>\n",
       "      <td>27.711538</td>\n",
       "      <td>24.156250</td>\n",
       "      <td>102.475728</td>\n",
       "      <td>7.844737</td>\n",
       "      <td>4.763196</td>\n",
       "      <td>6.33</td>\n",
       "    </tr>\n",
       "    <tr>\n",
       "      <th>4490</th>\n",
       "      <td>OLB</td>\n",
       "      <td>UNLV</td>\n",
       "      <td>233.0</td>\n",
       "      <td>4.84</td>\n",
       "      <td>35.500000</td>\n",
       "      <td>25.000000</td>\n",
       "      <td>117.000000</td>\n",
       "      <td>6.910000</td>\n",
       "      <td>4.300000</td>\n",
       "      <td>5.92</td>\n",
       "    </tr>\n",
       "    <tr>\n",
       "      <th>5743</th>\n",
       "      <td>QB</td>\n",
       "      <td>Virginia Tech</td>\n",
       "      <td>232.0</td>\n",
       "      <td>4.80</td>\n",
       "      <td>26.500000</td>\n",
       "      <td>23.000000</td>\n",
       "      <td>112.000000</td>\n",
       "      <td>7.167262</td>\n",
       "      <td>4.410000</td>\n",
       "      <td>6.25</td>\n",
       "    </tr>\n",
       "    <tr>\n",
       "      <th>6981</th>\n",
       "      <td>WR</td>\n",
       "      <td>Miami</td>\n",
       "      <td>170.0</td>\n",
       "      <td>4.45</td>\n",
       "      <td>36.500000</td>\n",
       "      <td>14.446154</td>\n",
       "      <td>125.000000</td>\n",
       "      <td>6.973559</td>\n",
       "      <td>4.220857</td>\n",
       "      <td>5.75</td>\n",
       "    </tr>\n",
       "    <tr>\n",
       "      <th>5081</th>\n",
       "      <td>CB</td>\n",
       "      <td>Tulane</td>\n",
       "      <td>182.0</td>\n",
       "      <td>4.50</td>\n",
       "      <td>33.500000</td>\n",
       "      <td>9.000000</td>\n",
       "      <td>115.000000</td>\n",
       "      <td>7.200000</td>\n",
       "      <td>4.260000</td>\n",
       "      <td>5.83</td>\n",
       "    </tr>\n",
       "    <tr>\n",
       "      <th>...</th>\n",
       "      <td>...</td>\n",
       "      <td>...</td>\n",
       "      <td>...</td>\n",
       "      <td>...</td>\n",
       "      <td>...</td>\n",
       "      <td>...</td>\n",
       "      <td>...</td>\n",
       "      <td>...</td>\n",
       "      <td>...</td>\n",
       "      <td>...</td>\n",
       "    </tr>\n",
       "    <tr>\n",
       "      <th>5528</th>\n",
       "      <td>DE</td>\n",
       "      <td>Florida</td>\n",
       "      <td>239.0</td>\n",
       "      <td>4.80</td>\n",
       "      <td>34.500000</td>\n",
       "      <td>23.875000</td>\n",
       "      <td>128.000000</td>\n",
       "      <td>7.010000</td>\n",
       "      <td>4.000000</td>\n",
       "      <td>6.50</td>\n",
       "    </tr>\n",
       "    <tr>\n",
       "      <th>4182</th>\n",
       "      <td>OLB</td>\n",
       "      <td>Boise State</td>\n",
       "      <td>260.0</td>\n",
       "      <td>4.62</td>\n",
       "      <td>31.500000</td>\n",
       "      <td>19.000000</td>\n",
       "      <td>118.000000</td>\n",
       "      <td>7.070000</td>\n",
       "      <td>4.330000</td>\n",
       "      <td>6.25</td>\n",
       "    </tr>\n",
       "    <tr>\n",
       "      <th>1353</th>\n",
       "      <td>DT</td>\n",
       "      <td>Iowa</td>\n",
       "      <td>294.0</td>\n",
       "      <td>4.95</td>\n",
       "      <td>29.193182</td>\n",
       "      <td>23.000000</td>\n",
       "      <td>104.547619</td>\n",
       "      <td>7.675811</td>\n",
       "      <td>4.622632</td>\n",
       "      <td>6.42</td>\n",
       "    </tr>\n",
       "    <tr>\n",
       "      <th>5079</th>\n",
       "      <td>OT</td>\n",
       "      <td>Iowa</td>\n",
       "      <td>313.0</td>\n",
       "      <td>5.31</td>\n",
       "      <td>32.000000</td>\n",
       "      <td>17.000000</td>\n",
       "      <td>101.000000</td>\n",
       "      <td>7.840000</td>\n",
       "      <td>4.770000</td>\n",
       "      <td>6.50</td>\n",
       "    </tr>\n",
       "    <tr>\n",
       "      <th>5021</th>\n",
       "      <td>K</td>\n",
       "      <td>Notre Dame</td>\n",
       "      <td>236.0</td>\n",
       "      <td>5.17</td>\n",
       "      <td>NaN</td>\n",
       "      <td>14.000000</td>\n",
       "      <td>NaN</td>\n",
       "      <td>NaN</td>\n",
       "      <td>NaN</td>\n",
       "      <td>6.08</td>\n",
       "    </tr>\n",
       "  </tbody>\n",
       "</table>\n",
       "<p>1913 rows × 10 columns</p>\n",
       "</div>"
      ],
      "text/plain": [
       "      Pos          School     Wt  40yd   Vertical      Bench  Broad Jump  \\\n",
       "1856   OT  North Carolina  291.0  5.30  27.711538  24.156250  102.475728   \n",
       "4490  OLB            UNLV  233.0  4.84  35.500000  25.000000  117.000000   \n",
       "5743   QB   Virginia Tech  232.0  4.80  26.500000  23.000000  112.000000   \n",
       "6981   WR           Miami  170.0  4.45  36.500000  14.446154  125.000000   \n",
       "5081   CB          Tulane  182.0  4.50  33.500000   9.000000  115.000000   \n",
       "...   ...             ...    ...   ...        ...        ...         ...   \n",
       "5528   DE         Florida  239.0  4.80  34.500000  23.875000  128.000000   \n",
       "4182  OLB     Boise State  260.0  4.62  31.500000  19.000000  118.000000   \n",
       "1353   DT            Iowa  294.0  4.95  29.193182  23.000000  104.547619   \n",
       "5079   OT            Iowa  313.0  5.31  32.000000  17.000000  101.000000   \n",
       "5021    K      Notre Dame  236.0  5.17        NaN  14.000000         NaN   \n",
       "\n",
       "         3Cone   Shuttle  Height  \n",
       "1856  7.844737  4.763196    6.33  \n",
       "4490  6.910000  4.300000    5.92  \n",
       "5743  7.167262  4.410000    6.25  \n",
       "6981  6.973559  4.220857    5.75  \n",
       "5081  7.200000  4.260000    5.83  \n",
       "...        ...       ...     ...  \n",
       "5528  7.010000  4.000000    6.50  \n",
       "4182  7.070000  4.330000    6.25  \n",
       "1353  7.675811  4.622632    6.42  \n",
       "5079  7.840000  4.770000    6.50  \n",
       "5021       NaN       NaN    6.08  \n",
       "\n",
       "[1913 rows x 10 columns]"
      ]
     },
     "execution_count": 46,
     "metadata": {},
     "output_type": "execute_result"
    }
   ],
   "source": [
    "# apply 'fill_missing' helper function on X_test set too\n",
    "fill_missing(X_test)"
   ]
  },
  {
   "cell_type": "code",
   "execution_count": 47,
   "metadata": {},
   "outputs": [
    {
     "data": {
      "text/plain": [
       "Pos            0\n",
       "School         0\n",
       "Wt             0\n",
       "40yd           0\n",
       "Vertical      27\n",
       "Bench          0\n",
       "Broad Jump    27\n",
       "3Cone         27\n",
       "Shuttle       27\n",
       "Height         0\n",
       "dtype: int64"
      ]
     },
     "execution_count": 47,
     "metadata": {},
     "output_type": "execute_result"
    }
   ],
   "source": [
    "X_test.isna().sum()"
   ]
  },
  {
   "cell_type": "code",
   "execution_count": 48,
   "metadata": {},
   "outputs": [],
   "source": [
    "# fill NaNs with 0\n",
    "X_test = X_test.fillna(0)\n",
    "X_test_drop_school = X_test_drop_school.fillna(0)"
   ]
  },
  {
   "cell_type": "code",
   "execution_count": 49,
   "metadata": {},
   "outputs": [
    {
     "data": {
      "text/plain": [
       "Pos           0\n",
       "School        0\n",
       "Wt            0\n",
       "40yd          0\n",
       "Vertical      0\n",
       "Bench         0\n",
       "Broad Jump    0\n",
       "3Cone         0\n",
       "Shuttle       0\n",
       "Height        0\n",
       "dtype: int64"
      ]
     },
     "execution_count": 49,
     "metadata": {},
     "output_type": "execute_result"
    }
   ],
   "source": [
    "X_test.isna().sum()"
   ]
  },
  {
   "cell_type": "code",
   "execution_count": 50,
   "metadata": {},
   "outputs": [
    {
     "data": {
      "text/html": [
       "<div>\n",
       "<style scoped>\n",
       "    .dataframe tbody tr th:only-of-type {\n",
       "        vertical-align: middle;\n",
       "    }\n",
       "\n",
       "    .dataframe tbody tr th {\n",
       "        vertical-align: top;\n",
       "    }\n",
       "\n",
       "    .dataframe thead th {\n",
       "        text-align: right;\n",
       "    }\n",
       "</style>\n",
       "<table border=\"1\" class=\"dataframe\">\n",
       "  <thead>\n",
       "    <tr style=\"text-align: right;\">\n",
       "      <th></th>\n",
       "      <th>Pos</th>\n",
       "      <th>C</th>\n",
       "      <th>CB</th>\n",
       "      <th>DB</th>\n",
       "      <th>DE</th>\n",
       "      <th>DL</th>\n",
       "      <th>DT</th>\n",
       "      <th>EDGE</th>\n",
       "      <th>FB</th>\n",
       "      <th>ILB</th>\n",
       "      <th>K</th>\n",
       "      <th>...</th>\n",
       "      <th>OG</th>\n",
       "      <th>OL</th>\n",
       "      <th>OLB</th>\n",
       "      <th>OT</th>\n",
       "      <th>P</th>\n",
       "      <th>QB</th>\n",
       "      <th>RB</th>\n",
       "      <th>S</th>\n",
       "      <th>TE</th>\n",
       "      <th>WR</th>\n",
       "    </tr>\n",
       "  </thead>\n",
       "  <tbody>\n",
       "    <tr>\n",
       "      <th rowspan=\"5\" valign=\"top\">Wt</th>\n",
       "      <th>count</th>\n",
       "      <td>128.000000</td>\n",
       "      <td>574.000000</td>\n",
       "      <td>42.000000</td>\n",
       "      <td>384.000000</td>\n",
       "      <td>94.000000</td>\n",
       "      <td>382.000000</td>\n",
       "      <td>49.000000</td>\n",
       "      <td>92.000000</td>\n",
       "      <td>209.000000</td>\n",
       "      <td>76.000000</td>\n",
       "      <td>...</td>\n",
       "      <td>299.000000</td>\n",
       "      <td>107.000000</td>\n",
       "      <td>310.000000</td>\n",
       "      <td>395.000000</td>\n",
       "      <td>109.000000</td>\n",
       "      <td>311.000000</td>\n",
       "      <td>510.000000</td>\n",
       "      <td>424.000000</td>\n",
       "      <td>325.000000</td>\n",
       "      <td>786.000000</td>\n",
       "    </tr>\n",
       "    <tr>\n",
       "      <th>mean</th>\n",
       "      <td>302.265625</td>\n",
       "      <td>192.721254</td>\n",
       "      <td>195.547619</td>\n",
       "      <td>268.828125</td>\n",
       "      <td>289.489362</td>\n",
       "      <td>307.295812</td>\n",
       "      <td>251.775510</td>\n",
       "      <td>244.445652</td>\n",
       "      <td>242.057416</td>\n",
       "      <td>197.671053</td>\n",
       "      <td>...</td>\n",
       "      <td>314.558528</td>\n",
       "      <td>309.588785</td>\n",
       "      <td>240.367742</td>\n",
       "      <td>315.716456</td>\n",
       "      <td>212.853211</td>\n",
       "      <td>221.977492</td>\n",
       "      <td>213.215686</td>\n",
       "      <td>207.292453</td>\n",
       "      <td>253.772308</td>\n",
       "      <td>202.104326</td>\n",
       "    </tr>\n",
       "    <tr>\n",
       "      <th>std</th>\n",
       "      <td>8.578938</td>\n",
       "      <td>8.763262</td>\n",
       "      <td>11.555175</td>\n",
       "      <td>13.366950</td>\n",
       "      <td>23.394120</td>\n",
       "      <td>15.375234</td>\n",
       "      <td>8.708868</td>\n",
       "      <td>11.104265</td>\n",
       "      <td>7.465726</td>\n",
       "      <td>18.904947</td>\n",
       "      <td>...</td>\n",
       "      <td>12.468178</td>\n",
       "      <td>21.872682</td>\n",
       "      <td>9.997423</td>\n",
       "      <td>14.018139</td>\n",
       "      <td>15.662426</td>\n",
       "      <td>11.144627</td>\n",
       "      <td>14.343408</td>\n",
       "      <td>9.450097</td>\n",
       "      <td>10.187615</td>\n",
       "      <td>14.939856</td>\n",
       "    </tr>\n",
       "    <tr>\n",
       "      <th>min</th>\n",
       "      <td>263.000000</td>\n",
       "      <td>169.000000</td>\n",
       "      <td>177.000000</td>\n",
       "      <td>234.000000</td>\n",
       "      <td>248.000000</td>\n",
       "      <td>268.000000</td>\n",
       "      <td>228.000000</td>\n",
       "      <td>220.000000</td>\n",
       "      <td>226.000000</td>\n",
       "      <td>144.000000</td>\n",
       "      <td>...</td>\n",
       "      <td>282.000000</td>\n",
       "      <td>194.000000</td>\n",
       "      <td>204.000000</td>\n",
       "      <td>273.000000</td>\n",
       "      <td>187.000000</td>\n",
       "      <td>192.000000</td>\n",
       "      <td>168.000000</td>\n",
       "      <td>178.000000</td>\n",
       "      <td>225.000000</td>\n",
       "      <td>155.000000</td>\n",
       "    </tr>\n",
       "    <tr>\n",
       "      <th>25%</th>\n",
       "      <td>299.000000</td>\n",
       "      <td>187.000000</td>\n",
       "      <td>186.000000</td>\n",
       "      <td>260.000000</td>\n",
       "      <td>266.500000</td>\n",
       "      <td>298.000000</td>\n",
       "      <td>248.000000</td>\n",
       "      <td>238.750000</td>\n",
       "      <td>237.000000</td>\n",
       "      <td>184.750000</td>\n",
       "      <td>...</td>\n",
       "      <td>306.000000</td>\n",
       "      <td>306.000000</td>\n",
       "      <td>233.000000</td>\n",
       "      <td>307.000000</td>\n",
       "      <td>201.000000</td>\n",
       "      <td>215.000000</td>\n",
       "      <td>204.000000</td>\n",
       "      <td>201.000000</td>\n",
       "      <td>248.000000</td>\n",
       "      <td>191.250000</td>\n",
       "    </tr>\n",
       "    <tr>\n",
       "      <th>...</th>\n",
       "      <th>...</th>\n",
       "      <td>...</td>\n",
       "      <td>...</td>\n",
       "      <td>...</td>\n",
       "      <td>...</td>\n",
       "      <td>...</td>\n",
       "      <td>...</td>\n",
       "      <td>...</td>\n",
       "      <td>...</td>\n",
       "      <td>...</td>\n",
       "      <td>...</td>\n",
       "      <td>...</td>\n",
       "      <td>...</td>\n",
       "      <td>...</td>\n",
       "      <td>...</td>\n",
       "      <td>...</td>\n",
       "      <td>...</td>\n",
       "      <td>...</td>\n",
       "      <td>...</td>\n",
       "      <td>...</td>\n",
       "      <td>...</td>\n",
       "      <td>...</td>\n",
       "    </tr>\n",
       "    <tr>\n",
       "      <th rowspan=\"5\" valign=\"top\">Height</th>\n",
       "      <th>min</th>\n",
       "      <td>6.000000</td>\n",
       "      <td>5.580000</td>\n",
       "      <td>5.670000</td>\n",
       "      <td>6.000000</td>\n",
       "      <td>6.000000</td>\n",
       "      <td>5.920000</td>\n",
       "      <td>6.000000</td>\n",
       "      <td>5.830000</td>\n",
       "      <td>5.830000</td>\n",
       "      <td>5.330000</td>\n",
       "      <td>...</td>\n",
       "      <td>6.080000</td>\n",
       "      <td>5.500000</td>\n",
       "      <td>5.830000</td>\n",
       "      <td>6.250000</td>\n",
       "      <td>5.670000</td>\n",
       "      <td>5.750000</td>\n",
       "      <td>5.420000</td>\n",
       "      <td>5.580000</td>\n",
       "      <td>5.920000</td>\n",
       "      <td>5.420000</td>\n",
       "    </tr>\n",
       "    <tr>\n",
       "      <th>25%</th>\n",
       "      <td>6.250000</td>\n",
       "      <td>5.830000</td>\n",
       "      <td>5.920000</td>\n",
       "      <td>6.250000</td>\n",
       "      <td>6.170000</td>\n",
       "      <td>6.170000</td>\n",
       "      <td>6.250000</td>\n",
       "      <td>5.920000</td>\n",
       "      <td>6.000000</td>\n",
       "      <td>5.897500</td>\n",
       "      <td>...</td>\n",
       "      <td>6.250000</td>\n",
       "      <td>6.250000</td>\n",
       "      <td>6.080000</td>\n",
       "      <td>6.420000</td>\n",
       "      <td>6.080000</td>\n",
       "      <td>6.170000</td>\n",
       "      <td>5.750000</td>\n",
       "      <td>5.920000</td>\n",
       "      <td>6.250000</td>\n",
       "      <td>5.920000</td>\n",
       "    </tr>\n",
       "    <tr>\n",
       "      <th>50%</th>\n",
       "      <td>6.250000</td>\n",
       "      <td>5.920000</td>\n",
       "      <td>5.920000</td>\n",
       "      <td>6.330000</td>\n",
       "      <td>6.250000</td>\n",
       "      <td>6.250000</td>\n",
       "      <td>6.250000</td>\n",
       "      <td>6.000000</td>\n",
       "      <td>6.080000</td>\n",
       "      <td>6.000000</td>\n",
       "      <td>...</td>\n",
       "      <td>6.330000</td>\n",
       "      <td>6.330000</td>\n",
       "      <td>6.170000</td>\n",
       "      <td>6.420000</td>\n",
       "      <td>6.170000</td>\n",
       "      <td>6.250000</td>\n",
       "      <td>5.830000</td>\n",
       "      <td>6.000000</td>\n",
       "      <td>6.330000</td>\n",
       "      <td>6.080000</td>\n",
       "    </tr>\n",
       "    <tr>\n",
       "      <th>75%</th>\n",
       "      <td>6.330000</td>\n",
       "      <td>6.000000</td>\n",
       "      <td>6.060000</td>\n",
       "      <td>6.420000</td>\n",
       "      <td>6.330000</td>\n",
       "      <td>6.330000</td>\n",
       "      <td>6.330000</td>\n",
       "      <td>6.080000</td>\n",
       "      <td>6.170000</td>\n",
       "      <td>6.080000</td>\n",
       "      <td>...</td>\n",
       "      <td>6.420000</td>\n",
       "      <td>6.420000</td>\n",
       "      <td>6.250000</td>\n",
       "      <td>6.500000</td>\n",
       "      <td>6.250000</td>\n",
       "      <td>6.330000</td>\n",
       "      <td>6.000000</td>\n",
       "      <td>6.080000</td>\n",
       "      <td>6.420000</td>\n",
       "      <td>6.170000</td>\n",
       "    </tr>\n",
       "    <tr>\n",
       "      <th>max</th>\n",
       "      <td>6.420000</td>\n",
       "      <td>6.330000</td>\n",
       "      <td>6.330000</td>\n",
       "      <td>6.670000</td>\n",
       "      <td>6.580000</td>\n",
       "      <td>6.580000</td>\n",
       "      <td>6.500000</td>\n",
       "      <td>6.330000</td>\n",
       "      <td>6.420000</td>\n",
       "      <td>6.420000</td>\n",
       "      <td>...</td>\n",
       "      <td>6.580000</td>\n",
       "      <td>6.670000</td>\n",
       "      <td>6.500000</td>\n",
       "      <td>6.830000</td>\n",
       "      <td>6.580000</td>\n",
       "      <td>6.580000</td>\n",
       "      <td>6.330000</td>\n",
       "      <td>6.420000</td>\n",
       "      <td>6.670000</td>\n",
       "      <td>6.500000</td>\n",
       "    </tr>\n",
       "  </tbody>\n",
       "</table>\n",
       "<p>64 rows × 22 columns</p>\n",
       "</div>"
      ],
      "text/plain": [
       "Pos                    C          CB          DB          DE          DL  \\\n",
       "Wt     count  128.000000  574.000000   42.000000  384.000000   94.000000   \n",
       "       mean   302.265625  192.721254  195.547619  268.828125  289.489362   \n",
       "       std      8.578938    8.763262   11.555175   13.366950   23.394120   \n",
       "       min    263.000000  169.000000  177.000000  234.000000  248.000000   \n",
       "       25%    299.000000  187.000000  186.000000  260.000000  266.500000   \n",
       "...                  ...         ...         ...         ...         ...   \n",
       "Height min      6.000000    5.580000    5.670000    6.000000    6.000000   \n",
       "       25%      6.250000    5.830000    5.920000    6.250000    6.170000   \n",
       "       50%      6.250000    5.920000    5.920000    6.330000    6.250000   \n",
       "       75%      6.330000    6.000000    6.060000    6.420000    6.330000   \n",
       "       max      6.420000    6.330000    6.330000    6.670000    6.580000   \n",
       "\n",
       "Pos                   DT        EDGE          FB         ILB           K  ...  \\\n",
       "Wt     count  382.000000   49.000000   92.000000  209.000000   76.000000  ...   \n",
       "       mean   307.295812  251.775510  244.445652  242.057416  197.671053  ...   \n",
       "       std     15.375234    8.708868   11.104265    7.465726   18.904947  ...   \n",
       "       min    268.000000  228.000000  220.000000  226.000000  144.000000  ...   \n",
       "       25%    298.000000  248.000000  238.750000  237.000000  184.750000  ...   \n",
       "...                  ...         ...         ...         ...         ...  ...   \n",
       "Height min      5.920000    6.000000    5.830000    5.830000    5.330000  ...   \n",
       "       25%      6.170000    6.250000    5.920000    6.000000    5.897500  ...   \n",
       "       50%      6.250000    6.250000    6.000000    6.080000    6.000000  ...   \n",
       "       75%      6.330000    6.330000    6.080000    6.170000    6.080000  ...   \n",
       "       max      6.580000    6.500000    6.330000    6.420000    6.420000  ...   \n",
       "\n",
       "Pos                   OG          OL         OLB          OT           P  \\\n",
       "Wt     count  299.000000  107.000000  310.000000  395.000000  109.000000   \n",
       "       mean   314.558528  309.588785  240.367742  315.716456  212.853211   \n",
       "       std     12.468178   21.872682    9.997423   14.018139   15.662426   \n",
       "       min    282.000000  194.000000  204.000000  273.000000  187.000000   \n",
       "       25%    306.000000  306.000000  233.000000  307.000000  201.000000   \n",
       "...                  ...         ...         ...         ...         ...   \n",
       "Height min      6.080000    5.500000    5.830000    6.250000    5.670000   \n",
       "       25%      6.250000    6.250000    6.080000    6.420000    6.080000   \n",
       "       50%      6.330000    6.330000    6.170000    6.420000    6.170000   \n",
       "       75%      6.420000    6.420000    6.250000    6.500000    6.250000   \n",
       "       max      6.580000    6.670000    6.500000    6.830000    6.580000   \n",
       "\n",
       "Pos                   QB          RB           S          TE          WR  \n",
       "Wt     count  311.000000  510.000000  424.000000  325.000000  786.000000  \n",
       "       mean   221.977492  213.215686  207.292453  253.772308  202.104326  \n",
       "       std     11.144627   14.343408    9.450097   10.187615   14.939856  \n",
       "       min    192.000000  168.000000  178.000000  225.000000  155.000000  \n",
       "       25%    215.000000  204.000000  201.000000  248.000000  191.250000  \n",
       "...                  ...         ...         ...         ...         ...  \n",
       "Height min      5.750000    5.420000    5.580000    5.920000    5.420000  \n",
       "       25%      6.170000    5.750000    5.920000    6.250000    5.920000  \n",
       "       50%      6.250000    5.830000    6.000000    6.330000    6.080000  \n",
       "       75%      6.330000    6.000000    6.080000    6.420000    6.170000  \n",
       "       max      6.580000    6.330000    6.420000    6.670000    6.500000  \n",
       "\n",
       "[64 rows x 22 columns]"
      ]
     },
     "execution_count": 50,
     "metadata": {},
     "output_type": "execute_result"
    }
   ],
   "source": [
    "# final describe check\n",
    "# show all rows\n",
    "# pd.set_option('display.max_rows', None)\n",
    "# check breakdown of summary statistics by Pos\n",
    "X_train.groupby('Pos').describe().T"
   ]
  },
  {
   "cell_type": "markdown",
   "metadata": {},
   "source": [
    "## Pipeline"
   ]
  },
  {
   "cell_type": "code",
   "execution_count": 51,
   "metadata": {},
   "outputs": [],
   "source": [
    "from sklearn.pipeline import Pipeline\n",
    "\n",
    "# this will allow us to visualize the pipeline (may not be available in learn-env)\n",
    "from sklearn import set_config\n",
    "set_config(display= 'diagram')"
   ]
  },
  {
   "cell_type": "code",
   "execution_count": 52,
   "metadata": {},
   "outputs": [
    {
     "data": {
      "text/html": [
       "<div>\n",
       "<style scoped>\n",
       "    .dataframe tbody tr th:only-of-type {\n",
       "        vertical-align: middle;\n",
       "    }\n",
       "\n",
       "    .dataframe tbody tr th {\n",
       "        vertical-align: top;\n",
       "    }\n",
       "\n",
       "    .dataframe thead th {\n",
       "        text-align: right;\n",
       "    }\n",
       "</style>\n",
       "<table border=\"1\" class=\"dataframe\">\n",
       "  <thead>\n",
       "    <tr style=\"text-align: right;\">\n",
       "      <th></th>\n",
       "      <th>Pos</th>\n",
       "      <th>School</th>\n",
       "      <th>Wt</th>\n",
       "      <th>40yd</th>\n",
       "      <th>Vertical</th>\n",
       "      <th>Bench</th>\n",
       "      <th>Broad Jump</th>\n",
       "      <th>3Cone</th>\n",
       "      <th>Shuttle</th>\n",
       "      <th>Height</th>\n",
       "    </tr>\n",
       "  </thead>\n",
       "  <tbody>\n",
       "    <tr>\n",
       "      <th>6651</th>\n",
       "      <td>S</td>\n",
       "      <td>Kentucky</td>\n",
       "      <td>208.0</td>\n",
       "      <td>4.390000</td>\n",
       "      <td>33.500000</td>\n",
       "      <td>19.000000</td>\n",
       "      <td>113.000000</td>\n",
       "      <td>7.002910</td>\n",
       "      <td>4.204769</td>\n",
       "      <td>5.92</td>\n",
       "    </tr>\n",
       "    <tr>\n",
       "      <th>6261</th>\n",
       "      <td>DT</td>\n",
       "      <td>Fort Hays State</td>\n",
       "      <td>315.0</td>\n",
       "      <td>5.090000</td>\n",
       "      <td>31.000000</td>\n",
       "      <td>27.552561</td>\n",
       "      <td>112.000000</td>\n",
       "      <td>7.500000</td>\n",
       "      <td>4.530000</td>\n",
       "      <td>6.42</td>\n",
       "    </tr>\n",
       "    <tr>\n",
       "      <th>6174</th>\n",
       "      <td>QB</td>\n",
       "      <td>Nebraska</td>\n",
       "      <td>218.0</td>\n",
       "      <td>4.980000</td>\n",
       "      <td>32.000000</td>\n",
       "      <td>19.300000</td>\n",
       "      <td>115.000000</td>\n",
       "      <td>7.000000</td>\n",
       "      <td>4.410000</td>\n",
       "      <td>6.33</td>\n",
       "    </tr>\n",
       "    <tr>\n",
       "      <th>7742</th>\n",
       "      <td>EDGE</td>\n",
       "      <td>Cincinnati</td>\n",
       "      <td>228.0</td>\n",
       "      <td>4.670000</td>\n",
       "      <td>33.000000</td>\n",
       "      <td>22.902439</td>\n",
       "      <td>120.000000</td>\n",
       "      <td>7.146000</td>\n",
       "      <td>4.370000</td>\n",
       "      <td>6.42</td>\n",
       "    </tr>\n",
       "    <tr>\n",
       "      <th>7016</th>\n",
       "      <td>DL</td>\n",
       "      <td>Ohio State</td>\n",
       "      <td>264.0</td>\n",
       "      <td>4.975784</td>\n",
       "      <td>30.680645</td>\n",
       "      <td>25.903226</td>\n",
       "      <td>111.595506</td>\n",
       "      <td>7.576301</td>\n",
       "      <td>4.614865</td>\n",
       "      <td>6.42</td>\n",
       "    </tr>\n",
       "    <tr>\n",
       "      <th>...</th>\n",
       "      <td>...</td>\n",
       "      <td>...</td>\n",
       "      <td>...</td>\n",
       "      <td>...</td>\n",
       "      <td>...</td>\n",
       "      <td>...</td>\n",
       "      <td>...</td>\n",
       "      <td>...</td>\n",
       "      <td>...</td>\n",
       "      <td>...</td>\n",
       "    </tr>\n",
       "    <tr>\n",
       "      <th>1599</th>\n",
       "      <td>RB</td>\n",
       "      <td>Northern Illinois</td>\n",
       "      <td>237.0</td>\n",
       "      <td>4.490000</td>\n",
       "      <td>31.000000</td>\n",
       "      <td>22.000000</td>\n",
       "      <td>114.000000</td>\n",
       "      <td>7.500000</td>\n",
       "      <td>4.150000</td>\n",
       "      <td>5.83</td>\n",
       "    </tr>\n",
       "    <tr>\n",
       "      <th>3257</th>\n",
       "      <td>DE</td>\n",
       "      <td>Wisconsin</td>\n",
       "      <td>266.0</td>\n",
       "      <td>4.860000</td>\n",
       "      <td>30.500000</td>\n",
       "      <td>24.000000</td>\n",
       "      <td>112.000000</td>\n",
       "      <td>7.680000</td>\n",
       "      <td>4.880000</td>\n",
       "      <td>6.42</td>\n",
       "    </tr>\n",
       "    <tr>\n",
       "      <th>4638</th>\n",
       "      <td>WR</td>\n",
       "      <td>Baylor</td>\n",
       "      <td>208.0</td>\n",
       "      <td>4.520000</td>\n",
       "      <td>32.500000</td>\n",
       "      <td>11.000000</td>\n",
       "      <td>119.000000</td>\n",
       "      <td>7.010000</td>\n",
       "      <td>4.320000</td>\n",
       "      <td>6.17</td>\n",
       "    </tr>\n",
       "    <tr>\n",
       "      <th>3229</th>\n",
       "      <td>TE</td>\n",
       "      <td>Fresno State</td>\n",
       "      <td>251.0</td>\n",
       "      <td>4.890000</td>\n",
       "      <td>26.500000</td>\n",
       "      <td>20.157576</td>\n",
       "      <td>107.000000</td>\n",
       "      <td>7.650000</td>\n",
       "      <td>4.550000</td>\n",
       "      <td>6.42</td>\n",
       "    </tr>\n",
       "    <tr>\n",
       "      <th>3207</th>\n",
       "      <td>CB</td>\n",
       "      <td>Hawaii</td>\n",
       "      <td>187.0</td>\n",
       "      <td>4.470000</td>\n",
       "      <td>39.500000</td>\n",
       "      <td>18.000000</td>\n",
       "      <td>129.000000</td>\n",
       "      <td>6.944462</td>\n",
       "      <td>4.163174</td>\n",
       "      <td>5.75</td>\n",
       "    </tr>\n",
       "  </tbody>\n",
       "</table>\n",
       "<p>5738 rows × 10 columns</p>\n",
       "</div>"
      ],
      "text/plain": [
       "       Pos             School     Wt      40yd   Vertical      Bench  \\\n",
       "6651     S           Kentucky  208.0  4.390000  33.500000  19.000000   \n",
       "6261    DT    Fort Hays State  315.0  5.090000  31.000000  27.552561   \n",
       "6174    QB           Nebraska  218.0  4.980000  32.000000  19.300000   \n",
       "7742  EDGE         Cincinnati  228.0  4.670000  33.000000  22.902439   \n",
       "7016    DL         Ohio State  264.0  4.975784  30.680645  25.903226   \n",
       "...    ...                ...    ...       ...        ...        ...   \n",
       "1599    RB  Northern Illinois  237.0  4.490000  31.000000  22.000000   \n",
       "3257    DE          Wisconsin  266.0  4.860000  30.500000  24.000000   \n",
       "4638    WR             Baylor  208.0  4.520000  32.500000  11.000000   \n",
       "3229    TE       Fresno State  251.0  4.890000  26.500000  20.157576   \n",
       "3207    CB             Hawaii  187.0  4.470000  39.500000  18.000000   \n",
       "\n",
       "      Broad Jump     3Cone   Shuttle  Height  \n",
       "6651  113.000000  7.002910  4.204769    5.92  \n",
       "6261  112.000000  7.500000  4.530000    6.42  \n",
       "6174  115.000000  7.000000  4.410000    6.33  \n",
       "7742  120.000000  7.146000  4.370000    6.42  \n",
       "7016  111.595506  7.576301  4.614865    6.42  \n",
       "...          ...       ...       ...     ...  \n",
       "1599  114.000000  7.500000  4.150000    5.83  \n",
       "3257  112.000000  7.680000  4.880000    6.42  \n",
       "4638  119.000000  7.010000  4.320000    6.17  \n",
       "3229  107.000000  7.650000  4.550000    6.42  \n",
       "3207  129.000000  6.944462  4.163174    5.75  \n",
       "\n",
       "[5738 rows x 10 columns]"
      ]
     },
     "execution_count": 52,
     "metadata": {},
     "output_type": "execute_result"
    }
   ],
   "source": [
    "# reset display to normal\n",
    "pd.set_option('display.max_rows', 500)\n",
    "X_train"
   ]
  },
  {
   "cell_type": "code",
   "execution_count": 53,
   "metadata": {},
   "outputs": [],
   "source": [
    "# define numeric columns to be standard scaled\n",
    "num_cols = X_train.select_dtypes(['int', 'float']).columns"
   ]
  },
  {
   "cell_type": "code",
   "execution_count": 54,
   "metadata": {},
   "outputs": [],
   "source": [
    "# define categorical columns to be OHE\n",
    "cat_cols = X_train.select_dtypes(['object']).columns"
   ]
  },
  {
   "cell_type": "markdown",
   "metadata": {},
   "source": [
    "## Define the seperate pipelines"
   ]
  },
  {
   "cell_type": "markdown",
   "metadata": {},
   "source": [
    "#### Numeric & Nominal Pipelines"
   ]
  },
  {
   "cell_type": "code",
   "execution_count": 55,
   "metadata": {},
   "outputs": [],
   "source": [
    "# define numeric transformation pipeline that scales the numbers\n",
    "numeric_pipeline = Pipeline([('numnorm', StandardScaler())]) # apply a standard scaler\n",
    "\n",
    "# define a nominal transformation pipeline that OHE the cats, and MaxAbsScales the set\n",
    "nominal_pipeline = Pipeline([('onehotenc', OneHotEncoder(categories=\"auto\", # ohe the cat variables\n",
    "                                sparse = False, \n",
    "                              #  drop = 'first', \n",
    "                                handle_unknown = 'ignore')), \n",
    "                             ('onehotnorm', MaxAbsScaler())]) # apply a MaxAbsScaler\n"
   ]
  },
  {
   "cell_type": "markdown",
   "metadata": {},
   "source": [
    "Unite the numeric and nominal pipelines into the ColumnTransformer."
   ]
  },
  {
   "cell_type": "code",
   "execution_count": 56,
   "metadata": {},
   "outputs": [],
   "source": [
    "# transform the selected columns with nominal, and numeric pipelines\n",
    "ct = ColumnTransformer(transformers = \n",
    "    [(\"nominalpipe\", nominal_pipeline, cat_cols), # ohe and MaxAbsScale the Pos and School variables\n",
    "     (\"numpipe\", numeric_pipeline, num_cols)])\n",
    "\n",
    "# Create a pipeline containing the single column transformer\n",
    "# ct_pipe = Pipeline(steps=[\n",
    "#     (\"col_transformer\", ct)\n",
    "# ])\n",
    "\n",
    "# # Use the pipeline to fit and transform the data\n",
    "# transformed_data = ct_pipe.fit_transform(X_train)\n"
   ]
  },
  {
   "cell_type": "markdown",
   "metadata": {},
   "source": [
    "Below cell attempts to relabel the transformed data columns"
   ]
  },
  {
   "cell_type": "code",
   "execution_count": 57,
   "metadata": {},
   "outputs": [],
   "source": [
    "# Extract the category labels from the OHE within the pipeline\n",
    "# encoder = ct.named_transformers_[\"nominalpipe\"]\n",
    "# category_labels = OneHotEncoder.get_feature_names()\n",
    "\n",
    "# # Make a dataframe with the relevant columns\n",
    "# pd.DataFrame(transformed_data, columns=np.append(category_labels, num_cols))"
   ]
  },
  {
   "cell_type": "code",
   "execution_count": 58,
   "metadata": {},
   "outputs": [
    {
     "data": {
      "text/html": [
       "<div>\n",
       "<style scoped>\n",
       "    .dataframe tbody tr th:only-of-type {\n",
       "        vertical-align: middle;\n",
       "    }\n",
       "\n",
       "    .dataframe tbody tr th {\n",
       "        vertical-align: top;\n",
       "    }\n",
       "\n",
       "    .dataframe thead th {\n",
       "        text-align: right;\n",
       "    }\n",
       "</style>\n",
       "<table border=\"1\" class=\"dataframe\">\n",
       "  <thead>\n",
       "    <tr style=\"text-align: right;\">\n",
       "      <th></th>\n",
       "      <th>0</th>\n",
       "      <th>1</th>\n",
       "      <th>2</th>\n",
       "      <th>3</th>\n",
       "      <th>4</th>\n",
       "      <th>5</th>\n",
       "      <th>6</th>\n",
       "      <th>7</th>\n",
       "      <th>8</th>\n",
       "      <th>9</th>\n",
       "      <th>...</th>\n",
       "      <th>340</th>\n",
       "      <th>341</th>\n",
       "      <th>342</th>\n",
       "      <th>343</th>\n",
       "      <th>344</th>\n",
       "      <th>345</th>\n",
       "      <th>346</th>\n",
       "      <th>347</th>\n",
       "      <th>348</th>\n",
       "      <th>349</th>\n",
       "    </tr>\n",
       "  </thead>\n",
       "  <tbody>\n",
       "    <tr>\n",
       "      <th>0</th>\n",
       "      <td>0.0</td>\n",
       "      <td>0.0</td>\n",
       "      <td>0.0</td>\n",
       "      <td>0.0</td>\n",
       "      <td>0.0</td>\n",
       "      <td>0.0</td>\n",
       "      <td>0.0</td>\n",
       "      <td>0.0</td>\n",
       "      <td>0.0</td>\n",
       "      <td>0.0</td>\n",
       "      <td>...</td>\n",
       "      <td>0.0</td>\n",
       "      <td>0.0</td>\n",
       "      <td>-0.768205</td>\n",
       "      <td>-1.292828</td>\n",
       "      <td>0.167087</td>\n",
       "      <td>-0.201004</td>\n",
       "      <td>-0.164736</td>\n",
       "      <td>-0.182745</td>\n",
       "      <td>-0.227160</td>\n",
       "      <td>-1.038787</td>\n",
       "    </tr>\n",
       "    <tr>\n",
       "      <th>1</th>\n",
       "      <td>0.0</td>\n",
       "      <td>0.0</td>\n",
       "      <td>0.0</td>\n",
       "      <td>0.0</td>\n",
       "      <td>0.0</td>\n",
       "      <td>1.0</td>\n",
       "      <td>0.0</td>\n",
       "      <td>0.0</td>\n",
       "      <td>0.0</td>\n",
       "      <td>0.0</td>\n",
       "      <td>...</td>\n",
       "      <td>0.0</td>\n",
       "      <td>0.0</td>\n",
       "      <td>1.587333</td>\n",
       "      <td>1.031585</td>\n",
       "      <td>-0.473770</td>\n",
       "      <td>1.282397</td>\n",
       "      <td>-0.279103</td>\n",
       "      <td>0.362026</td>\n",
       "      <td>0.356867</td>\n",
       "      <td>1.233513</td>\n",
       "    </tr>\n",
       "    <tr>\n",
       "      <th>2</th>\n",
       "      <td>0.0</td>\n",
       "      <td>0.0</td>\n",
       "      <td>0.0</td>\n",
       "      <td>0.0</td>\n",
       "      <td>0.0</td>\n",
       "      <td>0.0</td>\n",
       "      <td>0.0</td>\n",
       "      <td>0.0</td>\n",
       "      <td>0.0</td>\n",
       "      <td>0.0</td>\n",
       "      <td>...</td>\n",
       "      <td>0.0</td>\n",
       "      <td>0.0</td>\n",
       "      <td>-0.548061</td>\n",
       "      <td>0.666320</td>\n",
       "      <td>-0.217427</td>\n",
       "      <td>-0.148970</td>\n",
       "      <td>0.063996</td>\n",
       "      <td>-0.185935</td>\n",
       "      <td>0.141379</td>\n",
       "      <td>0.824499</td>\n",
       "    </tr>\n",
       "    <tr>\n",
       "      <th>3</th>\n",
       "      <td>0.0</td>\n",
       "      <td>0.0</td>\n",
       "      <td>0.0</td>\n",
       "      <td>0.0</td>\n",
       "      <td>0.0</td>\n",
       "      <td>0.0</td>\n",
       "      <td>1.0</td>\n",
       "      <td>0.0</td>\n",
       "      <td>0.0</td>\n",
       "      <td>0.0</td>\n",
       "      <td>...</td>\n",
       "      <td>0.0</td>\n",
       "      <td>0.0</td>\n",
       "      <td>-0.327917</td>\n",
       "      <td>-0.363063</td>\n",
       "      <td>0.038916</td>\n",
       "      <td>0.475856</td>\n",
       "      <td>0.635828</td>\n",
       "      <td>-0.025930</td>\n",
       "      <td>0.069550</td>\n",
       "      <td>1.233513</td>\n",
       "    </tr>\n",
       "    <tr>\n",
       "      <th>4</th>\n",
       "      <td>0.0</td>\n",
       "      <td>0.0</td>\n",
       "      <td>0.0</td>\n",
       "      <td>0.0</td>\n",
       "      <td>1.0</td>\n",
       "      <td>0.0</td>\n",
       "      <td>0.0</td>\n",
       "      <td>0.0</td>\n",
       "      <td>0.0</td>\n",
       "      <td>0.0</td>\n",
       "      <td>...</td>\n",
       "      <td>0.0</td>\n",
       "      <td>0.0</td>\n",
       "      <td>0.464600</td>\n",
       "      <td>0.652322</td>\n",
       "      <td>-0.555634</td>\n",
       "      <td>0.996328</td>\n",
       "      <td>-0.325363</td>\n",
       "      <td>0.445646</td>\n",
       "      <td>0.509262</td>\n",
       "      <td>1.233513</td>\n",
       "    </tr>\n",
       "    <tr>\n",
       "      <th>...</th>\n",
       "      <td>...</td>\n",
       "      <td>...</td>\n",
       "      <td>...</td>\n",
       "      <td>...</td>\n",
       "      <td>...</td>\n",
       "      <td>...</td>\n",
       "      <td>...</td>\n",
       "      <td>...</td>\n",
       "      <td>...</td>\n",
       "      <td>...</td>\n",
       "      <td>...</td>\n",
       "      <td>...</td>\n",
       "      <td>...</td>\n",
       "      <td>...</td>\n",
       "      <td>...</td>\n",
       "      <td>...</td>\n",
       "      <td>...</td>\n",
       "      <td>...</td>\n",
       "      <td>...</td>\n",
       "      <td>...</td>\n",
       "      <td>...</td>\n",
       "    </tr>\n",
       "    <tr>\n",
       "      <th>5733</th>\n",
       "      <td>0.0</td>\n",
       "      <td>0.0</td>\n",
       "      <td>0.0</td>\n",
       "      <td>0.0</td>\n",
       "      <td>0.0</td>\n",
       "      <td>0.0</td>\n",
       "      <td>0.0</td>\n",
       "      <td>0.0</td>\n",
       "      <td>0.0</td>\n",
       "      <td>0.0</td>\n",
       "      <td>...</td>\n",
       "      <td>0.0</td>\n",
       "      <td>0.0</td>\n",
       "      <td>-0.129788</td>\n",
       "      <td>-0.960769</td>\n",
       "      <td>-0.473770</td>\n",
       "      <td>0.319332</td>\n",
       "      <td>-0.050370</td>\n",
       "      <td>0.362026</td>\n",
       "      <td>-0.325511</td>\n",
       "      <td>-1.447801</td>\n",
       "    </tr>\n",
       "    <tr>\n",
       "      <th>5734</th>\n",
       "      <td>0.0</td>\n",
       "      <td>0.0</td>\n",
       "      <td>0.0</td>\n",
       "      <td>1.0</td>\n",
       "      <td>0.0</td>\n",
       "      <td>0.0</td>\n",
       "      <td>0.0</td>\n",
       "      <td>0.0</td>\n",
       "      <td>0.0</td>\n",
       "      <td>0.0</td>\n",
       "      <td>...</td>\n",
       "      <td>0.0</td>\n",
       "      <td>0.0</td>\n",
       "      <td>0.508629</td>\n",
       "      <td>0.267849</td>\n",
       "      <td>-0.601942</td>\n",
       "      <td>0.666222</td>\n",
       "      <td>-0.279103</td>\n",
       "      <td>0.559292</td>\n",
       "      <td>0.985373</td>\n",
       "      <td>1.233513</td>\n",
       "    </tr>\n",
       "    <tr>\n",
       "      <th>5735</th>\n",
       "      <td>0.0</td>\n",
       "      <td>0.0</td>\n",
       "      <td>0.0</td>\n",
       "      <td>0.0</td>\n",
       "      <td>0.0</td>\n",
       "      <td>0.0</td>\n",
       "      <td>0.0</td>\n",
       "      <td>0.0</td>\n",
       "      <td>0.0</td>\n",
       "      <td>0.0</td>\n",
       "      <td>...</td>\n",
       "      <td>0.0</td>\n",
       "      <td>0.0</td>\n",
       "      <td>-0.768205</td>\n",
       "      <td>-0.861151</td>\n",
       "      <td>-0.089256</td>\n",
       "      <td>-1.588566</td>\n",
       "      <td>0.521462</td>\n",
       "      <td>-0.174975</td>\n",
       "      <td>-0.020237</td>\n",
       "      <td>0.097363</td>\n",
       "    </tr>\n",
       "    <tr>\n",
       "      <th>5736</th>\n",
       "      <td>0.0</td>\n",
       "      <td>0.0</td>\n",
       "      <td>0.0</td>\n",
       "      <td>0.0</td>\n",
       "      <td>0.0</td>\n",
       "      <td>0.0</td>\n",
       "      <td>0.0</td>\n",
       "      <td>0.0</td>\n",
       "      <td>0.0</td>\n",
       "      <td>0.0</td>\n",
       "      <td>...</td>\n",
       "      <td>0.0</td>\n",
       "      <td>0.0</td>\n",
       "      <td>0.178413</td>\n",
       "      <td>0.367467</td>\n",
       "      <td>-1.627313</td>\n",
       "      <td>-0.000228</td>\n",
       "      <td>-0.850934</td>\n",
       "      <td>0.526414</td>\n",
       "      <td>0.392782</td>\n",
       "      <td>1.233513</td>\n",
       "    </tr>\n",
       "    <tr>\n",
       "      <th>5737</th>\n",
       "      <td>0.0</td>\n",
       "      <td>1.0</td>\n",
       "      <td>0.0</td>\n",
       "      <td>0.0</td>\n",
       "      <td>0.0</td>\n",
       "      <td>0.0</td>\n",
       "      <td>0.0</td>\n",
       "      <td>0.0</td>\n",
       "      <td>0.0</td>\n",
       "      <td>0.0</td>\n",
       "      <td>...</td>\n",
       "      <td>0.0</td>\n",
       "      <td>0.0</td>\n",
       "      <td>-1.230506</td>\n",
       "      <td>-1.027181</td>\n",
       "      <td>1.705144</td>\n",
       "      <td>-0.374449</td>\n",
       "      <td>1.665125</td>\n",
       "      <td>-0.246800</td>\n",
       "      <td>-0.301854</td>\n",
       "      <td>-1.811369</td>\n",
       "    </tr>\n",
       "  </tbody>\n",
       "</table>\n",
       "<p>5738 rows × 350 columns</p>\n",
       "</div>"
      ],
      "text/plain": [
       "      0    1    2    3    4    5    6    7    8    9    ...  340  341  \\\n",
       "0     0.0  0.0  0.0  0.0  0.0  0.0  0.0  0.0  0.0  0.0  ...  0.0  0.0   \n",
       "1     0.0  0.0  0.0  0.0  0.0  1.0  0.0  0.0  0.0  0.0  ...  0.0  0.0   \n",
       "2     0.0  0.0  0.0  0.0  0.0  0.0  0.0  0.0  0.0  0.0  ...  0.0  0.0   \n",
       "3     0.0  0.0  0.0  0.0  0.0  0.0  1.0  0.0  0.0  0.0  ...  0.0  0.0   \n",
       "4     0.0  0.0  0.0  0.0  1.0  0.0  0.0  0.0  0.0  0.0  ...  0.0  0.0   \n",
       "...   ...  ...  ...  ...  ...  ...  ...  ...  ...  ...  ...  ...  ...   \n",
       "5733  0.0  0.0  0.0  0.0  0.0  0.0  0.0  0.0  0.0  0.0  ...  0.0  0.0   \n",
       "5734  0.0  0.0  0.0  1.0  0.0  0.0  0.0  0.0  0.0  0.0  ...  0.0  0.0   \n",
       "5735  0.0  0.0  0.0  0.0  0.0  0.0  0.0  0.0  0.0  0.0  ...  0.0  0.0   \n",
       "5736  0.0  0.0  0.0  0.0  0.0  0.0  0.0  0.0  0.0  0.0  ...  0.0  0.0   \n",
       "5737  0.0  1.0  0.0  0.0  0.0  0.0  0.0  0.0  0.0  0.0  ...  0.0  0.0   \n",
       "\n",
       "           342       343       344       345       346       347       348  \\\n",
       "0    -0.768205 -1.292828  0.167087 -0.201004 -0.164736 -0.182745 -0.227160   \n",
       "1     1.587333  1.031585 -0.473770  1.282397 -0.279103  0.362026  0.356867   \n",
       "2    -0.548061  0.666320 -0.217427 -0.148970  0.063996 -0.185935  0.141379   \n",
       "3    -0.327917 -0.363063  0.038916  0.475856  0.635828 -0.025930  0.069550   \n",
       "4     0.464600  0.652322 -0.555634  0.996328 -0.325363  0.445646  0.509262   \n",
       "...        ...       ...       ...       ...       ...       ...       ...   \n",
       "5733 -0.129788 -0.960769 -0.473770  0.319332 -0.050370  0.362026 -0.325511   \n",
       "5734  0.508629  0.267849 -0.601942  0.666222 -0.279103  0.559292  0.985373   \n",
       "5735 -0.768205 -0.861151 -0.089256 -1.588566  0.521462 -0.174975 -0.020237   \n",
       "5736  0.178413  0.367467 -1.627313 -0.000228 -0.850934  0.526414  0.392782   \n",
       "5737 -1.230506 -1.027181  1.705144 -0.374449  1.665125 -0.246800 -0.301854   \n",
       "\n",
       "           349  \n",
       "0    -1.038787  \n",
       "1     1.233513  \n",
       "2     0.824499  \n",
       "3     1.233513  \n",
       "4     1.233513  \n",
       "...        ...  \n",
       "5733 -1.447801  \n",
       "5734  1.233513  \n",
       "5735  0.097363  \n",
       "5736  1.233513  \n",
       "5737 -1.811369  \n",
       "\n",
       "[5738 rows x 350 columns]"
      ]
     },
     "execution_count": 58,
     "metadata": {},
     "output_type": "execute_result"
    }
   ],
   "source": [
    "# inspect the transformed X_Train\n",
    "pp_X_train = pd.DataFrame(ct.fit_transform(X_train))\n",
    "pp_X_train "
   ]
  },
  {
   "cell_type": "code",
   "execution_count": 59,
   "metadata": {},
   "outputs": [
    {
     "data": {
      "text/html": [
       "<style>div.sk-top-container {color: black;background-color: white;}div.sk-toggleable {background-color: white;}label.sk-toggleable__label {cursor: pointer;display: block;width: 100%;margin-bottom: 0;padding: 0.2em 0.3em;box-sizing: border-box;text-align: center;}div.sk-toggleable__content {max-height: 0;max-width: 0;overflow: hidden;text-align: left;background-color: #f0f8ff;}div.sk-toggleable__content pre {margin: 0.2em;color: black;border-radius: 0.25em;background-color: #f0f8ff;}input.sk-toggleable__control:checked~div.sk-toggleable__content {max-height: 200px;max-width: 100%;overflow: auto;}div.sk-estimator input.sk-toggleable__control:checked~label.sk-toggleable__label {background-color: #d4ebff;}div.sk-label input.sk-toggleable__control:checked~label.sk-toggleable__label {background-color: #d4ebff;}input.sk-hidden--visually {border: 0;clip: rect(1px 1px 1px 1px);clip: rect(1px, 1px, 1px, 1px);height: 1px;margin: -1px;overflow: hidden;padding: 0;position: absolute;width: 1px;}div.sk-estimator {font-family: monospace;background-color: #f0f8ff;margin: 0.25em 0.25em;border: 1px dotted black;border-radius: 0.25em;box-sizing: border-box;}div.sk-estimator:hover {background-color: #d4ebff;}div.sk-parallel-item::after {content: \"\";width: 100%;border-bottom: 1px solid gray;flex-grow: 1;}div.sk-label:hover label.sk-toggleable__label {background-color: #d4ebff;}div.sk-serial::before {content: \"\";position: absolute;border-left: 1px solid gray;box-sizing: border-box;top: 2em;bottom: 0;left: 50%;}div.sk-serial {display: flex;flex-direction: column;align-items: center;background-color: white;}div.sk-item {z-index: 1;}div.sk-parallel {display: flex;align-items: stretch;justify-content: center;background-color: white;}div.sk-parallel-item {display: flex;flex-direction: column;position: relative;background-color: white;}div.sk-parallel-item:first-child::after {align-self: flex-end;width: 50%;}div.sk-parallel-item:last-child::after {align-self: flex-start;width: 50%;}div.sk-parallel-item:only-child::after {width: 0;}div.sk-dashed-wrapped {border: 1px dashed gray;margin: 0.2em;box-sizing: border-box;padding-bottom: 0.1em;background-color: white;position: relative;}div.sk-label label {font-family: monospace;font-weight: bold;background-color: white;display: inline-block;line-height: 1.2em;}div.sk-label-container {position: relative;z-index: 2;text-align: center;}div.sk-container {display: inline-block;position: relative;}</style><div class=\"sk-top-container\"><div class=\"sk-container\"><div class=\"sk-item sk-dashed-wrapped\"><div class=\"sk-label-container\"><div class=\"sk-label sk-toggleable\"><input class=\"sk-toggleable__control sk-hidden--visually\" id=\"da1ae0dc-9c78-433e-9a5e-6e94918622e1\" type=\"checkbox\" ><label class=\"sk-toggleable__label\" for=\"da1ae0dc-9c78-433e-9a5e-6e94918622e1\">ColumnTransformer</label><div class=\"sk-toggleable__content\"><pre>ColumnTransformer(transformers=[('nominalpipe',\n",
       "                                 Pipeline(steps=[('onehotenc',\n",
       "                                                  OneHotEncoder(handle_unknown='ignore',\n",
       "                                                                sparse=False)),\n",
       "                                                 ('onehotnorm',\n",
       "                                                  MaxAbsScaler())]),\n",
       "                                 Index(['Pos', 'School'], dtype='object')),\n",
       "                                ('numpipe',\n",
       "                                 Pipeline(steps=[('numnorm',\n",
       "                                                  StandardScaler())]),\n",
       "                                 Index(['Wt', '40yd', 'Vertical', 'Bench', 'Broad Jump', '3Cone', 'Shuttle',\n",
       "       'Height'],\n",
       "      dtype='object'))])</pre></div></div></div><div class=\"sk-parallel\"><div class=\"sk-parallel-item\"><div class=\"sk-item\"><div class=\"sk-label-container\"><div class=\"sk-label sk-toggleable\"><input class=\"sk-toggleable__control sk-hidden--visually\" id=\"80622e40-fc39-461e-bed7-f22ad56c197a\" type=\"checkbox\" ><label class=\"sk-toggleable__label\" for=\"80622e40-fc39-461e-bed7-f22ad56c197a\">nominalpipe</label><div class=\"sk-toggleable__content\"><pre>Index(['Pos', 'School'], dtype='object')</pre></div></div></div><div class=\"sk-serial\"><div class=\"sk-item\"><div class=\"sk-serial\"><div class=\"sk-item\"><div class=\"sk-estimator sk-toggleable\"><input class=\"sk-toggleable__control sk-hidden--visually\" id=\"f014cfb8-c345-4a06-ba6b-b0d2aca65ff4\" type=\"checkbox\" ><label class=\"sk-toggleable__label\" for=\"f014cfb8-c345-4a06-ba6b-b0d2aca65ff4\">OneHotEncoder</label><div class=\"sk-toggleable__content\"><pre>OneHotEncoder(handle_unknown='ignore', sparse=False)</pre></div></div></div><div class=\"sk-item\"><div class=\"sk-estimator sk-toggleable\"><input class=\"sk-toggleable__control sk-hidden--visually\" id=\"ce91640d-0547-469f-b55b-d62346921ddd\" type=\"checkbox\" ><label class=\"sk-toggleable__label\" for=\"ce91640d-0547-469f-b55b-d62346921ddd\">MaxAbsScaler</label><div class=\"sk-toggleable__content\"><pre>MaxAbsScaler()</pre></div></div></div></div></div></div></div></div><div class=\"sk-parallel-item\"><div class=\"sk-item\"><div class=\"sk-label-container\"><div class=\"sk-label sk-toggleable\"><input class=\"sk-toggleable__control sk-hidden--visually\" id=\"2b366d1c-b96f-4965-bd4f-c12ea00a4b3d\" type=\"checkbox\" ><label class=\"sk-toggleable__label\" for=\"2b366d1c-b96f-4965-bd4f-c12ea00a4b3d\">numpipe</label><div class=\"sk-toggleable__content\"><pre>Index(['Wt', '40yd', 'Vertical', 'Bench', 'Broad Jump', '3Cone', 'Shuttle',\n",
       "       'Height'],\n",
       "      dtype='object')</pre></div></div></div><div class=\"sk-serial\"><div class=\"sk-item\"><div class=\"sk-serial\"><div class=\"sk-item\"><div class=\"sk-estimator sk-toggleable\"><input class=\"sk-toggleable__control sk-hidden--visually\" id=\"f0186db3-5871-4ce1-a531-e6d884d63d84\" type=\"checkbox\" ><label class=\"sk-toggleable__label\" for=\"f0186db3-5871-4ce1-a531-e6d884d63d84\">StandardScaler</label><div class=\"sk-toggleable__content\"><pre>StandardScaler()</pre></div></div></div></div></div></div></div></div></div></div></div></div>"
      ],
      "text/plain": [
       "ColumnTransformer(transformers=[('nominalpipe',\n",
       "                                 Pipeline(steps=[('onehotenc',\n",
       "                                                  OneHotEncoder(handle_unknown='ignore',\n",
       "                                                                sparse=False)),\n",
       "                                                 ('onehotnorm',\n",
       "                                                  MaxAbsScaler())]),\n",
       "                                 Index(['Pos', 'School'], dtype='object')),\n",
       "                                ('numpipe',\n",
       "                                 Pipeline(steps=[('numnorm',\n",
       "                                                  StandardScaler())]),\n",
       "                                 Index(['Wt', '40yd', 'Vertical', 'Bench', 'Broad Jump', '3Cone', 'Shuttle',\n",
       "       'Height'],\n",
       "      dtype='object'))])"
      ]
     },
     "execution_count": 59,
     "metadata": {},
     "output_type": "execute_result"
    }
   ],
   "source": [
    "# check columntransformer\n",
    "ct"
   ]
  },
  {
   "cell_type": "markdown",
   "metadata": {},
   "source": [
    "## 1st Model - Baseline"
   ]
  },
  {
   "cell_type": "code",
   "execution_count": 60,
   "metadata": {},
   "outputs": [
    {
     "data": {
      "text/html": [
       "<style>div.sk-top-container {color: black;background-color: white;}div.sk-toggleable {background-color: white;}label.sk-toggleable__label {cursor: pointer;display: block;width: 100%;margin-bottom: 0;padding: 0.2em 0.3em;box-sizing: border-box;text-align: center;}div.sk-toggleable__content {max-height: 0;max-width: 0;overflow: hidden;text-align: left;background-color: #f0f8ff;}div.sk-toggleable__content pre {margin: 0.2em;color: black;border-radius: 0.25em;background-color: #f0f8ff;}input.sk-toggleable__control:checked~div.sk-toggleable__content {max-height: 200px;max-width: 100%;overflow: auto;}div.sk-estimator input.sk-toggleable__control:checked~label.sk-toggleable__label {background-color: #d4ebff;}div.sk-label input.sk-toggleable__control:checked~label.sk-toggleable__label {background-color: #d4ebff;}input.sk-hidden--visually {border: 0;clip: rect(1px 1px 1px 1px);clip: rect(1px, 1px, 1px, 1px);height: 1px;margin: -1px;overflow: hidden;padding: 0;position: absolute;width: 1px;}div.sk-estimator {font-family: monospace;background-color: #f0f8ff;margin: 0.25em 0.25em;border: 1px dotted black;border-radius: 0.25em;box-sizing: border-box;}div.sk-estimator:hover {background-color: #d4ebff;}div.sk-parallel-item::after {content: \"\";width: 100%;border-bottom: 1px solid gray;flex-grow: 1;}div.sk-label:hover label.sk-toggleable__label {background-color: #d4ebff;}div.sk-serial::before {content: \"\";position: absolute;border-left: 1px solid gray;box-sizing: border-box;top: 2em;bottom: 0;left: 50%;}div.sk-serial {display: flex;flex-direction: column;align-items: center;background-color: white;}div.sk-item {z-index: 1;}div.sk-parallel {display: flex;align-items: stretch;justify-content: center;background-color: white;}div.sk-parallel-item {display: flex;flex-direction: column;position: relative;background-color: white;}div.sk-parallel-item:first-child::after {align-self: flex-end;width: 50%;}div.sk-parallel-item:last-child::after {align-self: flex-start;width: 50%;}div.sk-parallel-item:only-child::after {width: 0;}div.sk-dashed-wrapped {border: 1px dashed gray;margin: 0.2em;box-sizing: border-box;padding-bottom: 0.1em;background-color: white;position: relative;}div.sk-label label {font-family: monospace;font-weight: bold;background-color: white;display: inline-block;line-height: 1.2em;}div.sk-label-container {position: relative;z-index: 2;text-align: center;}div.sk-container {display: inline-block;position: relative;}</style><div class=\"sk-top-container\"><div class=\"sk-container\"><div class=\"sk-item sk-dashed-wrapped\"><div class=\"sk-label-container\"><div class=\"sk-label sk-toggleable\"><input class=\"sk-toggleable__control sk-hidden--visually\" id=\"98befa62-1b13-41ca-91e9-31123219edc6\" type=\"checkbox\" ><label class=\"sk-toggleable__label\" for=\"98befa62-1b13-41ca-91e9-31123219edc6\">Pipeline</label><div class=\"sk-toggleable__content\"><pre>Pipeline(steps=[('preprocess',\n",
       "                 ColumnTransformer(transformers=[('nominalpipe',\n",
       "                                                  Pipeline(steps=[('onehotenc',\n",
       "                                                                   OneHotEncoder(handle_unknown='ignore',\n",
       "                                                                                 sparse=False)),\n",
       "                                                                  ('onehotnorm',\n",
       "                                                                   MaxAbsScaler())]),\n",
       "                                                  Index(['Pos', 'School'], dtype='object')),\n",
       "                                                 ('numpipe',\n",
       "                                                  Pipeline(steps=[('numnorm',\n",
       "                                                                   StandardScaler())]),\n",
       "                                                  Index(['Wt', '40yd', 'Vertical', 'Bench', 'Broad Jump', '3Cone', 'Shuttle',\n",
       "       'Height'],\n",
       "      dtype='object'))])),\n",
       "                ('model', LogisticRegression(random_state=42))])</pre></div></div></div><div class=\"sk-serial\"><div class=\"sk-item sk-dashed-wrapped\"><div class=\"sk-label-container\"><div class=\"sk-label sk-toggleable\"><input class=\"sk-toggleable__control sk-hidden--visually\" id=\"66466861-1fb5-4b8b-82d6-185dca905294\" type=\"checkbox\" ><label class=\"sk-toggleable__label\" for=\"66466861-1fb5-4b8b-82d6-185dca905294\">preprocess: ColumnTransformer</label><div class=\"sk-toggleable__content\"><pre>ColumnTransformer(transformers=[('nominalpipe',\n",
       "                                 Pipeline(steps=[('onehotenc',\n",
       "                                                  OneHotEncoder(handle_unknown='ignore',\n",
       "                                                                sparse=False)),\n",
       "                                                 ('onehotnorm',\n",
       "                                                  MaxAbsScaler())]),\n",
       "                                 Index(['Pos', 'School'], dtype='object')),\n",
       "                                ('numpipe',\n",
       "                                 Pipeline(steps=[('numnorm',\n",
       "                                                  StandardScaler())]),\n",
       "                                 Index(['Wt', '40yd', 'Vertical', 'Bench', 'Broad Jump', '3Cone', 'Shuttle',\n",
       "       'Height'],\n",
       "      dtype='object'))])</pre></div></div></div><div class=\"sk-parallel\"><div class=\"sk-parallel-item\"><div class=\"sk-item\"><div class=\"sk-label-container\"><div class=\"sk-label sk-toggleable\"><input class=\"sk-toggleable__control sk-hidden--visually\" id=\"a0595940-6fcd-405d-8c12-018530c8514c\" type=\"checkbox\" ><label class=\"sk-toggleable__label\" for=\"a0595940-6fcd-405d-8c12-018530c8514c\">nominalpipe</label><div class=\"sk-toggleable__content\"><pre>Index(['Pos', 'School'], dtype='object')</pre></div></div></div><div class=\"sk-serial\"><div class=\"sk-item\"><div class=\"sk-serial\"><div class=\"sk-item\"><div class=\"sk-estimator sk-toggleable\"><input class=\"sk-toggleable__control sk-hidden--visually\" id=\"9992331d-5613-4b65-954b-6c6d60ddad4f\" type=\"checkbox\" ><label class=\"sk-toggleable__label\" for=\"9992331d-5613-4b65-954b-6c6d60ddad4f\">OneHotEncoder</label><div class=\"sk-toggleable__content\"><pre>OneHotEncoder(handle_unknown='ignore', sparse=False)</pre></div></div></div><div class=\"sk-item\"><div class=\"sk-estimator sk-toggleable\"><input class=\"sk-toggleable__control sk-hidden--visually\" id=\"fadb6fe2-6b41-40cb-aaa6-45370694a06f\" type=\"checkbox\" ><label class=\"sk-toggleable__label\" for=\"fadb6fe2-6b41-40cb-aaa6-45370694a06f\">MaxAbsScaler</label><div class=\"sk-toggleable__content\"><pre>MaxAbsScaler()</pre></div></div></div></div></div></div></div></div><div class=\"sk-parallel-item\"><div class=\"sk-item\"><div class=\"sk-label-container\"><div class=\"sk-label sk-toggleable\"><input class=\"sk-toggleable__control sk-hidden--visually\" id=\"1c39c883-0bdb-4fc9-8a6c-40dee8dc4f4c\" type=\"checkbox\" ><label class=\"sk-toggleable__label\" for=\"1c39c883-0bdb-4fc9-8a6c-40dee8dc4f4c\">numpipe</label><div class=\"sk-toggleable__content\"><pre>Index(['Wt', '40yd', 'Vertical', 'Bench', 'Broad Jump', '3Cone', 'Shuttle',\n",
       "       'Height'],\n",
       "      dtype='object')</pre></div></div></div><div class=\"sk-serial\"><div class=\"sk-item\"><div class=\"sk-serial\"><div class=\"sk-item\"><div class=\"sk-estimator sk-toggleable\"><input class=\"sk-toggleable__control sk-hidden--visually\" id=\"2ca42c84-b7df-427c-8960-ac86dfc38d00\" type=\"checkbox\" ><label class=\"sk-toggleable__label\" for=\"2ca42c84-b7df-427c-8960-ac86dfc38d00\">StandardScaler</label><div class=\"sk-toggleable__content\"><pre>StandardScaler()</pre></div></div></div></div></div></div></div></div></div></div><div class=\"sk-item\"><div class=\"sk-estimator sk-toggleable\"><input class=\"sk-toggleable__control sk-hidden--visually\" id=\"9dcd6962-58ff-4694-a0c5-f2a6d0ffc7d2\" type=\"checkbox\" ><label class=\"sk-toggleable__label\" for=\"9dcd6962-58ff-4694-a0c5-f2a6d0ffc7d2\">LogisticRegression</label><div class=\"sk-toggleable__content\"><pre>LogisticRegression(random_state=42)</pre></div></div></div></div></div></div></div>"
      ],
      "text/plain": [
       "Pipeline(steps=[('preprocess',\n",
       "                 ColumnTransformer(transformers=[('nominalpipe',\n",
       "                                                  Pipeline(steps=[('onehotenc',\n",
       "                                                                   OneHotEncoder(handle_unknown='ignore',\n",
       "                                                                                 sparse=False)),\n",
       "                                                                  ('onehotnorm',\n",
       "                                                                   MaxAbsScaler())]),\n",
       "                                                  Index(['Pos', 'School'], dtype='object')),\n",
       "                                                 ('numpipe',\n",
       "                                                  Pipeline(steps=[('numnorm',\n",
       "                                                                   StandardScaler())]),\n",
       "                                                  Index(['Wt', '40yd', 'Vertical', 'Bench', 'Broad Jump', '3Cone', 'Shuttle',\n",
       "       'Height'],\n",
       "      dtype='object'))])),\n",
       "                ('model', LogisticRegression(random_state=42))])"
      ]
     },
     "execution_count": 60,
     "metadata": {},
     "output_type": "execute_result"
    }
   ],
   "source": [
    "# build baseline log reg pipepline \n",
    "steps = [('preprocess', ct), \n",
    "         ('model', LogisticRegression(random_state = 42))]\n",
    "\n",
    "base_log_reg_pipeline = Pipeline(steps)\n",
    "\n",
    "base_log_reg_pipeline"
   ]
  },
  {
   "cell_type": "code",
   "execution_count": 61,
   "metadata": {},
   "outputs": [
    {
     "name": "stderr",
     "output_type": "stream",
     "text": [
      "/Users/eric/opt/anaconda3/envs/learn-env/lib/python3.8/site-packages/sklearn/linear_model/_logistic.py:762: ConvergenceWarning: lbfgs failed to converge (status=1):\n",
      "STOP: TOTAL NO. of ITERATIONS REACHED LIMIT.\n",
      "\n",
      "Increase the number of iterations (max_iter) or scale the data as shown in:\n",
      "    https://scikit-learn.org/stable/modules/preprocessing.html\n",
      "Please also refer to the documentation for alternative solver options:\n",
      "    https://scikit-learn.org/stable/modules/linear_model.html#logistic-regression\n",
      "  n_iter_i = _check_optimize_result(\n"
     ]
    },
    {
     "data": {
      "text/html": [
       "<style>div.sk-top-container {color: black;background-color: white;}div.sk-toggleable {background-color: white;}label.sk-toggleable__label {cursor: pointer;display: block;width: 100%;margin-bottom: 0;padding: 0.2em 0.3em;box-sizing: border-box;text-align: center;}div.sk-toggleable__content {max-height: 0;max-width: 0;overflow: hidden;text-align: left;background-color: #f0f8ff;}div.sk-toggleable__content pre {margin: 0.2em;color: black;border-radius: 0.25em;background-color: #f0f8ff;}input.sk-toggleable__control:checked~div.sk-toggleable__content {max-height: 200px;max-width: 100%;overflow: auto;}div.sk-estimator input.sk-toggleable__control:checked~label.sk-toggleable__label {background-color: #d4ebff;}div.sk-label input.sk-toggleable__control:checked~label.sk-toggleable__label {background-color: #d4ebff;}input.sk-hidden--visually {border: 0;clip: rect(1px 1px 1px 1px);clip: rect(1px, 1px, 1px, 1px);height: 1px;margin: -1px;overflow: hidden;padding: 0;position: absolute;width: 1px;}div.sk-estimator {font-family: monospace;background-color: #f0f8ff;margin: 0.25em 0.25em;border: 1px dotted black;border-radius: 0.25em;box-sizing: border-box;}div.sk-estimator:hover {background-color: #d4ebff;}div.sk-parallel-item::after {content: \"\";width: 100%;border-bottom: 1px solid gray;flex-grow: 1;}div.sk-label:hover label.sk-toggleable__label {background-color: #d4ebff;}div.sk-serial::before {content: \"\";position: absolute;border-left: 1px solid gray;box-sizing: border-box;top: 2em;bottom: 0;left: 50%;}div.sk-serial {display: flex;flex-direction: column;align-items: center;background-color: white;}div.sk-item {z-index: 1;}div.sk-parallel {display: flex;align-items: stretch;justify-content: center;background-color: white;}div.sk-parallel-item {display: flex;flex-direction: column;position: relative;background-color: white;}div.sk-parallel-item:first-child::after {align-self: flex-end;width: 50%;}div.sk-parallel-item:last-child::after {align-self: flex-start;width: 50%;}div.sk-parallel-item:only-child::after {width: 0;}div.sk-dashed-wrapped {border: 1px dashed gray;margin: 0.2em;box-sizing: border-box;padding-bottom: 0.1em;background-color: white;position: relative;}div.sk-label label {font-family: monospace;font-weight: bold;background-color: white;display: inline-block;line-height: 1.2em;}div.sk-label-container {position: relative;z-index: 2;text-align: center;}div.sk-container {display: inline-block;position: relative;}</style><div class=\"sk-top-container\"><div class=\"sk-container\"><div class=\"sk-item sk-dashed-wrapped\"><div class=\"sk-label-container\"><div class=\"sk-label sk-toggleable\"><input class=\"sk-toggleable__control sk-hidden--visually\" id=\"3b542002-f298-4231-8a1c-1cd8ad4139f0\" type=\"checkbox\" ><label class=\"sk-toggleable__label\" for=\"3b542002-f298-4231-8a1c-1cd8ad4139f0\">Pipeline</label><div class=\"sk-toggleable__content\"><pre>Pipeline(steps=[('preprocess',\n",
       "                 ColumnTransformer(transformers=[('nominalpipe',\n",
       "                                                  Pipeline(steps=[('onehotenc',\n",
       "                                                                   OneHotEncoder(handle_unknown='ignore',\n",
       "                                                                                 sparse=False)),\n",
       "                                                                  ('onehotnorm',\n",
       "                                                                   MaxAbsScaler())]),\n",
       "                                                  Index(['Pos', 'School'], dtype='object')),\n",
       "                                                 ('numpipe',\n",
       "                                                  Pipeline(steps=[('numnorm',\n",
       "                                                                   StandardScaler())]),\n",
       "                                                  Index(['Wt', '40yd', 'Vertical', 'Bench', 'Broad Jump', '3Cone', 'Shuttle',\n",
       "       'Height'],\n",
       "      dtype='object'))])),\n",
       "                ('model', LogisticRegression(random_state=42))])</pre></div></div></div><div class=\"sk-serial\"><div class=\"sk-item sk-dashed-wrapped\"><div class=\"sk-label-container\"><div class=\"sk-label sk-toggleable\"><input class=\"sk-toggleable__control sk-hidden--visually\" id=\"9ea46421-ae96-4abb-b8db-13d455b26a73\" type=\"checkbox\" ><label class=\"sk-toggleable__label\" for=\"9ea46421-ae96-4abb-b8db-13d455b26a73\">preprocess: ColumnTransformer</label><div class=\"sk-toggleable__content\"><pre>ColumnTransformer(transformers=[('nominalpipe',\n",
       "                                 Pipeline(steps=[('onehotenc',\n",
       "                                                  OneHotEncoder(handle_unknown='ignore',\n",
       "                                                                sparse=False)),\n",
       "                                                 ('onehotnorm',\n",
       "                                                  MaxAbsScaler())]),\n",
       "                                 Index(['Pos', 'School'], dtype='object')),\n",
       "                                ('numpipe',\n",
       "                                 Pipeline(steps=[('numnorm',\n",
       "                                                  StandardScaler())]),\n",
       "                                 Index(['Wt', '40yd', 'Vertical', 'Bench', 'Broad Jump', '3Cone', 'Shuttle',\n",
       "       'Height'],\n",
       "      dtype='object'))])</pre></div></div></div><div class=\"sk-parallel\"><div class=\"sk-parallel-item\"><div class=\"sk-item\"><div class=\"sk-label-container\"><div class=\"sk-label sk-toggleable\"><input class=\"sk-toggleable__control sk-hidden--visually\" id=\"d5b0f024-e71f-46c8-a259-244ca94acb8e\" type=\"checkbox\" ><label class=\"sk-toggleable__label\" for=\"d5b0f024-e71f-46c8-a259-244ca94acb8e\">nominalpipe</label><div class=\"sk-toggleable__content\"><pre>Index(['Pos', 'School'], dtype='object')</pre></div></div></div><div class=\"sk-serial\"><div class=\"sk-item\"><div class=\"sk-serial\"><div class=\"sk-item\"><div class=\"sk-estimator sk-toggleable\"><input class=\"sk-toggleable__control sk-hidden--visually\" id=\"1c892bf6-0f18-4488-99d9-e6cd6c80f224\" type=\"checkbox\" ><label class=\"sk-toggleable__label\" for=\"1c892bf6-0f18-4488-99d9-e6cd6c80f224\">OneHotEncoder</label><div class=\"sk-toggleable__content\"><pre>OneHotEncoder(handle_unknown='ignore', sparse=False)</pre></div></div></div><div class=\"sk-item\"><div class=\"sk-estimator sk-toggleable\"><input class=\"sk-toggleable__control sk-hidden--visually\" id=\"48eff8a2-3ab0-4a64-9be2-f2b4121792f4\" type=\"checkbox\" ><label class=\"sk-toggleable__label\" for=\"48eff8a2-3ab0-4a64-9be2-f2b4121792f4\">MaxAbsScaler</label><div class=\"sk-toggleable__content\"><pre>MaxAbsScaler()</pre></div></div></div></div></div></div></div></div><div class=\"sk-parallel-item\"><div class=\"sk-item\"><div class=\"sk-label-container\"><div class=\"sk-label sk-toggleable\"><input class=\"sk-toggleable__control sk-hidden--visually\" id=\"e6916a35-82b6-4441-a7b0-3aaedeea73dc\" type=\"checkbox\" ><label class=\"sk-toggleable__label\" for=\"e6916a35-82b6-4441-a7b0-3aaedeea73dc\">numpipe</label><div class=\"sk-toggleable__content\"><pre>Index(['Wt', '40yd', 'Vertical', 'Bench', 'Broad Jump', '3Cone', 'Shuttle',\n",
       "       'Height'],\n",
       "      dtype='object')</pre></div></div></div><div class=\"sk-serial\"><div class=\"sk-item\"><div class=\"sk-serial\"><div class=\"sk-item\"><div class=\"sk-estimator sk-toggleable\"><input class=\"sk-toggleable__control sk-hidden--visually\" id=\"7bacb129-f3f2-4868-8b8b-2cc06c582ec0\" type=\"checkbox\" ><label class=\"sk-toggleable__label\" for=\"7bacb129-f3f2-4868-8b8b-2cc06c582ec0\">StandardScaler</label><div class=\"sk-toggleable__content\"><pre>StandardScaler()</pre></div></div></div></div></div></div></div></div></div></div><div class=\"sk-item\"><div class=\"sk-estimator sk-toggleable\"><input class=\"sk-toggleable__control sk-hidden--visually\" id=\"a57264bb-0066-42b0-8492-06c8bf418c32\" type=\"checkbox\" ><label class=\"sk-toggleable__label\" for=\"a57264bb-0066-42b0-8492-06c8bf418c32\">LogisticRegression</label><div class=\"sk-toggleable__content\"><pre>LogisticRegression(random_state=42)</pre></div></div></div></div></div></div></div>"
      ],
      "text/plain": [
       "Pipeline(steps=[('preprocess',\n",
       "                 ColumnTransformer(transformers=[('nominalpipe',\n",
       "                                                  Pipeline(steps=[('onehotenc',\n",
       "                                                                   OneHotEncoder(handle_unknown='ignore',\n",
       "                                                                                 sparse=False)),\n",
       "                                                                  ('onehotnorm',\n",
       "                                                                   MaxAbsScaler())]),\n",
       "                                                  Index(['Pos', 'School'], dtype='object')),\n",
       "                                                 ('numpipe',\n",
       "                                                  Pipeline(steps=[('numnorm',\n",
       "                                                                   StandardScaler())]),\n",
       "                                                  Index(['Wt', '40yd', 'Vertical', 'Bench', 'Broad Jump', '3Cone', 'Shuttle',\n",
       "       'Height'],\n",
       "      dtype='object'))])),\n",
       "                ('model', LogisticRegression(random_state=42))])"
      ]
     },
     "execution_count": 61,
     "metadata": {},
     "output_type": "execute_result"
    }
   ],
   "source": [
    "base_log_reg_pipeline.fit(X_train, y_train)"
   ]
  },
  {
   "cell_type": "code",
   "execution_count": 62,
   "metadata": {},
   "outputs": [
    {
     "name": "stdout",
     "output_type": "stream",
     "text": [
      "1st Model Baseline Logistic Regression Score: 0.734\n"
     ]
    },
    {
     "data": {
      "image/png": "[encoded data removed]",
      "text/plain": [
       "<Figure size 432x288 with 2 Axes>"
      ]
     },
     "metadata": {},
     "output_type": "display_data"
    }
   ],
   "source": [
    "# plot baseline log reg matrix\n",
    "plot_confusion_matrix(base_log_reg_pipeline, X_train, y_train)\n",
    "print('1st Model Baseline Logistic Regression Score:', \n",
    "      round(base_log_reg_pipeline.score(X_train, y_train),3))\n"
   ]
  },
  {
   "cell_type": "code",
   "execution_count": 63,
   "metadata": {},
   "outputs": [],
   "source": [
    "# # code to check feature importances MODIFY\n",
    "# feat_imp = base_log_reg_pipeline['model'].feature_importances_  \n",
    " \n",
    "# feat_imp_series = pd.Series(feat_imp, \n",
    "#           index = X.columns).sort_values(\n",
    "#     ascending = False)"
   ]
  },
  {
   "cell_type": "code",
   "execution_count": null,
   "metadata": {},
   "outputs": [],
   "source": []
  },
  {
   "cell_type": "markdown",
   "metadata": {},
   "source": [
    "## Cross Validation Pipeline\n",
    "### Using `StratifiedKFold`"
   ]
  },
  {
   "cell_type": "code",
   "execution_count": 64,
   "metadata": {},
   "outputs": [],
   "source": [
    "def cross_validation_pipe(X_train, y_train, estimator, num_split = 10):\n",
    "    \n",
    "    score_train_list = []\n",
    "    score_val_list = []\n",
    "\n",
    "    # Instantiate a splitter object and loop over its result\n",
    "    kfold = StratifiedKFold()\n",
    "    for fold, (train_index, val_index) in enumerate(kfold.split(X_train, y_train)):\n",
    "        # Extract train and validation subsets using the provided indices\n",
    "        X_t, X_val = X_train.iloc[train_index], X_train.iloc[val_index]\n",
    "        y_t, y_val = y_train.iloc[train_index], y_train.iloc[val_index]\n",
    "\n",
    "        # Clone the provided model and fit it on the train subset\n",
    "        temp_model = clone(estimator)\n",
    "        temp_model.fit(X_t, y_t)\n",
    "        \n",
    "        # now how did we do?\n",
    "        accuracy_train = estimator.score(X_t, y_t) # X_train and y_train folds\n",
    "        accuracy_val = estimator.score(X_val, y_val) # X_train and y_train validation folds\n",
    "        score_val_list.append(accuracy_val)\n",
    "        score_train_list.append(accuracy_train)\n",
    "\n",
    "    return {'Train Score': np.mean(score_train_list), 'Validation Score': np.mean(score_val_list)}"
   ]
  },
  {
   "cell_type": "code",
   "execution_count": 65,
   "metadata": {},
   "outputs": [
    {
     "name": "stderr",
     "output_type": "stream",
     "text": [
      "/Users/eric/opt/anaconda3/envs/learn-env/lib/python3.8/site-packages/sklearn/linear_model/_logistic.py:762: ConvergenceWarning: lbfgs failed to converge (status=1):\n",
      "STOP: TOTAL NO. of ITERATIONS REACHED LIMIT.\n",
      "\n",
      "Increase the number of iterations (max_iter) or scale the data as shown in:\n",
      "    https://scikit-learn.org/stable/modules/preprocessing.html\n",
      "Please also refer to the documentation for alternative solver options:\n",
      "    https://scikit-learn.org/stable/modules/linear_model.html#logistic-regression\n",
      "  n_iter_i = _check_optimize_result(\n",
      "/Users/eric/opt/anaconda3/envs/learn-env/lib/python3.8/site-packages/sklearn/linear_model/_logistic.py:762: ConvergenceWarning: lbfgs failed to converge (status=1):\n",
      "STOP: TOTAL NO. of ITERATIONS REACHED LIMIT.\n",
      "\n",
      "Increase the number of iterations (max_iter) or scale the data as shown in:\n",
      "    https://scikit-learn.org/stable/modules/preprocessing.html\n",
      "Please also refer to the documentation for alternative solver options:\n",
      "    https://scikit-learn.org/stable/modules/linear_model.html#logistic-regression\n",
      "  n_iter_i = _check_optimize_result(\n",
      "/Users/eric/opt/anaconda3/envs/learn-env/lib/python3.8/site-packages/sklearn/linear_model/_logistic.py:762: ConvergenceWarning: lbfgs failed to converge (status=1):\n",
      "STOP: TOTAL NO. of ITERATIONS REACHED LIMIT.\n",
      "\n",
      "Increase the number of iterations (max_iter) or scale the data as shown in:\n",
      "    https://scikit-learn.org/stable/modules/preprocessing.html\n",
      "Please also refer to the documentation for alternative solver options:\n",
      "    https://scikit-learn.org/stable/modules/linear_model.html#logistic-regression\n",
      "  n_iter_i = _check_optimize_result(\n",
      "/Users/eric/opt/anaconda3/envs/learn-env/lib/python3.8/site-packages/sklearn/linear_model/_logistic.py:762: ConvergenceWarning: lbfgs failed to converge (status=1):\n",
      "STOP: TOTAL NO. of ITERATIONS REACHED LIMIT.\n",
      "\n",
      "Increase the number of iterations (max_iter) or scale the data as shown in:\n",
      "    https://scikit-learn.org/stable/modules/preprocessing.html\n",
      "Please also refer to the documentation for alternative solver options:\n",
      "    https://scikit-learn.org/stable/modules/linear_model.html#logistic-regression\n",
      "  n_iter_i = _check_optimize_result(\n",
      "/Users/eric/opt/anaconda3/envs/learn-env/lib/python3.8/site-packages/sklearn/linear_model/_logistic.py:762: ConvergenceWarning: lbfgs failed to converge (status=1):\n",
      "STOP: TOTAL NO. of ITERATIONS REACHED LIMIT.\n",
      "\n",
      "Increase the number of iterations (max_iter) or scale the data as shown in:\n",
      "    https://scikit-learn.org/stable/modules/preprocessing.html\n",
      "Please also refer to the documentation for alternative solver options:\n",
      "    https://scikit-learn.org/stable/modules/linear_model.html#logistic-regression\n",
      "  n_iter_i = _check_optimize_result(\n"
     ]
    },
    {
     "data": {
      "text/plain": [
       "{'Train Score': 0.7340536590250225, 'Validation Score': 0.7340533857449673}"
      ]
     },
     "execution_count": 65,
     "metadata": {},
     "output_type": "execute_result"
    }
   ],
   "source": [
    "cross_validation_pipe(X_train, y_train, base_log_reg_pipeline)"
   ]
  },
  {
   "cell_type": "code",
   "execution_count": 66,
   "metadata": {},
   "outputs": [
    {
     "name": "stderr",
     "output_type": "stream",
     "text": [
      "/Users/eric/opt/anaconda3/envs/learn-env/lib/python3.8/site-packages/sklearn/linear_model/_logistic.py:762: ConvergenceWarning: lbfgs failed to converge (status=1):\n",
      "STOP: TOTAL NO. of ITERATIONS REACHED LIMIT.\n",
      "\n",
      "Increase the number of iterations (max_iter) or scale the data as shown in:\n",
      "    https://scikit-learn.org/stable/modules/preprocessing.html\n",
      "Please also refer to the documentation for alternative solver options:\n",
      "    https://scikit-learn.org/stable/modules/linear_model.html#logistic-regression\n",
      "  n_iter_i = _check_optimize_result(\n"
     ]
    },
    {
     "data": {
      "image/png": "[encoded data removed]",
      "text/plain": [
       "<Figure size 432x288 with 1 Axes>"
      ]
     },
     "metadata": {},
     "output_type": "display_data"
    }
   ],
   "source": [
    "# fit and plot roc curve\n",
    "base_log_reg_pipeline.fit(X_train, y_train)\n",
    "plot_roc_curve(base_log_reg_pipeline, X_train, y_train)\n",
    "plt.show()"
   ]
  },
  {
   "cell_type": "code",
   "execution_count": null,
   "metadata": {},
   "outputs": [],
   "source": []
  },
  {
   "cell_type": "code",
   "execution_count": null,
   "metadata": {},
   "outputs": [],
   "source": []
  },
  {
   "cell_type": "markdown",
   "metadata": {},
   "source": [
    "## 2nd Model - Tuned Logistic Regression\n",
    "Lets define a new model and try to improve on the baseline logistic regression model. \n"
   ]
  },
  {
   "cell_type": "code",
   "execution_count": 67,
   "metadata": {},
   "outputs": [
    {
     "data": {
      "text/html": [
       "<style>div.sk-top-container {color: black;background-color: white;}div.sk-toggleable {background-color: white;}label.sk-toggleable__label {cursor: pointer;display: block;width: 100%;margin-bottom: 0;padding: 0.2em 0.3em;box-sizing: border-box;text-align: center;}div.sk-toggleable__content {max-height: 0;max-width: 0;overflow: hidden;text-align: left;background-color: #f0f8ff;}div.sk-toggleable__content pre {margin: 0.2em;color: black;border-radius: 0.25em;background-color: #f0f8ff;}input.sk-toggleable__control:checked~div.sk-toggleable__content {max-height: 200px;max-width: 100%;overflow: auto;}div.sk-estimator input.sk-toggleable__control:checked~label.sk-toggleable__label {background-color: #d4ebff;}div.sk-label input.sk-toggleable__control:checked~label.sk-toggleable__label {background-color: #d4ebff;}input.sk-hidden--visually {border: 0;clip: rect(1px 1px 1px 1px);clip: rect(1px, 1px, 1px, 1px);height: 1px;margin: -1px;overflow: hidden;padding: 0;position: absolute;width: 1px;}div.sk-estimator {font-family: monospace;background-color: #f0f8ff;margin: 0.25em 0.25em;border: 1px dotted black;border-radius: 0.25em;box-sizing: border-box;}div.sk-estimator:hover {background-color: #d4ebff;}div.sk-parallel-item::after {content: \"\";width: 100%;border-bottom: 1px solid gray;flex-grow: 1;}div.sk-label:hover label.sk-toggleable__label {background-color: #d4ebff;}div.sk-serial::before {content: \"\";position: absolute;border-left: 1px solid gray;box-sizing: border-box;top: 2em;bottom: 0;left: 50%;}div.sk-serial {display: flex;flex-direction: column;align-items: center;background-color: white;}div.sk-item {z-index: 1;}div.sk-parallel {display: flex;align-items: stretch;justify-content: center;background-color: white;}div.sk-parallel-item {display: flex;flex-direction: column;position: relative;background-color: white;}div.sk-parallel-item:first-child::after {align-self: flex-end;width: 50%;}div.sk-parallel-item:last-child::after {align-self: flex-start;width: 50%;}div.sk-parallel-item:only-child::after {width: 0;}div.sk-dashed-wrapped {border: 1px dashed gray;margin: 0.2em;box-sizing: border-box;padding-bottom: 0.1em;background-color: white;position: relative;}div.sk-label label {font-family: monospace;font-weight: bold;background-color: white;display: inline-block;line-height: 1.2em;}div.sk-label-container {position: relative;z-index: 2;text-align: center;}div.sk-container {display: inline-block;position: relative;}</style><div class=\"sk-top-container\"><div class=\"sk-container\"><div class=\"sk-item sk-dashed-wrapped\"><div class=\"sk-label-container\"><div class=\"sk-label sk-toggleable\"><input class=\"sk-toggleable__control sk-hidden--visually\" id=\"e6d04b4c-2718-4fda-bcff-896fc04b4d26\" type=\"checkbox\" ><label class=\"sk-toggleable__label\" for=\"e6d04b4c-2718-4fda-bcff-896fc04b4d26\">Pipeline</label><div class=\"sk-toggleable__content\"><pre>Pipeline(steps=[('preprocess',\n",
       "                 ColumnTransformer(transformers=[('nominalpipe',\n",
       "                                                  Pipeline(steps=[('onehotenc',\n",
       "                                                                   OneHotEncoder(handle_unknown='ignore',\n",
       "                                                                                 sparse=False)),\n",
       "                                                                  ('onehotnorm',\n",
       "                                                                   MaxAbsScaler())]),\n",
       "                                                  Index(['Pos', 'School'], dtype='object')),\n",
       "                                                 ('numpipe',\n",
       "                                                  Pipeline(steps=[('numnorm',\n",
       "                                                                   StandardScaler())]),\n",
       "                                                  Index(['Wt', '40yd', 'Vertical', 'Bench', 'Broad Jump', '3Cone', 'Shuttle',\n",
       "       'Height'],\n",
       "      dtype='object'))])),\n",
       "                ('model', LogisticRegression(random_state=42))])</pre></div></div></div><div class=\"sk-serial\"><div class=\"sk-item sk-dashed-wrapped\"><div class=\"sk-label-container\"><div class=\"sk-label sk-toggleable\"><input class=\"sk-toggleable__control sk-hidden--visually\" id=\"d7c9f0ee-ccfa-429d-a5a8-842d598059fa\" type=\"checkbox\" ><label class=\"sk-toggleable__label\" for=\"d7c9f0ee-ccfa-429d-a5a8-842d598059fa\">preprocess: ColumnTransformer</label><div class=\"sk-toggleable__content\"><pre>ColumnTransformer(transformers=[('nominalpipe',\n",
       "                                 Pipeline(steps=[('onehotenc',\n",
       "                                                  OneHotEncoder(handle_unknown='ignore',\n",
       "                                                                sparse=False)),\n",
       "                                                 ('onehotnorm',\n",
       "                                                  MaxAbsScaler())]),\n",
       "                                 Index(['Pos', 'School'], dtype='object')),\n",
       "                                ('numpipe',\n",
       "                                 Pipeline(steps=[('numnorm',\n",
       "                                                  StandardScaler())]),\n",
       "                                 Index(['Wt', '40yd', 'Vertical', 'Bench', 'Broad Jump', '3Cone', 'Shuttle',\n",
       "       'Height'],\n",
       "      dtype='object'))])</pre></div></div></div><div class=\"sk-parallel\"><div class=\"sk-parallel-item\"><div class=\"sk-item\"><div class=\"sk-label-container\"><div class=\"sk-label sk-toggleable\"><input class=\"sk-toggleable__control sk-hidden--visually\" id=\"53b70f70-7d53-4b2e-89e1-26deb67b08e8\" type=\"checkbox\" ><label class=\"sk-toggleable__label\" for=\"53b70f70-7d53-4b2e-89e1-26deb67b08e8\">nominalpipe</label><div class=\"sk-toggleable__content\"><pre>Index(['Pos', 'School'], dtype='object')</pre></div></div></div><div class=\"sk-serial\"><div class=\"sk-item\"><div class=\"sk-serial\"><div class=\"sk-item\"><div class=\"sk-estimator sk-toggleable\"><input class=\"sk-toggleable__control sk-hidden--visually\" id=\"696be6b9-9193-48d4-939c-d1b435007f32\" type=\"checkbox\" ><label class=\"sk-toggleable__label\" for=\"696be6b9-9193-48d4-939c-d1b435007f32\">OneHotEncoder</label><div class=\"sk-toggleable__content\"><pre>OneHotEncoder(handle_unknown='ignore', sparse=False)</pre></div></div></div><div class=\"sk-item\"><div class=\"sk-estimator sk-toggleable\"><input class=\"sk-toggleable__control sk-hidden--visually\" id=\"2b5cc9f3-c24c-4801-85b0-ea455588d151\" type=\"checkbox\" ><label class=\"sk-toggleable__label\" for=\"2b5cc9f3-c24c-4801-85b0-ea455588d151\">MaxAbsScaler</label><div class=\"sk-toggleable__content\"><pre>MaxAbsScaler()</pre></div></div></div></div></div></div></div></div><div class=\"sk-parallel-item\"><div class=\"sk-item\"><div class=\"sk-label-container\"><div class=\"sk-label sk-toggleable\"><input class=\"sk-toggleable__control sk-hidden--visually\" id=\"97ad0711-21d9-4dae-b178-b2eb8c380768\" type=\"checkbox\" ><label class=\"sk-toggleable__label\" for=\"97ad0711-21d9-4dae-b178-b2eb8c380768\">numpipe</label><div class=\"sk-toggleable__content\"><pre>Index(['Wt', '40yd', 'Vertical', 'Bench', 'Broad Jump', '3Cone', 'Shuttle',\n",
       "       'Height'],\n",
       "      dtype='object')</pre></div></div></div><div class=\"sk-serial\"><div class=\"sk-item\"><div class=\"sk-serial\"><div class=\"sk-item\"><div class=\"sk-estimator sk-toggleable\"><input class=\"sk-toggleable__control sk-hidden--visually\" id=\"cf9084d1-ea64-463c-ae9a-ac68eba4503e\" type=\"checkbox\" ><label class=\"sk-toggleable__label\" for=\"cf9084d1-ea64-463c-ae9a-ac68eba4503e\">StandardScaler</label><div class=\"sk-toggleable__content\"><pre>StandardScaler()</pre></div></div></div></div></div></div></div></div></div></div><div class=\"sk-item\"><div class=\"sk-estimator sk-toggleable\"><input class=\"sk-toggleable__control sk-hidden--visually\" id=\"0078ee20-694f-4723-9d8c-4d31b2dcf771\" type=\"checkbox\" ><label class=\"sk-toggleable__label\" for=\"0078ee20-694f-4723-9d8c-4d31b2dcf771\">LogisticRegression</label><div class=\"sk-toggleable__content\"><pre>LogisticRegression(random_state=42)</pre></div></div></div></div></div></div></div>"
      ],
      "text/plain": [
       "Pipeline(steps=[('preprocess',\n",
       "                 ColumnTransformer(transformers=[('nominalpipe',\n",
       "                                                  Pipeline(steps=[('onehotenc',\n",
       "                                                                   OneHotEncoder(handle_unknown='ignore',\n",
       "                                                                                 sparse=False)),\n",
       "                                                                  ('onehotnorm',\n",
       "                                                                   MaxAbsScaler())]),\n",
       "                                                  Index(['Pos', 'School'], dtype='object')),\n",
       "                                                 ('numpipe',\n",
       "                                                  Pipeline(steps=[('numnorm',\n",
       "                                                                   StandardScaler())]),\n",
       "                                                  Index(['Wt', '40yd', 'Vertical', 'Bench', 'Broad Jump', '3Cone', 'Shuttle',\n",
       "       'Height'],\n",
       "      dtype='object'))])),\n",
       "                ('model', LogisticRegression(random_state=42))])"
      ]
     },
     "execution_count": 67,
     "metadata": {},
     "output_type": "execute_result"
    }
   ],
   "source": [
    "# build baseline log reg pipepline \n",
    "steps = [('preprocess', ct), \n",
    "         ('model', LogisticRegression(random_state = 42))]\n",
    "\n",
    "base_log_reg_pipeline = Pipeline(steps)\n",
    "\n",
    "base_log_reg_pipeline"
   ]
  },
  {
   "cell_type": "code",
   "execution_count": 68,
   "metadata": {},
   "outputs": [],
   "source": [
    "# define new parameters in the grid\n",
    "logreg_pipe_grid = {'model__penalty': ['l2', 'none'],\n",
    "             'model__solver': ['lbfgs'],\n",
    "             'model__C': [0.0001, 0.001, 0.01, 0.1, 1],  \n",
    "             'model__max_iter': [1e2, 1e3, 1e4, 1e5]}  \n",
    "\n",
    "# note: default scoring is aaccuracy\n",
    "gs_logreg_pipe2 = GridSearchCV(estimator = base_log_reg_pipeline, # runs through the original pipeline\n",
    "                       param_grid = logreg_pipe_grid) # goes through all parameters in the defined grid\n"
   ]
  },
  {
   "cell_type": "markdown",
   "metadata": {},
   "source": [
    "To save time, below is an example of the grid search in action. Just need to uncomment out the cells. Otherwise, the best parameters have been performed and extracted to fit the 2nd model using the `lbfgs` solver. "
   ]
  },
  {
   "cell_type": "code",
   "execution_count": 69,
   "metadata": {},
   "outputs": [],
   "source": [
    "# run this to find best parameters based on gridsearch \n",
    "# takes a while!\n",
    "# gs_logreg_pipe2.fit(X_train, y_train)"
   ]
  },
  {
   "cell_type": "code",
   "execution_count": 70,
   "metadata": {},
   "outputs": [],
   "source": [
    "# find my best parameters in the log reg model 2, using lbfgs solver\n",
    "# ---- to save time; below are best results ----- #\n",
    "# {'model__C': 0.1,\n",
    "#  'model__max_iter': 100.0,\n",
    "#  'model__penalty': 'l2',\n",
    "#  'model__solver': 'lbfgs'}\n",
    "\n",
    "\n",
    "#gs_logreg_pipe2.best_params_"
   ]
  },
  {
   "cell_type": "code",
   "execution_count": 71,
   "metadata": {},
   "outputs": [],
   "source": [
    "# whats the best score based on these parameters? using lbfgs solver\n",
    "# gs_logreg_pipe2.best_score_"
   ]
  },
  {
   "cell_type": "code",
   "execution_count": 72,
   "metadata": {},
   "outputs": [],
   "source": [
    "# reassign best params to the 2nd model\n",
    "# gs_logreg_pipe2 = gs_logreg_pipe2.best_estimator_\n",
    "# gs_logreg_pipe2"
   ]
  },
  {
   "cell_type": "code",
   "execution_count": 73,
   "metadata": {},
   "outputs": [
    {
     "data": {
      "text/html": [
       "<style>div.sk-top-container {color: black;background-color: white;}div.sk-toggleable {background-color: white;}label.sk-toggleable__label {cursor: pointer;display: block;width: 100%;margin-bottom: 0;padding: 0.2em 0.3em;box-sizing: border-box;text-align: center;}div.sk-toggleable__content {max-height: 0;max-width: 0;overflow: hidden;text-align: left;background-color: #f0f8ff;}div.sk-toggleable__content pre {margin: 0.2em;color: black;border-radius: 0.25em;background-color: #f0f8ff;}input.sk-toggleable__control:checked~div.sk-toggleable__content {max-height: 200px;max-width: 100%;overflow: auto;}div.sk-estimator input.sk-toggleable__control:checked~label.sk-toggleable__label {background-color: #d4ebff;}div.sk-label input.sk-toggleable__control:checked~label.sk-toggleable__label {background-color: #d4ebff;}input.sk-hidden--visually {border: 0;clip: rect(1px 1px 1px 1px);clip: rect(1px, 1px, 1px, 1px);height: 1px;margin: -1px;overflow: hidden;padding: 0;position: absolute;width: 1px;}div.sk-estimator {font-family: monospace;background-color: #f0f8ff;margin: 0.25em 0.25em;border: 1px dotted black;border-radius: 0.25em;box-sizing: border-box;}div.sk-estimator:hover {background-color: #d4ebff;}div.sk-parallel-item::after {content: \"\";width: 100%;border-bottom: 1px solid gray;flex-grow: 1;}div.sk-label:hover label.sk-toggleable__label {background-color: #d4ebff;}div.sk-serial::before {content: \"\";position: absolute;border-left: 1px solid gray;box-sizing: border-box;top: 2em;bottom: 0;left: 50%;}div.sk-serial {display: flex;flex-direction: column;align-items: center;background-color: white;}div.sk-item {z-index: 1;}div.sk-parallel {display: flex;align-items: stretch;justify-content: center;background-color: white;}div.sk-parallel-item {display: flex;flex-direction: column;position: relative;background-color: white;}div.sk-parallel-item:first-child::after {align-self: flex-end;width: 50%;}div.sk-parallel-item:last-child::after {align-self: flex-start;width: 50%;}div.sk-parallel-item:only-child::after {width: 0;}div.sk-dashed-wrapped {border: 1px dashed gray;margin: 0.2em;box-sizing: border-box;padding-bottom: 0.1em;background-color: white;position: relative;}div.sk-label label {font-family: monospace;font-weight: bold;background-color: white;display: inline-block;line-height: 1.2em;}div.sk-label-container {position: relative;z-index: 2;text-align: center;}div.sk-container {display: inline-block;position: relative;}</style><div class=\"sk-top-container\"><div class=\"sk-container\"><div class=\"sk-item sk-dashed-wrapped\"><div class=\"sk-label-container\"><div class=\"sk-label sk-toggleable\"><input class=\"sk-toggleable__control sk-hidden--visually\" id=\"2ec3c468-8937-4a40-a2d8-f6554a0f6036\" type=\"checkbox\" ><label class=\"sk-toggleable__label\" for=\"2ec3c468-8937-4a40-a2d8-f6554a0f6036\">Pipeline</label><div class=\"sk-toggleable__content\"><pre>Pipeline(steps=[('preprocess',\n",
       "                 ColumnTransformer(transformers=[('nominalpipe',\n",
       "                                                  Pipeline(steps=[('onehotenc',\n",
       "                                                                   OneHotEncoder(handle_unknown='ignore',\n",
       "                                                                                 sparse=False)),\n",
       "                                                                  ('onehotnorm',\n",
       "                                                                   MaxAbsScaler())]),\n",
       "                                                  Index(['Pos', 'School'], dtype='object')),\n",
       "                                                 ('numpipe',\n",
       "                                                  Pipeline(steps=[('numnorm',\n",
       "                                                                   StandardScaler())]),\n",
       "                                                  Index(['Wt', '40yd', 'Vertical', 'Bench', 'Broad Jump', '3Cone', 'Shuttle',\n",
       "       'Height'],\n",
       "      dtype='object'))])),\n",
       "                ('model', LogisticRegression(C=0.1, random_state=42))])</pre></div></div></div><div class=\"sk-serial\"><div class=\"sk-item sk-dashed-wrapped\"><div class=\"sk-label-container\"><div class=\"sk-label sk-toggleable\"><input class=\"sk-toggleable__control sk-hidden--visually\" id=\"760778c4-09e6-48a7-ba26-be442df7adba\" type=\"checkbox\" ><label class=\"sk-toggleable__label\" for=\"760778c4-09e6-48a7-ba26-be442df7adba\">preprocess: ColumnTransformer</label><div class=\"sk-toggleable__content\"><pre>ColumnTransformer(transformers=[('nominalpipe',\n",
       "                                 Pipeline(steps=[('onehotenc',\n",
       "                                                  OneHotEncoder(handle_unknown='ignore',\n",
       "                                                                sparse=False)),\n",
       "                                                 ('onehotnorm',\n",
       "                                                  MaxAbsScaler())]),\n",
       "                                 Index(['Pos', 'School'], dtype='object')),\n",
       "                                ('numpipe',\n",
       "                                 Pipeline(steps=[('numnorm',\n",
       "                                                  StandardScaler())]),\n",
       "                                 Index(['Wt', '40yd', 'Vertical', 'Bench', 'Broad Jump', '3Cone', 'Shuttle',\n",
       "       'Height'],\n",
       "      dtype='object'))])</pre></div></div></div><div class=\"sk-parallel\"><div class=\"sk-parallel-item\"><div class=\"sk-item\"><div class=\"sk-label-container\"><div class=\"sk-label sk-toggleable\"><input class=\"sk-toggleable__control sk-hidden--visually\" id=\"fb1ac489-856f-4af4-9ad7-97ed6bdafdec\" type=\"checkbox\" ><label class=\"sk-toggleable__label\" for=\"fb1ac489-856f-4af4-9ad7-97ed6bdafdec\">nominalpipe</label><div class=\"sk-toggleable__content\"><pre>Index(['Pos', 'School'], dtype='object')</pre></div></div></div><div class=\"sk-serial\"><div class=\"sk-item\"><div class=\"sk-serial\"><div class=\"sk-item\"><div class=\"sk-estimator sk-toggleable\"><input class=\"sk-toggleable__control sk-hidden--visually\" id=\"6da1b441-bb31-451a-adca-d970b92c45b2\" type=\"checkbox\" ><label class=\"sk-toggleable__label\" for=\"6da1b441-bb31-451a-adca-d970b92c45b2\">OneHotEncoder</label><div class=\"sk-toggleable__content\"><pre>OneHotEncoder(handle_unknown='ignore', sparse=False)</pre></div></div></div><div class=\"sk-item\"><div class=\"sk-estimator sk-toggleable\"><input class=\"sk-toggleable__control sk-hidden--visually\" id=\"8c8adba6-a30e-47be-95e5-a88f4c633c54\" type=\"checkbox\" ><label class=\"sk-toggleable__label\" for=\"8c8adba6-a30e-47be-95e5-a88f4c633c54\">MaxAbsScaler</label><div class=\"sk-toggleable__content\"><pre>MaxAbsScaler()</pre></div></div></div></div></div></div></div></div><div class=\"sk-parallel-item\"><div class=\"sk-item\"><div class=\"sk-label-container\"><div class=\"sk-label sk-toggleable\"><input class=\"sk-toggleable__control sk-hidden--visually\" id=\"0083a03e-4ca6-45c2-b2ff-495703f3eb20\" type=\"checkbox\" ><label class=\"sk-toggleable__label\" for=\"0083a03e-4ca6-45c2-b2ff-495703f3eb20\">numpipe</label><div class=\"sk-toggleable__content\"><pre>Index(['Wt', '40yd', 'Vertical', 'Bench', 'Broad Jump', '3Cone', 'Shuttle',\n",
       "       'Height'],\n",
       "      dtype='object')</pre></div></div></div><div class=\"sk-serial\"><div class=\"sk-item\"><div class=\"sk-serial\"><div class=\"sk-item\"><div class=\"sk-estimator sk-toggleable\"><input class=\"sk-toggleable__control sk-hidden--visually\" id=\"09a0922e-1b59-4e23-8215-d11fee1f9747\" type=\"checkbox\" ><label class=\"sk-toggleable__label\" for=\"09a0922e-1b59-4e23-8215-d11fee1f9747\">StandardScaler</label><div class=\"sk-toggleable__content\"><pre>StandardScaler()</pre></div></div></div></div></div></div></div></div></div></div><div class=\"sk-item\"><div class=\"sk-estimator sk-toggleable\"><input class=\"sk-toggleable__control sk-hidden--visually\" id=\"260dc372-6c0f-4c93-8c40-c68381d270dd\" type=\"checkbox\" ><label class=\"sk-toggleable__label\" for=\"260dc372-6c0f-4c93-8c40-c68381d270dd\">LogisticRegression</label><div class=\"sk-toggleable__content\"><pre>LogisticRegression(C=0.1, random_state=42)</pre></div></div></div></div></div></div></div>"
      ],
      "text/plain": [
       "Pipeline(steps=[('preprocess',\n",
       "                 ColumnTransformer(transformers=[('nominalpipe',\n",
       "                                                  Pipeline(steps=[('onehotenc',\n",
       "                                                                   OneHotEncoder(handle_unknown='ignore',\n",
       "                                                                                 sparse=False)),\n",
       "                                                                  ('onehotnorm',\n",
       "                                                                   MaxAbsScaler())]),\n",
       "                                                  Index(['Pos', 'School'], dtype='object')),\n",
       "                                                 ('numpipe',\n",
       "                                                  Pipeline(steps=[('numnorm',\n",
       "                                                                   StandardScaler())]),\n",
       "                                                  Index(['Wt', '40yd', 'Vertical', 'Bench', 'Broad Jump', '3Cone', 'Shuttle',\n",
       "       'Height'],\n",
       "      dtype='object'))])),\n",
       "                ('model', LogisticRegression(C=0.1, random_state=42))])"
      ]
     },
     "execution_count": 73,
     "metadata": {},
     "output_type": "execute_result"
    }
   ],
   "source": [
    "# take best params from above, and redefine in steps for pipeline\n",
    "model_2_steps = [('preprocess', ct), \n",
    "                 ('model', LogisticRegression(random_state = 42,\n",
    "                                              C = 0.1,\n",
    "                                              max_iter = 100,\n",
    "                                              penalty = 'l2',\n",
    "                                              solver = 'lbfgs'))]\n",
    "\n",
    "gs_logreg_pipe2 = Pipeline(model_2_steps)\n",
    "\n",
    "gs_logreg_pipe2 "
   ]
  },
  {
   "cell_type": "code",
   "execution_count": 74,
   "metadata": {},
   "outputs": [
    {
     "data": {
      "text/html": [
       "<style>div.sk-top-container {color: black;background-color: white;}div.sk-toggleable {background-color: white;}label.sk-toggleable__label {cursor: pointer;display: block;width: 100%;margin-bottom: 0;padding: 0.2em 0.3em;box-sizing: border-box;text-align: center;}div.sk-toggleable__content {max-height: 0;max-width: 0;overflow: hidden;text-align: left;background-color: #f0f8ff;}div.sk-toggleable__content pre {margin: 0.2em;color: black;border-radius: 0.25em;background-color: #f0f8ff;}input.sk-toggleable__control:checked~div.sk-toggleable__content {max-height: 200px;max-width: 100%;overflow: auto;}div.sk-estimator input.sk-toggleable__control:checked~label.sk-toggleable__label {background-color: #d4ebff;}div.sk-label input.sk-toggleable__control:checked~label.sk-toggleable__label {background-color: #d4ebff;}input.sk-hidden--visually {border: 0;clip: rect(1px 1px 1px 1px);clip: rect(1px, 1px, 1px, 1px);height: 1px;margin: -1px;overflow: hidden;padding: 0;position: absolute;width: 1px;}div.sk-estimator {font-family: monospace;background-color: #f0f8ff;margin: 0.25em 0.25em;border: 1px dotted black;border-radius: 0.25em;box-sizing: border-box;}div.sk-estimator:hover {background-color: #d4ebff;}div.sk-parallel-item::after {content: \"\";width: 100%;border-bottom: 1px solid gray;flex-grow: 1;}div.sk-label:hover label.sk-toggleable__label {background-color: #d4ebff;}div.sk-serial::before {content: \"\";position: absolute;border-left: 1px solid gray;box-sizing: border-box;top: 2em;bottom: 0;left: 50%;}div.sk-serial {display: flex;flex-direction: column;align-items: center;background-color: white;}div.sk-item {z-index: 1;}div.sk-parallel {display: flex;align-items: stretch;justify-content: center;background-color: white;}div.sk-parallel-item {display: flex;flex-direction: column;position: relative;background-color: white;}div.sk-parallel-item:first-child::after {align-self: flex-end;width: 50%;}div.sk-parallel-item:last-child::after {align-self: flex-start;width: 50%;}div.sk-parallel-item:only-child::after {width: 0;}div.sk-dashed-wrapped {border: 1px dashed gray;margin: 0.2em;box-sizing: border-box;padding-bottom: 0.1em;background-color: white;position: relative;}div.sk-label label {font-family: monospace;font-weight: bold;background-color: white;display: inline-block;line-height: 1.2em;}div.sk-label-container {position: relative;z-index: 2;text-align: center;}div.sk-container {display: inline-block;position: relative;}</style><div class=\"sk-top-container\"><div class=\"sk-container\"><div class=\"sk-item sk-dashed-wrapped\"><div class=\"sk-label-container\"><div class=\"sk-label sk-toggleable\"><input class=\"sk-toggleable__control sk-hidden--visually\" id=\"1029c6bb-f064-4e46-b71f-2cc7611bdeee\" type=\"checkbox\" ><label class=\"sk-toggleable__label\" for=\"1029c6bb-f064-4e46-b71f-2cc7611bdeee\">Pipeline</label><div class=\"sk-toggleable__content\"><pre>Pipeline(steps=[('preprocess',\n",
       "                 ColumnTransformer(transformers=[('nominalpipe',\n",
       "                                                  Pipeline(steps=[('onehotenc',\n",
       "                                                                   OneHotEncoder(handle_unknown='ignore',\n",
       "                                                                                 sparse=False)),\n",
       "                                                                  ('onehotnorm',\n",
       "                                                                   MaxAbsScaler())]),\n",
       "                                                  Index(['Pos', 'School'], dtype='object')),\n",
       "                                                 ('numpipe',\n",
       "                                                  Pipeline(steps=[('numnorm',\n",
       "                                                                   StandardScaler())]),\n",
       "                                                  Index(['Wt', '40yd', 'Vertical', 'Bench', 'Broad Jump', '3Cone', 'Shuttle',\n",
       "       'Height'],\n",
       "      dtype='object'))])),\n",
       "                ('model', LogisticRegression(C=0.1, random_state=42))])</pre></div></div></div><div class=\"sk-serial\"><div class=\"sk-item sk-dashed-wrapped\"><div class=\"sk-label-container\"><div class=\"sk-label sk-toggleable\"><input class=\"sk-toggleable__control sk-hidden--visually\" id=\"d1900b63-7c1d-44f6-af24-770f4c279ec9\" type=\"checkbox\" ><label class=\"sk-toggleable__label\" for=\"d1900b63-7c1d-44f6-af24-770f4c279ec9\">preprocess: ColumnTransformer</label><div class=\"sk-toggleable__content\"><pre>ColumnTransformer(transformers=[('nominalpipe',\n",
       "                                 Pipeline(steps=[('onehotenc',\n",
       "                                                  OneHotEncoder(handle_unknown='ignore',\n",
       "                                                                sparse=False)),\n",
       "                                                 ('onehotnorm',\n",
       "                                                  MaxAbsScaler())]),\n",
       "                                 Index(['Pos', 'School'], dtype='object')),\n",
       "                                ('numpipe',\n",
       "                                 Pipeline(steps=[('numnorm',\n",
       "                                                  StandardScaler())]),\n",
       "                                 Index(['Wt', '40yd', 'Vertical', 'Bench', 'Broad Jump', '3Cone', 'Shuttle',\n",
       "       'Height'],\n",
       "      dtype='object'))])</pre></div></div></div><div class=\"sk-parallel\"><div class=\"sk-parallel-item\"><div class=\"sk-item\"><div class=\"sk-label-container\"><div class=\"sk-label sk-toggleable\"><input class=\"sk-toggleable__control sk-hidden--visually\" id=\"cf5bc740-21f0-4949-a656-9af2e61d7297\" type=\"checkbox\" ><label class=\"sk-toggleable__label\" for=\"cf5bc740-21f0-4949-a656-9af2e61d7297\">nominalpipe</label><div class=\"sk-toggleable__content\"><pre>Index(['Pos', 'School'], dtype='object')</pre></div></div></div><div class=\"sk-serial\"><div class=\"sk-item\"><div class=\"sk-serial\"><div class=\"sk-item\"><div class=\"sk-estimator sk-toggleable\"><input class=\"sk-toggleable__control sk-hidden--visually\" id=\"6efc8f03-4f7d-414a-b729-0bd7e07dd1bf\" type=\"checkbox\" ><label class=\"sk-toggleable__label\" for=\"6efc8f03-4f7d-414a-b729-0bd7e07dd1bf\">OneHotEncoder</label><div class=\"sk-toggleable__content\"><pre>OneHotEncoder(handle_unknown='ignore', sparse=False)</pre></div></div></div><div class=\"sk-item\"><div class=\"sk-estimator sk-toggleable\"><input class=\"sk-toggleable__control sk-hidden--visually\" id=\"930e9320-29e4-4f80-9f66-7cebfca230d7\" type=\"checkbox\" ><label class=\"sk-toggleable__label\" for=\"930e9320-29e4-4f80-9f66-7cebfca230d7\">MaxAbsScaler</label><div class=\"sk-toggleable__content\"><pre>MaxAbsScaler()</pre></div></div></div></div></div></div></div></div><div class=\"sk-parallel-item\"><div class=\"sk-item\"><div class=\"sk-label-container\"><div class=\"sk-label sk-toggleable\"><input class=\"sk-toggleable__control sk-hidden--visually\" id=\"7ea64634-0fe8-400c-9465-e3d1bbfcf117\" type=\"checkbox\" ><label class=\"sk-toggleable__label\" for=\"7ea64634-0fe8-400c-9465-e3d1bbfcf117\">numpipe</label><div class=\"sk-toggleable__content\"><pre>Index(['Wt', '40yd', 'Vertical', 'Bench', 'Broad Jump', '3Cone', 'Shuttle',\n",
       "       'Height'],\n",
       "      dtype='object')</pre></div></div></div><div class=\"sk-serial\"><div class=\"sk-item\"><div class=\"sk-serial\"><div class=\"sk-item\"><div class=\"sk-estimator sk-toggleable\"><input class=\"sk-toggleable__control sk-hidden--visually\" id=\"bf952cf8-6aa1-4142-ae05-e1efc0b781f3\" type=\"checkbox\" ><label class=\"sk-toggleable__label\" for=\"bf952cf8-6aa1-4142-ae05-e1efc0b781f3\">StandardScaler</label><div class=\"sk-toggleable__content\"><pre>StandardScaler()</pre></div></div></div></div></div></div></div></div></div></div><div class=\"sk-item\"><div class=\"sk-estimator sk-toggleable\"><input class=\"sk-toggleable__control sk-hidden--visually\" id=\"e305c0df-f1d5-4d45-acb9-9eca5267ef56\" type=\"checkbox\" ><label class=\"sk-toggleable__label\" for=\"e305c0df-f1d5-4d45-acb9-9eca5267ef56\">LogisticRegression</label><div class=\"sk-toggleable__content\"><pre>LogisticRegression(C=0.1, random_state=42)</pre></div></div></div></div></div></div></div>"
      ],
      "text/plain": [
       "Pipeline(steps=[('preprocess',\n",
       "                 ColumnTransformer(transformers=[('nominalpipe',\n",
       "                                                  Pipeline(steps=[('onehotenc',\n",
       "                                                                   OneHotEncoder(handle_unknown='ignore',\n",
       "                                                                                 sparse=False)),\n",
       "                                                                  ('onehotnorm',\n",
       "                                                                   MaxAbsScaler())]),\n",
       "                                                  Index(['Pos', 'School'], dtype='object')),\n",
       "                                                 ('numpipe',\n",
       "                                                  Pipeline(steps=[('numnorm',\n",
       "                                                                   StandardScaler())]),\n",
       "                                                  Index(['Wt', '40yd', 'Vertical', 'Bench', 'Broad Jump', '3Cone', 'Shuttle',\n",
       "       'Height'],\n",
       "      dtype='object'))])),\n",
       "                ('model', LogisticRegression(C=0.1, random_state=42))])"
      ]
     },
     "execution_count": 74,
     "metadata": {},
     "output_type": "execute_result"
    }
   ],
   "source": [
    "gs_logreg_pipe2.fit(X_train, y_train)"
   ]
  },
  {
   "cell_type": "code",
   "execution_count": 75,
   "metadata": {},
   "outputs": [
    {
     "name": "stdout",
     "output_type": "stream",
     "text": [
      "2nd Model Best Parameters (lbfgs solver) Logistic Regression Score: 0.725\n"
     ]
    },
    {
     "data": {
      "image/png": "[encoded data removed]",
      "text/plain": [
       "<Figure size 432x288 with 2 Axes>"
      ]
     },
     "metadata": {},
     "output_type": "display_data"
    }
   ],
   "source": [
    "# plot 2nd model\n",
    "plot_confusion_matrix(gs_logreg_pipe2, X_train, y_train)\n",
    "print('2nd Model Best Parameters (lbfgs solver) Logistic Regression Score:', \n",
    "      round(gs_logreg_pipe2.score(X_train, y_train),3))"
   ]
  },
  {
   "cell_type": "code",
   "execution_count": null,
   "metadata": {},
   "outputs": [],
   "source": []
  },
  {
   "cell_type": "code",
   "execution_count": null,
   "metadata": {},
   "outputs": [],
   "source": []
  },
  {
   "cell_type": "code",
   "execution_count": null,
   "metadata": {},
   "outputs": [],
   "source": []
  },
  {
   "cell_type": "markdown",
   "metadata": {},
   "source": [
    "## XGBoost Model"
   ]
  },
  {
   "cell_type": "code",
   "execution_count": 366,
   "metadata": {},
   "outputs": [],
   "source": [
    "pp_X_train = pd.DataFrame(ct.fit_transform(X_train))"
   ]
  },
  {
   "cell_type": "code",
   "execution_count": 365,
   "metadata": {},
   "outputs": [],
   "source": [
    "pp_X_test = pd.DataFrame(ct.transform(X_test))"
   ]
  },
  {
   "cell_type": "code",
   "execution_count": 87,
   "metadata": {},
   "outputs": [],
   "source": [
    "train = xgb.DMatrix(pp_X_train, label = y_train)\n",
    "test = xgb.DMatrix(pp_X_test, label = y_test)"
   ]
  },
  {
   "cell_type": "code",
   "execution_count": 360,
   "metadata": {},
   "outputs": [],
   "source": [
    "param = {\n",
    "    'max_depth': 10,\n",
    "    'eta': 0.3,\n",
    "    'objective': 'multi:softmax',\n",
    "    'num_class': 2,\n",
    "    'lambda': 1, \n",
    "    'min_child_weight': 40}\n",
    "epochs = 10"
   ]
  },
  {
   "cell_type": "code",
   "execution_count": 361,
   "metadata": {},
   "outputs": [],
   "source": [
    "xgb_model = xgb.train(param, train, epochs)"
   ]
  },
  {
   "cell_type": "code",
   "execution_count": 362,
   "metadata": {},
   "outputs": [],
   "source": [
    "preds = xgb_model.predict(test)\n",
    "preds2 = xgb_model.predict(train)"
   ]
  },
  {
   "cell_type": "code",
   "execution_count": 363,
   "metadata": {},
   "outputs": [
    {
     "data": {
      "text/plain": [
       "0.7109252483010977"
      ]
     },
     "execution_count": 363,
     "metadata": {},
     "output_type": "execute_result"
    }
   ],
   "source": [
    "accuracy_score(y_test, preds)"
   ]
  },
  {
   "cell_type": "code",
   "execution_count": 364,
   "metadata": {},
   "outputs": [
    {
     "data": {
      "text/plain": [
       "0.7598466364586964"
      ]
     },
     "execution_count": 364,
     "metadata": {},
     "output_type": "execute_result"
    }
   ],
   "source": [
    "accuracy_score(y_train, preds2)"
   ]
  },
  {
   "cell_type": "code",
   "execution_count": null,
   "metadata": {},
   "outputs": [],
   "source": []
  },
  {
   "cell_type": "code",
   "execution_count": null,
   "metadata": {},
   "outputs": [],
   "source": []
  },
  {
   "cell_type": "code",
   "execution_count": null,
   "metadata": {},
   "outputs": [],
   "source": []
  },
  {
   "cell_type": "code",
   "execution_count": null,
   "metadata": {},
   "outputs": [],
   "source": []
  },
  {
   "cell_type": "code",
   "execution_count": null,
   "metadata": {},
   "outputs": [],
   "source": []
  },
  {
   "cell_type": "markdown",
   "metadata": {},
   "source": [
    "## 3rd Model - Decision Tree Classifier \n",
    "NOTE: Does not need to scale or OHE the X_train for a DTC; adjust the below"
   ]
  },
  {
   "cell_type": "code",
   "execution_count": 367,
   "metadata": {},
   "outputs": [
    {
     "data": {
      "text/html": [
       "<style>div.sk-top-container {color: black;background-color: white;}div.sk-toggleable {background-color: white;}label.sk-toggleable__label {cursor: pointer;display: block;width: 100%;margin-bottom: 0;padding: 0.2em 0.3em;box-sizing: border-box;text-align: center;}div.sk-toggleable__content {max-height: 0;max-width: 0;overflow: hidden;text-align: left;background-color: #f0f8ff;}div.sk-toggleable__content pre {margin: 0.2em;color: black;border-radius: 0.25em;background-color: #f0f8ff;}input.sk-toggleable__control:checked~div.sk-toggleable__content {max-height: 200px;max-width: 100%;overflow: auto;}div.sk-estimator input.sk-toggleable__control:checked~label.sk-toggleable__label {background-color: #d4ebff;}div.sk-label input.sk-toggleable__control:checked~label.sk-toggleable__label {background-color: #d4ebff;}input.sk-hidden--visually {border: 0;clip: rect(1px 1px 1px 1px);clip: rect(1px, 1px, 1px, 1px);height: 1px;margin: -1px;overflow: hidden;padding: 0;position: absolute;width: 1px;}div.sk-estimator {font-family: monospace;background-color: #f0f8ff;margin: 0.25em 0.25em;border: 1px dotted black;border-radius: 0.25em;box-sizing: border-box;}div.sk-estimator:hover {background-color: #d4ebff;}div.sk-parallel-item::after {content: \"\";width: 100%;border-bottom: 1px solid gray;flex-grow: 1;}div.sk-label:hover label.sk-toggleable__label {background-color: #d4ebff;}div.sk-serial::before {content: \"\";position: absolute;border-left: 1px solid gray;box-sizing: border-box;top: 2em;bottom: 0;left: 50%;}div.sk-serial {display: flex;flex-direction: column;align-items: center;background-color: white;}div.sk-item {z-index: 1;}div.sk-parallel {display: flex;align-items: stretch;justify-content: center;background-color: white;}div.sk-parallel-item {display: flex;flex-direction: column;position: relative;background-color: white;}div.sk-parallel-item:first-child::after {align-self: flex-end;width: 50%;}div.sk-parallel-item:last-child::after {align-self: flex-start;width: 50%;}div.sk-parallel-item:only-child::after {width: 0;}div.sk-dashed-wrapped {border: 1px dashed gray;margin: 0.2em;box-sizing: border-box;padding-bottom: 0.1em;background-color: white;position: relative;}div.sk-label label {font-family: monospace;font-weight: bold;background-color: white;display: inline-block;line-height: 1.2em;}div.sk-label-container {position: relative;z-index: 2;text-align: center;}div.sk-container {display: inline-block;position: relative;}</style><div class=\"sk-top-container\"><div class=\"sk-container\"><div class=\"sk-item sk-dashed-wrapped\"><div class=\"sk-label-container\"><div class=\"sk-label sk-toggleable\"><input class=\"sk-toggleable__control sk-hidden--visually\" id=\"7287b05e-8b92-4b3e-95cd-b3ffc69d2708\" type=\"checkbox\" ><label class=\"sk-toggleable__label\" for=\"7287b05e-8b92-4b3e-95cd-b3ffc69d2708\">Pipeline</label><div class=\"sk-toggleable__content\"><pre>Pipeline(steps=[('preprocess',\n",
       "                 ColumnTransformer(transformers=[('nominalpipe',\n",
       "                                                  Pipeline(steps=[('onehotenc',\n",
       "                                                                   OneHotEncoder(handle_unknown='ignore',\n",
       "                                                                                 sparse=False)),\n",
       "                                                                  ('onehotnorm',\n",
       "                                                                   MaxAbsScaler())]),\n",
       "                                                  Index(['Pos', 'School'], dtype='object')),\n",
       "                                                 ('numpipe',\n",
       "                                                  Pipeline(steps=[('numnorm',\n",
       "                                                                   StandardScaler())]),\n",
       "                                                  Index(['Wt', '40yd', 'Vertical', 'Bench', 'Broad Jump', '3Cone', 'Shuttle',\n",
       "       'Height'],\n",
       "      dtype='object'))])),\n",
       "                ('dt_clf', DecisionTreeClassifier(random_state=42))])</pre></div></div></div><div class=\"sk-serial\"><div class=\"sk-item sk-dashed-wrapped\"><div class=\"sk-label-container\"><div class=\"sk-label sk-toggleable\"><input class=\"sk-toggleable__control sk-hidden--visually\" id=\"b991d186-6bc9-4668-a91d-8e28f1311b1a\" type=\"checkbox\" ><label class=\"sk-toggleable__label\" for=\"b991d186-6bc9-4668-a91d-8e28f1311b1a\">preprocess: ColumnTransformer</label><div class=\"sk-toggleable__content\"><pre>ColumnTransformer(transformers=[('nominalpipe',\n",
       "                                 Pipeline(steps=[('onehotenc',\n",
       "                                                  OneHotEncoder(handle_unknown='ignore',\n",
       "                                                                sparse=False)),\n",
       "                                                 ('onehotnorm',\n",
       "                                                  MaxAbsScaler())]),\n",
       "                                 Index(['Pos', 'School'], dtype='object')),\n",
       "                                ('numpipe',\n",
       "                                 Pipeline(steps=[('numnorm',\n",
       "                                                  StandardScaler())]),\n",
       "                                 Index(['Wt', '40yd', 'Vertical', 'Bench', 'Broad Jump', '3Cone', 'Shuttle',\n",
       "       'Height'],\n",
       "      dtype='object'))])</pre></div></div></div><div class=\"sk-parallel\"><div class=\"sk-parallel-item\"><div class=\"sk-item\"><div class=\"sk-label-container\"><div class=\"sk-label sk-toggleable\"><input class=\"sk-toggleable__control sk-hidden--visually\" id=\"e2e741cf-1c7e-4e16-9ece-543b39acde70\" type=\"checkbox\" ><label class=\"sk-toggleable__label\" for=\"e2e741cf-1c7e-4e16-9ece-543b39acde70\">nominalpipe</label><div class=\"sk-toggleable__content\"><pre>Index(['Pos', 'School'], dtype='object')</pre></div></div></div><div class=\"sk-serial\"><div class=\"sk-item\"><div class=\"sk-serial\"><div class=\"sk-item\"><div class=\"sk-estimator sk-toggleable\"><input class=\"sk-toggleable__control sk-hidden--visually\" id=\"8cb53e3a-b0d8-440b-86c1-f5e288d92492\" type=\"checkbox\" ><label class=\"sk-toggleable__label\" for=\"8cb53e3a-b0d8-440b-86c1-f5e288d92492\">OneHotEncoder</label><div class=\"sk-toggleable__content\"><pre>OneHotEncoder(handle_unknown='ignore', sparse=False)</pre></div></div></div><div class=\"sk-item\"><div class=\"sk-estimator sk-toggleable\"><input class=\"sk-toggleable__control sk-hidden--visually\" id=\"896108f3-aceb-424e-95e9-29bc08d10cb0\" type=\"checkbox\" ><label class=\"sk-toggleable__label\" for=\"896108f3-aceb-424e-95e9-29bc08d10cb0\">MaxAbsScaler</label><div class=\"sk-toggleable__content\"><pre>MaxAbsScaler()</pre></div></div></div></div></div></div></div></div><div class=\"sk-parallel-item\"><div class=\"sk-item\"><div class=\"sk-label-container\"><div class=\"sk-label sk-toggleable\"><input class=\"sk-toggleable__control sk-hidden--visually\" id=\"703e2861-893b-428c-977c-70a37758c24a\" type=\"checkbox\" ><label class=\"sk-toggleable__label\" for=\"703e2861-893b-428c-977c-70a37758c24a\">numpipe</label><div class=\"sk-toggleable__content\"><pre>Index(['Wt', '40yd', 'Vertical', 'Bench', 'Broad Jump', '3Cone', 'Shuttle',\n",
       "       'Height'],\n",
       "      dtype='object')</pre></div></div></div><div class=\"sk-serial\"><div class=\"sk-item\"><div class=\"sk-serial\"><div class=\"sk-item\"><div class=\"sk-estimator sk-toggleable\"><input class=\"sk-toggleable__control sk-hidden--visually\" id=\"4e57eb6a-3872-4dc4-867f-caa1e745de35\" type=\"checkbox\" ><label class=\"sk-toggleable__label\" for=\"4e57eb6a-3872-4dc4-867f-caa1e745de35\">StandardScaler</label><div class=\"sk-toggleable__content\"><pre>StandardScaler()</pre></div></div></div></div></div></div></div></div></div></div><div class=\"sk-item\"><div class=\"sk-estimator sk-toggleable\"><input class=\"sk-toggleable__control sk-hidden--visually\" id=\"caafe601-451e-4e07-a51a-997df5a96456\" type=\"checkbox\" ><label class=\"sk-toggleable__label\" for=\"caafe601-451e-4e07-a51a-997df5a96456\">DecisionTreeClassifier</label><div class=\"sk-toggleable__content\"><pre>DecisionTreeClassifier(random_state=42)</pre></div></div></div></div></div></div></div>"
      ],
      "text/plain": [
       "Pipeline(steps=[('preprocess',\n",
       "                 ColumnTransformer(transformers=[('nominalpipe',\n",
       "                                                  Pipeline(steps=[('onehotenc',\n",
       "                                                                   OneHotEncoder(handle_unknown='ignore',\n",
       "                                                                                 sparse=False)),\n",
       "                                                                  ('onehotnorm',\n",
       "                                                                   MaxAbsScaler())]),\n",
       "                                                  Index(['Pos', 'School'], dtype='object')),\n",
       "                                                 ('numpipe',\n",
       "                                                  Pipeline(steps=[('numnorm',\n",
       "                                                                   StandardScaler())]),\n",
       "                                                  Index(['Wt', '40yd', 'Vertical', 'Bench', 'Broad Jump', '3Cone', 'Shuttle',\n",
       "       'Height'],\n",
       "      dtype='object'))])),\n",
       "                ('dt_clf', DecisionTreeClassifier(random_state=42))])"
      ]
     },
     "execution_count": 367,
     "metadata": {},
     "output_type": "execute_result"
    }
   ],
   "source": [
    "# build new DCT pipeline \n",
    "steps = [('preprocess', ct), \n",
    "         ('dt_clf', DecisionTreeClassifier (random_state = 42))]\n",
    "\n",
    "dt_clf_pipe3 = Pipeline(steps)\n",
    "\n",
    "dt_clf_pipe3 "
   ]
  },
  {
   "cell_type": "code",
   "execution_count": 368,
   "metadata": {},
   "outputs": [],
   "source": [
    "dtc = DecisionTreeClassifier()"
   ]
  },
  {
   "cell_type": "code",
   "execution_count": 369,
   "metadata": {},
   "outputs": [
    {
     "data": {
      "text/html": [
       "<style>div.sk-top-container {color: black;background-color: white;}div.sk-toggleable {background-color: white;}label.sk-toggleable__label {cursor: pointer;display: block;width: 100%;margin-bottom: 0;padding: 0.2em 0.3em;box-sizing: border-box;text-align: center;}div.sk-toggleable__content {max-height: 0;max-width: 0;overflow: hidden;text-align: left;background-color: #f0f8ff;}div.sk-toggleable__content pre {margin: 0.2em;color: black;border-radius: 0.25em;background-color: #f0f8ff;}input.sk-toggleable__control:checked~div.sk-toggleable__content {max-height: 200px;max-width: 100%;overflow: auto;}div.sk-estimator input.sk-toggleable__control:checked~label.sk-toggleable__label {background-color: #d4ebff;}div.sk-label input.sk-toggleable__control:checked~label.sk-toggleable__label {background-color: #d4ebff;}input.sk-hidden--visually {border: 0;clip: rect(1px 1px 1px 1px);clip: rect(1px, 1px, 1px, 1px);height: 1px;margin: -1px;overflow: hidden;padding: 0;position: absolute;width: 1px;}div.sk-estimator {font-family: monospace;background-color: #f0f8ff;margin: 0.25em 0.25em;border: 1px dotted black;border-radius: 0.25em;box-sizing: border-box;}div.sk-estimator:hover {background-color: #d4ebff;}div.sk-parallel-item::after {content: \"\";width: 100%;border-bottom: 1px solid gray;flex-grow: 1;}div.sk-label:hover label.sk-toggleable__label {background-color: #d4ebff;}div.sk-serial::before {content: \"\";position: absolute;border-left: 1px solid gray;box-sizing: border-box;top: 2em;bottom: 0;left: 50%;}div.sk-serial {display: flex;flex-direction: column;align-items: center;background-color: white;}div.sk-item {z-index: 1;}div.sk-parallel {display: flex;align-items: stretch;justify-content: center;background-color: white;}div.sk-parallel-item {display: flex;flex-direction: column;position: relative;background-color: white;}div.sk-parallel-item:first-child::after {align-self: flex-end;width: 50%;}div.sk-parallel-item:last-child::after {align-self: flex-start;width: 50%;}div.sk-parallel-item:only-child::after {width: 0;}div.sk-dashed-wrapped {border: 1px dashed gray;margin: 0.2em;box-sizing: border-box;padding-bottom: 0.1em;background-color: white;position: relative;}div.sk-label label {font-family: monospace;font-weight: bold;background-color: white;display: inline-block;line-height: 1.2em;}div.sk-label-container {position: relative;z-index: 2;text-align: center;}div.sk-container {display: inline-block;position: relative;}</style><div class=\"sk-top-container\"><div class=\"sk-container\"><div class=\"sk-item sk-dashed-wrapped\"><div class=\"sk-label-container\"><div class=\"sk-label sk-toggleable\"><input class=\"sk-toggleable__control sk-hidden--visually\" id=\"f1216ec1-21df-46a3-89ee-f5984c08e6a5\" type=\"checkbox\" ><label class=\"sk-toggleable__label\" for=\"f1216ec1-21df-46a3-89ee-f5984c08e6a5\">Pipeline</label><div class=\"sk-toggleable__content\"><pre>Pipeline(steps=[('preprocess',\n",
       "                 ColumnTransformer(transformers=[('nominalpipe',\n",
       "                                                  Pipeline(steps=[('onehotenc',\n",
       "                                                                   OneHotEncoder(handle_unknown='ignore',\n",
       "                                                                                 sparse=False)),\n",
       "                                                                  ('onehotnorm',\n",
       "                                                                   MaxAbsScaler())]),\n",
       "                                                  Index(['Pos', 'School'], dtype='object')),\n",
       "                                                 ('numpipe',\n",
       "                                                  Pipeline(steps=[('numnorm',\n",
       "                                                                   StandardScaler())]),\n",
       "                                                  Index(['Wt', '40yd', 'Vertical', 'Bench', 'Broad Jump', '3Cone', 'Shuttle',\n",
       "       'Height'],\n",
       "      dtype='object'))])),\n",
       "                ('dt_clf', DecisionTreeClassifier(random_state=42))])</pre></div></div></div><div class=\"sk-serial\"><div class=\"sk-item sk-dashed-wrapped\"><div class=\"sk-label-container\"><div class=\"sk-label sk-toggleable\"><input class=\"sk-toggleable__control sk-hidden--visually\" id=\"4a8922c1-dfc7-4738-a307-b1234d053dc1\" type=\"checkbox\" ><label class=\"sk-toggleable__label\" for=\"4a8922c1-dfc7-4738-a307-b1234d053dc1\">preprocess: ColumnTransformer</label><div class=\"sk-toggleable__content\"><pre>ColumnTransformer(transformers=[('nominalpipe',\n",
       "                                 Pipeline(steps=[('onehotenc',\n",
       "                                                  OneHotEncoder(handle_unknown='ignore',\n",
       "                                                                sparse=False)),\n",
       "                                                 ('onehotnorm',\n",
       "                                                  MaxAbsScaler())]),\n",
       "                                 Index(['Pos', 'School'], dtype='object')),\n",
       "                                ('numpipe',\n",
       "                                 Pipeline(steps=[('numnorm',\n",
       "                                                  StandardScaler())]),\n",
       "                                 Index(['Wt', '40yd', 'Vertical', 'Bench', 'Broad Jump', '3Cone', 'Shuttle',\n",
       "       'Height'],\n",
       "      dtype='object'))])</pre></div></div></div><div class=\"sk-parallel\"><div class=\"sk-parallel-item\"><div class=\"sk-item\"><div class=\"sk-label-container\"><div class=\"sk-label sk-toggleable\"><input class=\"sk-toggleable__control sk-hidden--visually\" id=\"f4aad8ed-587d-4201-9dae-c2f5cfe50d70\" type=\"checkbox\" ><label class=\"sk-toggleable__label\" for=\"f4aad8ed-587d-4201-9dae-c2f5cfe50d70\">nominalpipe</label><div class=\"sk-toggleable__content\"><pre>Index(['Pos', 'School'], dtype='object')</pre></div></div></div><div class=\"sk-serial\"><div class=\"sk-item\"><div class=\"sk-serial\"><div class=\"sk-item\"><div class=\"sk-estimator sk-toggleable\"><input class=\"sk-toggleable__control sk-hidden--visually\" id=\"6a27cf90-ce23-4685-9d56-ff854e9764d7\" type=\"checkbox\" ><label class=\"sk-toggleable__label\" for=\"6a27cf90-ce23-4685-9d56-ff854e9764d7\">OneHotEncoder</label><div class=\"sk-toggleable__content\"><pre>OneHotEncoder(handle_unknown='ignore', sparse=False)</pre></div></div></div><div class=\"sk-item\"><div class=\"sk-estimator sk-toggleable\"><input class=\"sk-toggleable__control sk-hidden--visually\" id=\"5b6df890-0198-4ec7-90a2-85003544c6fc\" type=\"checkbox\" ><label class=\"sk-toggleable__label\" for=\"5b6df890-0198-4ec7-90a2-85003544c6fc\">MaxAbsScaler</label><div class=\"sk-toggleable__content\"><pre>MaxAbsScaler()</pre></div></div></div></div></div></div></div></div><div class=\"sk-parallel-item\"><div class=\"sk-item\"><div class=\"sk-label-container\"><div class=\"sk-label sk-toggleable\"><input class=\"sk-toggleable__control sk-hidden--visually\" id=\"c64251ed-06af-45b5-b8fa-a8fb2a3c4f23\" type=\"checkbox\" ><label class=\"sk-toggleable__label\" for=\"c64251ed-06af-45b5-b8fa-a8fb2a3c4f23\">numpipe</label><div class=\"sk-toggleable__content\"><pre>Index(['Wt', '40yd', 'Vertical', 'Bench', 'Broad Jump', '3Cone', 'Shuttle',\n",
       "       'Height'],\n",
       "      dtype='object')</pre></div></div></div><div class=\"sk-serial\"><div class=\"sk-item\"><div class=\"sk-serial\"><div class=\"sk-item\"><div class=\"sk-estimator sk-toggleable\"><input class=\"sk-toggleable__control sk-hidden--visually\" id=\"786c42f2-23e3-4f0c-adf2-af851b17bca3\" type=\"checkbox\" ><label class=\"sk-toggleable__label\" for=\"786c42f2-23e3-4f0c-adf2-af851b17bca3\">StandardScaler</label><div class=\"sk-toggleable__content\"><pre>StandardScaler()</pre></div></div></div></div></div></div></div></div></div></div><div class=\"sk-item\"><div class=\"sk-estimator sk-toggleable\"><input class=\"sk-toggleable__control sk-hidden--visually\" id=\"b7410aeb-c8b5-4ba3-8e2a-3a5494551aaf\" type=\"checkbox\" ><label class=\"sk-toggleable__label\" for=\"b7410aeb-c8b5-4ba3-8e2a-3a5494551aaf\">DecisionTreeClassifier</label><div class=\"sk-toggleable__content\"><pre>DecisionTreeClassifier(random_state=42)</pre></div></div></div></div></div></div></div>"
      ],
      "text/plain": [
       "Pipeline(steps=[('preprocess',\n",
       "                 ColumnTransformer(transformers=[('nominalpipe',\n",
       "                                                  Pipeline(steps=[('onehotenc',\n",
       "                                                                   OneHotEncoder(handle_unknown='ignore',\n",
       "                                                                                 sparse=False)),\n",
       "                                                                  ('onehotnorm',\n",
       "                                                                   MaxAbsScaler())]),\n",
       "                                                  Index(['Pos', 'School'], dtype='object')),\n",
       "                                                 ('numpipe',\n",
       "                                                  Pipeline(steps=[('numnorm',\n",
       "                                                                   StandardScaler())]),\n",
       "                                                  Index(['Wt', '40yd', 'Vertical', 'Bench', 'Broad Jump', '3Cone', 'Shuttle',\n",
       "       'Height'],\n",
       "      dtype='object'))])),\n",
       "                ('dt_clf', DecisionTreeClassifier(random_state=42))])"
      ]
     },
     "execution_count": 369,
     "metadata": {},
     "output_type": "execute_result"
    }
   ],
   "source": [
    "dt_clf_pipe3.fit(X_train,y_train)"
   ]
  },
  {
   "cell_type": "code",
   "execution_count": 370,
   "metadata": {},
   "outputs": [
    {
     "data": {
      "text/plain": [
       "{'Train Score': 1.0, 'Validation Score': 1.0}"
      ]
     },
     "execution_count": 370,
     "metadata": {},
     "output_type": "execute_result"
    }
   ],
   "source": [
    "# run cross validation - will print a perfect value since this is a DT classifier (overfits!)\n",
    "cross_validation_pipe(X_train, y_train, dt_clf_pipe3)"
   ]
  },
  {
   "cell_type": "code",
   "execution_count": 371,
   "metadata": {},
   "outputs": [
    {
     "name": "stdout",
     "output_type": "stream",
     "text": [
      "3rd Model - Decision Tree Score: 1.0\n"
     ]
    },
    {
     "data": {
      "image/png": "[encoded data removed]",
      "text/plain": [
       "<Figure size 432x288 with 2 Axes>"
      ]
     },
     "metadata": {},
     "output_type": "display_data"
    }
   ],
   "source": [
    "# confirm overfitting since DT are naturally doing this, will achieve a perfect score\n",
    "plot_confusion_matrix(dt_clf_pipe3, X_train, y_train)\n",
    "print('3rd Model - Decision Tree Score:', round(dt_clf_pipe3.score(X_train, y_train),3))"
   ]
  },
  {
   "cell_type": "code",
   "execution_count": 372,
   "metadata": {},
   "outputs": [
    {
     "data": {
      "text/plain": [
       "<sklearn.metrics._plot.confusion_matrix.ConfusionMatrixDisplay at 0x7fe089933970>"
      ]
     },
     "execution_count": 372,
     "metadata": {},
     "output_type": "execute_result"
    },
    {
     "data": {
      "image/png": "[encoded data removed]",
      "text/plain": [
       "<Figure size 432x288 with 2 Axes>"
      ]
     },
     "metadata": {},
     "output_type": "display_data"
    }
   ],
   "source": [
    "# plot for X_test, y_test, CHECK ISSUE WITH SCHOOL COLUMN \n",
    "plot_confusion_matrix(dt_clf_pipe3, X_test, y_test)"
   ]
  },
  {
   "cell_type": "code",
   "execution_count": 373,
   "metadata": {},
   "outputs": [
    {
     "name": "stdout",
     "output_type": "stream",
     "text": [
      "3rd Model - Decision Tree Test Score: 0.628\n"
     ]
    }
   ],
   "source": [
    "print('3rd Model - Decision Tree Test Score:', round(dt_clf_pipe3.score(X_test, y_test),3))"
   ]
  },
  {
   "cell_type": "code",
   "execution_count": 374,
   "metadata": {},
   "outputs": [],
   "source": [
    "# # code to check feature importances MODIFY\n",
    "# feat_imp = best_rf_model['model'].feature_importances_  \n",
    " \n",
    "# feat_imp_series = pd.Series(feat_imp, \n",
    "#           index = X.columns).sort_values(\n",
    "#     ascending = False)"
   ]
  },
  {
   "cell_type": "code",
   "execution_count": null,
   "metadata": {},
   "outputs": [],
   "source": []
  },
  {
   "cell_type": "code",
   "execution_count": null,
   "metadata": {},
   "outputs": [],
   "source": []
  },
  {
   "cell_type": "code",
   "execution_count": null,
   "metadata": {},
   "outputs": [],
   "source": []
  },
  {
   "cell_type": "code",
   "execution_count": null,
   "metadata": {},
   "outputs": [],
   "source": []
  },
  {
   "cell_type": "code",
   "execution_count": null,
   "metadata": {},
   "outputs": [],
   "source": []
  },
  {
   "cell_type": "code",
   "execution_count": null,
   "metadata": {},
   "outputs": [],
   "source": []
  },
  {
   "cell_type": "code",
   "execution_count": null,
   "metadata": {},
   "outputs": [],
   "source": []
  },
  {
   "cell_type": "code",
   "execution_count": null,
   "metadata": {},
   "outputs": [],
   "source": []
  },
  {
   "cell_type": "code",
   "execution_count": null,
   "metadata": {},
   "outputs": [],
   "source": []
  },
  {
   "cell_type": "code",
   "execution_count": null,
   "metadata": {},
   "outputs": [],
   "source": []
  },
  {
   "cell_type": "code",
   "execution_count": null,
   "metadata": {},
   "outputs": [],
   "source": []
  },
  {
   "cell_type": "code",
   "execution_count": null,
   "metadata": {},
   "outputs": [],
   "source": []
  },
  {
   "cell_type": "code",
   "execution_count": null,
   "metadata": {},
   "outputs": [],
   "source": []
  },
  {
   "cell_type": "code",
   "execution_count": null,
   "metadata": {},
   "outputs": [],
   "source": []
  },
  {
   "cell_type": "code",
   "execution_count": null,
   "metadata": {},
   "outputs": [],
   "source": []
  },
  {
   "cell_type": "code",
   "execution_count": null,
   "metadata": {},
   "outputs": [],
   "source": []
  },
  {
   "cell_type": "markdown",
   "metadata": {},
   "source": []
  },
  {
   "cell_type": "markdown",
   "metadata": {},
   "source": []
  },
  {
   "cell_type": "markdown",
   "metadata": {},
   "source": [
    "## 3rd Model - Reducing Regularization"
   ]
  },
  {
   "cell_type": "code",
   "execution_count": null,
   "metadata": {},
   "outputs": [],
   "source": [
    "model_less_regularization = LogisticRegression(random_state = 42,\n",
    "                                               C = 0.01) # optimum C, increasing C is worse logloss"
   ]
  },
  {
   "cell_type": "code",
   "execution_count": null,
   "metadata": {},
   "outputs": [],
   "source": [
    "less_regularization_train_scores, less_regularization_val_scores = custom_cross_val_score(model_less_regularization, X_train, y_train)\n",
    "\n",
    "print(\"Previous Model (Standard Scaler)\")\n",
    "print(\"Train average:     \", -preprocessed_train_scores.mean())\n",
    "print(\"Validation average:\", -preprocessed_neg_log_loss_cv.mean())\n",
    "print()\n",
    "print(\"Current Model (Reduced Regularization)\")\n",
    "print(\"Train average:     \", -less_regularization_train_scores.mean())\n",
    "print(\"Validation average:\", -less_regularization_val_scores.mean())"
   ]
  },
  {
   "cell_type": "code",
   "execution_count": null,
   "metadata": {},
   "outputs": [],
   "source": [
    "# fit and plot roc curve\n",
    "model_less_regularization.fit(X_train, y_train)\n",
    "plot_roc_curve(model_less_regularization, X_train, y_train)\n",
    "plt.show()"
   ]
  },
  {
   "cell_type": "markdown",
   "metadata": {},
   "source": [
    "**Conclusion**: \n",
    "- Less regularization (ie. higher C value) creates a worse model as the Validation Average increases as C increases. The optimum C value is 0.01 after several iterations. "
   ]
  },
  {
   "cell_type": "markdown",
   "metadata": {},
   "source": [
    "## 4th Model - Increase Max Iterations"
   ]
  },
  {
   "cell_type": "code",
   "execution_count": null,
   "metadata": {},
   "outputs": [],
   "source": [
    "model_more_iterations = LogisticRegression(random_state = 42,\n",
    "                                           penalty='none', \n",
    "                                           max_iter=1e10) # adjust "
   ]
  },
  {
   "cell_type": "code",
   "execution_count": null,
   "metadata": {},
   "outputs": [],
   "source": [
    "model_more_iterations_train_scores, model_more_iterations_val_scores = custom_cross_val_score(model_more_iterations, X_train, y_train)\n",
    "\n",
    "print(\"Previous Model (Reduced Regularization)\")\n",
    "print(\"Train average:     \", -less_regularization_train_scores.mean())\n",
    "print(\"Validation average:\", -less_regularization_val_scores.mean())\n",
    "print()\n",
    "print(\"Current Model (More Iterations)\")\n",
    "print(\"Train average:     \", -model_more_iterations_train_scores.mean())\n",
    "print(\"Validation average:\", -model_more_iterations_val_scores.mean())"
   ]
  },
  {
   "cell_type": "code",
   "execution_count": null,
   "metadata": {},
   "outputs": [],
   "source": [
    "# fit and plot roc curve\n",
    "model_more_iterations.fit(X_train, y_train)\n",
    "plot_roc_curve(model_more_iterations, X_train, y_train)\n",
    "plt.show()"
   ]
  },
  {
   "cell_type": "markdown",
   "metadata": {},
   "source": [
    "**Conclusion**: \n",
    "- Increasing the max iterations solves the Convergence Problem and slightly increases the AUC, however, the validation log loss average goes up which isn't good. Lets try different solvers and see how this fares. "
   ]
  },
  {
   "cell_type": "markdown",
   "metadata": {},
   "source": [
    "# Try Different Solvers\n",
    "## 5th Model - lbfgs (default), penalty \"l2\""
   ]
  },
  {
   "cell_type": "code",
   "execution_count": null,
   "metadata": {},
   "outputs": [],
   "source": [
    "# current default hyperparameters\n",
    "print(\"solver:\", model_more_iterations.get_params()[\"solver\"])\n",
    "print(\"penalty:\", model_more_iterations.get_params()[\"penalty\"])"
   ]
  },
  {
   "cell_type": "code",
   "execution_count": null,
   "metadata": {},
   "outputs": [],
   "source": [
    "# try lbfgs as solver\n",
    "model_lbfgs_l2_solver = LogisticRegression(\n",
    "                            random_state = 42,\n",
    "                            C = 0.01,\n",
    "                            solver = \"lbfgs\",\n",
    "                            penalty = \"l2\",\n",
    "                            max_iter = 1e10, # fixes ConvergenceWarning\n",
    "                            tol=1) # best scores is when tol = 1\n",
    "\n",
    "alternative_solver_train_scores, alternative_solver_val_scores = custom_cross_val_score(\n",
    "    model_lbfgs_l2_solver,\n",
    "    X_train,\n",
    "    y_train\n",
    ")\n",
    "\n",
    "print(\"Previous Model (Less Regularization)\")\n",
    "print(\"Train average:     \", -less_regularization_train_scores.mean())\n",
    "print(\"Validation average:\", -less_regularization_val_scores.mean())\n",
    "print()\n",
    "print(\"Current Model (lbgfs - l2 Solver)\")\n",
    "print(\"Train average:     \", -alternative_solver_train_scores.mean())\n",
    "print(\"Validation average:\", -alternative_solver_val_scores.mean())"
   ]
  },
  {
   "cell_type": "code",
   "execution_count": null,
   "metadata": {},
   "outputs": [],
   "source": [
    "model_lbfgs_l2_solver.fit(X_train, y_train)\n",
    "plot_roc_curve(model_lbfgs_l2_solver, X_train, y_train)"
   ]
  },
  {
   "cell_type": "markdown",
   "metadata": {},
   "source": [
    "**Conclusion**: \n",
    "- The model performs the best so far with but with a worse ROC curve with a `lbfgs` solver."
   ]
  },
  {
   "cell_type": "markdown",
   "metadata": {},
   "source": [
    "## 6th Model - Sag"
   ]
  },
  {
   "cell_type": "code",
   "execution_count": null,
   "metadata": {},
   "outputs": [],
   "source": [
    "# try saga as solver\n",
    "model_sag_solver = LogisticRegression(\n",
    "                            random_state = 42,\n",
    "                            C = 0.01,\n",
    "                            solver = \"sag\",\n",
    "                            penalty = \"l2\",\n",
    "                            max_iter = 1e5, # fixes ConvergenceWarning\n",
    "                            tol=1) # best scores is when tol = 1\n",
    "\n",
    "alternative_solver_train_scores, alternative_solver_val_scores = custom_cross_val_score(\n",
    "    model_sag_solver, # change as needed\n",
    "    X_train,\n",
    "    y_train\n",
    ")\n",
    "\n",
    "print(\"Current Model (Sag Solver)\")\n",
    "print(\"Train average:     \", -alternative_solver_train_scores.mean())\n",
    "print(\"Validation average:\", -alternative_solver_val_scores.mean())"
   ]
  },
  {
   "cell_type": "code",
   "execution_count": null,
   "metadata": {},
   "outputs": [],
   "source": [
    "model_sag_solver.fit(X_train, y_train)\n",
    "plot_roc_curve(model_sag_solver, X_train, y_train)"
   ]
  },
  {
   "cell_type": "markdown",
   "metadata": {},
   "source": [
    "**Conclusion**: \n",
    "- The model performs worse with a 0.629 log loss and the ROC curve suffers with a `sag` solver."
   ]
  },
  {
   "cell_type": "markdown",
   "metadata": {},
   "source": [
    "## 7th Model - newton-cg"
   ]
  },
  {
   "cell_type": "code",
   "execution_count": null,
   "metadata": {},
   "outputs": [],
   "source": [
    "# try newton as solver\n",
    "model_newton_solver = LogisticRegression(\n",
    "                            random_state = 42,\n",
    "                            C = 0.01,\n",
    "                            solver = \"newton-cg\",\n",
    "                            penalty = \"l2\",\n",
    "                            max_iter = 1e10, # fixes ConvergenceWarning\n",
    "                            tol=1) # best scores is when tol = 1\n",
    "\n",
    "alternative_solver_train_scores, alternative_solver_val_scores = custom_cross_val_score(\n",
    "    model_newton_solver, # change as needed\n",
    "    X_train,\n",
    "    y_train\n",
    ")\n",
    "\n",
    "print(\"Current Model (Newton Solver)\")\n",
    "print(\"Train average:     \", -alternative_solver_train_scores.mean())\n",
    "print(\"Validation average:\", -alternative_solver_val_scores.mean())"
   ]
  },
  {
   "cell_type": "code",
   "execution_count": null,
   "metadata": {},
   "outputs": [],
   "source": [
    "model_newton_solver.fit(X_train, y_train)\n",
    "plot_roc_curve(model_newton_solver, X_train, y_train)"
   ]
  },
  {
   "cell_type": "markdown",
   "metadata": {},
   "source": [
    "**Conclusion**: \n",
    "- Newton Solver is looking more promising based on the ROC curve, but log loss is still not as good as the baseline. "
   ]
  },
  {
   "cell_type": "markdown",
   "metadata": {},
   "source": [
    "## Use `SelectFromModel`"
   ]
  },
  {
   "cell_type": "code",
   "execution_count": null,
   "metadata": {},
   "outputs": [],
   "source": [
    "selector = SelectFromModel(baseline_model)\n",
    "\n",
    "selector.fit(X_train, y_train)"
   ]
  },
  {
   "cell_type": "code",
   "execution_count": null,
   "metadata": {},
   "outputs": [],
   "source": [
    "thresh = selector.threshold_\n",
    "thresh"
   ]
  },
  {
   "cell_type": "code",
   "execution_count": null,
   "metadata": {},
   "outputs": [],
   "source": [
    "# counts of true and false\n",
    "sup = selector.get_support()\n",
    "unique, counts = np.unique(sup, return_counts=True)\n",
    "print(np.asarray((unique, counts)).T)"
   ]
  },
  {
   "cell_type": "code",
   "execution_count": null,
   "metadata": {},
   "outputs": [],
   "source": [
    "def select_important_features(X, selector):\n",
    "    \"\"\"\n",
    "    Given a DataFrame and a selector, use the selector to choose\n",
    "    the most important columns\n",
    "    \"\"\"\n",
    "    imps = dict(zip(X.columns, selector.get_support()))\n",
    "    selected_array = selector.transform(X)\n",
    "    selected_df = pd.DataFrame(selected_array,\n",
    "                               columns=[col for col in X.columns if imps[col]],\n",
    "                               index=X.index)\n",
    "    return selected_df"
   ]
  },
  {
   "cell_type": "code",
   "execution_count": null,
   "metadata": {},
   "outputs": [],
   "source": [
    "X_train_selected = select_important_features(X=X_train, selector=selector)"
   ]
  },
  {
   "cell_type": "code",
   "execution_count": null,
   "metadata": {},
   "outputs": [],
   "source": [
    "logreg_sel = LogisticRegression(random_state=2022,C = 0.01)\n",
    "\n",
    "logreg_sel.fit(X_train_selected, y_train)"
   ]
  },
  {
   "cell_type": "code",
   "execution_count": null,
   "metadata": {},
   "outputs": [],
   "source": [
    "alternative_solver_train_scores, alternative_solver_val_scores = custom_cross_val_score(\n",
    "    logreg_sel, \n",
    "    X_train_selected,\n",
    "    y_train\n",
    ")\n",
    "\n",
    "print(\"Current Model (Select From Model)\")\n",
    "print(\"Train average:     \", -alternative_solver_train_scores.mean())\n",
    "print(\"Validation average:\", -alternative_solver_val_scores.mean())"
   ]
  },
  {
   "cell_type": "code",
   "execution_count": null,
   "metadata": {},
   "outputs": [],
   "source": [
    "fig, ax = plt.subplots()\n",
    "\n",
    "plot_roc_curve(logreg_sel, X_train_selected, y_train, \n",
    "               name='model_select', ax=ax)"
   ]
  },
  {
   "cell_type": "code",
   "execution_count": null,
   "metadata": {},
   "outputs": [],
   "source": [
    "# plot baseline model confusion matrix\n",
    "fix, axes = plt.subplots(figsize=(15, 6))\n",
    "\n",
    "axes.set_title(\"Select Model\", weight = 'bold')\n",
    "\n",
    "plot_confusion_matrix(logreg_sel, X_train_selected, y_train,\n",
    "                      ax=axes, cmap=\"plasma\")"
   ]
  },
  {
   "cell_type": "code",
   "execution_count": null,
   "metadata": {},
   "outputs": [],
   "source": []
  },
  {
   "cell_type": "code",
   "execution_count": null,
   "metadata": {},
   "outputs": [],
   "source": []
  },
  {
   "cell_type": "markdown",
   "metadata": {},
   "source": [
    "# KNN Test Run"
   ]
  },
  {
   "cell_type": "code",
   "execution_count": null,
   "metadata": {},
   "outputs": [],
   "source": [
    "# Relevant imports\n",
    "from sklearn.neighbors import KNeighborsClassifier\n",
    "from sklearn.model_selection import cross_val_score\n",
    "\n",
    "# Creating the model\n",
    "knn_baseline_model = KNeighborsClassifier()\n",
    "\n",
    "# Perform cross-validation\n",
    "knn_baseline_log_loss = -cross_val_score(knn_baseline_model, X_train_selected, y_train, scoring=\"neg_log_loss\").mean()\n",
    "\n",
    "knn_baseline_log_loss"
   ]
  },
  {
   "cell_type": "markdown",
   "metadata": {},
   "source": [
    "Much lower log loss than the baseline lin reg"
   ]
  },
  {
   "cell_type": "code",
   "execution_count": null,
   "metadata": {},
   "outputs": [],
   "source": [
    "knn_second_model = KNeighborsClassifier(n_neighbors=41)\n",
    "\n",
    "knn_second_log_loss = -cross_val_score(knn_second_model, X_train_selected, y_train, scoring=\"neg_log_loss\").mean()\n",
    "knn_second_log_loss"
   ]
  },
  {
   "cell_type": "code",
   "execution_count": null,
   "metadata": {},
   "outputs": [],
   "source": [
    "knn_third_model = KNeighborsClassifier(n_neighbors=31, metric = 'manhattan')\n",
    "\n",
    "knn_third_log_loss = -cross_val_score(knn_third_model, X_train_selected, y_train, scoring=\"neg_log_loss\").mean()\n",
    "knn_third_log_loss"
   ]
  },
  {
   "cell_type": "code",
   "execution_count": null,
   "metadata": {},
   "outputs": [],
   "source": [
    "knn_fourth_model = KNeighborsClassifier(n_neighbors=31, metric = 'euclidean')\n",
    "\n",
    "knn_fourth_log_loss = -cross_val_score(knn_fourth_model, X_train_selected, y_train, scoring=\"neg_log_loss\").mean()\n",
    "knn_fourth_log_loss"
   ]
  },
  {
   "cell_type": "markdown",
   "metadata": {},
   "source": [
    "# Decision Tree Test"
   ]
  },
  {
   "cell_type": "code",
   "execution_count": null,
   "metadata": {},
   "outputs": [],
   "source": [
    "from sklearn.tree import DecisionTreeClassifier\n",
    "\n",
    "dtree_baseline_model = DecisionTreeClassifier(random_state=42)\n",
    "\n",
    "dtree_baseline_log_loss = -cross_val_score(dtree_baseline_model, X_train_selected, y_train, scoring=\"neg_log_loss\").mean()\n",
    "dtree_baseline_log_loss"
   ]
  },
  {
   "cell_type": "code",
   "execution_count": null,
   "metadata": {},
   "outputs": [],
   "source": [
    "dtree_second_model = DecisionTreeClassifier(random_state=42, min_samples_leaf=160)\n",
    "\n",
    "dtree_second_log_loss = -cross_val_score(dtree_second_model, X_train_selected, y_train, scoring=\"neg_log_loss\").mean()\n",
    "dtree_second_log_loss"
   ]
  },
  {
   "cell_type": "code",
   "execution_count": null,
   "metadata": {},
   "outputs": [],
   "source": [
    "dtree_third_model = DecisionTreeClassifier(random_state=42,\n",
    "                                           min_samples_leaf=160,\n",
    "                                           min_samples_split =80,\n",
    "                                           max_depth = 100)\n",
    "\n",
    "dtree_third_log_loss = -cross_val_score(dtree_third_model, X_train_selected, y_train, scoring=\"neg_log_loss\").mean()\n",
    "dtree_third_log_loss"
   ]
  },
  {
   "cell_type": "code",
   "execution_count": null,
   "metadata": {},
   "outputs": [],
   "source": [
    "dtree_third_model.fit(X_train_selected, y_train)"
   ]
  },
  {
   "cell_type": "code",
   "execution_count": null,
   "metadata": {},
   "outputs": [],
   "source": [
    "fix, axes = plt.subplots(figsize=(15, 6))\n",
    "\n",
    "axes.set_title(\"Select Model\", weight = 'bold')\n",
    "\n",
    "plot_confusion_matrix(dtree_third_model, X_train_selected, y_train,\n",
    "                      ax=axes, cmap=\"plasma\")"
   ]
  },
  {
   "cell_type": "code",
   "execution_count": null,
   "metadata": {},
   "outputs": [],
   "source": []
  },
  {
   "cell_type": "code",
   "execution_count": null,
   "metadata": {},
   "outputs": [],
   "source": []
  },
  {
   "cell_type": "code",
   "execution_count": null,
   "metadata": {},
   "outputs": [],
   "source": []
  },
  {
   "cell_type": "code",
   "execution_count": null,
   "metadata": {},
   "outputs": [],
   "source": []
  },
  {
   "cell_type": "code",
   "execution_count": null,
   "metadata": {},
   "outputs": [],
   "source": []
  },
  {
   "cell_type": "code",
   "execution_count": null,
   "metadata": {},
   "outputs": [],
   "source": []
  },
  {
   "cell_type": "code",
   "execution_count": null,
   "metadata": {},
   "outputs": [],
   "source": []
  },
  {
   "cell_type": "code",
   "execution_count": null,
   "metadata": {},
   "outputs": [],
   "source": [
    "plot_roc_curve(logreg_model, X_train_scaled, y_train)"
   ]
  },
  {
   "cell_type": "code",
   "execution_count": null,
   "metadata": {},
   "outputs": [],
   "source": []
  },
  {
   "cell_type": "code",
   "execution_count": null,
   "metadata": {},
   "outputs": [],
   "source": []
  },
  {
   "cell_type": "code",
   "execution_count": null,
   "metadata": {},
   "outputs": [],
   "source": []
  },
  {
   "cell_type": "code",
   "execution_count": null,
   "metadata": {},
   "outputs": [],
   "source": []
  },
  {
   "cell_type": "code",
   "execution_count": null,
   "metadata": {},
   "outputs": [],
   "source": []
  },
  {
   "cell_type": "code",
   "execution_count": null,
   "metadata": {},
   "outputs": [],
   "source": []
  },
  {
   "cell_type": "code",
   "execution_count": null,
   "metadata": {},
   "outputs": [],
   "source": []
  },
  {
   "cell_type": "code",
   "execution_count": null,
   "metadata": {},
   "outputs": [],
   "source": []
  },
  {
   "cell_type": "code",
   "execution_count": null,
   "metadata": {},
   "outputs": [],
   "source": []
  },
  {
   "cell_type": "code",
   "execution_count": null,
   "metadata": {},
   "outputs": [],
   "source": []
  },
  {
   "cell_type": "code",
   "execution_count": null,
   "metadata": {},
   "outputs": [],
   "source": []
  },
  {
   "cell_type": "code",
   "execution_count": null,
   "metadata": {},
   "outputs": [],
   "source": []
  },
  {
   "cell_type": "code",
   "execution_count": null,
   "metadata": {},
   "outputs": [],
   "source": []
  },
  {
   "cell_type": "code",
   "execution_count": null,
   "metadata": {},
   "outputs": [],
   "source": []
  },
  {
   "cell_type": "code",
   "execution_count": null,
   "metadata": {},
   "outputs": [],
   "source": []
  }
 ],
 "metadata": {
  "kernelspec": {
   "display_name": "Python 3",
   "language": "python",
   "name": "python3"
  },
  "language_info": {
   "codemirror_mode": {
    "name": "ipython",
    "version": 3
   },
   "file_extension": ".py",
   "mimetype": "text/x-python",
   "name": "python",
   "nbconvert_exporter": "python",
   "pygments_lexer": "ipython3",
   "version": "3.8.5"
  }
 },
 "nbformat": 4,
 "nbformat_minor": 4
}
